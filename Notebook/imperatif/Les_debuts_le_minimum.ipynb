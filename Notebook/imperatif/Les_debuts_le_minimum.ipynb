{
  "nbformat": 4,
  "nbformat_minor": 0,
  "metadata": {
    "colab": {
      "name": "Les_debuts_le_minimum.ipynb",
      "provenance": [],
      "authorship_tag": "ABX9TyMLi+KPCYkrOcUs4/lhb0ih",
      "include_colab_link": true
    },
    "kernelspec": {
      "name": "python3",
      "display_name": "Python 3"
    },
    "language_info": {
      "name": "python"
    }
  },
  "cells": [
    {
      "cell_type": "markdown",
      "metadata": {
        "id": "view-in-github",
        "colab_type": "text"
      },
      "source": [
        "<a href=\"https://colab.research.google.com/github/opentrainingcamp/python/blob/main/Notebook/imperatif/Les_debuts_le_minimum.ipynb\" target=\"_parent\"><img src=\"https://colab.research.google.com/assets/colab-badge.svg\" alt=\"Open In Colab\"/></a>"
      ]
    },
    {
      "cell_type": "markdown",
      "source": [
        "# Si vous avez déja des connaissances de programmation vous pouvez commencer ici"
      ],
      "metadata": {
        "id": "hrP70Cq25iug"
      }
    },
    {
      "cell_type": "markdown",
      "metadata": {
        "id": "CdBJAufxC5qt"
      },
      "source": [
        "# Parcourons les basiques\n",
        "\n",
        "quelques présentations rapide avant de détailler les différentes structuration d'un programme Python.\n",
        "\n",
        "pour apprendre un nouveaux language il faudrait apprendre comment faire ceci:\n",
        "\n",
        "1. affectation\n",
        "2. bloc\n",
        "3. conditions\n",
        "4. repétition\n",
        "5. Les types de données prédéfinies \n",
        "6. Comment créer de nouvaux type de données\n",
        "7. comment structurer son code par les sous-programmes ou modules"
      ]
    },
    {
      "cell_type": "code",
      "execution_count": 2,
      "metadata": {
        "id": "ISRmtDbkDJRE",
        "vscode": {
          "languageId": "python"
        },
        "colab": {
          "base_uri": "https://localhost:8080/"
        },
        "outputId": "49cbbf6a-e8a3-4919-acd7-9a30f4d0e9a8"
      },
      "outputs": [
        {
          "output_type": "stream",
          "name": "stdout",
          "text": [
            "valeur : -1\n",
            "valeur : 1\n",
            "valeur : 2\n",
            "valeur : 10\n",
            "Fin\n"
          ]
        }
      ],
      "source": [
        "# premier exemple! (sans explication: que fait-il?)\n",
        "for i in [-1, 1, 2, 10]:\n",
        "    print(\"valeur :\", i)\n",
        "print(\"Fin\")"
      ]
    },
    {
      "cell_type": "markdown",
      "metadata": {
        "id": "uNQUZvvCDN46"
      },
      "source": [
        "Noter le `:` et les tabulations, pas besoin de begin/end ou {, } ni de ; pour faire des blocs d'instructions\n",
        "\n",
        "## Les expressions"
      ]
    },
    {
      "cell_type": "code",
      "execution_count": null,
      "metadata": {
        "id": "rl5Q4CW2Diwb",
        "vscode": {
          "languageId": "python"
        }
      },
      "outputs": [],
      "source": [
        "(3 * 4) + 2"
      ]
    },
    {
      "cell_type": "markdown",
      "metadata": {
        "id": "ROfgiC8BDz_T"
      },
      "source": [
        "## L'affectation\n",
        "profitons en m^me temps de présenter queleus type de base dans python (enter, flotant, chaine de caractères (string)"
      ]
    },
    {
      "cell_type": "code",
      "execution_count": null,
      "metadata": {
        "id": "tk5MPyUtD2ns",
        "vscode": {
          "languageId": "python"
        }
      },
      "outputs": [],
      "source": [
        "x = (3 + 5) / 4\n",
        "y = 2 * x\n",
        "z = \"Un texte\"\n",
        "w = 'un autre texte'\n",
        "#Du texte formaté f\"\"\n",
        "A = f\"x={x} et y={y}\"\n",
        "C = \"x={x} et y={y}\"\n",
        "B = None"
      ]
    },
    {
      "cell_type": "markdown",
      "metadata": {
        "id": "VVwF8ld6EWgr"
      },
      "source": [
        "Vérifier les valeurs des variables x,y,z,w,A et B"
      ]
    },
    {
      "cell_type": "code",
      "execution_count": null,
      "metadata": {
        "id": "cRiJR8ZzDqsT",
        "vscode": {
          "languageId": "python"
        }
      },
      "outputs": [],
      "source": [
        ""
      ]
    },
    {
      "cell_type": "markdown",
      "metadata": {
        "id": "eIJpmqqUElwd"
      },
      "source": [
        "## Essayer la différence entre / et //\n",
        "Les opérateurs sont des caractères ou des chaines de caractères qui on un sens en fonction du type de données manipulé:\n",
        "* +, -, *, /, //, %, ..."
      ]
    },
    {
      "cell_type": "code",
      "execution_count": null,
      "metadata": {
        "id": "PtQe5FY2EtQh",
        "vscode": {
          "languageId": "python"
        }
      },
      "outputs": [],
      "source": [
        "f\"le / {5/2} et // {5//2}\""
      ]
    },
    {
      "cell_type": "markdown",
      "metadata": {
        "id": "e6zlLZNTFpkX"
      },
      "source": [
        "La fonction print"
      ]
    },
    {
      "cell_type": "code",
      "execution_count": null,
      "metadata": {
        "id": "7qhx71yGFYOL",
        "vscode": {
          "languageId": "python"
        }
      },
      "outputs": [],
      "source": [
        "# La fonction print\n",
        "print(f\"le / {5%2} et // {5//2}\")\n",
        "print(5*x)"
      ]
    },
    {
      "cell_type": "markdown",
      "metadata": {
        "id": "VpfTvNCEF55T"
      },
      "source": [
        "## La Conditionelle"
      ]
    },
    {
      "cell_type": "code",
      "execution_count": null,
      "metadata": {
        "id": "z5Bihw2JF_1b",
        "vscode": {
          "languageId": "python"
        }
      },
      "outputs": [],
      "source": [
        "condition = True"
      ]
    },
    {
      "cell_type": "code",
      "execution_count": null,
      "metadata": {
        "id": "OnJMxwgjF3qS",
        "vscode": {
          "languageId": "python"
        }
      },
      "outputs": [],
      "source": [
        "if (condition):\n",
        "  x = 2\n",
        "  print(x)\n",
        "else:\n",
        "  y = 5\n",
        "  print(y)"
      ]
    },
    {
      "cell_type": "code",
      "execution_count": null,
      "metadata": {
        "id": "OfCpSw2sjQfT",
        "vscode": {
          "languageId": "python"
        }
      },
      "outputs": [],
      "source": [
        "if (condition): \n",
        "  print (\"Vraie\") \n",
        "else: \n",
        "  print(\"Faux\")"
      ]
    },
    {
      "cell_type": "markdown",
      "metadata": {
        "id": "8mOSyLFzGMR7"
      },
      "source": [
        "Essayer avec condition False si elle était True et True si elle était False"
      ]
    },
    {
      "cell_type": "markdown",
      "metadata": {
        "id": "zlk2d_3SGcBO"
      },
      "source": [
        "## La répétition"
      ]
    },
    {
      "cell_type": "code",
      "execution_count": null,
      "metadata": {
        "id": "BgrciLMmGg4b",
        "vscode": {
          "languageId": "python"
        }
      },
      "outputs": [],
      "source": [
        "x = 10\n",
        "while (x > 0):\n",
        "  print(x, end=' ')\n",
        "  x = x -1"
      ]
    },
    {
      "cell_type": "markdown",
      "metadata": {
        "id": "GiuFndG-Hdv9"
      },
      "source": [
        "## La répétition par itérateur `for`"
      ]
    },
    {
      "cell_type": "code",
      "execution_count": null,
      "metadata": {
        "id": "spRUfV8fHhf_",
        "vscode": {
          "languageId": "python"
        }
      },
      "outputs": [],
      "source": [
        "for i in range(10):\n",
        "  print(i, end=':')"
      ]
    },
    {
      "cell_type": "code",
      "execution_count": null,
      "metadata": {
        "id": "3yRUmcS1koQ-",
        "vscode": {
          "languageId": "python"
        }
      },
      "outputs": [],
      "source": [
        "help(print)"
      ]
    },
    {
      "cell_type": "code",
      "execution_count": null,
      "metadata": {
        "id": "Qcbzi5hnHpe8",
        "vscode": {
          "languageId": "python"
        }
      },
      "outputs": [],
      "source": [
        "# cas de range\n",
        "range(10)"
      ]
    },
    {
      "cell_type": "code",
      "execution_count": null,
      "metadata": {
        "id": "0ZSXQac6HvWD",
        "vscode": {
          "languageId": "python"
        }
      },
      "outputs": [],
      "source": [
        "list(range(10))"
      ]
    },
    {
      "cell_type": "markdown",
      "metadata": {
        "id": "p4t2QgKUH0jV"
      },
      "source": [
        "## définition de fonction ou de procedure"
      ]
    },
    {
      "cell_type": "code",
      "execution_count": null,
      "metadata": {
        "id": "38-vDi7YH26G",
        "vscode": {
          "languageId": "python"
        }
      },
      "outputs": [],
      "source": [
        "def f(x,y):\n",
        "  return (x+y)"
      ]
    },
    {
      "cell_type": "code",
      "execution_count": null,
      "metadata": {
        "id": "nwgjEP4BlT25",
        "vscode": {
          "languageId": "python"
        }
      },
      "outputs": [],
      "source": [
        "f(3,4)"
      ]
    },
    {
      "cell_type": "markdown",
      "metadata": {
        "id": "Fv7c9EDWIkdm"
      },
      "source": [
        "## Les listes"
      ]
    },
    {
      "cell_type": "code",
      "execution_count": null,
      "metadata": {
        "id": "HEc2j0pVlXYv",
        "vscode": {
          "languageId": "python"
        }
      },
      "outputs": [],
      "source": [
        "l = [1,2,3,4,5,6,7]\n",
        "print(l)"
      ]
    },
    {
      "cell_type": "code",
      "execution_count": null,
      "metadata": {
        "id": "m8Ygquqylm90",
        "vscode": {
          "languageId": "python"
        }
      },
      "outputs": [],
      "source": [
        "l[4] = 100\n",
        "l"
      ]
    },
    {
      "cell_type": "markdown",
      "metadata": {
        "id": "3Aij7RPuImyG"
      },
      "source": [
        "## Les tuples"
      ]
    },
    {
      "cell_type": "code",
      "execution_count": null,
      "metadata": {
        "id": "jcrnDIzMmcM8",
        "vscode": {
          "languageId": "python"
        }
      },
      "outputs": [],
      "source": [
        "t = (1,2,3,4,5,6)\n"
      ]
    },
    {
      "cell_type": "markdown",
      "metadata": {
        "id": "Z3xVVuKlvp6O"
      },
      "source": [
        "## Les ensembles"
      ]
    },
    {
      "cell_type": "code",
      "execution_count": null,
      "metadata": {
        "colab": {
          "base_uri": "https://localhost:8080/"
        },
        "id": "t9IuHECQvwDt",
        "outputId": "0d0e49c7-54ab-4e51-d1f7-02974a759c90",
        "vscode": {
          "languageId": "python"
        }
      },
      "outputs": [
        {
          "name": "stdout",
          "output_type": "stream",
          "text": [
            "{1, 2, 3, 5}\n"
          ]
        }
      ],
      "source": [
        "e = {1, 2, 3, 2, 5}\n",
        "print(e)"
      ]
    },
    {
      "cell_type": "markdown",
      "metadata": {
        "id": "2KpFchKOIpKD"
      },
      "source": [
        "## Les dictionnaire (hash)"
      ]
    },
    {
      "cell_type": "code",
      "execution_count": null,
      "metadata": {
        "id": "FAhTj4N5my1r",
        "vscode": {
          "languageId": "python"
        }
      },
      "outputs": [],
      "source": [
        "d = {3:4, \"toto\":6, \"tuple\":t}\n",
        "d"
      ]
    },
    {
      "cell_type": "code",
      "execution_count": null,
      "metadata": {
        "id": "mq8WBK19nGwV",
        "vscode": {
          "languageId": "python"
        }
      },
      "outputs": [],
      "source": [
        "d['titi'] = 11\n",
        "d"
      ]
    },
    {
      "cell_type": "code",
      "execution_count": null,
      "metadata": {
        "id": "pIMAGec0nVJA",
        "vscode": {
          "languageId": "python"
        }
      },
      "outputs": [],
      "source": [
        "d['ouf']"
      ]
    },
    {
      "cell_type": "code",
      "execution_count": null,
      "metadata": {
        "colab": {
          "base_uri": "https://localhost:8080/"
        },
        "id": "io3WoR7dwCvn",
        "outputId": "e461ad98-bf17-49db-8435-3e6db479f6cd",
        "vscode": {
          "languageId": "python"
        }
      },
      "outputs": [
        {
          "name": "stdout",
          "output_type": "stream",
          "text": [
            "Bonjours auditeurs UTC503!\n",
            "10\n",
            "11\n",
            "12\n",
            "13\n",
            "14\n",
            "0 10 15\n"
          ]
        }
      ],
      "source": [
        "# Mixons tout ceci\n",
        "print(\"Bonjours auditeurs UTC503!\")\n",
        "a,b=0,10\n",
        "if (a == 0):\n",
        "  x=b\n",
        "else:\n",
        "  x = a + b\n",
        "\n",
        "#La ligne blanche au dessus exprime la fin du if (tout simplement) ou le retour a la tabulation précedente\n",
        "while (x < 15):\n",
        "  print(x)\n",
        "  x =  x + 1\n",
        "\n",
        "print(a,b,x)"
      ]
    },
    {
      "cell_type": "code",
      "execution_count": null,
      "metadata": {
        "colab": {
          "base_uri": "https://localhost:8080/"
        },
        "id": "EKiOMrL8xHDf",
        "outputId": "f48bbe08-4bb3-4687-c585-f3b7b7a08b03",
        "vscode": {
          "languageId": "python"
        }
      },
      "outputs": [
        {
          "name": "stdout",
          "output_type": "stream",
          "text": [
            "Bonjours auditeurs UTC503!\n",
            "10\n",
            "11\n",
            "12\n",
            "13\n",
            "14\n",
            "0 10 15\n"
          ]
        }
      ],
      "source": [
        "# Ca marche aussi\n",
        "print(\"Bonjours auditeurs UTC503!\")\n",
        "a,b=0,10\n",
        "if (a == 0):\n",
        "  x=b\n",
        "else:\n",
        "  x = a + b\n",
        "while (x < 15):\n",
        "  print(x)\n",
        "  x =  x + 1\n",
        "print(a,b,x)"
      ]
    },
    {
      "cell_type": "markdown",
      "metadata": {
        "id": "PjOv-9sbyWNa"
      },
      "source": [
        "<center>\n",
        "\n",
        "![if else](https://issae.github.io/images/ifelse.png)\n",
        "\n",
        "</center>"
      ]
    },
    {
      "cell_type": "markdown",
      "metadata": {
        "id": "_O_rDj2Vyao9"
      },
      "source": [
        "## De l'importance des tabulations et des riques de la simplicité\n",
        "J'en profite pour introduire des astuces de la fonction print\n",
        "\n",
        "Une fonction fantastique : `help`"
      ]
    },
    {
      "cell_type": "code",
      "execution_count": null,
      "metadata": {
        "id": "NhV5fJeNz-9u",
        "vscode": {
          "languageId": "python"
        }
      },
      "outputs": [],
      "source": [
        "help(print)"
      ]
    },
    {
      "cell_type": "code",
      "execution_count": null,
      "metadata": {
        "colab": {
          "base_uri": "https://localhost:8080/"
        },
        "id": "BjoengJGy5sj",
        "outputId": "4f527f8a-b562-4167-e30e-f8f2d0123d2a",
        "vscode": {
          "languageId": "python"
        }
      },
      "outputs": [
        {
          "name": "stdout",
          "output_type": "stream",
          "text": [
            "1. : 0 : 0\n",
            "2.* Dans la boucle x=1 2.* Dans la boucle x=2 2.* Dans la boucle x=3 2.* Dans la boucle x=4 2.* Dans la boucle x=5 2.* Dans la boucle x=6 2.* Dans la boucle x=7 2.* Dans la boucle x=8 2.* Dans la boucle x=9 2.* Dans la boucle x=10 \n",
            "3. a la sortie de la boucle x>=10 10\n",
            "4. Que vaut a? 10\n"
          ]
        }
      ],
      "source": [
        "x,a = 0,0\n",
        "print(\"1.\",x,a,sep=\" : \")\n",
        "while (x < 10):\n",
        "  x = x + 1\n",
        "  print(\"2.* Dans la boucle x=\", x, sep=\"\", end=\" \")\n",
        "  a = a + 1\n",
        "print(\"\\n3. a la sortie de la boucle x>=10\", x)\n",
        "print(\"4. Que vaut a?\", a)"
      ]
    },
    {
      "cell_type": "code",
      "execution_count": null,
      "metadata": {
        "colab": {
          "base_uri": "https://localhost:8080/"
        },
        "id": "LWsqRj4L0_eG",
        "outputId": "7f7be8c0-ac23-4978-fad0-9e3529c180c5",
        "vscode": {
          "languageId": "python"
        }
      },
      "outputs": [
        {
          "name": "stdout",
          "output_type": "stream",
          "text": [
            "1. : 0 : 0\n",
            "2.* Dans la boucle x=1 2.* Dans la boucle x=2 2.* Dans la boucle x=3 2.* Dans la boucle x=4 2.* Dans la boucle x=5 2.* Dans la boucle x=6 2.* Dans la boucle x=7 2.* Dans la boucle x=8 2.* Dans la boucle x=9 2.* Dans la boucle x=10 \n",
            "3. a la sortie de la boucle x>=10 10\n",
            "4. Que vaut a? 1\n"
          ]
        }
      ],
      "source": [
        "# Le même?\n",
        "x,a = 0,0\n",
        "print(\"1.\",x,a,sep=\" : \")\n",
        "while (x < 5):\n",
        "  x = x + 1\n",
        "  print(\"2.* Dans la boucle x=\", x, sep=\"\", end=\" \")\n",
        "a = a + 1\n",
        "print(\"\\n3. a la sortie de la boucle x>=10\", x)\n",
        "print(\"4. Que vaut a?\", a)"
      ]
    },
    {
      "cell_type": "code",
      "execution_count": null,
      "metadata": {
        "colab": {
          "base_uri": "https://localhost:8080/"
        },
        "id": "Q3jGhmzJ1SVF",
        "outputId": "03629316-065e-452f-fc71-3a3e286eb25c",
        "vscode": {
          "languageId": "python"
        }
      },
      "outputs": [
        {
          "name": "stdout",
          "output_type": "stream",
          "text": [
            "1. : 0 : 0\n",
            "2.* Dans la boucle x=1 2.* Dans la boucle x=2 2.* Dans la boucle x=3 2.* Dans la boucle x=4 2.* Dans la boucle x=5 2.* Dans la boucle x=6 2.* Dans la boucle x=7 2.* Dans la boucle x=8 2.* Dans la boucle x=9 2.* Dans la boucle x=10 \n",
            "3. a la sortie de la boucle x>=10 10\n",
            "4. Que vaut a? 10\n"
          ]
        }
      ],
      "source": [
        "# Conseil, mettre une ligne blanche pour séparer les blocs. C'est encore plus lisible ;)\n",
        "x,a = 0,0\n",
        "print(\"1.\",x,a,sep=\" : \")\n",
        "\n",
        "while (x < 5):\n",
        "  x = x + 1\n",
        "  print(\"2.* Dans la boucle x=\", x, sep=\"\", end=\" \")\n",
        "  a = a + 1\n",
        "\n",
        "print(\"\\n3. a la sortie de la boucle x>=10\", x)\n",
        "print(\"4. Que vaut a?\", a)"
      ]
    },
    {
      "cell_type": "markdown",
      "metadata": {
        "id": "CNL-KrRN2p2H"
      },
      "source": [
        "## Les variables et leur type\n",
        "Les langages de programmation impératif, *(vous le saurez ;)*\n",
        "* manipule des valeurs en mémoire. \n",
        "* et leur évolution grâce à l'exécution d’instructions \n",
        "\n",
        "=> \n",
        "**La variables**, représente une association (on dit aussi une liaison) entre un symbole et une valeur.  Le symbole (comme une étiquette sur un document) permettant au programmeur d'identifier et manipuler ces valeurs.\n",
        "\n",
        "**Le typage** d'une variable consiste à associer un « type » de donnée [une méta donnée une information], permettant au langage de savoir si celle-ci est de type numérique, textuel, etc., \n",
        "* d'allouer en conséquence des zones de mémoire de dimension suffisantes pour stocker cette donnée, \n",
        "* et éventuellement de vérifier que les manipulations programmées sur cette variable (opérations mathématiques, traitement de texte, etc.) sont cohérentes avec son type.\n"
      ]
    },
    {
      "cell_type": "markdown",
      "metadata": {
        "id": "RvQ2fZOF4HAR"
      },
      "source": [
        "## Typage dynamique\n",
        "Le typage dynamique consiste à laisser le langage réaliser cette opération de typage « à la volée », lors de l'exécution du code.\n",
        "\n",
        "Un langages **statiquement typés** demandent au programmeur de déclarer expressément, pour chaque variable qu'il introduit dans son code, son typage.\n",
        "\n",
        "Le **typage dynamique** est une solution très commode pour le développement rapide de programmes, où \n",
        "* le type des objets manipulés n'est pas forcément connu à l'avance, \n",
        "* ou bien le programmeur veut permettre par commodité le changement de type d'une variable. \n"
      ]
    },
    {
      "cell_type": "code",
      "execution_count": null,
      "metadata": {
        "colab": {
          "base_uri": "https://localhost:8080/",
          "height": 198
        },
        "id": "dFG8ri1G9c_4",
        "outputId": "8de0a8d3-3048-4bac-bb2e-7427ca5f13cf",
        "vscode": {
          "languageId": "python"
        }
      },
      "outputs": [
        {
          "ename": "NameError",
          "evalue": "ignored",
          "output_type": "error",
          "traceback": [
            "\u001b[0;31m---------------------------------------------------------------------------\u001b[0m",
            "\u001b[0;31mNameError\u001b[0m                                 Traceback (most recent call last)",
            "\u001b[0;32m<ipython-input-23-715c43cd2d46>\u001b[0m in \u001b[0;36m<module>\u001b[0;34m()\u001b[0m\n\u001b[1;32m      1\u001b[0m \u001b[0;31m# la variable est définie en python lors de la première opération d'affectation\u001b[0m\u001b[0;34m\u001b[0m\u001b[0;34m\u001b[0m\u001b[0;34m\u001b[0m\u001b[0m\n\u001b[1;32m      2\u001b[0m \u001b[0mx\u001b[0m \u001b[0;34m=\u001b[0m \u001b[0;36m3\u001b[0m\u001b[0;34m\u001b[0m\u001b[0;34m\u001b[0m\u001b[0m\n\u001b[0;32m----> 3\u001b[0;31m \u001b[0my\u001b[0m \u001b[0;34m=\u001b[0m \u001b[0mk\u001b[0m \u001b[0;34m+\u001b[0m \u001b[0mx\u001b[0m\u001b[0;34m\u001b[0m\u001b[0;34m\u001b[0m\u001b[0m\n\u001b[0m",
            "\u001b[0;31mNameError\u001b[0m: name 'k' is not defined"
          ]
        }
      ],
      "source": [
        "# la variable est définie en python lors de la première opération d'affectation\n",
        "x = 3\n",
        "y = k + x"
      ]
    },
    {
      "cell_type": "markdown",
      "metadata": {
        "id": "KtNrhD9E4kpV"
      },
      "source": [
        "## interprété vs compilé\n",
        "On peut distinguer deux grands types de langages : les langages interprétés et les langages compilés.\n",
        "\n",
        "Le **langage interprété** plutôt typage dynamique\n",
        "\n",
        "Le **langage compilé** plutôt typage statique\n",
        "\n",
        "\n",
        "![interprete compile](https://github.com/ISSAE/ISSAE.github.io/raw/master/images/difference-between-Compiler-and-Interpreter.jpg)\n",
        "\n"
      ]
    },
    {
      "cell_type": "markdown",
      "metadata": {
        "id": "ZmcJdcdC8GFi"
      },
      "source": [
        "## [Pour en savoir plus sur les variables et les opérateurs, lire et relire si nécessaire](https://utc503.page.link/variables)\n",
        "\n",
        "https://utc503.page.link/variables"
      ]
    },
    {
      "cell_type": "code",
      "execution_count": null,
      "metadata": {
        "id": "9YR9io205dIH"
      },
      "outputs": [],
      "source": [
        ""
      ]
    }
  ]
}