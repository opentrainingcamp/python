{
  "nbformat": 4,
  "nbformat_minor": 0,
  "metadata": {
    "colab": {
      "name": "structure_predefinie_python.ipynb",
      "provenance": [],
      "authorship_tag": "ABX9TyMOBCt9KtnDt9R24TvzNdVq",
      "include_colab_link": true
    },
    "kernelspec": {
      "name": "python3",
      "display_name": "Python 3"
    },
    "language_info": {
      "name": "python"
    }
  },
  "cells": [
    {
      "cell_type": "markdown",
      "metadata": {
        "id": "view-in-github",
        "colab_type": "text"
      },
      "source": [
        "<a href=\"https://colab.research.google.com/github/opentrainingcamp/python/blob/main/Notebook/imperatif/structures/structure_predefinie_python_dicts.ipynb\" target=\"_parent\"><img src=\"https://colab.research.google.com/assets/colab-badge.svg\" alt=\"Open In Colab\"/></a>"
      ]
    },
    {
      "cell_type": "markdown",
      "source": [
        "# Structures de données Python courantes"
      ],
      "metadata": {
        "id": "YdYiRzuRcu_Y"
      }
    },
    {
      "cell_type": "markdown",
      "source": [
        "Les structures de données sont les constructions fondamentales autour desquelles vous construisez vos programmes. Chaque structure de données fournit une manière particulière d'organiser les données afin d'y accéder efficacement, en fonction de votre cas d'utilisation. Python est livré avec un ensemble complet de structures de données dans sa bibliothèque standard.\n",
        "\n",
        "Cependant, la convention de dénomination de Python ne fournit pas le même niveau de clarté que vous trouverez dans d'autres langages. En Java, une liste n'est pas seulement une liste, c'est soit une LinkedList, soit une ArrayList. Ce n'est pas le cas en Python. Même les développeurs Python expérimentés se demandent parfois si le type de liste intégré est implémenté sous forme de liste chaînée ou de tableau dynamique.\n",
        "\n",
        "Dans cette sous-section, vous apprendrez :\n",
        "\n",
        "* Quels types de données abstraits courants sont intégrés à la bibliothèque standard Python\n",
        "* Comment les types de données abstraits les plus courants correspondent au schéma de nommage de Python\n",
        "* Comment mettre en pratique les types de données abstraits dans divers algorithmes"
      ],
      "metadata": {
        "id": "zmEPi4Jdc7FP"
      }
    },
    {
      "cell_type": "markdown",
      "source": [
        "## <font color=\"red\"> Dictionnaires, Maps et tables de hachage </font>\n",
        "En Python, les dictionnaires (ou dicts en abrégé) sont une structure de données centrale. Les dicts stockent un nombre arbitraire d'objets, chacun identifié par une clé de dictionnaire unique.\n",
        "\n",
        "Les dictionnaires sont aussi souvent appelés Maps, Hashmap, tables de recherche ou tableaux associatifs. Ils permettent la recherche, l'insertion et la suppression efficaces de tout objet associé à une clé donnée, c'est un ensemble de {clé:valeur}.\n",
        "\n",
        "Les annuaires téléphoniques constituent un analogue décent du monde réel pour les objets du dictionnaire. Ils permettent de récupérer rapidement les informations (numéro de téléphone) associées à une touche donnée (nom d'une personne). Au lieu d'avoir à lire un annuaire téléphonique d'un bout à l'autre pour trouver le numéro de quelqu'un, vous pouvez accéder plus ou moins directement à un nom et rechercher les informations associées.\n",
        "\n",
        "Cette analogie s'effondre quelque peu lorsqu'il s'agit de la façon dont les informations sont organisées pour permettre des recherches rapides. Mais les caractéristiques de performance fondamentales tiennent. Les dictionnaires permettent de retrouver rapidement les informations associées à une clé donnée.\n",
        "\n",
        "Les dictionnaires sont l'une des structures de données les plus importantes et les plus fréquemment utilisées en informatique. Alors, comment Python gère-t-il les dictionnaires ? Faisons le tour des implémentations de dictionnaire disponibles dans le noyau Python et la bibliothèque standard Python."
      ],
      "metadata": {
        "id": "PUzZ2f4hdWZW"
      }
    },
    {
      "cell_type": "markdown",
      "source": [
        "## dict : votre dictionnaire de référence\n",
        "Parce que les dictionnaires sont si importants, Python propose une implémentation de dictionnaire robuste qui est intégrée directement dans le langage de base : le type de données `dict`.\n",
        "\n",
        "Python fournit également du sucre syntaxique utile pour travailler avec des dictionnaires dans vos programmes. Par exemple, la syntaxe d'expression du dictionnaire entre accolades ({ }) et les compréhensions du dictionnaire vous permettent de définir facilement de nouveaux objets de dictionnaire :"
      ],
      "metadata": {
        "id": "j1-1KSuYeAOp"
      }
    },
    {
      "cell_type": "code",
      "execution_count": null,
      "metadata": {
        "colab": {
          "base_uri": "https://localhost:8080/"
        },
        "id": "noWvoOM5cr9A",
        "outputId": "4ee1bbf1-804f-43e3-da8f-9eaf1800a5d3"
      },
      "outputs": [
        {
          "output_type": "stream",
          "name": "stdout",
          "text": [
            "3719\n",
            "{0: 0, 1: 1, 2: 4, 3: 9, 4: 16, 5: 25}\n"
          ]
        }
      ],
      "source": [
        "annuaire = {\n",
        "    \"bob\": 7387,\n",
        "    \"alice\": 3719,\n",
        "    \"jack\": 7052,\n",
        "}\n",
        "\n",
        "carres = {x: x * x for x in range(6)}\n",
        "\n",
        "print(annuaire[\"alice\"])\n",
        "\n",
        "\n",
        "print(carres)"
      ]
    },
    {
      "cell_type": "markdown",
      "source": [
        "Toute donnée ummuable peut être une clé: chaines, nombres ey m^me les tuples!"
      ],
      "metadata": {
        "id": "_nOkUoACeloJ"
      }
    },
    {
      "cell_type": "code",
      "source": [
        "dico = {\"ABC\": 1, 2:\"cde\", (1,2):\"couple\"}\n",
        "dico"
      ],
      "metadata": {
        "colab": {
          "base_uri": "https://localhost:8080/"
        },
        "id": "0xRmJnaaezgp",
        "outputId": "eb616d5d-3ac6-4eb4-d8aa-3ae7e969dba2"
      },
      "execution_count": null,
      "outputs": [
        {
          "output_type": "execute_result",
          "data": {
            "text/plain": [
              "{(1, 2): 'couple', 2: 'cde', 'ABC': 1}"
            ]
          },
          "metadata": {},
          "execution_count": 3
        }
      ]
    },
    {
      "cell_type": "code",
      "source": [
        "dico[(1,2)]"
      ],
      "metadata": {
        "colab": {
          "base_uri": "https://localhost:8080/",
          "height": 35
        },
        "id": "c3YqaEucfCE2",
        "outputId": "dff63bc7-1b16-404c-9521-2f5661596839"
      },
      "execution_count": null,
      "outputs": [
        {
          "output_type": "execute_result",
          "data": {
            "text/plain": [
              "'couple'"
            ],
            "application/vnd.google.colaboratory.intrinsic+json": {
              "type": "string"
            }
          },
          "metadata": {},
          "execution_count": 4
        }
      ]
    },
    {
      "cell_type": "code",
      "source": [
        "# La liste des clés\n",
        "dico.keys()"
      ],
      "metadata": {
        "colab": {
          "base_uri": "https://localhost:8080/"
        },
        "id": "XtqJ6C8NfNxF",
        "outputId": "abc466c1-e88c-45f7-e92f-3005eb6a394a"
      },
      "execution_count": null,
      "outputs": [
        {
          "output_type": "execute_result",
          "data": {
            "text/plain": [
              "dict_keys(['ABC', 2, (1, 2)])"
            ]
          },
          "metadata": {},
          "execution_count": 5
        }
      ]
    },
    {
      "cell_type": "code",
      "source": [
        "# La liste des valeurs\n",
        "dico.values()"
      ],
      "metadata": {
        "colab": {
          "base_uri": "https://localhost:8080/"
        },
        "id": "XszeAOMCfWwW",
        "outputId": "a47c5896-b576-4f21-d9c8-ae3b96f52bb5"
      },
      "execution_count": null,
      "outputs": [
        {
          "output_type": "execute_result",
          "data": {
            "text/plain": [
              "dict_values([1, 'cde', 'couple'])"
            ]
          },
          "metadata": {},
          "execution_count": 6
        }
      ]
    },
    {
      "cell_type": "code",
      "source": [
        "# Les éléments d'un dictionnaire\n",
        "dico.items()"
      ],
      "metadata": {
        "colab": {
          "base_uri": "https://localhost:8080/"
        },
        "id": "-JRJPNfiheUS",
        "outputId": "34ead0bf-6de1-430c-926e-8189a7e0daa4"
      },
      "execution_count": null,
      "outputs": [
        {
          "output_type": "execute_result",
          "data": {
            "text/plain": [
              "dict_items([('ABC', 1), (2, 'cde'), ((1, 2), 'couple')])"
            ]
          },
          "metadata": {},
          "execution_count": 14
        }
      ]
    },
    {
      "cell_type": "markdown",
      "source": [
        "### Parcours de dictionnaire\n"
      ],
      "metadata": {
        "id": "nEyFWrwDgsep"
      }
    },
    {
      "cell_type": "code",
      "source": [
        "for k in annuaire:\n",
        "  print(k)"
      ],
      "metadata": {
        "colab": {
          "base_uri": "https://localhost:8080/"
        },
        "id": "GQAPFhS3gwaZ",
        "outputId": "d784e065-e070-4151-e5e0-02f58f1ca95e"
      },
      "execution_count": null,
      "outputs": [
        {
          "output_type": "stream",
          "name": "stdout",
          "text": [
            "bob\n",
            "alice\n",
            "jack\n"
          ]
        }
      ]
    },
    {
      "cell_type": "code",
      "source": [
        "for k in annuaire:\n",
        "  print(k, annuaire[k])"
      ],
      "metadata": {
        "colab": {
          "base_uri": "https://localhost:8080/"
        },
        "id": "V4I5smI8g8VB",
        "outputId": "1f0e5abe-25dd-4bae-9101-2ca601df01ab"
      },
      "execution_count": null,
      "outputs": [
        {
          "output_type": "stream",
          "name": "stdout",
          "text": [
            "bob 7387\n",
            "alice 3719\n",
            "jack 7052\n"
          ]
        }
      ]
    },
    {
      "cell_type": "code",
      "source": [
        "for k,v in annuaire.items():\n",
        "  print(k, v)"
      ],
      "metadata": {
        "colab": {
          "base_uri": "https://localhost:8080/"
        },
        "id": "kPWqARWEhA0g",
        "outputId": "3e7e6ce5-39e6-4ddc-e46b-32938cf88bdb"
      },
      "execution_count": null,
      "outputs": [
        {
          "output_type": "stream",
          "name": "stdout",
          "text": [
            "bob 7387\n",
            "alice 3719\n",
            "jack 7052\n"
          ]
        }
      ]
    }
  ]
}