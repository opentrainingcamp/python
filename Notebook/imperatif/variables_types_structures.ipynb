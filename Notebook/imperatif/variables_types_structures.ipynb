{
  "cells": [
    {
      "cell_type": "markdown",
      "metadata": {
        "id": "I-7vX07fwyxT"
      },
      "source": [
        "# Données atomique, Variables, types, structure de données\n"
      ]
    },
    {
      "cell_type": "markdown",
      "metadata": {
        "id": "s53JSqzABzu3"
      },
      "source": [
        "## Python typage dynamique\n",
        "Le typage dynamique consiste à laisser le langage réaliser cette opération de typage « à la volée », lors de l'exécution du code.\n",
        "\n",
        "Un langages **statiquement typés** demandent au programmeur de déclarer expressément, pour chaque variable qu'il introduit dans son code, son typage. \n",
        "\n",
        "Le **typage dynamique** est une solution très commode pour le développement rapide de programmes, où le type des objets manipulés \n",
        "* n'est pas forcément connu à l'avance, \n",
        "* ou bien le programmeur veut permettre par commodité le changement de type d'une variable. \n"
      ]
    },
    {
      "cell_type": "markdown",
      "metadata": {
        "id": "TifZpUqi_11v"
      },
      "source": [
        "## Les types de Python\n",
        "* numérique\n",
        "* string\n",
        "* booléen\n",
        "\n",
        "## Operateurs\n",
        "\n",
        "* Arithmétique: +, -, *, /, %, **, // \n",
        "* de comparaison: ==, !=, >, <, >=, <=\n",
        "* logique: and, or, not\n",
        "* d’identité entre objets: is, is not\n",
        "* d’appartenance: in, not in\n",
        "* binaire: &, |, ^, ~, <<, >>\n",
        "\n",
        "\n",
        "## Casting (pour changer de type)\n",
        "\n",
        "* int\n",
        "* float\n",
        "* str\n",
        "* bin\n",
        "* hex\n"
      ]
    },
    {
      "cell_type": "markdown",
      "metadata": {
        "id": "_VG3MnvZ-YfY"
      },
      "source": [
        "## Type numérique\n",
        "\n",
        "* int\n",
        "* float\n",
        "* complex"
      ]
    },
    {
      "cell_type": "code",
      "execution_count": null,
      "metadata": {
        "id": "CsIkhbZuROSs",
        "vscode": {
          "languageId": "python"
        }
      },
      "outputs": [],
      "source": [
        "y = 10"
      ]
    },
    {
      "cell_type": "code",
      "execution_count": null,
      "metadata": {
        "colab": {
          "base_uri": "https://localhost:8080/",
          "height": 35
        },
        "id": "tmbI14FqRW6_",
        "outputId": "cf61b627-7477-41fb-dc8b-10679c8cb837",
        "vscode": {
          "languageId": "python"
        }
      },
      "outputs": [
        {
          "data": {
            "application/vnd.google.colaboratory.intrinsic+json": {
              "type": "string"
            },
            "text/plain": [
              "'10'"
            ]
          },
          "execution_count": 35,
          "metadata": {
            "tags": []
          },
          "output_type": "execute_result"
        }
      ],
      "source": [
        "# y -> str(y)\n",
        "str(y)"
      ]
    },
    {
      "cell_type": "code",
      "execution_count": null,
      "metadata": {
        "colab": {
          "base_uri": "https://localhost:8080/"
        },
        "id": "IfaaULeh4ju7",
        "outputId": "08e69fb9-1eaa-46cb-ffd9-fb14b90d84f9",
        "vscode": {
          "languageId": "python"
        }
      },
      "outputs": [
        {
          "name": "stdout",
          "output_type": "stream",
          "text": [
            "<class 'int'>\n"
          ]
        },
        {
          "data": {
            "text/plain": [
              "int"
            ]
          },
          "execution_count": 36,
          "metadata": {
            "tags": []
          },
          "output_type": "execute_result"
        }
      ],
      "source": [
        "x = 3\n",
        "print(type(x))\n",
        "type(x)\n"
      ]
    },
    {
      "cell_type": "code",
      "execution_count": null,
      "metadata": {
        "colab": {
          "base_uri": "https://localhost:8080/"
        },
        "id": "pZSHMhdHR512",
        "outputId": "5771724a-c541-4033-c79b-880543b6468d",
        "vscode": {
          "languageId": "python"
        }
      },
      "outputs": [
        {
          "name": "stdout",
          "output_type": "stream",
          "text": [
            "10 10\n"
          ]
        }
      ],
      "source": [
        "print(10, '10')"
      ]
    },
    {
      "cell_type": "code",
      "execution_count": null,
      "metadata": {
        "colab": {
          "base_uri": "https://localhost:8080/"
        },
        "id": "IHaRQwyI9yK_",
        "outputId": "0109fea0-3139-4a36-86c9-039bbab0178b",
        "vscode": {
          "languageId": "python"
        }
      },
      "outputs": [
        {
          "data": {
            "text/plain": [
              "float"
            ]
          },
          "execution_count": 39,
          "metadata": {
            "tags": []
          },
          "output_type": "execute_result"
        }
      ],
      "source": [
        "# toujours x\n",
        "x = 3.0\n",
        "type(x)"
      ]
    },
    {
      "cell_type": "code",
      "execution_count": null,
      "metadata": {
        "colab": {
          "base_uri": "https://localhost:8080/"
        },
        "id": "J6hQkbKB93W4",
        "outputId": "210eb004-0796-46e3-8dee-a01f0e0a9943",
        "vscode": {
          "languageId": "python"
        }
      },
      "outputs": [
        {
          "data": {
            "text/plain": [
              "str"
            ]
          },
          "execution_count": 40,
          "metadata": {
            "tags": []
          },
          "output_type": "execute_result"
        }
      ],
      "source": [
        "x = 'abc d'\n",
        "type(x)"
      ]
    },
    {
      "cell_type": "code",
      "execution_count": null,
      "metadata": {
        "colab": {
          "base_uri": "https://localhost:8080/"
        },
        "id": "7NAxS28d99Qo",
        "outputId": "af1697e2-9ddd-4489-9dd0-401266bf82c4",
        "vscode": {
          "languageId": "python"
        }
      },
      "outputs": [
        {
          "data": {
            "text/plain": [
              "complex"
            ]
          },
          "execution_count": 41,
          "metadata": {
            "tags": []
          },
          "output_type": "execute_result"
        }
      ],
      "source": [
        "z = 2 + 3j\n",
        "type(z)"
      ]
    },
    {
      "cell_type": "code",
      "execution_count": null,
      "metadata": {
        "colab": {
          "base_uri": "https://localhost:8080/"
        },
        "id": "kKe_B0tVA0bf",
        "outputId": "a961b624-43c6-49b3-c58a-dfe79888ddc3",
        "vscode": {
          "languageId": "python"
        }
      },
      "outputs": [
        {
          "name": "stdout",
          "output_type": "stream",
          "text": [
            "3\n"
          ]
        }
      ],
      "source": [
        "b = 0b0011\n",
        "print(b)"
      ]
    },
    {
      "cell_type": "code",
      "execution_count": null,
      "metadata": {
        "colab": {
          "base_uri": "https://localhost:8080/"
        },
        "id": "H1FrFxxFBDbB",
        "outputId": "da9ef87a-3aa4-432c-cee7-9a4a83677fd4",
        "vscode": {
          "languageId": "python"
        }
      },
      "outputs": [
        {
          "name": "stdout",
          "output_type": "stream",
          "text": [
            "255\n"
          ]
        }
      ],
      "source": [
        "h = 0xff\n",
        "print(h)"
      ]
    },
    {
      "cell_type": "code",
      "execution_count": null,
      "metadata": {
        "colab": {
          "base_uri": "https://localhost:8080/"
        },
        "id": "tFgRZJOyBJp_",
        "outputId": "d6207700-73ef-4581-dabf-ca8f3fb60a09",
        "vscode": {
          "languageId": "python"
        }
      },
      "outputs": [
        {
          "name": "stdout",
          "output_type": "stream",
          "text": [
            "12 3 15 0 6 6\n"
          ]
        }
      ],
      "source": [
        "ba = 0b1100\n",
        "bb = 0b0011\n",
        "#&     0000\n",
        "#|     1111\n",
        "#      0110\n",
        "print(ba, bb, ba | bb, ba & bb, ba >> 1, bb << 1)"
      ]
    },
    {
      "cell_type": "markdown",
      "metadata": {
        "id": "IkjOhR2VTJio"
      },
      "source": [
        "0123 << 1 => 1230"
      ]
    },
    {
      "cell_type": "code",
      "execution_count": null,
      "metadata": {
        "colab": {
          "base_uri": "https://localhost:8080/"
        },
        "id": "unNKTj0NT_zN",
        "outputId": "cde261ec-a2ac-4588-9e4a-7727daef2417",
        "vscode": {
          "languageId": "python"
        }
      },
      "outputs": [
        {
          "name": "stdout",
          "output_type": "stream",
          "text": [
            "0\n"
          ]
        }
      ],
      "source": [
        "coche1 = 0b101\n",
        "coche2 = 0b001\n",
        "\n",
        "\n",
        "cochecase1 = coche2 & 0b100\n",
        "print(cochecase1)"
      ]
    },
    {
      "cell_type": "code",
      "execution_count": null,
      "metadata": {
        "colab": {
          "base_uri": "https://localhost:8080/"
        },
        "id": "qXU3FgOiCSFV",
        "outputId": "87c217ff-d0e4-434d-df2f-dead76fae059",
        "vscode": {
          "languageId": "python"
        }
      },
      "outputs": [
        {
          "name": "stdout",
          "output_type": "stream",
          "text": [
            "0b111 <class 'str'>\n"
          ]
        }
      ],
      "source": [
        "x = 7\n",
        "print(bin(x), type(bin(x)))"
      ]
    },
    {
      "cell_type": "markdown",
      "metadata": {
        "id": "Podd4GdWVCzn"
      },
      "source": [
        "# representation vs valeur \n"
      ]
    },
    {
      "cell_type": "code",
      "execution_count": null,
      "metadata": {
        "id": "9j_Boa8DVA0X",
        "vscode": {
          "languageId": "python"
        }
      },
      "outputs": [],
      "source": []
    },
    {
      "cell_type": "markdown",
      "metadata": {
        "id": "UNtnfkc1-hw0"
      },
      "source": [
        "## les chaines de caractères (immutable)\n",
        "\n",
        "soit ' soit \" \n",
        "\n",
        "sur plusieurs ligne on triple la quote ou double quote\n"
      ]
    },
    {
      "cell_type": "code",
      "execution_count": null,
      "metadata": {
        "id": "elGkOMj7-AwJ",
        "vscode": {
          "languageId": "python"
        }
      },
      "outputs": [],
      "source": [
        "s = 'abcd'\n",
        "st = \"xyz\""
      ]
    },
    {
      "cell_type": "code",
      "execution_count": null,
      "metadata": {
        "id": "_GZSoYNZ_NT0",
        "vscode": {
          "languageId": "python"
        }
      },
      "outputs": [],
      "source": [
        "un_grand_texte = '''\n",
        "Voici un texte\n",
        "sur plisieurs lignes\n",
        "   avec des tabulations\n",
        "       ou autre chose ...\n",
        "   bla bla\n",
        "'''"
      ]
    },
    {
      "cell_type": "code",
      "execution_count": null,
      "metadata": {
        "colab": {
          "base_uri": "https://localhost:8080/",
          "height": 35
        },
        "id": "OkiCGiE4V5ho",
        "outputId": "b851a720-9b39-4fc2-fe4c-8233d7f9ea7a",
        "vscode": {
          "languageId": "python"
        }
      },
      "outputs": [
        {
          "data": {
            "application/vnd.google.colaboratory.intrinsic+json": {
              "type": "string"
            },
            "text/plain": [
              "'x=\\\\blabla\\\\'"
            ]
          },
          "execution_count": 57,
          "metadata": {
            "tags": []
          },
          "output_type": "execute_result"
        }
      ],
      "source": [
        "x = \"x=\\\\blabla\\\\\"\n",
        "x"
      ]
    },
    {
      "cell_type": "code",
      "execution_count": null,
      "metadata": {
        "colab": {
          "base_uri": "https://localhost:8080/"
        },
        "id": "CZvs5KLsVp8I",
        "outputId": "7f9b59e5-f077-486f-fd25-5804014908d0",
        "vscode": {
          "languageId": "python"
        }
      },
      "outputs": [
        {
          "name": "stdout",
          "output_type": "stream",
          "text": [
            "\n",
            "Voici un texte\n",
            "sur plisieurs lignes\n",
            "   avec des tabulations\n",
            "       ou autre chose ...\n",
            "   bla bla\n",
            "\n"
          ]
        }
      ],
      "source": [
        "un_grand_texte_bis = \"\"\"\n",
        "Voici un texte\n",
        "sur plisieurs lignes\n",
        "   avec des tabulations\n",
        "       ou autre chose ...\n",
        "   bla bla\n",
        "\"\"\"\n",
        "print(un_grand_texte_bis)"
      ]
    },
    {
      "cell_type": "code",
      "execution_count": null,
      "metadata": {
        "colab": {
          "base_uri": "https://localhost:8080/",
          "height": 53
        },
        "id": "VzvpIkYqW5Gx",
        "outputId": "580f74cd-849b-46db-bce6-c935464af739",
        "vscode": {
          "languageId": "python"
        }
      },
      "outputs": [
        {
          "data": {
            "application/vnd.google.colaboratory.intrinsic+json": {
              "type": "string"
            },
            "text/plain": [
              "'\\nVoici un texte\\nsur plisieurs lignes\\n   avec des tabulations\\n       ou autre chose ...\\n   bla bla\\n'"
            ]
          },
          "execution_count": 60,
          "metadata": {
            "tags": []
          },
          "output_type": "execute_result"
        }
      ],
      "source": [
        "un_grand_texte_bis"
      ]
    },
    {
      "cell_type": "markdown",
      "metadata": {
        "id": "B8yy5S5zV0Lg"
      },
      "source": [
        "definir cette chaine : L'école"
      ]
    },
    {
      "cell_type": "markdown",
      "metadata": {
        "id": "ZTA1yy9yV4dZ"
      },
      "source": []
    },
    {
      "cell_type": "code",
      "execution_count": null,
      "metadata": {
        "colab": {
          "base_uri": "https://localhost:8080/",
          "height": 35
        },
        "id": "uA2CP5yh_c8R",
        "outputId": "e25f2402-c7ca-4cbf-b180-c42199948f42",
        "vscode": {
          "languageId": "python"
        }
      },
      "outputs": [
        {
          "data": {
            "application/vnd.google.colaboratory.intrinsic+json": {
              "type": "string"
            },
            "text/plain": [
              "'\\nVoici un texte\\nsur plisieurs lignes\\n   avec des tabulations\\n       ou autre chose ...\\n   bla bla\\n'"
            ]
          },
          "execution_count": 27,
          "metadata": {
            "tags": []
          },
          "output_type": "execute_result"
        }
      ],
      "source": [
        "un_grand_texte"
      ]
    },
    {
      "cell_type": "code",
      "execution_count": null,
      "metadata": {
        "colab": {
          "base_uri": "https://localhost:8080/"
        },
        "id": "Hw6uvUsL_gEP",
        "outputId": "43d66568-57d7-4767-9f8d-283ffbcec02d",
        "vscode": {
          "languageId": "python"
        }
      },
      "outputs": [
        {
          "name": "stdout",
          "output_type": "stream",
          "text": [
            "\n",
            "Voici un texte\n",
            "sur plisieurs lignes\n",
            "   avec des tabulations\n",
            "       ou autre chose ...\n",
            "   bla bla\n",
            "\n"
          ]
        }
      ],
      "source": [
        "print(un_grand_texte)"
      ]
    },
    {
      "cell_type": "code",
      "execution_count": null,
      "metadata": {
        "id": "zUkmPrzh_kkC",
        "vscode": {
          "languageId": "python"
        }
      },
      "outputs": [],
      "source": [
        "un_autre_grand_texte = \"\"\"\n",
        "Voici un texte\n",
        "sur plisieurs lignes\n",
        "   avec des tabulations\n",
        "       ou autre chose ...\n",
        "   bla bla\n",
        "\"\"\""
      ]
    },
    {
      "cell_type": "markdown",
      "metadata": {
        "id": "PIqawu_OC0xo"
      },
      "source": [
        "## Les booléens python entre C et Java\n"
      ]
    },
    {
      "cell_type": "code",
      "execution_count": null,
      "metadata": {
        "colab": {
          "base_uri": "https://localhost:8080/"
        },
        "id": "eWTO_ZW7DUtY",
        "outputId": "78a75ca4-538d-4216-c618-5f981d6dede1",
        "vscode": {
          "languageId": "python"
        }
      },
      "outputs": [
        {
          "name": "stdout",
          "output_type": "stream",
          "text": [
            "True False <class 'bool'> <class 'bool'>\n"
          ]
        }
      ],
      "source": [
        "# True et False type bool\n",
        "print(True, False, type(True), type(False))"
      ]
    },
    {
      "cell_type": "code",
      "execution_count": null,
      "metadata": {
        "colab": {
          "base_uri": "https://localhost:8080/"
        },
        "id": "6Gc5-WYCDB1x",
        "outputId": "0b3717ac-e51c-4cf4-8d61-8cc454c8e8bb",
        "vscode": {
          "languageId": "python"
        }
      },
      "outputs": [
        {
          "name": "stdout",
          "output_type": "stream",
          "text": [
            "OK\n"
          ]
        }
      ],
      "source": [
        "# Mais aussi comme en C, toute valeur non 0 est vraie et la valeur 0 est fausse\n",
        "x = -10\n",
        "if (x):\n",
        "  print(\"OK\")\n",
        "else:\n",
        "  print(\"KO\")"
      ]
    },
    {
      "cell_type": "code",
      "execution_count": null,
      "metadata": {
        "colab": {
          "base_uri": "https://localhost:8080/"
        },
        "id": "Exy14mf2DQ6t",
        "outputId": "b2d72ebc-38d6-4e84-8dae-7b0664eb4eff",
        "vscode": {
          "languageId": "python"
        }
      },
      "outputs": [
        {
          "name": "stdout",
          "output_type": "stream",
          "text": [
            "1 <class 'int'>\n"
          ]
        }
      ],
      "source": [
        "print(True+False,type(True+False))"
      ]
    },
    {
      "cell_type": "markdown",
      "metadata": {
        "id": "p_x9zb1To0uv"
      },
      "source": [
        "## Les structures prédéfinies\n",
        "\n",
        "### Mullable\n",
        "\n",
        "* list\n",
        "* dict\n",
        "\n",
        "### immutable\n",
        "\n",
        "* tuple\n",
        "* set"
      ]
    },
    {
      "cell_type": "markdown",
      "metadata": {
        "id": "HVmHOVIBqWXE"
      },
      "source": [
        "## Listes"
      ]
    },
    {
      "cell_type": "code",
      "execution_count": null,
      "metadata": {
        "id": "3IuWotV6ozPL",
        "vscode": {
          "languageId": "python"
        }
      },
      "outputs": [],
      "source": [
        "dir(list)"
      ]
    },
    {
      "cell_type": "code",
      "execution_count": null,
      "metadata": {
        "id": "2I6JItN9ZNV_",
        "vscode": {
          "languageId": "python"
        }
      },
      "outputs": [],
      "source": [
        "l = [1, 5, 10, 100]\n",
        "# help(l.index)\n",
        "l.index(10)"
      ]
    },
    {
      "cell_type": "code",
      "execution_count": null,
      "metadata": {
        "id": "ZaJT0gRfZj5I",
        "vscode": {
          "languageId": "python"
        }
      },
      "outputs": [],
      "source": [
        "l[-2]"
      ]
    },
    {
      "cell_type": "code",
      "execution_count": null,
      "metadata": {
        "colab": {
          "base_uri": "https://localhost:8080/"
        },
        "id": "sIzlk68WZ0ZR",
        "outputId": "ad105e64-cfba-4dc5-dc60-4cbf8068d322",
        "vscode": {
          "languageId": "python"
        }
      },
      "outputs": [
        {
          "name": "stdout",
          "output_type": "stream",
          "text": [
            "tete=1,reste=[5, 10, 100]\n"
          ]
        }
      ],
      "source": [
        "print(f\"tete={l[0]},reste={l[1:]}\")"
      ]
    },
    {
      "cell_type": "code",
      "execution_count": null,
      "metadata": {
        "colab": {
          "base_uri": "https://localhost:8080/"
        },
        "id": "wGkHv_Noa6UR",
        "outputId": "c8df78db-bc80-4865-eea7-4cf8c56ea672",
        "vscode": {
          "languageId": "python"
        }
      },
      "outputs": [
        {
          "name": "stdout",
          "output_type": "stream",
          "text": [
            "[1, 5, 20, 100]\n"
          ]
        }
      ],
      "source": [
        "l[2] = 20\n",
        "print(l)"
      ]
    },
    {
      "cell_type": "code",
      "execution_count": null,
      "metadata": {
        "colab": {
          "base_uri": "https://localhost:8080/"
        },
        "id": "vphf6fQibHXG",
        "outputId": "be028b34-1b4d-472a-b741-8c651a98180a",
        "vscode": {
          "languageId": "python"
        }
      },
      "outputs": [
        {
          "data": {
            "text/plain": [
              "139767335237448"
            ]
          },
          "execution_count": 80,
          "metadata": {
            "tags": []
          },
          "output_type": "execute_result"
        }
      ],
      "source": [
        "id(l)"
      ]
    },
    {
      "cell_type": "code",
      "execution_count": null,
      "metadata": {
        "colab": {
          "base_uri": "https://localhost:8080/"
        },
        "id": "BIlajrmxbOH6",
        "outputId": "0b92c805-6851-45fb-c3e6-5352196c2c0f",
        "vscode": {
          "languageId": "python"
        }
      },
      "outputs": [
        {
          "name": "stdout",
          "output_type": "stream",
          "text": [
            "[1, 5, 20, 100, '1000', '1000'] <class 'list'> 139767335237448\n"
          ]
        }
      ],
      "source": [
        "l.append(\"1000\")\n",
        "print(l, type(l), id(l))"
      ]
    },
    {
      "cell_type": "code",
      "execution_count": null,
      "metadata": {
        "colab": {
          "base_uri": "https://localhost:8080/"
        },
        "id": "i-ILcBDXqUSi",
        "outputId": "f95dec01-8b41-44b2-9e2b-752ec7b8fa8e",
        "vscode": {
          "languageId": "python"
        }
      },
      "outputs": [
        {
          "name": "stdout",
          "output_type": "stream",
          "text": [
            "[3, 5] [1, 5, [3, 5], 8]\n",
            "x=[3, 5]\n",
            "l=[1, 5, [3, 5], 8]\n"
          ]
        }
      ],
      "source": [
        "x = [3, 5]\n",
        "l = [1 , 5, x, 8]\n",
        "print(x,l)\n",
        "print(f\"x={x}\\nl={l}\")"
      ]
    },
    {
      "cell_type": "code",
      "execution_count": null,
      "metadata": {
        "colab": {
          "base_uri": "https://localhost:8080/"
        },
        "id": "I-gHvZECrBON",
        "outputId": "5a3a5ff0-943a-4b47-c6e7-d28def667bbe",
        "vscode": {
          "languageId": "python"
        }
      },
      "outputs": [
        {
          "name": "stdout",
          "output_type": "stream",
          "text": [
            "139629964843336\n",
            "139629964843336\n",
            "139629964843336\n"
          ]
        }
      ],
      "source": [
        "liste = [1, 2, 3]\n",
        "print(id(liste))\n",
        "liste.append(4)\n",
        "print(id(liste))\n",
        "\n",
        "liste += [5,6]\n",
        "print(id(liste))"
      ]
    },
    {
      "cell_type": "code",
      "execution_count": null,
      "metadata": {
        "colab": {
          "base_uri": "https://localhost:8080/"
        },
        "id": "dC5R6K1-5cdR",
        "outputId": "5a142ba9-f181-4ccb-8782-9b9f97e984a9",
        "vscode": {
          "languageId": "python"
        }
      },
      "outputs": [
        {
          "data": {
            "text/plain": [
              "[1, 2, 'deux', 4, 5, 6]"
            ]
          },
          "execution_count": 38,
          "metadata": {
            "tags": []
          },
          "output_type": "execute_result"
        }
      ],
      "source": [
        "liste[2]=\"deux\"\n",
        "liste"
      ]
    },
    {
      "cell_type": "markdown",
      "metadata": {
        "id": "QstUhSug3S3J"
      },
      "source": [
        "## Tuples"
      ]
    },
    {
      "cell_type": "code",
      "execution_count": null,
      "metadata": {
        "id": "1P6ufAP63R8A",
        "vscode": {
          "languageId": "python"
        }
      },
      "outputs": [],
      "source": [
        "t = (1,2)\n",
        "dir(t)"
      ]
    },
    {
      "cell_type": "code",
      "execution_count": null,
      "metadata": {
        "id": "CJcOydFxb8jK",
        "vscode": {
          "languageId": "python"
        }
      },
      "outputs": [],
      "source": [
        "t[0] = 10"
      ]
    },
    {
      "cell_type": "code",
      "execution_count": null,
      "metadata": {
        "colab": {
          "base_uri": "https://localhost:8080/"
        },
        "id": "aYDvl5IncGSk",
        "outputId": "110c16a1-c5a9-41f2-cfa5-a57bea86c86d",
        "vscode": {
          "languageId": "python"
        }
      },
      "outputs": [
        {
          "data": {
            "text/plain": [
              "139767335516040"
            ]
          },
          "execution_count": 85,
          "metadata": {
            "tags": []
          },
          "output_type": "execute_result"
        }
      ],
      "source": [
        "id(t)"
      ]
    },
    {
      "cell_type": "code",
      "execution_count": null,
      "metadata": {
        "colab": {
          "base_uri": "https://localhost:8080/"
        },
        "id": "pMyhMurtcNJb",
        "outputId": "79e83efd-5a9c-45ed-baec-b012e8fec32e",
        "vscode": {
          "languageId": "python"
        }
      },
      "outputs": [
        {
          "name": "stdout",
          "output_type": "stream",
          "text": [
            "(1, 2) 139767335263192\n",
            "(1, 2, 3, 4) 139767335263192\n"
          ]
        }
      ],
      "source": [
        "t1 = (1,2)\n",
        "print(t1, id(t))\n",
        "t2 = t1 + (3,4)\n",
        "print(t2, id(t))"
      ]
    },
    {
      "cell_type": "code",
      "execution_count": null,
      "metadata": {
        "colab": {
          "base_uri": "https://localhost:8080/"
        },
        "id": "8pwodY753cVk",
        "outputId": "2d6c4fd5-167e-4a83-d727-563751c4676f",
        "vscode": {
          "languageId": "python"
        }
      },
      "outputs": [
        {
          "name": "stdout",
          "output_type": "stream",
          "text": [
            "Help on built-in function index:\n",
            "\n",
            "index(...) method of builtins.tuple instance\n",
            "    T.index(value, [start, [stop]]) -> integer -- return first index of value.\n",
            "    Raises ValueError if the value is not present.\n",
            "\n"
          ]
        }
      ],
      "source": [
        "help(t.index)"
      ]
    },
    {
      "cell_type": "code",
      "execution_count": null,
      "metadata": {
        "colab": {
          "base_uri": "https://localhost:8080/"
        },
        "id": "hD9XYKig3qZn",
        "outputId": "f324ca95-6d46-4849-a4ef-170176dba019",
        "vscode": {
          "languageId": "python"
        }
      },
      "outputs": [
        {
          "data": {
            "text/plain": [
              "(2,)"
            ]
          },
          "execution_count": 28,
          "metadata": {
            "tags": []
          },
          "output_type": "execute_result"
        }
      ],
      "source": [
        "(1,2,3,4)[1:2]"
      ]
    },
    {
      "cell_type": "code",
      "execution_count": null,
      "metadata": {
        "colab": {
          "base_uri": "https://localhost:8080/"
        },
        "id": "J2rAbwlndvBj",
        "outputId": "59a9cac0-7745-445e-9905-c803e6647e95",
        "vscode": {
          "languageId": "python"
        }
      },
      "outputs": [
        {
          "data": {
            "text/plain": [
              "(2, 3, 4)"
            ]
          },
          "execution_count": 92,
          "metadata": {
            "tags": []
          },
          "output_type": "execute_result"
        }
      ],
      "source": [
        "t = (1,2,3,4)\n",
        "t[1:]"
      ]
    },
    {
      "cell_type": "code",
      "execution_count": null,
      "metadata": {
        "colab": {
          "base_uri": "https://localhost:8080/"
        },
        "id": "EA5bGzKWdzTN",
        "outputId": "59dc301a-94d5-40c7-f88f-f699829cf189",
        "vscode": {
          "languageId": "python"
        }
      },
      "outputs": [
        {
          "data": {
            "text/plain": [
              "(2, 3, 4, 5, 6)"
            ]
          },
          "execution_count": 95,
          "metadata": {
            "tags": []
          },
          "output_type": "execute_result"
        }
      ],
      "source": [
        "x = (1,2,3,4,5,6)[1:]\n",
        "x"
      ]
    },
    {
      "cell_type": "markdown",
      "metadata": {
        "id": "wfMtBQ4P4JlJ"
      },
      "source": [
        "## sets"
      ]
    },
    {
      "cell_type": "code",
      "execution_count": null,
      "metadata": {
        "colab": {
          "base_uri": "https://localhost:8080/"
        },
        "id": "27qeZ0M44Ixr",
        "outputId": "24b5cb92-b35d-4b77-ed1a-3f068dd2f3ca",
        "vscode": {
          "languageId": "python"
        }
      },
      "outputs": [
        {
          "data": {
            "text/plain": [
              "{1, 3, 4, 5}"
            ]
          },
          "execution_count": 96,
          "metadata": {
            "tags": []
          },
          "output_type": "execute_result"
        }
      ],
      "source": [
        "s = {1,3 ,4 ,5 ,3}\n",
        "s"
      ]
    },
    {
      "cell_type": "code",
      "execution_count": null,
      "metadata": {
        "colab": {
          "base_uri": "https://localhost:8080/"
        },
        "id": "R03FhNrKeFBw",
        "outputId": "81e50388-8928-4e22-c983-ab88ba25f1ef",
        "vscode": {
          "languageId": "python"
        }
      },
      "outputs": [
        {
          "data": {
            "text/plain": [
              "{2, 5, 10, 100}"
            ]
          },
          "execution_count": 98,
          "metadata": {
            "tags": []
          },
          "output_type": "execute_result"
        }
      ],
      "source": [
        "s2 = {5, 10, 2, 5, 10, 100}\n",
        "s2"
      ]
    },
    {
      "cell_type": "code",
      "execution_count": null,
      "metadata": {
        "colab": {
          "base_uri": "https://localhost:8080/",
          "height": 167
        },
        "id": "0UPaD2T9eQ-Y",
        "outputId": "330d0db5-b061-4307-c816-e137a794b851",
        "vscode": {
          "languageId": "python"
        }
      },
      "outputs": [
        {
          "ename": "TypeError",
          "evalue": "ignored",
          "output_type": "error",
          "traceback": [
            "\u001b[0;31m---------------------------------------------------------------------------\u001b[0m",
            "\u001b[0;31mTypeError\u001b[0m                                 Traceback (most recent call last)",
            "\u001b[0;32m<ipython-input-99-85738c68d6cb>\u001b[0m in \u001b[0;36m<module>\u001b[0;34m()\u001b[0m\n\u001b[0;32m----> 1\u001b[0;31m \u001b[0ms\u001b[0m\u001b[0;34m[\u001b[0m\u001b[0;36m1\u001b[0m\u001b[0;34m]\u001b[0m\u001b[0;34m=\u001b[0m\u001b[0;36m3\u001b[0m\u001b[0;34m\u001b[0m\u001b[0;34m\u001b[0m\u001b[0m\n\u001b[0m",
            "\u001b[0;31mTypeError\u001b[0m: 'set' object does not support item assignment"
          ]
        }
      ],
      "source": [
        "s[1]=3"
      ]
    },
    {
      "cell_type": "code",
      "execution_count": null,
      "metadata": {
        "colab": {
          "base_uri": "https://localhost:8080/",
          "height": 167
        },
        "id": "0iWWAAx34Q08",
        "outputId": "dad9773c-1a4b-4a19-ff73-53728dd236e1",
        "vscode": {
          "languageId": "python"
        }
      },
      "outputs": [
        {
          "ename": "TypeError",
          "evalue": "ignored",
          "output_type": "error",
          "traceback": [
            "\u001b[0;31m---------------------------------------------------------------------------\u001b[0m",
            "\u001b[0;31mTypeError\u001b[0m                                 Traceback (most recent call last)",
            "\u001b[0;32m<ipython-input-31-50738704db02>\u001b[0m in \u001b[0;36m<module>\u001b[0;34m()\u001b[0m\n\u001b[0;32m----> 1\u001b[0;31m \u001b[0ms\u001b[0m\u001b[0;34m[\u001b[0m\u001b[0;36m1\u001b[0m\u001b[0;34m:\u001b[0m\u001b[0;34m]\u001b[0m\u001b[0;34m\u001b[0m\u001b[0;34m\u001b[0m\u001b[0m\n\u001b[0m",
            "\u001b[0;31mTypeError\u001b[0m: 'set' object is not subscriptable"
          ]
        }
      ],
      "source": [
        "s[1:]"
      ]
    },
    {
      "cell_type": "code",
      "execution_count": null,
      "metadata": {
        "colab": {
          "base_uri": "https://localhost:8080/"
        },
        "id": "OkBLcKlhee_S",
        "outputId": "5a001b32-12df-4159-a093-c29e04945f45",
        "vscode": {
          "languageId": "python"
        }
      },
      "outputs": [
        {
          "data": {
            "text/plain": [
              "{1, 'dbv'}"
            ]
          },
          "execution_count": 101,
          "metadata": {
            "tags": []
          },
          "output_type": "execute_result"
        }
      ],
      "source": [
        "s = {1, \"dbv\"}\n",
        "s"
      ]
    },
    {
      "cell_type": "markdown",
      "metadata": {
        "id": "q2HkKdPx4aS0"
      },
      "source": [
        "## dictionnaire (hashmap)\n",
        "ensemble de cle: valeur"
      ]
    },
    {
      "cell_type": "code",
      "execution_count": null,
      "metadata": {
        "colab": {
          "base_uri": "https://localhost:8080/"
        },
        "id": "MiSsEU5M4ds1",
        "outputId": "8708bd19-04f5-42c1-e19b-d53ef619131f",
        "vscode": {
          "languageId": "python"
        }
      },
      "outputs": [
        {
          "name": "stdout",
          "output_type": "stream",
          "text": [
            "3 trois\n"
          ]
        }
      ],
      "source": [
        "x = {1: 3, \"v2\": 2, \"3\": \"trois\"}\n",
        "print(x[1],x['3'])"
      ]
    },
    {
      "cell_type": "code",
      "execution_count": null,
      "metadata": {
        "colab": {
          "base_uri": "https://localhost:8080/",
          "height": 184
        },
        "id": "GYQ5zySx4t24",
        "outputId": "af26ea0a-c2c1-4f5a-8188-e7c0abb5d5c5",
        "vscode": {
          "languageId": "python"
        }
      },
      "outputs": [
        {
          "ename": "KeyError",
          "evalue": "ignored",
          "output_type": "error",
          "traceback": [
            "\u001b[0;31m---------------------------------------------------------------------------\u001b[0m",
            "\u001b[0;31mKeyError\u001b[0m                                  Traceback (most recent call last)",
            "\u001b[0;32m<ipython-input-34-47068ebd7224>\u001b[0m in \u001b[0;36m<module>\u001b[0;34m()\u001b[0m\n\u001b[1;32m      1\u001b[0m \u001b[0;31m# mais pas\u001b[0m\u001b[0;34m\u001b[0m\u001b[0;34m\u001b[0m\u001b[0;34m\u001b[0m\u001b[0m\n\u001b[0;32m----> 2\u001b[0;31m \u001b[0mprint\u001b[0m\u001b[0;34m(\u001b[0m\u001b[0mx\u001b[0m\u001b[0;34m[\u001b[0m\u001b[0;34m'1'\u001b[0m\u001b[0;34m]\u001b[0m\u001b[0;34m,\u001b[0m\u001b[0mx\u001b[0m\u001b[0;34m[\u001b[0m\u001b[0;36m3\u001b[0m\u001b[0;34m]\u001b[0m\u001b[0;34m)\u001b[0m\u001b[0;34m\u001b[0m\u001b[0;34m\u001b[0m\u001b[0m\n\u001b[0m",
            "\u001b[0;31mKeyError\u001b[0m: '1'"
          ]
        }
      ],
      "source": [
        "# mais pas\n",
        "print(x['1'],x[3])"
      ]
    },
    {
      "cell_type": "code",
      "execution_count": null,
      "metadata": {
        "colab": {
          "base_uri": "https://localhost:8080/"
        },
        "id": "c4ydorN85Tbj",
        "outputId": "b19ecaab-ce55-44c5-aa8e-4b7e0fe10330",
        "vscode": {
          "languageId": "python"
        }
      },
      "outputs": [
        {
          "data": {
            "text/plain": [
              "{1: 3, '3': 'trois', 'titi': 10, 'v2': 2}"
            ]
          },
          "execution_count": 36,
          "metadata": {
            "tags": []
          },
          "output_type": "execute_result"
        }
      ],
      "source": [
        "x['titi']=10\n",
        "x"
      ]
    },
    {
      "cell_type": "markdown",
      "metadata": {
        "id": "VhLsujEkrFhr"
      },
      "source": [
        "D'après le résulat, vous en déduisez quoi?"
      ]
    },
    {
      "cell_type": "code",
      "execution_count": null,
      "metadata": {
        "colab": {
          "base_uri": "https://localhost:8080/"
        },
        "id": "QK2rRM0hrY4U",
        "outputId": "90e8b7e9-01c8-4835-cfdb-2d131da27b08",
        "vscode": {
          "languageId": "python"
        }
      },
      "outputs": [
        {
          "name": "stdout",
          "output_type": "stream",
          "text": [
            "139629966384296\n",
            "139629965367472\n",
            "139629966506504\n",
            "139629965521128\n"
          ]
        }
      ],
      "source": [
        "#avec des strings ou des tuples\n",
        "prenom = 'Pierre'\n",
        "print(id(prenom))\n",
        "prenom += ' Dupont'\n",
        "print(id(prenom))\n",
        "\n",
        "t1 = (1,2)\n",
        "print(id(t1))\n",
        "t1 += (3,4)\n",
        "print(id(t1))"
      ]
    },
    {
      "cell_type": "code",
      "execution_count": null,
      "metadata": {
        "colab": {
          "base_uri": "https://localhost:8080/"
        },
        "id": "sqQIRzDpsGdK",
        "outputId": "f55edb00-875e-4708-a200-7854f1576dbe",
        "vscode": {
          "languageId": "python"
        }
      },
      "outputs": [
        {
          "name": "stdout",
          "output_type": "stream",
          "text": [
            "[1, 2, 3] None [1, 2, 3, 3]\n"
          ]
        }
      ],
      "source": [
        "l=[1,2]\n",
        "l1 = l.append(3)\n",
        "l2 = l + [3]\n",
        "print(l,l1,l2)"
      ]
    },
    {
      "cell_type": "markdown",
      "metadata": {
        "id": "KZPh3P4h8yVp"
      },
      "source": [
        "### parcour d'itérable avec for"
      ]
    },
    {
      "cell_type": "code",
      "execution_count": null,
      "metadata": {
        "colab": {
          "base_uri": "https://localhost:8080/"
        },
        "id": "-epO2oVf8xeG",
        "outputId": "60e35190-65da-4048-f25e-beca73043f15",
        "vscode": {
          "languageId": "python"
        }
      },
      "outputs": [
        {
          "name": "stdout",
          "output_type": "stream",
          "text": [
            "a b c d "
          ]
        }
      ],
      "source": [
        "for c in \"abcd\":\n",
        "  print(c, end=' ')\n"
      ]
    },
    {
      "cell_type": "code",
      "execution_count": null,
      "metadata": {
        "colab": {
          "base_uri": "https://localhost:8080/"
        },
        "id": "XjJfk_xl9EtC",
        "outputId": "77a79a5a-9247-4312-b55d-5ebd8192855a",
        "vscode": {
          "languageId": "python"
        }
      },
      "outputs": [
        {
          "name": "stdout",
          "output_type": "stream",
          "text": [
            "1 2 3 4 "
          ]
        }
      ],
      "source": [
        "for c in [1,2,3,4]:\n",
        "  print(c, end=' ')"
      ]
    },
    {
      "cell_type": "code",
      "execution_count": null,
      "metadata": {
        "colab": {
          "base_uri": "https://localhost:8080/"
        },
        "id": "K4wnHsPT9E50",
        "outputId": "b37e86ec-c6ad-4959-b2c6-d389fdfc3a0d",
        "vscode": {
          "languageId": "python"
        }
      },
      "outputs": [
        {
          "name": "stdout",
          "output_type": "stream",
          "text": [
            "1 2 3 4 "
          ]
        }
      ],
      "source": [
        "for c in (1,2,3,4):\n",
        "  print(c, end=' ')"
      ]
    },
    {
      "cell_type": "code",
      "execution_count": null,
      "metadata": {
        "colab": {
          "base_uri": "https://localhost:8080/"
        },
        "id": "zhgmkqEK9NiS",
        "outputId": "5e366595-7d0d-4fd7-ffcb-08f25a077d39",
        "vscode": {
          "languageId": "python"
        }
      },
      "outputs": [
        {
          "name": "stdout",
          "output_type": "stream",
          "text": [
            "1 2 3 4 "
          ]
        }
      ],
      "source": [
        "for c in {4,3,2,1}:\n",
        "  print(c, end=' ')"
      ]
    },
    {
      "cell_type": "code",
      "execution_count": null,
      "metadata": {
        "colab": {
          "base_uri": "https://localhost:8080/"
        },
        "id": "9oecT9oL9Vh1",
        "outputId": "0568fd47-806e-485f-8a0a-9fecbde81668",
        "vscode": {
          "languageId": "python"
        }
      },
      "outputs": [
        {
          "name": "stdout",
          "output_type": "stream",
          "text": [
            "1 -> 3 . v2 -> 2 . 3 -> trois . "
          ]
        }
      ],
      "source": [
        "d = {1: 3, \"v2\": 2, \"3\": \"trois\"}\n",
        "for cle in d:\n",
        "  print(cle, d[cle], sep=\" -> \", end=' . ')"
      ]
    },
    {
      "cell_type": "code",
      "execution_count": null,
      "metadata": {
        "colab": {
          "base_uri": "https://localhost:8080/"
        },
        "id": "2J6ggirI94wA",
        "outputId": "a01ae768-6517-4c29-fe83-7a01810034b4",
        "vscode": {
          "languageId": "python"
        }
      },
      "outputs": [
        {
          "name": "stdout",
          "output_type": "stream",
          "text": [
            "(1, 3) . ('v2', 2) . ('3', 'trois') . "
          ]
        }
      ],
      "source": [
        "for i in d.items():\n",
        "  print(i, end=' . ')"
      ]
    },
    {
      "cell_type": "markdown",
      "metadata": {
        "id": "MGbWWB0PD_3p"
      },
      "source": [
        "## Les opérateurs\n",
        "* Arithmétique: +, -, *, /, %, **, // \n",
        "* de comparaison: ==, !=, >, <, >=, <=\n",
        "* logique: and, or, not\n",
        "* d’appartenance: in, not in\n",
        "* binaire: &, |, ^, ~, <<, >>\n"
      ]
    },
    {
      "cell_type": "code",
      "execution_count": null,
      "metadata": {
        "colab": {
          "base_uri": "https://localhost:8080/"
        },
        "id": "TaFHRk_bnzUN",
        "outputId": "e67fa77e-6d3e-4da3-fccd-0e37ae3b0fea",
        "vscode": {
          "languageId": "python"
        }
      },
      "outputs": [
        {
          "data": {
            "text/plain": [
              "False"
            ]
          },
          "execution_count": 1,
          "metadata": {
            "tags": []
          },
          "output_type": "execute_result"
        }
      ],
      "source": [
        "True and False"
      ]
    },
    {
      "cell_type": "code",
      "execution_count": null,
      "metadata": {
        "colab": {
          "base_uri": "https://localhost:8080/"
        },
        "id": "1Grg2YDUoBW1",
        "outputId": "01701402-8eb5-4bae-8fdf-f84e03675abb",
        "vscode": {
          "languageId": "python"
        }
      },
      "outputs": [
        {
          "data": {
            "text/plain": [
              "True"
            ]
          },
          "execution_count": 2,
          "metadata": {
            "tags": []
          },
          "output_type": "execute_result"
        }
      ],
      "source": [
        "not False"
      ]
    },
    {
      "cell_type": "code",
      "execution_count": null,
      "metadata": {
        "colab": {
          "base_uri": "https://localhost:8080/"
        },
        "id": "h1QFfdkpoFgS",
        "outputId": "81fe90c5-8344-487e-b179-954bbbe6648f",
        "vscode": {
          "languageId": "python"
        }
      },
      "outputs": [
        {
          "data": {
            "text/plain": [
              "True"
            ]
          },
          "execution_count": 3,
          "metadata": {
            "tags": []
          },
          "output_type": "execute_result"
        }
      ],
      "source": [
        "10 and True"
      ]
    },
    {
      "cell_type": "code",
      "execution_count": null,
      "metadata": {
        "colab": {
          "base_uri": "https://localhost:8080/"
        },
        "id": "M3a-GYSYoKC7",
        "outputId": "c05d76ff-6d2c-4bf0-ceb2-30264d6496de",
        "vscode": {
          "languageId": "python"
        }
      },
      "outputs": [
        {
          "data": {
            "text/plain": [
              "0"
            ]
          },
          "execution_count": 4,
          "metadata": {
            "tags": []
          },
          "output_type": "execute_result"
        }
      ],
      "source": [
        "0 and True"
      ]
    },
    {
      "cell_type": "code",
      "execution_count": null,
      "metadata": {
        "colab": {
          "base_uri": "https://localhost:8080/"
        },
        "id": "3kETGRXYoTU6",
        "outputId": "a978c4bb-ec0b-4f4b-ea83-ea4649e63b94",
        "vscode": {
          "languageId": "python"
        }
      },
      "outputs": [
        {
          "data": {
            "text/plain": [
              "True"
            ]
          },
          "execution_count": 5,
          "metadata": {
            "tags": []
          },
          "output_type": "execute_result"
        }
      ],
      "source": [
        "3 in [1,3,10]"
      ]
    },
    {
      "cell_type": "code",
      "execution_count": null,
      "metadata": {
        "colab": {
          "base_uri": "https://localhost:8080/"
        },
        "id": "63vtpK9zoqKD",
        "outputId": "3310c4ec-e28b-4785-9d7c-65a7e8f04a67",
        "vscode": {
          "languageId": "python"
        }
      },
      "outputs": [
        {
          "data": {
            "text/plain": [
              "16"
            ]
          },
          "execution_count": 6,
          "metadata": {
            "tags": []
          },
          "output_type": "execute_result"
        }
      ],
      "source": [
        "2**4"
      ]
    },
    {
      "cell_type": "markdown",
      "metadata": {
        "id": "1haxhObJ-JRH"
      },
      "source": [
        "## Procédure et fonctions\n",
        "* Structurer un programme en un ensemble de procédures ou de fonctions, issue du raffinage.\n",
        "* Factoriser des parties de code semblable.\n",
        "* Ensemble de fonctions pour définir de nouvelle expression ou opérations élémentaires: Des fonctions dans une librairie (exemple  tri, les fonctions mathématique, statistique, toutes vos fonctions précédemment réalisée et réutilisable, etc…\n",
        "* Procédure ne retourne pas de valeurs (pas de résultat) pour définir une nouvelle instruction (modifie l’état du programme) : exemple print()\n",
        "En Python (comme en C , Java, …) une procédure est une fonction qui retourne None. et modifie quelques chose\n"
      ]
    },
    {
      "cell_type": "markdown",
      "metadata": {
        "id": "-Edi6xKH-oCj"
      },
      "source": [
        "## Fonctions\n",
        "Une fonction est une relation entre un élément d’un ensemble de départ vers un élément unique d’un ensemble d’arrivé \n",
        "exemple:\n",
        ">     plus : NxN → N\n",
        ">           (x,y) → x+y\n",
        "\n",
        "L’algorithmique: Partant de la spécification ou définition d’une fonction f, écrire un ou plusieurs algorithmes décrivant les étapes de calcul de f(x) et prouver que ces algorithmes sont corrects\n",
        "\n",
        "En C par exemple tout est fonction, en java tout est methodes \n",
        "en Python nous verrons on peut faire un peu de tout!\n"
      ]
    },
    {
      "cell_type": "markdown",
      "metadata": {
        "id": "ME8O2V79_IKH"
      },
      "source": [
        "## Procédure? Paramètres de fonctions\n",
        "Une procédure est une sorte de fonction sans résultat! Si des résultats sont calculés on doit trouver un moyen en modifiant l’environnement (l’état) => instruction\n",
        "\n",
        "Les paramètres de fonctions ou procédure figurant dans l’en-tête d’une fonction se nomment des “paramètres muets” (ou encore “paramètres formels”). Leur rôle est de permettre, au sein du corps de la fonction, de décrire ce qu’elle doit faire. Leur portée est limitée à la définition de la fonction concernée ; ils n’entrent donc pas en conflit avec d’éventuelles variables locales à d’autres fonctions\n",
        "\n",
        "par exemple en C int f(int x) … En Python def f(x): ...\n"
      ]
    },
    {
      "cell_type": "markdown",
      "metadata": {
        "id": "xIY0WBO7_Y5c"
      },
      "source": [
        "## L’appel de fonction, type de paramètres\n",
        "Les paramètres fournis lors de l’utilisation (l’appel) de la fonction se nomment des “paramètres effectifs”.\n",
        "\n",
        "Les “paramètres effectifs” sont  transmis aux “paramètres formels” de 2 moyens\n",
        "* Par valeur\n",
        "* Ou par référence \n",
        "\n",
        "\n",
        "\n"
      ]
    },
    {
      "cell_type": "markdown",
      "metadata": {
        "id": "-oiuFosY_4Rv"
      },
      "source": [
        "## En Python : On crée une fonction selon le schéma suivant :\n",
        "\n",
        "def nom_de_la_fonction(parametre1, parametre2, parametre3, parametreN):\n",
        "    # Bloc d'instructions\n",
        "\n",
        "* **def**, mot-clé qui est l'abréviation de « define » (définir, en anglais) et qui constitue le prélude à toute construction de fonction.\n",
        "\n",
        "* **Le nom de la fonction**, qui se nomme exactement comme une variable (nous verrons par la suite que ce n'est pas par hasard). N'utilisez pas un nom de variable déjà instanciée pour nommer une fonction.\n",
        "\n",
        "* **La liste des paramètres** qui seront fournis lors d'un appel à la fonction. \n",
        "Les paramètres sont séparés par des virgules et la liste est encadrée par des parenthèses ouvrante et fermante (les espaces sont optionnels mais améliorent la lisibilité).\n",
        "\n",
        "**Les deux points**, encore et toujours, qui clôturent la ligne.\n",
        "\n"
      ]
    },
    {
      "cell_type": "markdown",
      "metadata": {
        "id": "qcM-7QA7AT9q"
      },
      "source": [
        "## Avec Python les paramètres leur passages est plus subtile\n",
        "* En C tout les passages sont par valeur \n",
        "* En Java les types primitifs sont par valeur, les objets par référence\n",
        "* En Python tout est par référence! En fait car tout est objet!\n",
        "\n",
        "Mais avec Python certaines données sont immutable et d’autre mutable\n"
      ]
    },
    {
      "cell_type": "markdown",
      "metadata": {
        "id": "wSZtf8WXAgFv"
      },
      "source": [
        "## Procédure et Appel de procédure cas Python\n",
        "En plus des conditions et répétition, l’appel de procédures permet de structurer et factoriser les algorithmes. Correspond à un élément de raffinage.\n",
        "\n",
        "En python tout est fonction ou procedure, donc\n",
        "Si pas de résultat (procedure) comme dans print\n",
        "\n",
        "* réponse => None\n"
      ]
    },
    {
      "cell_type": "code",
      "execution_count": null,
      "metadata": {
        "id": "ULQJv1ocA3v4",
        "vscode": {
          "languageId": "python"
        }
      },
      "outputs": [],
      "source": [
        "def f(x,y):\n",
        "  return x+y"
      ]
    },
    {
      "cell_type": "code",
      "execution_count": null,
      "metadata": {
        "colab": {
          "base_uri": "https://localhost:8080/"
        },
        "id": "owc5bY_5BcJW",
        "outputId": "c0caabdc-374c-46df-da7a-d73974f2ff51",
        "vscode": {
          "languageId": "python"
        }
      },
      "outputs": [
        {
          "data": {
            "text/plain": [
              "5"
            ]
          },
          "execution_count": 54,
          "metadata": {
            "tags": []
          },
          "output_type": "execute_result"
        }
      ],
      "source": [
        "f(2,3)"
      ]
    },
    {
      "cell_type": "code",
      "execution_count": null,
      "metadata": {
        "colab": {
          "base_uri": "https://localhost:8080/",
          "height": 35
        },
        "id": "nwLZ9KqBBeSW",
        "outputId": "a9271b43-2306-44e9-d08d-f603f04b4d76",
        "vscode": {
          "languageId": "python"
        }
      },
      "outputs": [
        {
          "data": {
            "application/vnd.google.colaboratory.intrinsic+json": {
              "type": "string"
            },
            "text/plain": [
              "'abcd'"
            ]
          },
          "execution_count": 55,
          "metadata": {
            "tags": []
          },
          "output_type": "execute_result"
        }
      ],
      "source": [
        "f(\"ab\",\"cd\")"
      ]
    },
    {
      "cell_type": "markdown",
      "metadata": {
        "id": "qx96U9k-A_Xo"
      },
      "source": [
        "## Exemple de fonctions, elle peuvent être récursive\n"
      ]
    },
    {
      "cell_type": "code",
      "execution_count": null,
      "metadata": {
        "id": "KPjfrToqBBdR",
        "vscode": {
          "languageId": "python"
        }
      },
      "outputs": [],
      "source": [
        "def fact(n):\n",
        "  if (n == 0): return 1\n",
        "  else: return n * fact(n-1)"
      ]
    },
    {
      "cell_type": "code",
      "execution_count": null,
      "metadata": {
        "colab": {
          "base_uri": "https://localhost:8080/"
        },
        "id": "h2DmhK9QBL8T",
        "outputId": "f8c5f7a0-06c6-4aca-ec64-cb7a97859cbd",
        "vscode": {
          "languageId": "python"
        }
      },
      "outputs": [
        {
          "data": {
            "text/plain": [
              "6"
            ]
          },
          "execution_count": 51,
          "metadata": {
            "tags": []
          },
          "output_type": "execute_result"
        }
      ],
      "source": [
        "fact(3)"
      ]
    },
    {
      "cell_type": "markdown",
      "metadata": {
        "id": "UsaXRtf8EqdA"
      },
      "source": [
        "## Quelques exemple, mutable ummutable l'influance"
      ]
    },
    {
      "cell_type": "code",
      "execution_count": null,
      "metadata": {
        "id": "y34k2jHOEuL_",
        "vscode": {
          "languageId": "python"
        }
      },
      "outputs": [],
      "source": [
        "import time\n",
        "\n",
        "def super_concat(n):\n",
        "  l = range(n)\n",
        "  resultat = \"\"\n",
        "  for nombre in l:\n",
        "    resultat += str(nombre)\n",
        "  return resultat"
      ]
    },
    {
      "cell_type": "code",
      "execution_count": null,
      "metadata": {
        "colab": {
          "base_uri": "https://localhost:8080/"
        },
        "id": "w8qrtZEfFQ60",
        "outputId": "d8543d63-5df3-46f9-fc4f-2bcea39a9dc1",
        "vscode": {
          "languageId": "python"
        }
      },
      "outputs": [
        {
          "name": "stdout",
          "output_type": "stream",
          "text": [
            "2.3971376419067383\n"
          ]
        }
      ],
      "source": [
        "d = time.time()\n",
        "super_concat(10000000)\n",
        "print(time.time() - d)\n"
      ]
    },
    {
      "cell_type": "code",
      "execution_count": null,
      "metadata": {
        "id": "l69BZ7QdF5N9",
        "vscode": {
          "languageId": "python"
        }
      },
      "outputs": [],
      "source": [
        "def better_concat(n):\n",
        "  l = range(n)\n",
        "  resultat = []\n",
        "  for nombre in l:\n",
        "    resultat.append(str(nombre))\n",
        "  return ''.join(resultat)"
      ]
    },
    {
      "cell_type": "code",
      "execution_count": null,
      "metadata": {
        "colab": {
          "base_uri": "https://localhost:8080/"
        },
        "id": "lF6fJrJDGUKT",
        "outputId": "5e8a45c6-ec87-41d8-dce0-651845a38bf6",
        "vscode": {
          "languageId": "python"
        }
      },
      "outputs": [
        {
          "name": "stdout",
          "output_type": "stream",
          "text": [
            "2.7836427688598633\n"
          ]
        }
      ],
      "source": [
        "d = time.time()\n",
        "better_concat(10000000)\n",
        "print(time.time() - d)"
      ]
    },
    {
      "cell_type": "code",
      "execution_count": null,
      "metadata": {
        "id": "QEvIT8TcHa35",
        "vscode": {
          "languageId": "python"
        }
      },
      "outputs": [],
      "source": [
        "def encore_autre_concat(n):\n",
        "  i = 0\n",
        "  r=\"\"\n",
        "  while (i<n):\n",
        "    r += str(i)\n",
        "    i += 1\n",
        "  return r\n"
      ]
    },
    {
      "cell_type": "code",
      "execution_count": null,
      "metadata": {
        "colab": {
          "base_uri": "https://localhost:8080/"
        },
        "id": "JMwz86IyHnc0",
        "outputId": "0d9cee6f-9639-4367-a603-8523c510c0c2",
        "vscode": {
          "languageId": "python"
        }
      },
      "outputs": [
        {
          "name": "stdout",
          "output_type": "stream",
          "text": [
            "2.797510862350464\n"
          ]
        }
      ],
      "source": [
        "d = time.time()\n",
        "encore_autre_concat(10000000)\n",
        "print(time.time() - d)"
      ]
    },
    {
      "cell_type": "markdown",
      "metadata": {
        "id": "_cbirILKBKyY"
      },
      "source": []
    },
    {
      "cell_type": "markdown",
      "metadata": {
        "id": "TzBKxiNRqF_U"
      },
      "source": [
        "# Extra\n",
        "\n",
        "## Les fonctions natives\n",
        "\n",
        "https://docs.python.org/fr/3.6/library/functions.html"
      ]
    }
  ],
  "metadata": {
    "colab": {
      "authorship_tag": "ABX9TyOIQbZ5xzS5wBNcRYxOeUIB",
      "collapsed_sections": [],
      "include_colab_link": true,
      "mount_file_id": "1MYewo58mwZc4z-WVGGCdalhyLoP38FAz",
      "name": "05_UTC503_variables_types_structures.ipynb",
      "provenance": []
    },
    "kernelspec": {
      "display_name": "Python 3",
      "name": "python3"
    }
  },
  "nbformat": 4,
  "nbformat_minor": 0
}
