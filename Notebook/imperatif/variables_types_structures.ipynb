{
  "cells": [
    {
      "cell_type": "markdown",
      "metadata": {
        "id": "view-in-github",
        "colab_type": "text"
      },
      "source": [
        "<a href=\"https://colab.research.google.com/github/opentrainingcamp/python/blob/main/Notebook/imperatif/variables_types_structures.ipynb\" target=\"_parent\"><img src=\"https://colab.research.google.com/assets/colab-badge.svg\" alt=\"Open In Colab\"/></a>"
      ]
    },
    {
      "cell_type": "markdown",
      "metadata": {
        "id": "I-7vX07fwyxT"
      },
      "source": [
        "# Données atomique, Variables, types, structure de données\n"
      ]
    },
    {
      "cell_type": "markdown",
      "metadata": {
        "id": "s53JSqzABzu3"
      },
      "source": [
        "## Python typage dynamique\n",
        "Le typage dynamique consiste à laisser le langage réaliser cette opération de typage « à la volée », lors de l'exécution du code.\n",
        "\n",
        "Un langages **statiquement typés** demandent au programmeur de déclarer expressément, pour chaque variable qu'il introduit dans son code, son typage. \n",
        "\n",
        "Le **typage dynamique** est une solution très commode pour le développement rapide de programmes, où le type des objets manipulés \n",
        "* n'est pas forcément connu à l'avance, \n",
        "* ou bien le programmeur veut permettre par commodité le changement de type d'une variable. \n"
      ]
    },
    {
      "cell_type": "markdown",
      "metadata": {
        "id": "TifZpUqi_11v"
      },
      "source": [
        "## Les types de Python\n",
        "* numérique\n",
        "* string\n",
        "* booléen\n",
        "\n",
        "## Operateurs\n",
        "\n",
        "* Arithmétique: +, -, *, /, %, **, // \n",
        "* de comparaison: ==, !=, >, <, >=, <=\n",
        "* logique: and, or, not\n",
        "* d’identité entre objets: is, is not\n",
        "* d’appartenance: in, not in\n",
        "* binaire: &, |, ^, ~, <<, >>\n",
        "\n",
        "\n",
        "## Casting (pour changer de type)\n",
        "\n",
        "* int\n",
        "* float\n",
        "* str\n",
        "* bin\n",
        "* hex\n"
      ]
    },
    {
      "cell_type": "markdown",
      "metadata": {
        "id": "_VG3MnvZ-YfY"
      },
      "source": [
        "## Type numérique\n",
        "\n",
        "* int\n",
        "* float\n",
        "* complex"
      ]
    },
    {
      "cell_type": "code",
      "execution_count": null,
      "metadata": {
        "id": "CsIkhbZuROSs",
        "vscode": {
          "languageId": "python"
        }
      },
      "outputs": [],
      "source": [
        "y = 10"
      ]
    },
    {
      "cell_type": "code",
      "execution_count": null,
      "metadata": {
        "colab": {
          "base_uri": "https://localhost:8080/",
          "height": 35
        },
        "id": "tmbI14FqRW6_",
        "outputId": "cf61b627-7477-41fb-dc8b-10679c8cb837",
        "vscode": {
          "languageId": "python"
        }
      },
      "outputs": [
        {
          "data": {
            "application/vnd.google.colaboratory.intrinsic+json": {
              "type": "string"
            },
            "text/plain": [
              "'10'"
            ]
          },
          "execution_count": 35,
          "metadata": {
            "tags": []
          },
          "output_type": "execute_result"
        }
      ],
      "source": [
        "# y -> str(y)\n",
        "str(y)"
      ]
    },
    {
      "cell_type": "code",
      "execution_count": null,
      "metadata": {
        "colab": {
          "base_uri": "https://localhost:8080/"
        },
        "id": "IfaaULeh4ju7",
        "outputId": "08e69fb9-1eaa-46cb-ffd9-fb14b90d84f9",
        "vscode": {
          "languageId": "python"
        }
      },
      "outputs": [
        {
          "name": "stdout",
          "output_type": "stream",
          "text": [
            "<class 'int'>\n"
          ]
        },
        {
          "data": {
            "text/plain": [
              "int"
            ]
          },
          "execution_count": 36,
          "metadata": {
            "tags": []
          },
          "output_type": "execute_result"
        }
      ],
      "source": [
        "x = 3\n",
        "print(type(x))\n",
        "type(x)\n"
      ]
    },
    {
      "cell_type": "code",
      "execution_count": null,
      "metadata": {
        "colab": {
          "base_uri": "https://localhost:8080/"
        },
        "id": "pZSHMhdHR512",
        "outputId": "5771724a-c541-4033-c79b-880543b6468d",
        "vscode": {
          "languageId": "python"
        }
      },
      "outputs": [
        {
          "name": "stdout",
          "output_type": "stream",
          "text": [
            "10 10\n"
          ]
        }
      ],
      "source": [
        "print(10, type(10),  '10', type('10'), \"10\", type(\"10\"))"
      ]
    },
    {
      "cell_type": "code",
      "execution_count": null,
      "metadata": {
        "colab": {
          "base_uri": "https://localhost:8080/"
        },
        "id": "IHaRQwyI9yK_",
        "outputId": "0109fea0-3139-4a36-86c9-039bbab0178b",
        "vscode": {
          "languageId": "python"
        }
      },
      "outputs": [
        {
          "data": {
            "text/plain": [
              "float"
            ]
          },
          "execution_count": 39,
          "metadata": {
            "tags": []
          },
          "output_type": "execute_result"
        }
      ],
      "source": [
        "# toujours x\n",
        "x = 3.0\n",
        "type(x)"
      ]
    },
    {
      "cell_type": "code",
      "execution_count": null,
      "metadata": {
        "colab": {
          "base_uri": "https://localhost:8080/"
        },
        "id": "J6hQkbKB93W4",
        "outputId": "210eb004-0796-46e3-8dee-a01f0e0a9943",
        "vscode": {
          "languageId": "python"
        }
      },
      "outputs": [
        {
          "data": {
            "text/plain": [
              "str"
            ]
          },
          "execution_count": 40,
          "metadata": {
            "tags": []
          },
          "output_type": "execute_result"
        }
      ],
      "source": [
        "x = 'abc d'\n",
        "type(x)"
      ]
    },
    {
      "cell_type": "code",
      "execution_count": null,
      "metadata": {
        "colab": {
          "base_uri": "https://localhost:8080/"
        },
        "id": "7NAxS28d99Qo",
        "outputId": "af1697e2-9ddd-4489-9dd0-401266bf82c4",
        "vscode": {
          "languageId": "python"
        }
      },
      "outputs": [
        {
          "data": {
            "text/plain": [
              "complex"
            ]
          },
          "execution_count": 41,
          "metadata": {
            "tags": []
          },
          "output_type": "execute_result"
        }
      ],
      "source": [
        "z = 2 + 3j\n",
        "type(z)"
      ]
    },
    {
      "cell_type": "code",
      "execution_count": null,
      "metadata": {
        "colab": {
          "base_uri": "https://localhost:8080/"
        },
        "id": "kKe_B0tVA0bf",
        "outputId": "a961b624-43c6-49b3-c58a-dfe79888ddc3",
        "vscode": {
          "languageId": "python"
        }
      },
      "outputs": [
        {
          "name": "stdout",
          "output_type": "stream",
          "text": [
            "3\n"
          ]
        }
      ],
      "source": [
        "b = 0b0011\n",
        "print(b)"
      ]
    },
    {
      "cell_type": "code",
      "execution_count": null,
      "metadata": {
        "colab": {
          "base_uri": "https://localhost:8080/"
        },
        "id": "H1FrFxxFBDbB",
        "outputId": "da9ef87a-3aa4-432c-cee7-9a4a83677fd4",
        "vscode": {
          "languageId": "python"
        }
      },
      "outputs": [
        {
          "name": "stdout",
          "output_type": "stream",
          "text": [
            "255\n"
          ]
        }
      ],
      "source": [
        "h = 0xff\n",
        "print(h)"
      ]
    },
    {
      "cell_type": "code",
      "execution_count": null,
      "metadata": {
        "colab": {
          "base_uri": "https://localhost:8080/"
        },
        "id": "tFgRZJOyBJp_",
        "outputId": "d6207700-73ef-4581-dabf-ca8f3fb60a09",
        "vscode": {
          "languageId": "python"
        }
      },
      "outputs": [
        {
          "name": "stdout",
          "output_type": "stream",
          "text": [
            "12 3 15 0 6 6\n"
          ]
        }
      ],
      "source": [
        "ba = 0b1100\n",
        "bb = 0b0011\n",
        "#&     0000\n",
        "#|     1111\n",
        "#      0110\n",
        "print(ba, bb, ba | bb, ba & bb, ba >> 1, bb << 1)"
      ]
    },
    {
      "cell_type": "markdown",
      "metadata": {
        "id": "IkjOhR2VTJio"
      },
      "source": [
        "0123 << 1 => 1230"
      ]
    },
    {
      "cell_type": "code",
      "execution_count": null,
      "metadata": {
        "colab": {
          "base_uri": "https://localhost:8080/"
        },
        "id": "unNKTj0NT_zN",
        "outputId": "cde261ec-a2ac-4588-9e4a-7727daef2417",
        "vscode": {
          "languageId": "python"
        }
      },
      "outputs": [
        {
          "name": "stdout",
          "output_type": "stream",
          "text": [
            "0\n"
          ]
        }
      ],
      "source": [
        "coche1 = 0b101\n",
        "coche2 = 0b001\n",
        "\n",
        "\n",
        "cochecase1 = coche2 & 0b100\n",
        "print(cochecase1)"
      ]
    },
    {
      "cell_type": "code",
      "execution_count": null,
      "metadata": {
        "colab": {
          "base_uri": "https://localhost:8080/"
        },
        "id": "qXU3FgOiCSFV",
        "outputId": "87c217ff-d0e4-434d-df2f-dead76fae059",
        "vscode": {
          "languageId": "python"
        }
      },
      "outputs": [
        {
          "name": "stdout",
          "output_type": "stream",
          "text": [
            "0b111 <class 'str'>\n"
          ]
        }
      ],
      "source": [
        "x = 7\n",
        "print(bin(x), type(bin(x)))"
      ]
    },
    {
      "cell_type": "markdown",
      "metadata": {
        "id": "Podd4GdWVCzn"
      },
      "source": [
        "## Representation vs valeur \n",
        "\n",
        "Ne pas confondre la représentation (un encodage) d'une valeur, le nom d'une valeur, la référence d'une valeur et la valeur. \n"
      ]
    },
    {
      "cell_type": "markdown",
      "metadata": {
        "id": "UNtnfkc1-hw0"
      },
      "source": [
        "## les chaines de caractères (immutable)\n",
        "\n",
        "soit ' soit \" \n",
        "\n",
        "sur plusieurs ligne on triple la quote ou double quote\n"
      ]
    },
    {
      "cell_type": "code",
      "execution_count": null,
      "metadata": {
        "id": "elGkOMj7-AwJ",
        "vscode": {
          "languageId": "python"
        }
      },
      "outputs": [],
      "source": [
        "s = 'abcd'\n",
        "st = \"xyz\""
      ]
    },
    {
      "cell_type": "code",
      "execution_count": null,
      "metadata": {
        "id": "_GZSoYNZ_NT0",
        "vscode": {
          "languageId": "python"
        }
      },
      "outputs": [],
      "source": [
        "un_grand_texte = '''\n",
        "Voici un texte\n",
        "sur plisieurs lignes\n",
        "   avec des tabulations\n",
        "       ou autre chose ...\n",
        "   bla bla\n",
        "'''"
      ]
    },
    {
      "cell_type": "code",
      "execution_count": null,
      "metadata": {
        "colab": {
          "base_uri": "https://localhost:8080/",
          "height": 35
        },
        "id": "OkiCGiE4V5ho",
        "outputId": "b851a720-9b39-4fc2-fe4c-8233d7f9ea7a",
        "vscode": {
          "languageId": "python"
        }
      },
      "outputs": [
        {
          "data": {
            "application/vnd.google.colaboratory.intrinsic+json": {
              "type": "string"
            },
            "text/plain": [
              "'x=\\\\blabla\\\\'"
            ]
          },
          "execution_count": 57,
          "metadata": {
            "tags": []
          },
          "output_type": "execute_result"
        }
      ],
      "source": [
        "x = \"x=\\\\blabla\\\\\"\n",
        "x"
      ]
    },
    {
      "cell_type": "code",
      "execution_count": null,
      "metadata": {
        "colab": {
          "base_uri": "https://localhost:8080/"
        },
        "id": "CZvs5KLsVp8I",
        "outputId": "7f9b59e5-f077-486f-fd25-5804014908d0",
        "vscode": {
          "languageId": "python"
        }
      },
      "outputs": [
        {
          "name": "stdout",
          "output_type": "stream",
          "text": [
            "\n",
            "Voici un texte\n",
            "sur plisieurs lignes\n",
            "   avec des tabulations\n",
            "       ou autre chose ...\n",
            "   bla bla\n",
            "\n"
          ]
        }
      ],
      "source": [
        "un_grand_texte_bis = \"\"\"\n",
        "Voici un texte\n",
        "sur plisieurs lignes\n",
        "   avec des tabulations\n",
        "       ou autre chose ...\n",
        "   bla bla\n",
        "\"\"\"\n",
        "print(un_grand_texte_bis)"
      ]
    },
    {
      "cell_type": "code",
      "execution_count": null,
      "metadata": {
        "colab": {
          "base_uri": "https://localhost:8080/",
          "height": 53
        },
        "id": "VzvpIkYqW5Gx",
        "outputId": "580f74cd-849b-46db-bce6-c935464af739",
        "vscode": {
          "languageId": "python"
        }
      },
      "outputs": [
        {
          "data": {
            "application/vnd.google.colaboratory.intrinsic+json": {
              "type": "string"
            },
            "text/plain": [
              "'\\nVoici un texte\\nsur plisieurs lignes\\n   avec des tabulations\\n       ou autre chose ...\\n   bla bla\\n'"
            ]
          },
          "execution_count": 60,
          "metadata": {
            "tags": []
          },
          "output_type": "execute_result"
        }
      ],
      "source": [
        "un_grand_texte_bis"
      ]
    },
    {
      "cell_type": "markdown",
      "metadata": {
        "id": "B8yy5S5zV0Lg"
      },
      "source": [
        "definir cette chaine : L'école"
      ]
    },
    {
      "cell_type": "markdown",
      "metadata": {
        "id": "ZTA1yy9yV4dZ"
      },
      "source": [
        ""
      ]
    },
    {
      "cell_type": "code",
      "execution_count": null,
      "metadata": {
        "colab": {
          "base_uri": "https://localhost:8080/",
          "height": 35
        },
        "id": "uA2CP5yh_c8R",
        "outputId": "e25f2402-c7ca-4cbf-b180-c42199948f42",
        "vscode": {
          "languageId": "python"
        }
      },
      "outputs": [
        {
          "data": {
            "application/vnd.google.colaboratory.intrinsic+json": {
              "type": "string"
            },
            "text/plain": [
              "'\\nVoici un texte\\nsur plisieurs lignes\\n   avec des tabulations\\n       ou autre chose ...\\n   bla bla\\n'"
            ]
          },
          "execution_count": 27,
          "metadata": {
            "tags": []
          },
          "output_type": "execute_result"
        }
      ],
      "source": [
        "un_grand_texte"
      ]
    },
    {
      "cell_type": "code",
      "execution_count": null,
      "metadata": {
        "colab": {
          "base_uri": "https://localhost:8080/"
        },
        "id": "Hw6uvUsL_gEP",
        "outputId": "43d66568-57d7-4767-9f8d-283ffbcec02d",
        "vscode": {
          "languageId": "python"
        }
      },
      "outputs": [
        {
          "name": "stdout",
          "output_type": "stream",
          "text": [
            "\n",
            "Voici un texte\n",
            "sur plisieurs lignes\n",
            "   avec des tabulations\n",
            "       ou autre chose ...\n",
            "   bla bla\n",
            "\n"
          ]
        }
      ],
      "source": [
        "print(un_grand_texte)"
      ]
    },
    {
      "cell_type": "code",
      "execution_count": null,
      "metadata": {
        "id": "zUkmPrzh_kkC",
        "vscode": {
          "languageId": "python"
        }
      },
      "outputs": [],
      "source": [
        "un_autre_grand_texte = \"\"\"\n",
        "Voici un texte\n",
        "sur plisieurs lignes\n",
        "   avec des tabulations\n",
        "       ou autre chose ...\n",
        "   bla bla\n",
        "\"\"\""
      ]
    },
    {
      "cell_type": "markdown",
      "metadata": {
        "id": "PIqawu_OC0xo"
      },
      "source": [
        "## Les booléens python entre C et Java\n"
      ]
    },
    {
      "cell_type": "code",
      "execution_count": null,
      "metadata": {
        "colab": {
          "base_uri": "https://localhost:8080/"
        },
        "id": "eWTO_ZW7DUtY",
        "outputId": "78a75ca4-538d-4216-c618-5f981d6dede1",
        "vscode": {
          "languageId": "python"
        }
      },
      "outputs": [
        {
          "name": "stdout",
          "output_type": "stream",
          "text": [
            "True False <class 'bool'> <class 'bool'>\n"
          ]
        }
      ],
      "source": [
        "# True et False type bool\n",
        "print(True, False, type(True), type(False))"
      ]
    },
    {
      "cell_type": "code",
      "execution_count": null,
      "metadata": {
        "colab": {
          "base_uri": "https://localhost:8080/"
        },
        "id": "6Gc5-WYCDB1x",
        "outputId": "0b3717ac-e51c-4cf4-8d61-8cc454c8e8bb",
        "vscode": {
          "languageId": "python"
        }
      },
      "outputs": [
        {
          "name": "stdout",
          "output_type": "stream",
          "text": [
            "OK\n"
          ]
        }
      ],
      "source": [
        "# Mais aussi comme en C, toute valeur non 0 est vraie et la valeur 0 est fausse\n",
        "x = -10\n",
        "if (x):\n",
        "  print(\"OK\")\n",
        "else:\n",
        "  print(\"KO\")"
      ]
    },
    {
      "cell_type": "code",
      "execution_count": null,
      "metadata": {
        "colab": {
          "base_uri": "https://localhost:8080/"
        },
        "id": "Exy14mf2DQ6t",
        "outputId": "b2d72ebc-38d6-4e84-8dae-7b0664eb4eff",
        "vscode": {
          "languageId": "python"
        }
      },
      "outputs": [
        {
          "name": "stdout",
          "output_type": "stream",
          "text": [
            "1 <class 'int'>\n"
          ]
        }
      ],
      "source": [
        "print(True+False,type(True+False))"
      ]
    }
  ],
  "metadata": {
    "colab": {
      "collapsed_sections": [],
      "name": "variables_types_structures.ipynb",
      "provenance": [],
      "include_colab_link": true
    },
    "kernelspec": {
      "display_name": "Python 3",
      "name": "python3"
    }
  },
  "nbformat": 4,
  "nbformat_minor": 0
}