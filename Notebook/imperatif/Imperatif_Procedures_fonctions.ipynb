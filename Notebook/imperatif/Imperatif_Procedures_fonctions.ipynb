{
  "nbformat": 4,
  "nbformat_minor": 0,
  "metadata": {
    "colab": {
      "name": "Imperatif_Procedures_fonctions.ipynb",
      "provenance": [],
      "authorship_tag": "ABX9TyP/eIFAEyQ5VFsQBBEEwOM8",
      "include_colab_link": true
    },
    "kernelspec": {
      "name": "python3",
      "display_name": "Python 3"
    },
    "language_info": {
      "name": "python"
    }
  },
  "cells": [
    {
      "cell_type": "markdown",
      "metadata": {
        "id": "view-in-github",
        "colab_type": "text"
      },
      "source": [
        "<a href=\"https://colab.research.google.com/github/opentrainingcamp/python/blob/main/Notebook/imperatif/Imperatif_Procedures_fonctions.ipynb\" target=\"_parent\"><img src=\"https://colab.research.google.com/assets/colab-badge.svg\" alt=\"Open In Colab\"/></a>"
      ]
    },
    {
      "cell_type": "markdown",
      "metadata": {
        "id": "1haxhObJ-JRH"
      },
      "source": [
        "## Procédure et fonctions\n",
        "* Structurer un programme en un ensemble de procédures ou de fonctions, issue du raffinage.\n",
        "* Factoriser des parties de code semblable.\n",
        "* Ensemble de fonctions pour définir de nouvelle expression ou opérations élémentaires: Des fonctions dans une librairie (exemple  tri, les fonctions mathématique, statistique, toutes vos fonctions précédemment réalisée et réutilisable, etc…\n",
        "* Procédure ne retourne pas de valeurs (pas de résultat) pour définir une nouvelle instruction (modifie l’état du programme) : exemple print()\n",
        "En Python (comme en C , Java, …) une procédure est une fonction qui retourne None. et modifie quelques chose\n"
      ]
    },
    {
      "cell_type": "markdown",
      "metadata": {
        "id": "-Edi6xKH-oCj"
      },
      "source": [
        "## Fonctions\n",
        "Une fonction est une relation entre un élément d’un ensemble de départ vers un élément unique d’un ensemble d’arrivé \n",
        "exemple:\n",
        ">     plus : NxN → N\n",
        ">           (x,y) → x+y\n",
        "\n",
        "L’algorithmique: Partant de la spécification ou définition d’une fonction f, écrire un ou plusieurs algorithmes décrivant les étapes de calcul de f(x) et prouver que ces algorithmes sont corrects\n",
        "\n",
        "En C par exemple tout est fonction, en java tout est methodes \n",
        "en Python nous verrons on peut faire un peu de tout!\n"
      ]
    },
    {
      "cell_type": "markdown",
      "metadata": {
        "id": "ME8O2V79_IKH"
      },
      "source": [
        "## Procédure? Paramètres de fonctions\n",
        "Une procédure est une sorte de fonction sans résultat! Si des résultats sont calculés on doit trouver un moyen en modifiant l’environnement (l’état) => instruction\n",
        "\n",
        "Les paramètres de fonctions ou procédure figurant dans l’en-tête d’une fonction se nomment des “paramètres muets” (ou encore “paramètres formels”). Leur rôle est de permettre, au sein du corps de la fonction, de décrire ce qu’elle doit faire. Leur portée est limitée à la définition de la fonction concernée ; ils n’entrent donc pas en conflit avec d’éventuelles variables locales à d’autres fonctions\n",
        "\n",
        "par exemple en C int f(int x) … En Python def f(x): ...\n"
      ]
    },
    {
      "cell_type": "markdown",
      "metadata": {
        "id": "xIY0WBO7_Y5c"
      },
      "source": [
        "## L’appel de fonction, type de paramètres\n",
        "Les paramètres fournis lors de l’utilisation (l’appel) de la fonction se nomment des “paramètres effectifs”.\n",
        "\n",
        "Les “paramètres effectifs” sont  transmis aux “paramètres formels” de 2 moyens\n",
        "* Par valeur\n",
        "* Ou par référence \n",
        "\n",
        "\n",
        "\n"
      ]
    },
    {
      "cell_type": "markdown",
      "metadata": {
        "id": "-oiuFosY_4Rv"
      },
      "source": [
        "## En Python : On crée une fonction selon le schéma suivant :\n",
        "\n",
        "def nom_de_la_fonction(parametre1, parametre2, parametre3, parametreN):\n",
        "    # Bloc d'instructions\n",
        "\n",
        "* **def**, mot-clé qui est l'abréviation de « define » (définir, en anglais) et qui constitue le prélude à toute construction de fonction.\n",
        "\n",
        "* **Le nom de la fonction**, qui se nomme exactement comme une variable (nous verrons par la suite que ce n'est pas par hasard). N'utilisez pas un nom de variable déjà instanciée pour nommer une fonction.\n",
        "\n",
        "* **La liste des paramètres** qui seront fournis lors d'un appel à la fonction. \n",
        "Les paramètres sont séparés par des virgules et la liste est encadrée par des parenthèses ouvrante et fermante (les espaces sont optionnels mais améliorent la lisibilité).\n",
        "\n",
        "**Les deux points**, encore et toujours, qui clôturent la ligne.\n",
        "\n"
      ]
    },
    {
      "cell_type": "markdown",
      "metadata": {
        "id": "qcM-7QA7AT9q"
      },
      "source": [
        "## Avec Python les paramètres leur passages est plus subtile\n",
        "* En C tout les passages sont par valeur \n",
        "* En Java les types primitifs sont par valeur, les objets par référence\n",
        "* En Python tout est par référence! En fait car tout est objet!\n",
        "\n",
        "Mais avec Python certaines données sont immutable et d’autre mutable\n"
      ]
    },
    {
      "cell_type": "markdown",
      "metadata": {
        "id": "wSZtf8WXAgFv"
      },
      "source": [
        "## Procédure et Appel de procédure cas Python\n",
        "En plus des conditions et répétition, l’appel de procédures permet de structurer et factoriser les algorithmes. Correspond à un élément de raffinage.\n",
        "\n",
        "En python tout est fonction ou procedure, donc\n",
        "Si pas de résultat (procedure) comme dans print\n",
        "\n",
        "* réponse => None\n"
      ]
    },
    {
      "cell_type": "code",
      "execution_count": null,
      "metadata": {
        "id": "ULQJv1ocA3v4",
        "vscode": {
          "languageId": "python"
        }
      },
      "outputs": [],
      "source": [
        "def f(x,y):\n",
        "  return x+y"
      ]
    },
    {
      "cell_type": "code",
      "execution_count": null,
      "metadata": {
        "colab": {
          "base_uri": "https://localhost:8080/"
        },
        "id": "owc5bY_5BcJW",
        "outputId": "c0caabdc-374c-46df-da7a-d73974f2ff51",
        "vscode": {
          "languageId": "python"
        }
      },
      "outputs": [
        {
          "data": {
            "text/plain": [
              "5"
            ]
          },
          "execution_count": 54,
          "metadata": {
            "tags": []
          },
          "output_type": "execute_result"
        }
      ],
      "source": [
        "f(2,3)"
      ]
    },
    {
      "cell_type": "code",
      "execution_count": null,
      "metadata": {
        "colab": {
          "base_uri": "https://localhost:8080/",
          "height": 35
        },
        "id": "nwLZ9KqBBeSW",
        "outputId": "a9271b43-2306-44e9-d08d-f603f04b4d76",
        "vscode": {
          "languageId": "python"
        }
      },
      "outputs": [
        {
          "data": {
            "application/vnd.google.colaboratory.intrinsic+json": {
              "type": "string"
            },
            "text/plain": [
              "'abcd'"
            ]
          },
          "execution_count": 55,
          "metadata": {
            "tags": []
          },
          "output_type": "execute_result"
        }
      ],
      "source": [
        "f(\"ab\",\"cd\")"
      ]
    },
    {
      "cell_type": "markdown",
      "metadata": {
        "id": "qx96U9k-A_Xo"
      },
      "source": [
        "## Exemple de fonctions, elle peuvent être récursive\n"
      ]
    },
    {
      "cell_type": "code",
      "execution_count": null,
      "metadata": {
        "id": "KPjfrToqBBdR",
        "vscode": {
          "languageId": "python"
        }
      },
      "outputs": [],
      "source": [
        "def fact(n):\n",
        "  if (n == 0): return 1\n",
        "  else: return n * fact(n-1)"
      ]
    },
    {
      "cell_type": "code",
      "execution_count": null,
      "metadata": {
        "colab": {
          "base_uri": "https://localhost:8080/"
        },
        "id": "h2DmhK9QBL8T",
        "outputId": "f8c5f7a0-06c6-4aca-ec64-cb7a97859cbd",
        "vscode": {
          "languageId": "python"
        }
      },
      "outputs": [
        {
          "data": {
            "text/plain": [
              "6"
            ]
          },
          "execution_count": 51,
          "metadata": {
            "tags": []
          },
          "output_type": "execute_result"
        }
      ],
      "source": [
        "fact(3)"
      ]
    },
    {
      "cell_type": "markdown",
      "metadata": {
        "id": "UsaXRtf8EqdA"
      },
      "source": [
        "## Quelques exemple, mutable ummutable l'influance"
      ]
    },
    {
      "cell_type": "code",
      "execution_count": null,
      "metadata": {
        "id": "y34k2jHOEuL_",
        "vscode": {
          "languageId": "python"
        }
      },
      "outputs": [],
      "source": [
        "import time\n",
        "\n",
        "def super_concat(n):\n",
        "  l = range(n)\n",
        "  resultat = \"\"\n",
        "  for nombre in l:\n",
        "    resultat += str(nombre)\n",
        "  return resultat"
      ]
    },
    {
      "cell_type": "code",
      "execution_count": null,
      "metadata": {
        "colab": {
          "base_uri": "https://localhost:8080/"
        },
        "id": "w8qrtZEfFQ60",
        "outputId": "d8543d63-5df3-46f9-fc4f-2bcea39a9dc1",
        "vscode": {
          "languageId": "python"
        }
      },
      "outputs": [
        {
          "name": "stdout",
          "output_type": "stream",
          "text": [
            "2.3971376419067383\n"
          ]
        }
      ],
      "source": [
        "d = time.time()\n",
        "super_concat(10000000)\n",
        "print(time.time() - d)\n"
      ]
    },
    {
      "cell_type": "code",
      "execution_count": null,
      "metadata": {
        "id": "l69BZ7QdF5N9",
        "vscode": {
          "languageId": "python"
        }
      },
      "outputs": [],
      "source": [
        "def better_concat(n):\n",
        "  l = range(n)\n",
        "  resultat = []\n",
        "  for nombre in l:\n",
        "    resultat.append(str(nombre))\n",
        "  return ''.join(resultat)"
      ]
    },
    {
      "cell_type": "code",
      "execution_count": null,
      "metadata": {
        "colab": {
          "base_uri": "https://localhost:8080/"
        },
        "id": "lF6fJrJDGUKT",
        "outputId": "5e8a45c6-ec87-41d8-dce0-651845a38bf6",
        "vscode": {
          "languageId": "python"
        }
      },
      "outputs": [
        {
          "name": "stdout",
          "output_type": "stream",
          "text": [
            "2.7836427688598633\n"
          ]
        }
      ],
      "source": [
        "d = time.time()\n",
        "better_concat(10000000)\n",
        "print(time.time() - d)"
      ]
    },
    {
      "cell_type": "code",
      "execution_count": null,
      "metadata": {
        "id": "QEvIT8TcHa35",
        "vscode": {
          "languageId": "python"
        }
      },
      "outputs": [],
      "source": [
        "def encore_autre_concat(n):\n",
        "  i = 0\n",
        "  r=\"\"\n",
        "  while (i<n):\n",
        "    r += str(i)\n",
        "    i += 1\n",
        "  return r\n"
      ]
    },
    {
      "cell_type": "code",
      "execution_count": null,
      "metadata": {
        "colab": {
          "base_uri": "https://localhost:8080/"
        },
        "id": "JMwz86IyHnc0",
        "outputId": "0d9cee6f-9639-4367-a603-8523c510c0c2",
        "vscode": {
          "languageId": "python"
        }
      },
      "outputs": [
        {
          "name": "stdout",
          "output_type": "stream",
          "text": [
            "2.797510862350464\n"
          ]
        }
      ],
      "source": [
        "d = time.time()\n",
        "encore_autre_concat(10000000)\n",
        "print(time.time() - d)"
      ]
    },
    {
      "cell_type": "markdown",
      "metadata": {
        "id": "_cbirILKBKyY"
      },
      "source": [
        ""
      ]
    },
    {
      "cell_type": "markdown",
      "metadata": {
        "id": "TzBKxiNRqF_U"
      },
      "source": [
        "# Extra\n",
        "\n",
        "## Les fonctions natives\n",
        "\n",
        "https://docs.python.org/fr/3.6/library/functions.html"
      ]
    }
  ]
}