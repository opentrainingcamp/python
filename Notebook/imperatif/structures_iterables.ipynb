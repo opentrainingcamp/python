{
  "nbformat": 4,
  "nbformat_minor": 0,
  "metadata": {
    "colab": {
      "name": "structures_iterables",
      "provenance": [],
      "authorship_tag": "ABX9TyP1YComMbo4kcnAY+U4d/ex",
      "include_colab_link": true
    },
    "kernelspec": {
      "name": "python3",
      "display_name": "Python 3"
    },
    "language_info": {
      "name": "python"
    }
  },
  "cells": [
    {
      "cell_type": "markdown",
      "metadata": {
        "id": "view-in-github",
        "colab_type": "text"
      },
      "source": [
        "<a href=\"https://colab.research.google.com/github/opentrainingcamp/python/blob/main/Notebook/imperatif/structures_iterables.ipynb\" target=\"_parent\"><img src=\"https://colab.research.google.com/assets/colab-badge.svg\" alt=\"Open In Colab\"/></a>"
      ]
    },
    {
      "cell_type": "markdown",
      "metadata": {
        "id": "p_x9zb1To0uv"
      },
      "source": [
        "## Les structures prédéfinies"
      ]
    },
    {
      "cell_type": "markdown",
      "source": [
        "### Mullable\n",
        "\n",
        "* list\n",
        "* dict\n",
        "\n",
        "### immutable\n",
        "\n",
        "* tuple\n",
        "* set"
      ],
      "metadata": {
        "id": "f_CpUfyAUVkj"
      }
    },
    {
      "cell_type": "markdown",
      "metadata": {
        "id": "HVmHOVIBqWXE"
      },
      "source": [
        "### Listes"
      ]
    },
    {
      "cell_type": "code",
      "execution_count": null,
      "metadata": {
        "id": "3IuWotV6ozPL",
        "vscode": {
          "languageId": "python"
        }
      },
      "outputs": [],
      "source": [
        "dir(list)"
      ]
    },
    {
      "cell_type": "code",
      "execution_count": null,
      "metadata": {
        "id": "2I6JItN9ZNV_",
        "vscode": {
          "languageId": "python"
        }
      },
      "outputs": [],
      "source": [
        "l = [1, 5, 10, 100]\n",
        "# help(l.index)\n",
        "l.index(10)"
      ]
    },
    {
      "cell_type": "code",
      "execution_count": null,
      "metadata": {
        "id": "ZaJT0gRfZj5I",
        "vscode": {
          "languageId": "python"
        }
      },
      "outputs": [],
      "source": [
        "l[-2]"
      ]
    },
    {
      "cell_type": "code",
      "execution_count": null,
      "metadata": {
        "colab": {
          "base_uri": "https://localhost:8080/"
        },
        "id": "sIzlk68WZ0ZR",
        "outputId": "ad105e64-cfba-4dc5-dc60-4cbf8068d322",
        "vscode": {
          "languageId": "python"
        }
      },
      "outputs": [
        {
          "name": "stdout",
          "output_type": "stream",
          "text": [
            "tete=1,reste=[5, 10, 100]\n"
          ]
        }
      ],
      "source": [
        "print(f\"tete={l[0]},reste={l[1:]}\")"
      ]
    },
    {
      "cell_type": "code",
      "execution_count": null,
      "metadata": {
        "colab": {
          "base_uri": "https://localhost:8080/"
        },
        "id": "wGkHv_Noa6UR",
        "outputId": "c8df78db-bc80-4865-eea7-4cf8c56ea672",
        "vscode": {
          "languageId": "python"
        }
      },
      "outputs": [
        {
          "name": "stdout",
          "output_type": "stream",
          "text": [
            "[1, 5, 20, 100]\n"
          ]
        }
      ],
      "source": [
        "l[2] = 20\n",
        "print(l)"
      ]
    },
    {
      "cell_type": "code",
      "execution_count": null,
      "metadata": {
        "colab": {
          "base_uri": "https://localhost:8080/"
        },
        "id": "vphf6fQibHXG",
        "outputId": "be028b34-1b4d-472a-b741-8c651a98180a",
        "vscode": {
          "languageId": "python"
        }
      },
      "outputs": [
        {
          "data": {
            "text/plain": [
              "139767335237448"
            ]
          },
          "execution_count": 80,
          "metadata": {
            "tags": []
          },
          "output_type": "execute_result"
        }
      ],
      "source": [
        "id(l)"
      ]
    },
    {
      "cell_type": "code",
      "execution_count": null,
      "metadata": {
        "colab": {
          "base_uri": "https://localhost:8080/"
        },
        "id": "BIlajrmxbOH6",
        "outputId": "0b92c805-6851-45fb-c3e6-5352196c2c0f",
        "vscode": {
          "languageId": "python"
        }
      },
      "outputs": [
        {
          "name": "stdout",
          "output_type": "stream",
          "text": [
            "[1, 5, 20, 100, '1000', '1000'] <class 'list'> 139767335237448\n"
          ]
        }
      ],
      "source": [
        "l.append(\"1000\")\n",
        "print(l, type(l), id(l))"
      ]
    },
    {
      "cell_type": "code",
      "execution_count": null,
      "metadata": {
        "colab": {
          "base_uri": "https://localhost:8080/"
        },
        "id": "i-ILcBDXqUSi",
        "outputId": "f95dec01-8b41-44b2-9e2b-752ec7b8fa8e",
        "vscode": {
          "languageId": "python"
        }
      },
      "outputs": [
        {
          "name": "stdout",
          "output_type": "stream",
          "text": [
            "[3, 5] [1, 5, [3, 5], 8]\n",
            "x=[3, 5]\n",
            "l=[1, 5, [3, 5], 8]\n"
          ]
        }
      ],
      "source": [
        "x = [3, 5]\n",
        "l = [1 , 5, x, 8]\n",
        "print(x,l)\n",
        "print(f\"x={x}\\nl={l}\")"
      ]
    },
    {
      "cell_type": "code",
      "execution_count": null,
      "metadata": {
        "colab": {
          "base_uri": "https://localhost:8080/"
        },
        "id": "I-gHvZECrBON",
        "outputId": "5a3a5ff0-943a-4b47-c6e7-d28def667bbe",
        "vscode": {
          "languageId": "python"
        }
      },
      "outputs": [
        {
          "name": "stdout",
          "output_type": "stream",
          "text": [
            "139629964843336\n",
            "139629964843336\n",
            "139629964843336\n"
          ]
        }
      ],
      "source": [
        "liste = [1, 2, 3]\n",
        "print(id(liste))\n",
        "liste.append(4)\n",
        "print(id(liste))\n",
        "\n",
        "liste += [5,6]\n",
        "print(id(liste))"
      ]
    },
    {
      "cell_type": "code",
      "execution_count": null,
      "metadata": {
        "colab": {
          "base_uri": "https://localhost:8080/"
        },
        "id": "dC5R6K1-5cdR",
        "outputId": "5a142ba9-f181-4ccb-8782-9b9f97e984a9",
        "vscode": {
          "languageId": "python"
        }
      },
      "outputs": [
        {
          "data": {
            "text/plain": [
              "[1, 2, 'deux', 4, 5, 6]"
            ]
          },
          "execution_count": 38,
          "metadata": {
            "tags": []
          },
          "output_type": "execute_result"
        }
      ],
      "source": [
        "liste[2]=\"deux\"\n",
        "liste"
      ]
    },
    {
      "cell_type": "markdown",
      "metadata": {
        "id": "QstUhSug3S3J"
      },
      "source": [
        "## Tuples"
      ]
    },
    {
      "cell_type": "code",
      "execution_count": null,
      "metadata": {
        "id": "1P6ufAP63R8A",
        "vscode": {
          "languageId": "python"
        }
      },
      "outputs": [],
      "source": [
        "t = (1,2)\n",
        "dir(t)"
      ]
    },
    {
      "cell_type": "code",
      "execution_count": null,
      "metadata": {
        "id": "CJcOydFxb8jK",
        "vscode": {
          "languageId": "python"
        }
      },
      "outputs": [],
      "source": [
        "t[0] = 10"
      ]
    },
    {
      "cell_type": "code",
      "execution_count": null,
      "metadata": {
        "colab": {
          "base_uri": "https://localhost:8080/"
        },
        "id": "aYDvl5IncGSk",
        "outputId": "110c16a1-c5a9-41f2-cfa5-a57bea86c86d",
        "vscode": {
          "languageId": "python"
        }
      },
      "outputs": [
        {
          "data": {
            "text/plain": [
              "139767335516040"
            ]
          },
          "execution_count": 85,
          "metadata": {
            "tags": []
          },
          "output_type": "execute_result"
        }
      ],
      "source": [
        "id(t)"
      ]
    },
    {
      "cell_type": "code",
      "execution_count": null,
      "metadata": {
        "colab": {
          "base_uri": "https://localhost:8080/"
        },
        "id": "pMyhMurtcNJb",
        "outputId": "79e83efd-5a9c-45ed-baec-b012e8fec32e",
        "vscode": {
          "languageId": "python"
        }
      },
      "outputs": [
        {
          "name": "stdout",
          "output_type": "stream",
          "text": [
            "(1, 2) 139767335263192\n",
            "(1, 2, 3, 4) 139767335263192\n"
          ]
        }
      ],
      "source": [
        "t1 = (1,2)\n",
        "print(t1, id(t))\n",
        "t2 = t1 + (3,4)\n",
        "print(t2, id(t))"
      ]
    },
    {
      "cell_type": "code",
      "execution_count": null,
      "metadata": {
        "colab": {
          "base_uri": "https://localhost:8080/"
        },
        "id": "8pwodY753cVk",
        "outputId": "2d6c4fd5-167e-4a83-d727-563751c4676f",
        "vscode": {
          "languageId": "python"
        }
      },
      "outputs": [
        {
          "name": "stdout",
          "output_type": "stream",
          "text": [
            "Help on built-in function index:\n",
            "\n",
            "index(...) method of builtins.tuple instance\n",
            "    T.index(value, [start, [stop]]) -> integer -- return first index of value.\n",
            "    Raises ValueError if the value is not present.\n",
            "\n"
          ]
        }
      ],
      "source": [
        "help(t.index)"
      ]
    },
    {
      "cell_type": "code",
      "execution_count": null,
      "metadata": {
        "colab": {
          "base_uri": "https://localhost:8080/"
        },
        "id": "hD9XYKig3qZn",
        "outputId": "f324ca95-6d46-4849-a4ef-170176dba019",
        "vscode": {
          "languageId": "python"
        }
      },
      "outputs": [
        {
          "data": {
            "text/plain": [
              "(2,)"
            ]
          },
          "execution_count": 28,
          "metadata": {
            "tags": []
          },
          "output_type": "execute_result"
        }
      ],
      "source": [
        "(1,2,3,4)[1:2]"
      ]
    },
    {
      "cell_type": "code",
      "execution_count": null,
      "metadata": {
        "colab": {
          "base_uri": "https://localhost:8080/"
        },
        "id": "J2rAbwlndvBj",
        "outputId": "59a9cac0-7745-445e-9905-c803e6647e95",
        "vscode": {
          "languageId": "python"
        }
      },
      "outputs": [
        {
          "data": {
            "text/plain": [
              "(2, 3, 4)"
            ]
          },
          "execution_count": 92,
          "metadata": {
            "tags": []
          },
          "output_type": "execute_result"
        }
      ],
      "source": [
        "t = (1,2,3,4)\n",
        "t[1:]"
      ]
    },
    {
      "cell_type": "code",
      "execution_count": null,
      "metadata": {
        "colab": {
          "base_uri": "https://localhost:8080/"
        },
        "id": "EA5bGzKWdzTN",
        "outputId": "59dc301a-94d5-40c7-f88f-f699829cf189",
        "vscode": {
          "languageId": "python"
        }
      },
      "outputs": [
        {
          "data": {
            "text/plain": [
              "(2, 3, 4, 5, 6)"
            ]
          },
          "execution_count": 95,
          "metadata": {
            "tags": []
          },
          "output_type": "execute_result"
        }
      ],
      "source": [
        "x = (1,2,3,4,5,6)[1:]\n",
        "x"
      ]
    },
    {
      "cell_type": "markdown",
      "metadata": {
        "id": "wfMtBQ4P4JlJ"
      },
      "source": [
        "## sets"
      ]
    },
    {
      "cell_type": "code",
      "execution_count": null,
      "metadata": {
        "colab": {
          "base_uri": "https://localhost:8080/"
        },
        "id": "27qeZ0M44Ixr",
        "outputId": "24b5cb92-b35d-4b77-ed1a-3f068dd2f3ca",
        "vscode": {
          "languageId": "python"
        }
      },
      "outputs": [
        {
          "data": {
            "text/plain": [
              "{1, 3, 4, 5}"
            ]
          },
          "execution_count": 96,
          "metadata": {
            "tags": []
          },
          "output_type": "execute_result"
        }
      ],
      "source": [
        "s = {1,3 ,4 ,5 ,3}\n",
        "s"
      ]
    },
    {
      "cell_type": "code",
      "execution_count": null,
      "metadata": {
        "colab": {
          "base_uri": "https://localhost:8080/"
        },
        "id": "R03FhNrKeFBw",
        "outputId": "81e50388-8928-4e22-c983-ab88ba25f1ef",
        "vscode": {
          "languageId": "python"
        }
      },
      "outputs": [
        {
          "data": {
            "text/plain": [
              "{2, 5, 10, 100}"
            ]
          },
          "execution_count": 98,
          "metadata": {
            "tags": []
          },
          "output_type": "execute_result"
        }
      ],
      "source": [
        "s2 = {5, 10, 2, 5, 10, 100}\n",
        "s2"
      ]
    },
    {
      "cell_type": "code",
      "execution_count": null,
      "metadata": {
        "colab": {
          "base_uri": "https://localhost:8080/",
          "height": 167
        },
        "id": "0UPaD2T9eQ-Y",
        "outputId": "330d0db5-b061-4307-c816-e137a794b851",
        "vscode": {
          "languageId": "python"
        }
      },
      "outputs": [
        {
          "ename": "TypeError",
          "evalue": "ignored",
          "output_type": "error",
          "traceback": [
            "\u001b[0;31m---------------------------------------------------------------------------\u001b[0m",
            "\u001b[0;31mTypeError\u001b[0m                                 Traceback (most recent call last)",
            "\u001b[0;32m<ipython-input-99-85738c68d6cb>\u001b[0m in \u001b[0;36m<module>\u001b[0;34m()\u001b[0m\n\u001b[0;32m----> 1\u001b[0;31m \u001b[0ms\u001b[0m\u001b[0;34m[\u001b[0m\u001b[0;36m1\u001b[0m\u001b[0;34m]\u001b[0m\u001b[0;34m=\u001b[0m\u001b[0;36m3\u001b[0m\u001b[0;34m\u001b[0m\u001b[0;34m\u001b[0m\u001b[0m\n\u001b[0m",
            "\u001b[0;31mTypeError\u001b[0m: 'set' object does not support item assignment"
          ]
        }
      ],
      "source": [
        "s[1]=3"
      ]
    },
    {
      "cell_type": "code",
      "execution_count": null,
      "metadata": {
        "colab": {
          "base_uri": "https://localhost:8080/",
          "height": 167
        },
        "id": "0iWWAAx34Q08",
        "outputId": "dad9773c-1a4b-4a19-ff73-53728dd236e1",
        "vscode": {
          "languageId": "python"
        }
      },
      "outputs": [
        {
          "ename": "TypeError",
          "evalue": "ignored",
          "output_type": "error",
          "traceback": [
            "\u001b[0;31m---------------------------------------------------------------------------\u001b[0m",
            "\u001b[0;31mTypeError\u001b[0m                                 Traceback (most recent call last)",
            "\u001b[0;32m<ipython-input-31-50738704db02>\u001b[0m in \u001b[0;36m<module>\u001b[0;34m()\u001b[0m\n\u001b[0;32m----> 1\u001b[0;31m \u001b[0ms\u001b[0m\u001b[0;34m[\u001b[0m\u001b[0;36m1\u001b[0m\u001b[0;34m:\u001b[0m\u001b[0;34m]\u001b[0m\u001b[0;34m\u001b[0m\u001b[0;34m\u001b[0m\u001b[0m\n\u001b[0m",
            "\u001b[0;31mTypeError\u001b[0m: 'set' object is not subscriptable"
          ]
        }
      ],
      "source": [
        "s[1:]"
      ]
    },
    {
      "cell_type": "code",
      "execution_count": null,
      "metadata": {
        "colab": {
          "base_uri": "https://localhost:8080/"
        },
        "id": "OkBLcKlhee_S",
        "outputId": "5a001b32-12df-4159-a093-c29e04945f45",
        "vscode": {
          "languageId": "python"
        }
      },
      "outputs": [
        {
          "data": {
            "text/plain": [
              "{1, 'dbv'}"
            ]
          },
          "execution_count": 101,
          "metadata": {
            "tags": []
          },
          "output_type": "execute_result"
        }
      ],
      "source": [
        "s = {1, \"dbv\"}\n",
        "s"
      ]
    },
    {
      "cell_type": "markdown",
      "metadata": {
        "id": "q2HkKdPx4aS0"
      },
      "source": [
        "## dictionnaire (hashmap)\n",
        "ensemble de cle: valeur"
      ]
    },
    {
      "cell_type": "code",
      "execution_count": null,
      "metadata": {
        "colab": {
          "base_uri": "https://localhost:8080/"
        },
        "id": "MiSsEU5M4ds1",
        "outputId": "8708bd19-04f5-42c1-e19b-d53ef619131f",
        "vscode": {
          "languageId": "python"
        }
      },
      "outputs": [
        {
          "name": "stdout",
          "output_type": "stream",
          "text": [
            "3 trois\n"
          ]
        }
      ],
      "source": [
        "x = {1: 3, \"v2\": 2, \"3\": \"trois\"}\n",
        "print(x[1],x['3'])"
      ]
    },
    {
      "cell_type": "code",
      "execution_count": null,
      "metadata": {
        "colab": {
          "base_uri": "https://localhost:8080/",
          "height": 184
        },
        "id": "GYQ5zySx4t24",
        "outputId": "af26ea0a-c2c1-4f5a-8188-e7c0abb5d5c5",
        "vscode": {
          "languageId": "python"
        }
      },
      "outputs": [
        {
          "ename": "KeyError",
          "evalue": "ignored",
          "output_type": "error",
          "traceback": [
            "\u001b[0;31m---------------------------------------------------------------------------\u001b[0m",
            "\u001b[0;31mKeyError\u001b[0m                                  Traceback (most recent call last)",
            "\u001b[0;32m<ipython-input-34-47068ebd7224>\u001b[0m in \u001b[0;36m<module>\u001b[0;34m()\u001b[0m\n\u001b[1;32m      1\u001b[0m \u001b[0;31m# mais pas\u001b[0m\u001b[0;34m\u001b[0m\u001b[0;34m\u001b[0m\u001b[0;34m\u001b[0m\u001b[0m\n\u001b[0;32m----> 2\u001b[0;31m \u001b[0mprint\u001b[0m\u001b[0;34m(\u001b[0m\u001b[0mx\u001b[0m\u001b[0;34m[\u001b[0m\u001b[0;34m'1'\u001b[0m\u001b[0;34m]\u001b[0m\u001b[0;34m,\u001b[0m\u001b[0mx\u001b[0m\u001b[0;34m[\u001b[0m\u001b[0;36m3\u001b[0m\u001b[0;34m]\u001b[0m\u001b[0;34m)\u001b[0m\u001b[0;34m\u001b[0m\u001b[0;34m\u001b[0m\u001b[0m\n\u001b[0m",
            "\u001b[0;31mKeyError\u001b[0m: '1'"
          ]
        }
      ],
      "source": [
        "# mais pas\n",
        "print(x['1'],x[3])"
      ]
    },
    {
      "cell_type": "code",
      "execution_count": null,
      "metadata": {
        "colab": {
          "base_uri": "https://localhost:8080/"
        },
        "id": "c4ydorN85Tbj",
        "outputId": "b19ecaab-ce55-44c5-aa8e-4b7e0fe10330",
        "vscode": {
          "languageId": "python"
        }
      },
      "outputs": [
        {
          "data": {
            "text/plain": [
              "{1: 3, '3': 'trois', 'titi': 10, 'v2': 2}"
            ]
          },
          "execution_count": 36,
          "metadata": {
            "tags": []
          },
          "output_type": "execute_result"
        }
      ],
      "source": [
        "x['titi']=10\n",
        "x"
      ]
    },
    {
      "cell_type": "markdown",
      "metadata": {
        "id": "VhLsujEkrFhr"
      },
      "source": [
        "D'après le résulat, vous en déduisez quoi?"
      ]
    },
    {
      "cell_type": "code",
      "execution_count": null,
      "metadata": {
        "colab": {
          "base_uri": "https://localhost:8080/"
        },
        "id": "QK2rRM0hrY4U",
        "outputId": "90e8b7e9-01c8-4835-cfdb-2d131da27b08",
        "vscode": {
          "languageId": "python"
        }
      },
      "outputs": [
        {
          "name": "stdout",
          "output_type": "stream",
          "text": [
            "139629966384296\n",
            "139629965367472\n",
            "139629966506504\n",
            "139629965521128\n"
          ]
        }
      ],
      "source": [
        "#avec des strings ou des tuples\n",
        "prenom = 'Pierre'\n",
        "print(id(prenom))\n",
        "prenom += ' Dupont'\n",
        "print(id(prenom))\n",
        "\n",
        "t1 = (1,2)\n",
        "print(id(t1))\n",
        "t1 += (3,4)\n",
        "print(id(t1))"
      ]
    },
    {
      "cell_type": "code",
      "execution_count": null,
      "metadata": {
        "colab": {
          "base_uri": "https://localhost:8080/"
        },
        "id": "sqQIRzDpsGdK",
        "outputId": "f55edb00-875e-4708-a200-7854f1576dbe",
        "vscode": {
          "languageId": "python"
        }
      },
      "outputs": [
        {
          "name": "stdout",
          "output_type": "stream",
          "text": [
            "[1, 2, 3] None [1, 2, 3, 3]\n"
          ]
        }
      ],
      "source": [
        "l=[1,2]\n",
        "l1 = l.append(3)\n",
        "l2 = l + [3]\n",
        "print(l,l1,l2)"
      ]
    },
    {
      "cell_type": "markdown",
      "metadata": {
        "id": "KZPh3P4h8yVp"
      },
      "source": [
        "### parcour d'itérable avec for"
      ]
    },
    {
      "cell_type": "code",
      "execution_count": null,
      "metadata": {
        "colab": {
          "base_uri": "https://localhost:8080/"
        },
        "id": "-epO2oVf8xeG",
        "outputId": "60e35190-65da-4048-f25e-beca73043f15",
        "vscode": {
          "languageId": "python"
        }
      },
      "outputs": [
        {
          "name": "stdout",
          "output_type": "stream",
          "text": [
            "a b c d "
          ]
        }
      ],
      "source": [
        "for c in \"abcd\":\n",
        "  print(c, end=' ')\n"
      ]
    },
    {
      "cell_type": "code",
      "execution_count": null,
      "metadata": {
        "colab": {
          "base_uri": "https://localhost:8080/"
        },
        "id": "XjJfk_xl9EtC",
        "outputId": "77a79a5a-9247-4312-b55d-5ebd8192855a",
        "vscode": {
          "languageId": "python"
        }
      },
      "outputs": [
        {
          "name": "stdout",
          "output_type": "stream",
          "text": [
            "1 2 3 4 "
          ]
        }
      ],
      "source": [
        "for c in [1,2,3,4]:\n",
        "  print(c, end=' ')"
      ]
    },
    {
      "cell_type": "code",
      "execution_count": null,
      "metadata": {
        "colab": {
          "base_uri": "https://localhost:8080/"
        },
        "id": "K4wnHsPT9E50",
        "outputId": "b37e86ec-c6ad-4959-b2c6-d389fdfc3a0d",
        "vscode": {
          "languageId": "python"
        }
      },
      "outputs": [
        {
          "name": "stdout",
          "output_type": "stream",
          "text": [
            "1 2 3 4 "
          ]
        }
      ],
      "source": [
        "for c in (1,2,3,4):\n",
        "  print(c, end=' ')"
      ]
    },
    {
      "cell_type": "code",
      "execution_count": null,
      "metadata": {
        "colab": {
          "base_uri": "https://localhost:8080/"
        },
        "id": "zhgmkqEK9NiS",
        "outputId": "5e366595-7d0d-4fd7-ffcb-08f25a077d39",
        "vscode": {
          "languageId": "python"
        }
      },
      "outputs": [
        {
          "name": "stdout",
          "output_type": "stream",
          "text": [
            "1 2 3 4 "
          ]
        }
      ],
      "source": [
        "for c in {4,3,2,1}:\n",
        "  print(c, end=' ')"
      ]
    },
    {
      "cell_type": "code",
      "execution_count": null,
      "metadata": {
        "colab": {
          "base_uri": "https://localhost:8080/"
        },
        "id": "9oecT9oL9Vh1",
        "outputId": "0568fd47-806e-485f-8a0a-9fecbde81668",
        "vscode": {
          "languageId": "python"
        }
      },
      "outputs": [
        {
          "name": "stdout",
          "output_type": "stream",
          "text": [
            "1 -> 3 . v2 -> 2 . 3 -> trois . "
          ]
        }
      ],
      "source": [
        "d = {1: 3, \"v2\": 2, \"3\": \"trois\"}\n",
        "for cle in d:\n",
        "  print(cle, d[cle], sep=\" -> \", end=' . ')"
      ]
    },
    {
      "cell_type": "code",
      "execution_count": null,
      "metadata": {
        "colab": {
          "base_uri": "https://localhost:8080/"
        },
        "id": "2J6ggirI94wA",
        "outputId": "a01ae768-6517-4c29-fe83-7a01810034b4",
        "vscode": {
          "languageId": "python"
        }
      },
      "outputs": [
        {
          "name": "stdout",
          "output_type": "stream",
          "text": [
            "(1, 3) . ('v2', 2) . ('3', 'trois') . "
          ]
        }
      ],
      "source": [
        "for i in d.items():\n",
        "  print(i, end=' . ')"
      ]
    },
    {
      "cell_type": "markdown",
      "metadata": {
        "id": "MGbWWB0PD_3p"
      },
      "source": [
        "## Les opérateurs\n",
        "* Arithmétique: +, -, *, /, %, **, // \n",
        "* de comparaison: ==, !=, >, <, >=, <=\n",
        "* logique: and, or, not\n",
        "* d’appartenance: in, not in\n",
        "* binaire: &, |, ^, ~, <<, >>\n"
      ]
    },
    {
      "cell_type": "code",
      "execution_count": null,
      "metadata": {
        "colab": {
          "base_uri": "https://localhost:8080/"
        },
        "id": "TaFHRk_bnzUN",
        "outputId": "e67fa77e-6d3e-4da3-fccd-0e37ae3b0fea",
        "vscode": {
          "languageId": "python"
        }
      },
      "outputs": [
        {
          "data": {
            "text/plain": [
              "False"
            ]
          },
          "execution_count": 1,
          "metadata": {
            "tags": []
          },
          "output_type": "execute_result"
        }
      ],
      "source": [
        "True and False"
      ]
    },
    {
      "cell_type": "code",
      "execution_count": null,
      "metadata": {
        "colab": {
          "base_uri": "https://localhost:8080/"
        },
        "id": "1Grg2YDUoBW1",
        "outputId": "01701402-8eb5-4bae-8fdf-f84e03675abb",
        "vscode": {
          "languageId": "python"
        }
      },
      "outputs": [
        {
          "data": {
            "text/plain": [
              "True"
            ]
          },
          "execution_count": 2,
          "metadata": {
            "tags": []
          },
          "output_type": "execute_result"
        }
      ],
      "source": [
        "not False"
      ]
    },
    {
      "cell_type": "code",
      "execution_count": null,
      "metadata": {
        "colab": {
          "base_uri": "https://localhost:8080/"
        },
        "id": "h1QFfdkpoFgS",
        "outputId": "81fe90c5-8344-487e-b179-954bbbe6648f",
        "vscode": {
          "languageId": "python"
        }
      },
      "outputs": [
        {
          "data": {
            "text/plain": [
              "True"
            ]
          },
          "execution_count": 3,
          "metadata": {
            "tags": []
          },
          "output_type": "execute_result"
        }
      ],
      "source": [
        "10 and True"
      ]
    },
    {
      "cell_type": "code",
      "execution_count": null,
      "metadata": {
        "colab": {
          "base_uri": "https://localhost:8080/"
        },
        "id": "M3a-GYSYoKC7",
        "outputId": "c05d76ff-6d2c-4bf0-ceb2-30264d6496de",
        "vscode": {
          "languageId": "python"
        }
      },
      "outputs": [
        {
          "data": {
            "text/plain": [
              "0"
            ]
          },
          "execution_count": 4,
          "metadata": {
            "tags": []
          },
          "output_type": "execute_result"
        }
      ],
      "source": [
        "0 and True"
      ]
    },
    {
      "cell_type": "code",
      "execution_count": null,
      "metadata": {
        "colab": {
          "base_uri": "https://localhost:8080/"
        },
        "id": "3kETGRXYoTU6",
        "outputId": "a978c4bb-ec0b-4f4b-ea83-ea4649e63b94",
        "vscode": {
          "languageId": "python"
        }
      },
      "outputs": [
        {
          "data": {
            "text/plain": [
              "True"
            ]
          },
          "execution_count": 5,
          "metadata": {
            "tags": []
          },
          "output_type": "execute_result"
        }
      ],
      "source": [
        "3 in [1,3,10]"
      ]
    },
    {
      "cell_type": "code",
      "execution_count": null,
      "metadata": {
        "colab": {
          "base_uri": "https://localhost:8080/"
        },
        "id": "63vtpK9zoqKD",
        "outputId": "3310c4ec-e28b-4785-9d7c-65a7e8f04a67",
        "vscode": {
          "languageId": "python"
        }
      },
      "outputs": [
        {
          "data": {
            "text/plain": [
              "16"
            ]
          },
          "execution_count": 6,
          "metadata": {
            "tags": []
          },
          "output_type": "execute_result"
        }
      ],
      "source": [
        "2**4"
      ]
    }
  ]
}