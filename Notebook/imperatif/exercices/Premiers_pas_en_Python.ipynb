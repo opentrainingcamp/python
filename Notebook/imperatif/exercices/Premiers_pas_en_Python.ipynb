{
  "nbformat": 4,
  "nbformat_minor": 0,
  "metadata": {
    "colab": {
      "name": "Premiers pas en Python.ipynb",
      "provenance": [],
      "authorship_tag": "ABX9TyNHCeKHMnj7sYik+D0T7UDZ",
      "include_colab_link": true
    },
    "kernelspec": {
      "name": "python3",
      "display_name": "Python 3"
    },
    "language_info": {
      "name": "python"
    }
  },
  "cells": [
    {
      "cell_type": "markdown",
      "metadata": {
        "id": "view-in-github",
        "colab_type": "text"
      },
      "source": [
        "<a href=\"https://colab.research.google.com/github/opentrainingcamp/python/blob/main/Notebook/imperatif/exercices/Premiers_pas_en_Python.ipynb\" target=\"_parent\"><img src=\"https://colab.research.google.com/assets/colab-badge.svg\" alt=\"Open In Colab\"/></a>"
      ]
    },
    {
      "cell_type": "markdown",
      "source": [
        "## Exercice 1 : formule simple et arrondi\n",
        "Affectez les variables `temps` et `distance` par les valeurs `6.892` et `19.7`.\n",
        "\n",
        "Calculez et affichez la valeur de la vitesse.\n",
        "\n",
        "Améliorez l’affichage en imposant un chiffre après le point décimal.\n",
        "\n",
        "> Indications: \n",
        "* distance = vitesse * temps\n",
        "* utiliser `round`. Pour savoir utiliser round faite `help(round)`   "
      ],
      "metadata": {
        "id": "j6mAJ8gdC3Ff"
      }
    },
    {
      "cell_type": "code",
      "execution_count": null,
      "metadata": {
        "id": "ztbKcrerCyN-"
      },
      "outputs": [],
      "source": [
        "#@title Solution\n",
        "temps = 6.892\n",
        "distance = 19.7\n",
        "vitesse = distance / temps\n",
        "print(vitesse)\n",
        "print(round(vitesse,1))"
      ]
    },
    {
      "cell_type": "markdown",
      "source": [
        "## Exercice 2 : Condition\n",
        "Saisir un nombre avec la fonction input, si le nombre saisi n'est positif écrire positif<n>, si le nombre n'est négatif exrire négatif<n> \n",
        "\n",
        "Exemple \n",
        "* 10   => positif<10>\n",
        "* -10 => négatif<10>\n",
        "\n",
        "> indications:\n",
        "* input renvoit toujours une chaine, transformer la chaine en nombre avec le transformateur du type adéquoi int ou float\n",
        "* Vous pouvez utiliser les \"formated string\" pour l'affichage"
      ],
      "metadata": {
        "id": "Hj13DSGyQ5bW"
      }
    },
    {
      "cell_type": "code",
      "source": [
        "#@title Solution\n",
        "textn = input(\"Saisir un nombre entier > \")\n",
        "n = int(textn)\n",
        "if (n<0):\n",
        "  print(f\"NEGATIF<{-n}>\")\n",
        "else:\n",
        "  print(f\"POSITIF<{n}>\")\n"
      ],
      "metadata": {
        "id": "V08zS2O5Sd-3"
      },
      "execution_count": null,
      "outputs": []
    },
    {
      "cell_type": "markdown",
      "source": [
        "## Exercice 3 utilisation d'une librairie (package)\n",
        "Écrire un programme qui, à partir de la saisie d'un rayon et d'une hauteur, calcule le volume d'un cône droit.\n",
        "\n",
        "<img height=\"200\" src=\"https://github.com/opentrainingcamp/python/raw/main/imgs/cone.png\" />\n",
        "\n",
        "> Indications:\n",
        "* $volume = \\frac{\\pi * r^2 * H}{3}$\n",
        "* Vous pouvez utiliser l'opérateur ** pour élevé à la puissance"
      ],
      "metadata": {
        "id": "6R0QbHrUFbUf"
      }
    },
    {
      "cell_type": "code",
      "source": [
        "#@title Une solution\n",
        "r = int(input(\"Entrez un rayon \"))\n",
        "H = int(input(\"Entrez une hauteur\"))\n",
        "volume = (3.14 * r**2 * H) / 3\n",
        "print(volume)\n"
      ],
      "metadata": {
        "id": "M8YPT3plKcZN",
        "outputId": "8ad06dbc-d294-432d-b223-97f2574811d1",
        "colab": {
          "base_uri": "https://localhost:8080/"
        }
      },
      "execution_count": 1,
      "outputs": [
        {
          "output_type": "stream",
          "name": "stdout",
          "text": [
            "Entrez un rayon 1\n",
            "Entrez une hauteur1\n",
            "1.0466666666666666\n"
          ]
        }
      ]
    },
    {
      "cell_type": "code",
      "source": [
        "#@title Une autre solution\n",
        "# utilisation de la librairie math\n",
        "import math\n",
        "r = int(input(\"Entrez un rayon \"))\n",
        "H = int(input(\"Entrez une hauteur\"))\n",
        "volume = (math.pi * math.pow(r,2) * H) / 3\n",
        "print(volume)"
      ],
      "metadata": {
        "id": "1hnOVLtdK9gi",
        "outputId": "187993d1-7015-4ff1-f3de-80dd18100a05",
        "colab": {
          "base_uri": "https://localhost:8080/"
        }
      },
      "execution_count": 2,
      "outputs": [
        {
          "output_type": "stream",
          "name": "stdout",
          "text": [
            "Entrez un rayon 1\n",
            "Entrez une hauteur1\n",
            "1.0471975511965976\n"
          ]
        }
      ]
    },
    {
      "cell_type": "markdown",
      "source": [
        "## Exercice 4 Boucle\n",
        "Entrez un prix HT (entrez 0 pour terminer) et affichez sa valeur TTC. Considérer par exemple que la TVA est de 10%"
      ],
      "metadata": {
        "id": "5tFBtzvYMQit"
      }
    },
    {
      "cell_type": "code",
      "source": [
        "#@title une solution\n",
        "tva = 10 / 100\n",
        "prixht = float(input(\"Saisir un prix HT \"))\n",
        "while (prixht > 0):\n",
        "  prixttc = prixht * (1 + tva)\n",
        "  print(f\"Prix HT={prixht} prix TTC={prixttc}\")\n",
        "  prixht = float(input(\"Saisir un prix HT \"))"
      ],
      "metadata": {
        "id": "Ux86rxmUMa7P",
        "outputId": "829bcc31-0f83-43ff-a391-f517c2f19f50",
        "colab": {
          "base_uri": "https://localhost:8080/"
        }
      },
      "execution_count": 3,
      "outputs": [
        {
          "name": "stdout",
          "output_type": "stream",
          "text": [
            "Saisir un prix HT 100\n",
            "Prix HT=100.0 prix TTC=110.00000000000001\n",
            "Saisir un prix HT 101\n",
            "Prix HT=101.0 prix TTC=111.10000000000001\n",
            "Saisir un prix HT 0\n"
          ]
        }
      ]
    },
    {
      "cell_type": "code",
      "source": [
        "#@title une solution\n",
        "tva = 10 \n",
        "prixht = float(input(\"Saisir un prix HT \"))\n",
        "while (prixht > 0):\n",
        "  prixttc = (prixht * (100 + tva)) / 100\n",
        "  print(f\"Prix HT={prixht} prix TTC={prixttc}\")\n",
        "  prixht = float(input(\"Saisir un prix HT \"))"
      ],
      "metadata": {
        "id": "zXmU-5HrN2el",
        "outputId": "870e8de5-2e03-4fbc-80df-a19fb6785b5b",
        "colab": {
          "base_uri": "https://localhost:8080/"
        }
      },
      "execution_count": 4,
      "outputs": [
        {
          "name": "stdout",
          "output_type": "stream",
          "text": [
            "Saisir un prix HT 100\n",
            "Prix HT=100.0 prix TTC=110.0\n",
            "Saisir un prix HT 1001\n",
            "Prix HT=1001.0 prix TTC=1101.1\n",
            "Saisir un prix HT 0\n"
          ]
        }
      ]
    }
  ]
}