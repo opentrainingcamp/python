{
  "nbformat": 4,
  "nbformat_minor": 0,
  "metadata": {
    "colab": {
      "name": "Premiers pas en Python.ipynb",
      "provenance": [],
      "authorship_tag": "ABX9TyOBF8j/pqL0+RUF1dUK1bs4",
      "include_colab_link": true
    },
    "kernelspec": {
      "name": "python3",
      "display_name": "Python 3"
    },
    "language_info": {
      "name": "python"
    }
  },
  "cells": [
    {
      "cell_type": "markdown",
      "metadata": {
        "id": "view-in-github",
        "colab_type": "text"
      },
      "source": [
        "<a href=\"https://colab.research.google.com/github/opentrainingcamp/python/blob/main/Notebook/imperatif/exercices/Premiers_pas_en_Python.ipynb\" target=\"_parent\"><img src=\"https://colab.research.google.com/assets/colab-badge.svg\" alt=\"Open In Colab\"/></a>"
      ]
    },
    {
      "cell_type": "markdown",
      "source": [
        "## Exercice 1 : formule simple et arrondi\n",
        "Affectez les variables `temps` et `distance` par les valeurs `6.892` et `19.7`.\n",
        "\n",
        "Calculez et affichez la valeur de la vitesse.\n",
        "\n",
        "Améliorez l’affichage en imposant un chiffre après le point décimal.\n",
        "\n",
        "> Indications: \n",
        "* distance = vitesse * temps\n",
        "* utiliser `round`. Pour savoir utiliser round faite `help(round)`   "
      ],
      "metadata": {
        "id": "j6mAJ8gdC3Ff"
      }
    },
    {
      "cell_type": "code",
      "execution_count": null,
      "metadata": {
        "id": "ztbKcrerCyN-"
      },
      "outputs": [],
      "source": [
        "#@title Solution\n",
        "temps = 6.892\n",
        "distance = 19.7\n",
        "vitesse = distance / temps\n",
        "print(vitesse)\n",
        "print(round(vitesse,1))"
      ]
    },
    {
      "cell_type": "markdown",
      "source": [
        "## Exercice 2 : Condition\n",
        "Saisir un nombre avec la fonction input, si le nombre saisi n'est positif écrire positif<n>, si le nombre n'est négatif exrire négatif<n> \n",
        "\n",
        "Exemple \n",
        "* 10   => positif<10>\n",
        "* -10 => négatif<10>\n",
        "\n",
        "> indications:\n",
        "* input renvoit toujours une chaine, transformer la chaine en nombre avec le transformateur du type adéquoi int ou float\n",
        "* Vous pouvez utiliser les \"formated string\" pour l'affichage"
      ],
      "metadata": {
        "id": "Hj13DSGyQ5bW"
      }
    },
    {
      "cell_type": "code",
      "source": [
        "#@title Solution\n",
        "textn = input(\"Saisir un nombre entier > \")\n",
        "n = int(textn)\n",
        "if (n<0):\n",
        "  print(f\"NEGATIF<{-n}>\")\n",
        "else:\n",
        "  print(f\"POSITIF<{n}>\")\n"
      ],
      "metadata": {
        "id": "V08zS2O5Sd-3"
      },
      "execution_count": null,
      "outputs": []
    }
  ]
}