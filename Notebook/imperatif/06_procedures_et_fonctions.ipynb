{
  "nbformat": 4,
  "nbformat_minor": 0,
  "metadata": {
    "colab": {
      "name": "06_procedures_et_fonctions.ipynb",
      "provenance": [],
      "collapsed_sections": [],
      "include_colab_link": true
    },
    "kernelspec": {
      "name": "python3",
      "display_name": "Python 3"
    }
  },
  "cells": [
    {
      "cell_type": "markdown",
      "metadata": {
        "id": "view-in-github",
        "colab_type": "text"
      },
      "source": [
        "<a href=\"https://colab.research.google.com/github/opentrainingcamp/python/blob/main/Notebook/imperatif/06_procedures_et_fonctions.ipynb\" target=\"_parent\"><img src=\"https://colab.research.google.com/assets/colab-badge.svg\" alt=\"Open In Colab\"/></a>"
      ]
    },
    {
      "cell_type": "markdown",
      "metadata": {
        "id": "1haxhObJ-JRH"
      },
      "source": [
        "## Procédure et fonctions\n",
        "* Structurer un programme en un ensemble de procédures ou de fonctions, issues du raffinage.\n",
        "* Factoriser des parties de code semblables.\n",
        "* Ensemble de fonctions pour définir de nouvelle expression ou opérations élémentaires: Des fonctions dans une librairie (exemple  tri, les fonctions mathématique, statistique, toutes vos fonctions précédemment réalisées et réutilisables, etc…\n",
        "* Procédure ne retourne pas de valeurs (pas de résultat) pour définir une nouvelle instruction (modifie l’état du programme) : exemple print()\n",
        "En Python (comme en C , Java, …) \n",
        "\n",
        "En Python une procédure est une fonction qui retourne None. et modifie quelques chose\n"
      ]
    },
    {
      "cell_type": "markdown",
      "metadata": {
        "id": "e6iMRD7by52r"
      },
      "source": [
        "# Procédures et fonctions\n",
        "* Une procédure modifie l'état, et en principe ne retourne pas de valeurs\n",
        "* Une fonction est une expression\n",
        "## Ainsi\n",
        "* La procédure, pour pouvoir modifier l'état doit prendre en paramètres des objets mutables et les modifier, ou modifier une donnée globale, ce qui est en général assez dangereux...\n",
        "* La fonction prend tout type de paramètres (de préférence immutable) et les transforme en en créant de nouvelles\n",
        "\n"
      ]
    },
    {
      "cell_type": "markdown",
      "metadata": {
        "id": "-Edi6xKH-oCj"
      },
      "source": [
        "## Fonctions\n",
        "Une fonction est une relation entre un élément d’un ensemble de départ vers un élément unique d’un ensemble d’arrivé \n",
        "exemple:\n",
        ">     plus : NxN → N\n",
        ">           (x,y) → x+y\n",
        "\n",
        "L’algorithmique: Partant de la spécification ou définition d’une fonction f, écrire un ou plusieurs algorithmes décrivant les étapes de calcul de f(x) et prouver que ces algorithmes sont corrects\n",
        "\n",
        "En C par exemple tout est fonction, en java tout est méthodes \n",
        "en Python nous verrons on peut faire un peu de tout!\n"
      ]
    },
    {
      "cell_type": "markdown",
      "metadata": {
        "id": "ME8O2V79_IKH"
      },
      "source": [
        "## Procédure? Paramètres de fonctions\n",
        "Une procédure est une sorte de fonction sans résultat! Si des résultats sont calculés on doit trouver un moyen en modifiant l’environnement (l’état) => instruction\n",
        "\n",
        "Les paramètres de fonctions ou procédure figurant dans l’en-tête d’une fonction se nomment des “paramètres muets” (ou encore “paramètres formels”). Leur rôle est de permettre, au sein du corps de la fonction, de décrire ce qu’elle doit faire. Leur portée est limitée à la définition de la fonction concernée ; ils n’entrent donc pas en conflit avec d’éventuelles variables locales à d’autres fonctions\n",
        "\n",
        "par exemple en C int f(int x) … En Python def f(x): ...\n"
      ]
    },
    {
      "cell_type": "markdown",
      "metadata": {
        "id": "xIY0WBO7_Y5c"
      },
      "source": [
        "## L’appel de fonction, type de paramètres\n",
        "Les paramètres fournis lors de l’utilisation (l’appel) de la fonction se nomment des “paramètres effectifs”.\n",
        "\n",
        "Les “paramètres effectifs” sont  transmis aux “paramètres formels” de 2 moyens\n",
        "* Par valeur\n",
        "* Ou par référence \n",
        "\n",
        "\n",
        "\n"
      ]
    },
    {
      "cell_type": "markdown",
      "metadata": {
        "id": "-oiuFosY_4Rv"
      },
      "source": [
        "## En Python : On crée une fonction selon le schéma suivant : (il existe d'autres schémas que nous verrons plus tard)\n",
        "\n",
        "```python\n",
        "def nom_de_la_fonction(parametre1, parametre2, parametre3, parametreN):\n",
        "    # Bloc d'instructions\n",
        "```\n",
        "\n",
        "* **def**, mot-clé qui est l'abréviation de « define » (définir, en anglais) et qui constitue le prélude à toute construction de fonction.\n",
        "\n",
        "* **Le nom de la fonction**, qui se nomme exactement comme une variable (nous verrons par la suite que ce n'est pas par hasard). N'utilisez pas un nom de variable déjà instanciée pour nommer une fonction.\n",
        "\n",
        "* **La liste des paramètres** qui seront fournis lors d'un appel à la fonction. \n",
        "Les paramètres sont séparés par des virgules et la liste est encadrée par des parenthèses ouvrante et fermante (les espaces sont optionnels mais améliorent la lisibilité).\n",
        "\n",
        "**Les deux points**, encore et toujours, qui clôturent la ligne.\n",
        "\n"
      ]
    },
    {
      "cell_type": "markdown",
      "metadata": {
        "id": "qcM-7QA7AT9q"
      },
      "source": [
        "## Avec Python les paramètres leur passages est plus subtile\n",
        "* En C tout les passages sont par valeur \n",
        "* En Java les types primitifs sont par valeur, les objets par référence\n",
        "* En Python tout est par référence! En fait car tout est objet!\n",
        "\n",
        "Mais avec Python certaines données sont immutable et d’autre mutable\n"
      ]
    },
    {
      "cell_type": "code",
      "metadata": {
        "colab": {
          "base_uri": "https://localhost:8080/"
        },
        "id": "aIEfAb3tUth_",
        "outputId": "164d275e-9e9e-4cdc-ce7a-6d7570d2079d"
      },
      "source": [
        "print(type(2))"
      ],
      "execution_count": null,
      "outputs": [
        {
          "output_type": "stream",
          "text": [
            "<class 'int'>\n"
          ],
          "name": "stdout"
        }
      ]
    },
    {
      "cell_type": "code",
      "metadata": {
        "colab": {
          "base_uri": "https://localhost:8080/"
        },
        "id": "1kGBOP2FUyrP",
        "outputId": "0c537336-4e48-46c5-8626-2343bd822092"
      },
      "source": [
        "x = 2\n",
        "print(id(x), id(2))"
      ],
      "execution_count": null,
      "outputs": [
        {
          "output_type": "stream",
          "text": [
            "10914528 10914528\n"
          ],
          "name": "stdout"
        }
      ]
    },
    {
      "cell_type": "code",
      "metadata": {
        "colab": {
          "base_uri": "https://localhost:8080/"
        },
        "id": "Rl2uO94LU91h",
        "outputId": "09778186-77cf-4b1a-f62e-a4b5fb9cb277"
      },
      "source": [
        "x = 3\n",
        "print(id(x))"
      ],
      "execution_count": null,
      "outputs": [
        {
          "output_type": "stream",
          "text": [
            "10914560\n"
          ],
          "name": "stdout"
        }
      ]
    },
    {
      "cell_type": "code",
      "metadata": {
        "colab": {
          "base_uri": "https://localhost:8080/"
        },
        "id": "iM7073MlVJRp",
        "outputId": "d14662ee-011d-4520-a0ab-2c0d12006503"
      },
      "source": [
        "l = [1, 2]\n",
        "print(id(l))"
      ],
      "execution_count": null,
      "outputs": [
        {
          "output_type": "stream",
          "text": [
            "140644153107784\n"
          ],
          "name": "stdout"
        }
      ]
    },
    {
      "cell_type": "code",
      "metadata": {
        "colab": {
          "base_uri": "https://localhost:8080/"
        },
        "id": "XqawMI0FVOHw",
        "outputId": "ae17f671-3dd1-419b-eafd-78ebe8fe5e43"
      },
      "source": [
        "l[0]=100\n",
        "print(l, id(l))"
      ],
      "execution_count": null,
      "outputs": [
        {
          "output_type": "stream",
          "text": [
            "[100, 2] 140644153107784\n"
          ],
          "name": "stdout"
        }
      ]
    },
    {
      "cell_type": "code",
      "metadata": {
        "colab": {
          "base_uri": "https://localhost:8080/"
        },
        "id": "cSCRG3pa5J6_",
        "outputId": "c1c7ab1d-cc72-40b0-b74c-717cf9ede34f"
      },
      "source": [
        "def ma_fonction(dans_fonction):\n",
        "    print('dans ma_fonction', dans_fonction , id(dans_fonction))\n",
        "\n",
        "\n",
        "dans_appelant = [\"texte\"]\n",
        "print('dans appelant ', dans_appelant, id(dans_appelant))\n",
        "ma_fonction(dans_appelant)\n",
        "\n",
        "\n",
        "dans_appelant = 2\n",
        "print('dans appelant ', dans_appelant, id(dans_appelant))\n",
        "ma_fonction(dans_appelant)"
      ],
      "execution_count": null,
      "outputs": [
        {
          "output_type": "stream",
          "text": [
            "dans appelant  ['texte'] 140644153348232\n",
            "dans ma_fonction ['texte'] 140644153348232\n",
            "dans appelant  2 10914528\n",
            "dans ma_fonction 2 10914528\n"
          ],
          "name": "stdout"
        }
      ]
    },
    {
      "cell_type": "code",
      "metadata": {
        "colab": {
          "base_uri": "https://localhost:8080/"
        },
        "id": "aurH8_MtWb8g",
        "outputId": "fca1094b-9a27-4131-bd3a-f2242cbe8833"
      },
      "source": [
        "def ma_proc(dans_fonction):\n",
        "    dans_fonction[0] = 10\n",
        "    print('dans ma_proc', dans_proc , id(dans_proc))\n",
        "\n",
        "\n",
        "dans_proc = [\"texte\"]\n",
        "print('dans appelant ', dans_appelant, id(dans_appelant))\n",
        "ma_fonction(dans_appelant)\n",
        "\n",
        "print(dans_appelant)\n",
        "print(\"Appel de =\", ma_fonction(dans_appelant))\n",
        "\n"
      ],
      "execution_count": null,
      "outputs": [
        {
          "output_type": "stream",
          "text": [
            "dans appelant  ['texte'] 140644153473864\n",
            "dans ma_fonction [10] 140644153473864\n",
            "[10]\n",
            "dans ma_fonction [10] 140644153473864\n",
            "Appel de = None\n"
          ],
          "name": "stdout"
        }
      ]
    },
    {
      "cell_type": "code",
      "metadata": {
        "colab": {
          "base_uri": "https://localhost:8080/"
        },
        "id": "Xc8CpdRSXQTt",
        "outputId": "e13f04b6-c6c4-48bb-b0cc-36be55e07d96"
      },
      "source": [
        "def une_proc(x):\n",
        "  print('dans procedure AVANT AFFECTATIN', x, id(x))\n",
        "  x  = x +10\n",
        "  print('dans procedure APRÈS', x, id(x))\n",
        "\n",
        "y = 20\n",
        "une_proc(y)\n",
        "print('appel ', y, id(y))"
      ],
      "execution_count": null,
      "outputs": [
        {
          "output_type": "stream",
          "text": [
            "dans procedure AVANT AFFECTATIN 20 10915104\n",
            "dans procedure APRÈS 30 10915424\n",
            "appel  20 10915104\n"
          ],
          "name": "stdout"
        }
      ]
    },
    {
      "cell_type": "markdown",
      "metadata": {
        "id": "wSZtf8WXAgFv"
      },
      "source": [
        "## Procédures et Appel de procédures, cas Python\n",
        "En plus des conditions et répétition, l’appel de procédures permet de structurer et factoriser les algorithmes. Correspond à un élément de raffinage.\n",
        "\n",
        "En python tout sous-programme est fonction ou procedure, donc\n",
        "Si pas de résultat (procedure) comme dans print\n",
        "\n",
        "* réponse => None\n"
      ]
    },
    {
      "cell_type": "code",
      "metadata": {
        "id": "ULQJv1ocA3v4"
      },
      "source": [
        "def f(x,y):\n",
        "  return x+y"
      ],
      "execution_count": null,
      "outputs": []
    },
    {
      "cell_type": "code",
      "metadata": {
        "colab": {
          "base_uri": "https://localhost:8080/"
        },
        "id": "owc5bY_5BcJW",
        "outputId": "29d225ea-f41e-4008-e2c3-62433a891864"
      },
      "source": [
        "x = 2\n",
        "print(id(x))\n",
        "x = f(x,3)\n",
        "print(id(x))\n",
        "x"
      ],
      "execution_count": null,
      "outputs": [
        {
          "output_type": "stream",
          "text": [
            "10914528\n",
            "10914624\n"
          ],
          "name": "stdout"
        },
        {
          "output_type": "execute_result",
          "data": {
            "text/plain": [
              "5"
            ]
          },
          "metadata": {
            "tags": []
          },
          "execution_count": 56
        }
      ]
    },
    {
      "cell_type": "code",
      "metadata": {
        "colab": {
          "base_uri": "https://localhost:8080/",
          "height": 35
        },
        "id": "nwLZ9KqBBeSW",
        "outputId": "b0eb08db-34ab-4c23-c54c-5543d0deb0fa"
      },
      "source": [
        "f(\"ab\",\"cd\")"
      ],
      "execution_count": null,
      "outputs": [
        {
          "output_type": "execute_result",
          "data": {
            "application/vnd.google.colaboratory.intrinsic+json": {
              "type": "string"
            },
            "text/plain": [
              "'abcd'"
            ]
          },
          "metadata": {
            "tags": []
          },
          "execution_count": 57
        }
      ]
    },
    {
      "cell_type": "code",
      "metadata": {
        "colab": {
          "base_uri": "https://localhost:8080/",
          "height": 237
        },
        "id": "yL2gBdiiZOG2",
        "outputId": "69980bbe-9216-433e-8ffc-4227cf48aa1a"
      },
      "source": [
        "f(\"ab\", 2)"
      ],
      "execution_count": null,
      "outputs": [
        {
          "output_type": "error",
          "ename": "TypeError",
          "evalue": "ignored",
          "traceback": [
            "\u001b[0;31m---------------------------------------------------------------------------\u001b[0m",
            "\u001b[0;31mTypeError\u001b[0m                                 Traceback (most recent call last)",
            "\u001b[0;32m<ipython-input-58-4ec325d33cf6>\u001b[0m in \u001b[0;36m<module>\u001b[0;34m()\u001b[0m\n\u001b[0;32m----> 1\u001b[0;31m \u001b[0mf\u001b[0m\u001b[0;34m(\u001b[0m\u001b[0;34m\"ab\"\u001b[0m\u001b[0;34m,\u001b[0m \u001b[0;36m2\u001b[0m\u001b[0;34m)\u001b[0m\u001b[0;34m\u001b[0m\u001b[0;34m\u001b[0m\u001b[0m\n\u001b[0m",
            "\u001b[0;32m<ipython-input-51-7a066c9af5a1>\u001b[0m in \u001b[0;36mf\u001b[0;34m(x, y)\u001b[0m\n\u001b[1;32m      1\u001b[0m \u001b[0;32mdef\u001b[0m \u001b[0mf\u001b[0m\u001b[0;34m(\u001b[0m\u001b[0mx\u001b[0m\u001b[0;34m,\u001b[0m\u001b[0my\u001b[0m\u001b[0;34m)\u001b[0m\u001b[0;34m:\u001b[0m\u001b[0;34m\u001b[0m\u001b[0;34m\u001b[0m\u001b[0m\n\u001b[0;32m----> 2\u001b[0;31m   \u001b[0;32mreturn\u001b[0m \u001b[0mx\u001b[0m\u001b[0;34m+\u001b[0m\u001b[0my\u001b[0m\u001b[0;34m\u001b[0m\u001b[0;34m\u001b[0m\u001b[0m\n\u001b[0m",
            "\u001b[0;31mTypeError\u001b[0m: must be str, not int"
          ]
        }
      ]
    },
    {
      "cell_type": "code",
      "metadata": {
        "colab": {
          "base_uri": "https://localhost:8080/"
        },
        "id": "KRjLEDZ2Z1Re",
        "outputId": "c197dd49-d3f2-498d-8af9-1117f756ac14"
      },
      "source": [
        "for i,n in enumerate([1, 2, 3, 4]):\n",
        "  print(i, n)"
      ],
      "execution_count": null,
      "outputs": [
        {
          "output_type": "stream",
          "text": [
            "0 1\n",
            "1 2\n",
            "2 3\n",
            "3 4\n"
          ],
          "name": "stdout"
        }
      ]
    },
    {
      "cell_type": "code",
      "metadata": {
        "colab": {
          "base_uri": "https://localhost:8080/"
        },
        "id": "OlnvXy5JaJdk",
        "outputId": "da89fe4d-ce49-45f0-b634-192b8bfc922a"
      },
      "source": [
        "for n in [1, 2, 3, 4]:\n",
        "  print(n)"
      ],
      "execution_count": null,
      "outputs": [
        {
          "output_type": "stream",
          "text": [
            "1\n",
            "2\n",
            "3\n",
            "4\n"
          ],
          "name": "stdout"
        }
      ]
    },
    {
      "cell_type": "code",
      "metadata": {
        "colab": {
          "base_uri": "https://localhost:8080/"
        },
        "id": "H5QZrtyULGtN",
        "outputId": "38b97395-b7a3-4e8d-9ceb-36ddef207348"
      },
      "source": [
        "\"\"\"Exemple de sous-programme (fonction). \"\"\"\n",
        "\n",
        "print(__name__)\n",
        "\n",
        "def index(sequence, element):\n",
        "  \"\"\"Chercher l'indice de la première occurrence de 'elemnt' dans 'sequence'\n",
        "  \n",
        "  :param sequence: la séquence\n",
        "  :param element: l'élément cherché\n",
        "  :returns: l'indice de la première occurrence de 'element'\n",
        "  :raises ValueError: l'élément n'est pas dans la séquence\n",
        "  \"\"\"\n",
        "  for indice, elt in enumerate(sequence):\n",
        "    # print(indice, elt)\n",
        "    if elt == element: # On l'a trouvé !\n",
        "        return indice\n",
        "  else: # jamais trouvé. Attention ici le else pour for pas pour if!\n",
        "        raise ValueError('élement non trouvé')\n",
        "       #return 'élement non trouvé'\n",
        "\n",
        "\n",
        "if __name__ == \"__main__\": # Si Le fichier est exécuté comme programme principal \n",
        "    assert index([1, 4, 2, 6], 1) == 0\n",
        "    assert index([1, 4, 2, 6], 4) == 1\n",
        "    assert index([1, 4, 2, 6], 2) == 2\n",
        "    assert index([1, 4, 2, 6], 6) == 3\n",
        "    assert index('Bonjour', 'j') == 3\n",
        "    try:\n",
        "        ok = False\n",
        "        index([1, 4, 2, 6], 7) # doit lever ValueError\n",
        "    except ValueError:\n",
        "        ok = True\n",
        "    assert ok, \"l'exception ValueError aurait dû se produire !\"\n"
      ],
      "execution_count": null,
      "outputs": [
        {
          "output_type": "stream",
          "text": [
            "__main__\n"
          ],
          "name": "stdout"
        }
      ]
    },
    {
      "cell_type": "code",
      "metadata": {
        "id": "IpEI6vBQLzZU"
      },
      "source": [
        "help(enumerate)"
      ],
      "execution_count": null,
      "outputs": []
    },
    {
      "cell_type": "markdown",
      "metadata": {
        "id": "lJOTv-6aL04n"
      },
      "source": [
        "### L'influance de l'immutabilité par l'exemple: Objectif écrire une procedure  swap\n",
        "on souhaite si x et y deux nom de valeurs qu'en faisant swap(x,y) on ai x=val(y) et y = val(x)\n"
      ]
    },
    {
      "cell_type": "code",
      "metadata": {
        "colab": {
          "base_uri": "https://localhost:8080/"
        },
        "id": "Aa7pDX0KMbfp",
        "outputId": "483847c9-4f69-4b39-a75c-4708fff76939"
      },
      "source": [
        "# Nous avions vu qu'on pourrait utiliser l'affectation parallele\n",
        "\n",
        "# Déclaration des variable\n",
        "x = 10\n",
        "y = 20\n",
        "\n",
        "print(\"Avant\", x, y)\n",
        "\n",
        "x,y=y,x\n",
        "\n",
        "print(\"Après\", x, y)"
      ],
      "execution_count": null,
      "outputs": [
        {
          "output_type": "stream",
          "text": [
            "Avant 10 20\n",
            "Après 20 10\n"
          ],
          "name": "stdout"
        }
      ]
    },
    {
      "cell_type": "markdown",
      "metadata": {
        "id": "oBcwWrP0M8lR"
      },
      "source": [
        "Analysons un peu, pour voir ce qui c'est passé réellement\n"
      ]
    },
    {
      "cell_type": "code",
      "metadata": {
        "colab": {
          "base_uri": "https://localhost:8080/"
        },
        "id": "1UTt-M5SNC-h",
        "outputId": "532faa85-5409-4022-d801-469f736649d4"
      },
      "source": [
        "# Déclaration des variable\n",
        "x = 10\n",
        "y = 20\n",
        "\n",
        "print(\"Avant\", x, id(x), y, id(y))\n",
        "\n",
        "x,y=y,x\n",
        "\n",
        "print(\"Avant\", x, id(x), y, id(y))"
      ],
      "execution_count": null,
      "outputs": [
        {
          "output_type": "stream",
          "text": [
            "Avant 10 10914784 20 10915104\n",
            "Avant 20 10915104 10 10914784\n"
          ],
          "name": "stdout"
        }
      ]
    },
    {
      "cell_type": "markdown",
      "metadata": {
        "id": "92VpsxA4NmQI"
      },
      "source": [
        "Pouvez vous expliquer?"
      ]
    },
    {
      "cell_type": "markdown",
      "metadata": {
        "id": "gzulNcWpT6A0"
      },
      "source": [
        "Le même programme en C\n",
        "\n",
        "```C\n",
        "#include <stdio.h>\n",
        "\n",
        "int main(int argc, char **argv) {\n",
        "    int x = 10;\n",
        "    int y = 20;\n",
        "    int z;\n",
        "\n",
        "    printf(\"Avant %d %p %d %p\\n\", x, &x, y, &y);\n",
        "\n",
        "    //swap\n",
        "    z=x;\n",
        "    x=y;\n",
        "    y=z;\n",
        "\n",
        "    printf(\"Après %d %p %d %p\\n\", x, &x, y, &y);\n",
        "}\n",
        "```\n",
        "\n",
        "Vous obtenez ceci\n",
        "\n",
        "![c python swap](https://issae.github.io/UTC503/Seances/MutableImmutable/c_ou_python.png)"
      ]
    },
    {
      "cell_type": "markdown",
      "metadata": {
        "id": "EybisuPxynTI"
      },
      "source": [
        "Voilà schématiquement ce qui se passe\n",
        "\n",
        "![](https://issae.github.io/UTC503/Seances/MutableImmutable/swap_c_vs_python.png)"
      ]
    },
    {
      "cell_type": "markdown",
      "metadata": {
        "id": "wITMqJl-5Tk_"
      },
      "source": [
        "## Ecrivons une procedure qui réalise le swap en Python\n",
        "\n",
        "pour cela il faut passer en parametre des objets mutables, sinon le résulat n'est pas correcte, en voici une démonstartion"
      ]
    },
    {
      "cell_type": "code",
      "metadata": {
        "colab": {
          "base_uri": "https://localhost:8080/"
        },
        "id": "vEN_x0Pw5iqI",
        "outputId": "f3d384d5-aca2-44c1-d6bf-19085e2767ed"
      },
      "source": [
        "def swap_faux(a, b):\n",
        "  a,b = b,a\n",
        "  print(\"Dans swap\",a,b)\n",
        "\n",
        "x = 10\n",
        "y = 20\n",
        "print(\"Avant\", x , y)\n",
        "swap_faux(x,y)\n",
        "print(\"Après\", x,y)"
      ],
      "execution_count": null,
      "outputs": [
        {
          "output_type": "stream",
          "text": [
            "Avant 10 20\n",
            "Dans swap 20 10\n",
            "Après 10 20\n"
          ],
          "name": "stdout"
        }
      ]
    },
    {
      "cell_type": "code",
      "metadata": {
        "colab": {
          "base_uri": "https://localhost:8080/"
        },
        "id": "WU9X27T66OZA",
        "outputId": "c260e8fc-27c1-4229-ec42-18f12fec6ce2"
      },
      "source": [
        "# Passer des objets mutable soit on crée une clssse oou on utilise par exemple une liste\n",
        "\n",
        "def swap_par_liste(ma, mb):\n",
        "  ma[0],mb[0] = mb[0],ma[0]\n",
        "\n",
        "x = [10]\n",
        "y = [20]\n",
        "print(\"Avant\", x , y)\n",
        "swap_par_liste(x,y)\n",
        "print(\"Après\", x,y)"
      ],
      "execution_count": null,
      "outputs": [
        {
          "output_type": "stream",
          "text": [
            "Avant [10] [20]\n",
            "Après [20] [10]\n"
          ],
          "name": "stdout"
        }
      ]
    },
    {
      "cell_type": "code",
      "metadata": {
        "colab": {
          "base_uri": "https://localhost:8080/"
        },
        "id": "N_9QEvMG7HIb",
        "outputId": "39df1747-38a8-4d48-8aef-99b691d10a5b"
      },
      "source": [
        "# Ou alors en créant une fonction et en affectant le résultat\n",
        "def swap(a, b):\n",
        "  return b, a\n",
        "\n",
        "print(swap(20,10))\n",
        "x,y = 10,20\n",
        "x,y = swap(x, y)\n",
        "print(x,y)"
      ],
      "execution_count": null,
      "outputs": [
        {
          "output_type": "stream",
          "text": [
            "(10, 20)\n",
            "20 10\n"
          ],
          "name": "stdout"
        }
      ]
    },
    {
      "cell_type": "markdown",
      "metadata": {
        "id": "bHkkTKZ6zKPL"
      },
      "source": [
        "## Prenons le cas d'un objet mutable et d'un autre immutable la liste et les tuples"
      ]
    },
    {
      "cell_type": "code",
      "metadata": {
        "colab": {
          "base_uri": "https://localhost:8080/"
        },
        "id": "aUlgVxrnLznq",
        "outputId": "ff0f1f72-1be8-4620-e6c9-a02d85035cff"
      },
      "source": [
        "l = [1, 2, 3]\n",
        "t = (1, 2, 3)\n",
        "print(l,t, sep=' - ' )"
      ],
      "execution_count": null,
      "outputs": [
        {
          "output_type": "stream",
          "text": [
            "[1, 2, 3] - (1, 2, 3)\n"
          ],
          "name": "stdout"
        }
      ]
    },
    {
      "cell_type": "code",
      "metadata": {
        "colab": {
          "base_uri": "https://localhost:8080/"
        },
        "id": "cl4nqQtazjiX",
        "outputId": "7b093543-0615-4bb8-d1e3-07fedbf466f6"
      },
      "source": [
        "# pour un objet mutable pour le changer c'est facile\n",
        "l[1]=20\n",
        "print(l,t, sep=' - ')"
      ],
      "execution_count": null,
      "outputs": [
        {
          "output_type": "stream",
          "text": [
            "[1, 20, 3] - (1, 2, 3)\n"
          ],
          "name": "stdout"
        }
      ]
    },
    {
      "cell_type": "code",
      "metadata": {
        "id": "VVMumvg3gMTV"
      },
      "source": [
        "# t[1]=20"
      ],
      "execution_count": null,
      "outputs": []
    },
    {
      "cell_type": "markdown",
      "metadata": {
        "id": "1L8IXJjMzs7X"
      },
      "source": [
        "## Comment faire pour les objets immutables?\n",
        "\n",
        "Faut créer une nouvelle donnée en recopiant les précédentes.\n",
        "\n",
        "On pourrait bien sure pour copier des objets représentant des séquences on pourrait faire une boucle, mais voit plutôt les slices\n",
        "\n",
        "### Recopier des données depuis string, liste ou tuple : Les slices\n",
        "\n",
        "#### Les slices en Python\n",
        "\n",
        "Une slice permet de désigner toute une plage d’éléments d’une séquence. Ainsi on\n",
        "peut écrire :"
      ]
    },
    {
      "cell_type": "code",
      "metadata": {
        "colab": {
          "base_uri": "https://localhost:8080/"
        },
        "id": "zO4-Viaa1omg",
        "outputId": "96afae40-f908-4fea-da6a-2245bd04cb04"
      },
      "source": [
        "print(\"abcdefg\"[2:4],[1,2,3,4,5][2:4],(10,20,30,40)[2:4])"
      ],
      "execution_count": null,
      "outputs": [
        {
          "output_type": "stream",
          "text": [
            "cd [3, 4] (30, 40)\n"
          ],
          "name": "stdout"
        }
      ]
    },
    {
      "cell_type": "markdown",
      "metadata": {
        "id": "1WjsKZ5o17rX"
      },
      "source": [
        "Explications:\n",
        "\n",
        "La slice [debut:fin] permet d'obtenir les éléments depuis l'indice debut inclut à l'indice fin non inclut. On obtient en tout fin-debut items dans le résultat.\n",
        "\n",
        "![slice](https://issae.github.io/images/sequences/silice.png) "
      ]
    },
    {
      "cell_type": "markdown",
      "metadata": {
        "id": "FP5z5lgL3ZX4"
      },
      "source": [
        "### Donc voici une séquence non mutable t=(0,1,2,3,4,5) et on souhaite remplacer t[2] par 20 par exemple"
      ]
    },
    {
      "cell_type": "code",
      "metadata": {
        "colab": {
          "base_uri": "https://localhost:8080/"
        },
        "id": "_pkJS-g83tBv",
        "outputId": "1f545665-5b1c-4c43-da82-73b1ae5afa23"
      },
      "source": [
        "t=(0,1,2,3,4,5)\n",
        "slice1 = t[0:2]\n",
        "slice2 = t[2:6]\n",
        "print(slice1, slice2)"
      ],
      "execution_count": null,
      "outputs": [
        {
          "output_type": "stream",
          "text": [
            "(0, 1) (2, 3, 4, 5)\n"
          ],
          "name": "stdout"
        }
      ]
    },
    {
      "cell_type": "code",
      "metadata": {
        "id": "S_Qfqt5n3-LX"
      },
      "source": [
        "# En fait on souhaite remplcer 2"
      ],
      "execution_count": null,
      "outputs": []
    },
    {
      "cell_type": "code",
      "metadata": {
        "colab": {
          "base_uri": "https://localhost:8080/"
        },
        "id": "qdiRZ5PQ4D4X",
        "outputId": "9876cc1a-4ada-4d98-d3c7-21f1e389560f"
      },
      "source": [
        "t=(0,1,2,3,4,5)\n",
        "slice1 = t[0:2]\n",
        "slice2 = t[3:6]\n",
        "print(slice1, 20, slice2)"
      ],
      "execution_count": null,
      "outputs": [
        {
          "output_type": "stream",
          "text": [
            "(0, 1) 20 (3, 4, 5)\n"
          ],
          "name": "stdout"
        }
      ]
    },
    {
      "cell_type": "markdown",
      "metadata": {
        "id": "Cc5Tk08h4LOH"
      },
      "source": [
        "On y est presque, on doit tout reconstituer : utilisation de l'operateur unpack *"
      ]
    },
    {
      "cell_type": "code",
      "metadata": {
        "colab": {
          "base_uri": "https://localhost:8080/"
        },
        "id": "6WWqlhYj4U4N",
        "outputId": "920de065-fa31-4113-aa2c-051e669ef01d"
      },
      "source": [
        "nt = (slice1, 20 , slice2)\n",
        "print(nt)"
      ],
      "execution_count": null,
      "outputs": [
        {
          "output_type": "stream",
          "text": [
            "((0, 1), 20, (3, 4, 5))\n"
          ],
          "name": "stdout"
        }
      ]
    },
    {
      "cell_type": "markdown",
      "metadata": {
        "id": "1ezuXnZF4erQ"
      },
      "source": [
        "c'est pas encore ça!"
      ]
    },
    {
      "cell_type": "code",
      "metadata": {
        "colab": {
          "base_uri": "https://localhost:8080/"
        },
        "id": "xC__RArf4hOX",
        "outputId": "f9002557-1d7b-4783-e18c-7c73ccaea3df"
      },
      "source": [
        "gt = (*slice1, 20 , *slice2)\n",
        "print(gt)"
      ],
      "execution_count": null,
      "outputs": [
        {
          "output_type": "stream",
          "text": [
            "(0, 1, 20, 3, 4, 5)\n"
          ],
          "name": "stdout"
        }
      ]
    },
    {
      "cell_type": "markdown",
      "metadata": {
        "id": "qx96U9k-A_Xo"
      },
      "source": [
        "## Autre exemple de fonctions, elle peuvent être récursive\n"
      ]
    },
    {
      "cell_type": "code",
      "metadata": {
        "id": "KPjfrToqBBdR"
      },
      "source": [
        "def fact(n):\n",
        "  if (n == 0): return 1\n",
        "  else: return n * fact(n-1)"
      ],
      "execution_count": null,
      "outputs": []
    },
    {
      "cell_type": "code",
      "metadata": {
        "colab": {
          "base_uri": "https://localhost:8080/"
        },
        "id": "h2DmhK9QBL8T",
        "outputId": "6a6d4961-352e-4e2b-c6a6-8d8e097ead38"
      },
      "source": [
        "fact(3)"
      ],
      "execution_count": null,
      "outputs": [
        {
          "output_type": "execute_result",
          "data": {
            "text/plain": [
              "6"
            ]
          },
          "metadata": {
            "tags": []
          },
          "execution_count": 87
        }
      ]
    },
    {
      "cell_type": "markdown",
      "metadata": {
        "id": "NN-1g3M68ASy"
      },
      "source": [
        "## Definissons la procedure qu icalcul les termes de la suite de fibonacci\n",
        "\n",
        "A partir d'un carré central de côté 1, on construit un nouveau carré qui s'appuie sur le précédent. Puis on répète la construction, chaque nouveau carré appuie son côté sur l'ensemble des carrés déjà construits. Dans chaque carré, on trace un quart de cercle joignant un sommet au sommet opposé, de sorte que les quarts de cercle soient consécutifs. La courbe obtenue s'appelle la spirale de Fibonacci.\n",
        "\n",
        "![fibo](https://issae.github.io/UTC503/Seances/MutableImmutable/spiralefibonacci.png)\n",
        "\n",
        "$$ \\begin{array}   \\\\\n",
        "     fibo(n+1) = fibo(n) + fibo(n-1) \\\\\n",
        "     fibo(0) = 0 \\\\\n",
        "     fibo(1) = 1 \\\\\n",
        "  \\end{array}\n",
        "$$"
      ]
    },
    {
      "cell_type": "code",
      "metadata": {
        "colab": {
          "base_uri": "https://localhost:8080/"
        },
        "id": "rZUArc9Cj1n5",
        "outputId": "fce2a093-d969-4232-f488-0dbc9ffc475f"
      },
      "source": [
        "l=[1 ,2 ,3 ,4 , 5]\n",
        "print(l[-1], l[-2], l[-1]+l[-2])"
      ],
      "execution_count": null,
      "outputs": [
        {
          "output_type": "stream",
          "text": [
            "5 4 9\n"
          ],
          "name": "stdout"
        }
      ]
    },
    {
      "cell_type": "code",
      "metadata": {
        "id": "zi1902zY9Wbr"
      },
      "source": [
        "# état initial\n",
        "l=[0, 1]\n",
        "\n",
        "def fibo(n, lfibo):\n",
        "    '''\n",
        "    Calcul des éléments de la suite de fibonacci\n",
        "\n",
        "    n : le nombre d'éléments nouveaux souhaités\n",
        "    lfibo: La liste des élements de la suite\n",
        "      IN : les élements initiaux\n",
        "      OUT : La suite avec n nouveaux éléments \n",
        "    '''\n",
        "    for i in range(n):\n",
        "        lfibo.append(lfibo[-1]+lfibo[-2])\n",
        "\n"
      ],
      "execution_count": null,
      "outputs": []
    },
    {
      "cell_type": "code",
      "metadata": {
        "id": "-gvfhwAoCVlc"
      },
      "source": [
        "help(fibo)"
      ],
      "execution_count": null,
      "outputs": []
    },
    {
      "cell_type": "code",
      "metadata": {
        "colab": {
          "base_uri": "https://localhost:8080/"
        },
        "id": "ofktOmh4CnlR",
        "outputId": "71e95e91-e2a1-43a1-ec07-13772590e111"
      },
      "source": [
        "print(fibo(3,l))"
      ],
      "execution_count": null,
      "outputs": [
        {
          "output_type": "stream",
          "text": [
            "None\n"
          ],
          "name": "stdout"
        }
      ]
    },
    {
      "cell_type": "code",
      "metadata": {
        "colab": {
          "base_uri": "https://localhost:8080/"
        },
        "id": "waRthW39Cq5i",
        "outputId": "1fb5ec63-9352-4fcf-d930-eeaa7bd0aa0f"
      },
      "source": [
        "print(l)"
      ],
      "execution_count": null,
      "outputs": [
        {
          "output_type": "stream",
          "text": [
            "[0, 1, 1, 2, 3]\n"
          ],
          "name": "stdout"
        }
      ]
    },
    {
      "cell_type": "code",
      "metadata": {
        "colab": {
          "base_uri": "https://localhost:8080/"
        },
        "id": "wM4TBlS6CtRU",
        "outputId": "5d4211b2-38d6-41da-b10d-3ffd8fb1e081"
      },
      "source": [
        "fibo(20,l)\n",
        "print(l)"
      ],
      "execution_count": null,
      "outputs": [
        {
          "output_type": "stream",
          "text": [
            "[0, 1, 1, 2, 3, 5, 8, 13, 21, 34, 55, 89, 144, 233, 377, 610, 987, 1597, 2584, 4181, 6765, 10946, 17711, 28657, 46368]\n"
          ],
          "name": "stdout"
        }
      ]
    },
    {
      "cell_type": "code",
      "metadata": {
        "colab": {
          "base_uri": "https://localhost:8080/"
        },
        "id": "xuABSGLYDaUq",
        "outputId": "7a87810f-1149-47e4-b381-67c358908c89"
      },
      "source": [
        "eval(\"1 + 2\")"
      ],
      "execution_count": null,
      "outputs": [
        {
          "output_type": "execute_result",
          "data": {
            "text/plain": [
              "3"
            ]
          },
          "metadata": {
            "tags": []
          },
          "execution_count": 95
        }
      ]
    },
    {
      "cell_type": "code",
      "metadata": {
        "id": "Y_4CehOSDjwL"
      },
      "source": [
        "exec(\"1 + 2\")"
      ],
      "execution_count": null,
      "outputs": []
    },
    {
      "cell_type": "code",
      "metadata": {
        "colab": {
          "base_uri": "https://localhost:8080/"
        },
        "id": "N8E_P1CKDnkC",
        "outputId": "a3fc7687-491c-4a31-c8e7-55cb15fc8149"
      },
      "source": [
        "exec(\"x = 3\")\n",
        "x"
      ],
      "execution_count": null,
      "outputs": [
        {
          "output_type": "execute_result",
          "data": {
            "text/plain": [
              "3"
            ]
          },
          "metadata": {
            "tags": []
          },
          "execution_count": 97
        }
      ]
    },
    {
      "cell_type": "code",
      "metadata": {
        "id": "vPmW0X91kme5",
        "outputId": "82e98e2f-d4d3-4f36-ae1a-5d43724f0af8",
        "colab": {
          "base_uri": "https://localhost:8080/",
          "height": 132
        }
      },
      "source": [
        "eval(\"x = 3\")"
      ],
      "execution_count": null,
      "outputs": [
        {
          "output_type": "error",
          "ename": "SyntaxError",
          "evalue": "ignored",
          "traceback": [
            "\u001b[0;36m  File \u001b[0;32m\"<string>\"\u001b[0;36m, line \u001b[0;32m1\u001b[0m\n\u001b[0;31m    x = 3\u001b[0m\n\u001b[0m      ^\u001b[0m\n\u001b[0;31mSyntaxError\u001b[0m\u001b[0;31m:\u001b[0m invalid syntax\n"
          ]
        }
      ]
    },
    {
      "cell_type": "markdown",
      "metadata": {
        "id": "TzBKxiNRqF_U"
      },
      "source": [
        "# Extra\n",
        "\n",
        "## Les fonctions natives\n",
        "\n",
        "https://docs.python.org/fr/3.6/library/functions.html"
      ]
    }
  ]
}