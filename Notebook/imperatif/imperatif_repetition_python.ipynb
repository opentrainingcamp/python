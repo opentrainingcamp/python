{
  "nbformat": 4,
  "nbformat_minor": 0,
  "metadata": {
    "colab": {
      "name": "imperatif_repetition_python.ipynb",
      "provenance": [],
      "authorship_tag": "ABX9TyPz3IMTGVDlcLmVuSSdGAK9",
      "include_colab_link": true
    },
    "kernelspec": {
      "name": "python3",
      "display_name": "Python 3"
    },
    "language_info": {
      "name": "python"
    }
  },
  "cells": [
    {
      "cell_type": "markdown",
      "metadata": {
        "id": "view-in-github",
        "colab_type": "text"
      },
      "source": [
        "<a href=\"https://colab.research.google.com/github/opentrainingcamp/python/blob/main/Notebook/imperatif/imperatif_repetition_python.ipynb\" target=\"_parent\"><img src=\"https://colab.research.google.com/assets/colab-badge.svg\" alt=\"Open In Colab\"/></a>"
      ]
    },
    {
      "cell_type": "markdown",
      "metadata": {
        "id": "zlk2d_3SGcBO"
      },
      "source": [
        "## La répétition ou l'itération\n",
        "\n",
        "Deux type d'itérations\n",
        "\n",
        "* Les indéfinies\n",
        "* Les définies\n",
        "\n",
        "### Itération indéfinie\n",
        "L'itération indéfinie va s'exécuter indéfiniment jusqu'à ce qu'une condition soit remplie. \n",
        "\n",
        "La boucle while est l'instruction qui le permet.\n",
        "\n",
        "Voici un exemple d'itération indéfinie:"
      ]
    },
    {
      "cell_type": "code",
      "source": [
        "while True:\n",
        "  print(\"Nous répétons\")"
      ],
      "metadata": {
        "id": "Pzlg0PptuRtJ"
      },
      "execution_count": null,
      "outputs": []
    },
    {
      "cell_type": "markdown",
      "source": [
        "Donc tant que cette condition renvoie True, je vais imprimer \"Nous répétons\", ou exécuter ce bloc de code. "
      ],
      "metadata": {
        "id": "ByXJvCGquXfQ"
      }
    },
    {
      "cell_type": "markdown",
      "source": [
        "### Itération définie\n",
        "L'itération définie, cependant, va s'exécuter autant de fois qu'indiqué dans le code.\n",
        "\n",
        "La boucle for est l'insctruction qui le permet\n",
        "\n",
        "Voici un exemple:"
      ],
      "metadata": {
        "id": "MO09IXSdugkQ"
      }
    },
    {
      "cell_type": "code",
      "source": [
        "for e in ['a', 2, [1, 4]]:\n",
        "  print(e)"
      ],
      "metadata": {
        "id": "oB0bKyIBuWx4"
      },
      "execution_count": null,
      "outputs": []
    },
    {
      "cell_type": "markdown",
      "source": [
        "Donc, notre boucle for dit d'imprimer e pour le nombre de `e` qu'il y a dans `['a', 2, [1, 4]]`. \n",
        "\n",
        "Commençons par nous concentrer sur l'itération indéfinie, qui est la boucle while."
      ],
      "metadata": {
        "id": "gyo-A-4rvGN3"
      }
    },
    {
      "cell_type": "markdown",
      "source": [
        "### La structure de base de la boucle while\n",
        "\n",
        "```python\n",
        "while (condition):\n",
        "   <bloc d'instructions du while>\n",
        "\n",
        "<suite après la fin de la boucle>\n",
        "```\n"
      ],
      "metadata": {
        "id": "QP-tEJMYvfd_"
      }
    },
    {
      "cell_type": "markdown",
      "source": [
        "Tanque la condition est vraie, on exécute le `<bloc d'instructions du while>`\n",
        "\n",
        "Nous sortons de la boucle quand la condition devient fausse.\n",
        "\n",
        "Voici un exemple:\n"
      ],
      "metadata": {
        "id": "noFYB5XqwkTB"
      }
    },
    {
      "cell_type": "code",
      "execution_count": null,
      "metadata": {
        "id": "BgrciLMmGg4b",
        "vscode": {
          "languageId": "python"
        }
      },
      "outputs": [],
      "source": [
        "x = 10\n",
        "while (x > 0):\n",
        "    print(x, end=' ')\n",
        "    x = x - 1\n",
        "\n",
        "print(\"En sortant de la boucle x est <= 0 : non (x > 0)\", x)"
      ]
    },
    {
      "cell_type": "markdown",
      "metadata": {
        "id": "GiuFndG-Hdv9"
      },
      "source": [
        "## La répétition par itérateur `for` ('itération défini)\n",
        "\n",
        "Premier exemple, nous y reviendrons avec plus de détails lors de la présenstation des structures de données Python: Liste, tuples, dictionnaires, itérateur...\n",
        "\n",
        "Ici juste un avant gout\n"
      ]
    },
    {
      "cell_type": "code",
      "execution_count": null,
      "metadata": {
        "id": "spRUfV8fHhf_",
        "vscode": {
          "languageId": "python"
        }
      },
      "outputs": [],
      "source": [
        "for i in range(10):\n",
        "  print(i, end=':')"
      ]
    },
    {
      "cell_type": "code",
      "execution_count": null,
      "metadata": {
        "id": "3yRUmcS1koQ-",
        "vscode": {
          "languageId": "python"
        }
      },
      "outputs": [],
      "source": [
        "help(print)"
      ]
    },
    {
      "cell_type": "code",
      "execution_count": null,
      "metadata": {
        "id": "Qcbzi5hnHpe8",
        "vscode": {
          "languageId": "python"
        }
      },
      "outputs": [],
      "source": [
        "# cas de range\n",
        "range(10)"
      ]
    },
    {
      "cell_type": "code",
      "execution_count": null,
      "metadata": {
        "id": "0ZSXQac6HvWD",
        "vscode": {
          "languageId": "python"
        }
      },
      "outputs": [],
      "source": [
        "list(range(10))"
      ]
    },
    {
      "cell_type": "markdown",
      "metadata": {
        "id": "p4t2QgKUH0jV"
      },
      "source": [
        "## définition de fonction ou de procedure"
      ]
    },
    {
      "cell_type": "code",
      "execution_count": null,
      "metadata": {
        "id": "38-vDi7YH26G",
        "vscode": {
          "languageId": "python"
        }
      },
      "outputs": [],
      "source": [
        "def f(x,y):\n",
        "  return (x+y)"
      ]
    },
    {
      "cell_type": "code",
      "execution_count": null,
      "metadata": {
        "id": "nwgjEP4BlT25",
        "vscode": {
          "languageId": "python"
        }
      },
      "outputs": [],
      "source": [
        "f(3,4)"
      ]
    },
    {
      "cell_type": "code",
      "execution_count": null,
      "metadata": {
        "id": "oRhkjtTHH7I7"
      },
      "outputs": [],
      "source": [
        ""
      ]
    }
  ]
}