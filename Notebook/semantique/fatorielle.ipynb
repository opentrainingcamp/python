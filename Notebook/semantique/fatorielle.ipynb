{
  "nbformat": 4,
  "nbformat_minor": 0,
  "metadata": {
    "colab": {
      "name": "fatorielle.ipynb",
      "provenance": [],
      "authorship_tag": "ABX9TyNRAkF4tfdFJLKKXIHhnYOi",
      "include_colab_link": true
    },
    "kernelspec": {
      "name": "python3",
      "display_name": "Python 3"
    },
    "language_info": {
      "name": "python"
    }
  },
  "cells": [
    {
      "cell_type": "markdown",
      "metadata": {
        "id": "view-in-github",
        "colab_type": "text"
      },
      "source": [
        "<a href=\"https://colab.research.google.com/github/opentrainingcamp/python/blob/main/Notebook/semantique/fatorielle.ipynb\" target=\"_parent\"><img src=\"https://colab.research.google.com/assets/colab-badge.svg\" alt=\"Open In Colab\"/></a>"
      ]
    },
    {
      "cell_type": "markdown",
      "source": [
        "Par l'exemple : calculer factotielle, nous verrons les notions:\n",
        "\n",
        "* Boucle et notion d'invariant\n",
        "* la sémantique de l'affectation\n",
        "* Saisir des données et afficher des résultats"
      ],
      "metadata": {
        "id": "zQNcX2bECyYr"
      }
    },
    {
      "cell_type": "markdown",
      "source": [
        "# Rappel, l'affectation, sémantique de l'affetation\n",
        "\n",
        "$ x = expression $\n",
        "\n",
        "En Python, donner un nom à une valeur résultat de l'évaluation de l'expression.\n",
        "\n",
        "La variable python à donc un nom (une clé) et une valeur {nom:valeur} ou encore \n",
        "\n",
        "si var est la clé et eval(var) est la valeur associé, on note {var:val(var)}\n"
      ],
      "metadata": {
        "id": "vNBjVdG5DQ8H"
      }
    },
    {
      "cell_type": "code",
      "source": [
        "x = 3\n",
        "print('x :', x)"
      ],
      "metadata": {
        "colab": {
          "base_uri": "https://localhost:8080/"
        },
        "id": "SX5JCsm-EzGI",
        "outputId": "172d7a26-3377-4b09-cfaf-66693ab64bc8"
      },
      "execution_count": 16,
      "outputs": [
        {
          "output_type": "stream",
          "name": "stdout",
          "text": [
            "x : 3\n"
          ]
        }
      ]
    },
    {
      "cell_type": "markdown",
      "source": [
        "Que se passe t'il quand par exemple on fait `x = x + 3` sachant que `x = 10`?\n",
        "\n",
        "On dit que la valeur de x est celle de l'évaluation de eval(x + 3)\n",
        "\n",
        "en découpant les étapes\n",
        "\n",
        "on calcul $ x'$ le nouvel état de x / $ x' = eval(x+3) \\rightarrow x'= eval(x) + eval(3) = 10 + 3 = 13$\n",
        "\n",
        "Ainsi avant l'efectation (état courant) x vaut 10 pus au prochain état x vaut 13."
      ],
      "metadata": {
        "id": "3ppcfr6VFZ0z"
      }
    },
    {
      "cell_type": "code",
      "source": [
        "x = 10\n",
        "print(\"x vaut \", x)\n",
        "x = x + 3\n",
        "print(\"x vaut \", x)"
      ],
      "metadata": {
        "colab": {
          "base_uri": "https://localhost:8080/"
        },
        "id": "CJ01pa7jGgtg",
        "outputId": "29664ffd-8ff4-4c9f-878a-2fe79c6407df"
      },
      "execution_count": 15,
      "outputs": [
        {
          "output_type": "stream",
          "name": "stdout",
          "text": [
            "x vaut  10\n",
            "x vaut  13\n"
          ]
        }
      ]
    },
    {
      "cell_type": "markdown",
      "source": [
        "Notation ' représente le nouveal état : Une instruction modifie l'état : E →affectation → E'"
      ],
      "metadata": {
        "id": "Lo8ZgBMDG0S5"
      }
    },
    {
      "cell_type": "markdown",
      "source": [
        "## La factorielle\n",
        "\n",
        "$$ n! = \\prod_{i=1}^{i=n} i$$\n",
        "\n",
        "Pour ecrire ce programme nous allons cumuler dans une varibale F par exemple les étapes intermédiaires du calcul, soit $ F_{i} $ l'etape ou on a déjà calculé $ 1*2...*i $\n",
        "$$ F_i = \\prod_{e=1}^{e=i} e$$\n",
        "\n",
        "Initialement à l'étape 1 (étape $F_1$): F vaut 1 \n",
        "\n",
        "Si F est la valeur connu à l'étape $i-1$ alors $F*i$ est la valeur de la factorielle à l'etape $i$\n",
        "\n",
        "en effet\n",
        "\n",
        "$$ F_{i-1} * i =  (\\prod_{e=1}^{e=i-1} e)*i = \\prod_{e=1}^{e=i} e = F_i $$"
      ],
      "metadata": {
        "id": "USlMbkte3atB"
      }
    },
    {
      "cell_type": "markdown",
      "source": [
        "Nous avons n, nous souhaitons calculer n!.\n",
        "\n",
        "Nous allons garantir à toutes les étapes de notre calcul: que la variable du programme F représente $F_i$ quel que soit l'étape i\n",
        "\n",
        "Initialisation : $i=1$ on a  $F=1$ \n",
        "\n",
        "Nous allons dans une boucle faire progresser i de 1 et calculer à nouveau F\n",
        "\n",
        "**Etape :**  $ i'= i+1$, donc on va calculer $ F_{i'}=F_i*i'$ \n",
        "\n",
        "En programmation en utilisant la sémantique de l'affectation l'etape se traduit par\n",
        "\n",
        "```\n",
        "i = i + 1 \n",
        "F = F * i\n",
        "```\n",
        "\n",
        "Quand i atteint n on s'arrête et on aura donc bien dans F n!"
      ],
      "metadata": {
        "id": "LoFQu6Ly6dby"
      }
    },
    {
      "cell_type": "markdown",
      "source": [
        "Pour cela nopus utlisons l;'instruction while et sa sématique:\n",
        "\n",
        "```\n",
        "While (condition):\n",
        "   # Dans la boucle condition est vraie\n",
        "   actions\n",
        "# Quand on sort de la boucle nus avons condition faux. \n",
        "# cad not condition\n",
        "```\n"
      ],
      "metadata": {
        "id": "gidkCiUlA0Ng"
      }
    },
    {
      "cell_type": "code",
      "source": [
        "n = 3\n",
        "i=1\n",
        "F=1\n",
        "while (i < n):\n",
        "  i = i + 1\n",
        "  F = F * i\n",
        "# A la fin de la boucle nous avons i >=n : en fait i = n\n",
        "# Commme à toute les étapes nous avions F qui représente F_i nous terminons avec F_n"
      ],
      "metadata": {
        "id": "Ezwyvcq815uP"
      },
      "execution_count": 8,
      "outputs": []
    },
    {
      "cell_type": "code",
      "source": [
        "print(F)"
      ],
      "metadata": {
        "colab": {
          "base_uri": "https://localhost:8080/"
        },
        "id": "NLL5RiQuBuMe",
        "outputId": "ea3f7717-546b-42da-d072-a09baf1d2405"
      },
      "execution_count": 9,
      "outputs": [
        {
          "output_type": "stream",
          "name": "stdout",
          "text": [
            "6\n"
          ]
        }
      ]
    },
    {
      "cell_type": "markdown",
      "source": [
        ""
      ],
      "metadata": {
        "id": "cOJ4NNtCQQ2Z"
      }
    },
    {
      "cell_type": "markdown",
      "source": [
        "# Saisir un nombre\n",
        "\n",
        "La fonction pré-défini `input` permet de lire un texte saisi au clavier.\n",
        "\n",
        "C'est bien un texte (une chaine de carcatère qui est lu)"
      ],
      "metadata": {
        "id": "h6X7CUU40TaU"
      }
    },
    {
      "cell_type": "code",
      "execution_count": null,
      "metadata": {
        "colab": {
          "base_uri": "https://localhost:8080/"
        },
        "id": "9_nHpTXXz-PI",
        "outputId": "daa1f7e7-4ae0-401f-b924-a7c321406777"
      },
      "outputs": [
        {
          "name": "stdout",
          "output_type": "stream",
          "text": [
            "saisir un nombre > 10\n"
          ]
        }
      ],
      "source": [
        "n_saisi = input ('saisir un nombre > ')"
      ]
    },
    {
      "cell_type": "markdown",
      "source": [
        "n est en fait pour le moment une chaine de caractère. Nous pouvons el vérifier avec la fonction pré-définie de Python : `type`"
      ],
      "metadata": {
        "id": "sPkshlqB0wwP"
      }
    },
    {
      "cell_type": "markdown",
      "source": [
        "la fonction pré-défini `print` permet d'afficher au terminal les valeurs"
      ],
      "metadata": {
        "id": "uFrCCK1Y1LYX"
      }
    },
    {
      "cell_type": "code",
      "source": [
        "print(type(n))"
      ],
      "metadata": {
        "colab": {
          "base_uri": "https://localhost:8080/"
        },
        "id": "CGufn1bW0vqH",
        "outputId": "dbeb5764-4c4b-4b5e-8674-38807854268c"
      },
      "execution_count": null,
      "outputs": [
        {
          "output_type": "stream",
          "name": "stdout",
          "text": [
            "<class 'str'>\n"
          ]
        }
      ]
    },
    {
      "cell_type": "markdown",
      "source": [
        "Comment rendre n un entier? utlisation d'un princpe dit de casting, qui nous permet de modifier la nature d'un objet quand ceci est possible.\n",
        "\n",
        "Pour récupérer un entier nous utiliserons `int` "
      ],
      "metadata": {
        "id": "WvwZ6vT61Um2"
      }
    },
    {
      "cell_type": "code",
      "source": [
        "n = int(n_saisi)"
      ],
      "metadata": {
        "id": "9_dwMJ8c1p3q"
      },
      "execution_count": null,
      "outputs": []
    },
    {
      "cell_type": "markdown",
      "source": [
        "Verifions que n est bien un entier"
      ],
      "metadata": {
        "id": "ib5qPQt716fB"
      }
    },
    {
      "cell_type": "code",
      "source": [
        "print(type(n))"
      ],
      "metadata": {
        "colab": {
          "base_uri": "https://localhost:8080/"
        },
        "id": "MJNZZcqk11bX",
        "outputId": "b12ea998-6371-4fb0-a210-cfa037ef4bb8"
      },
      "execution_count": null,
      "outputs": [
        {
          "output_type": "stream",
          "name": "stdout",
          "text": [
            "<class 'int'>\n"
          ]
        }
      ]
    }
  ]
}