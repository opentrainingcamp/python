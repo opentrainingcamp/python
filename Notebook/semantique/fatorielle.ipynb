{
 "cells": [
  {
   "cell_type": "markdown",
   "metadata": {
    "colab_type": "text",
    "id": "view-in-github"
   },
   "source": [
    "<a href=\"https://colab.research.google.com/github/opentrainingcamp/python/blob/main/Notebook/semantique/fatorielle.ipynb\" target=\"_parent\"><img src=\"https://colab.research.google.com/assets/colab-badge.svg\" alt=\"Open In Colab\"/></a>"
   ]
  },
  {
   "cell_type": "markdown",
   "metadata": {
    "id": "zQNcX2bECyYr"
   },
   "source": [
    "Par l'exemple : calculer factotielle, nous verrons les notions:\n",
    "\n",
    "* Boucle et notion d'invariant\n",
    "* la sémantique de l'affectation\n",
    "* Saisir des données et afficher des résultats"
   ]
  },
  {
   "cell_type": "markdown",
   "metadata": {
    "id": "vNBjVdG5DQ8H"
   },
   "source": [
    "# Rappel, l'affectation, sémantique de l'affetation\n",
    "\n",
    "$ x = expression $\n",
    "\n",
    "En Python, donner un nom à une valeur résultat de l'évaluation de l'expression.\n",
    "\n",
    "La variable python à donc un nom (une clé) et une valeur {nom:valeur} ou encore \n",
    "\n",
    "si var est la clé et eval(var) est la valeur associé, on note {var:val(var)}\n"
   ]
  },
  {
   "cell_type": "code",
   "execution_count": 16,
   "metadata": {
    "colab": {
     "base_uri": "https://localhost:8080/"
    },
    "id": "SX5JCsm-EzGI",
    "outputId": "172d7a26-3377-4b09-cfaf-66693ab64bc8"
   },
   "outputs": [
    {
     "name": "stdout",
     "output_type": "stream",
     "text": [
      "x : 3\n"
     ]
    }
   ],
   "source": [
    "x = 3\n",
    "print('x :', x)"
   ]
  },
  {
   "cell_type": "markdown",
   "metadata": {
    "id": "3ppcfr6VFZ0z"
   },
   "source": [
    "Que se passe t'il quand par exemple on fait `x = x + 3` sachant que `x = 10`?\n",
    "\n",
    "On dit que la valeur de x est celle de l'évaluation de eval(x + 3)\n",
    "\n",
    "en découpant les étapes\n",
    "\n",
    "on calcul $ x'$ le nouvel état de x / $ x' = eval(x+3) \\rightarrow x'= eval(x) + eval(3) = 10 + 3 = 13$\n",
    "\n",
    "Ainsi avant l'efectation (état courant) x vaut 10 pus au prochain état x vaut 13."
   ]
  },
  {
   "cell_type": "code",
   "execution_count": 15,
   "metadata": {
    "colab": {
     "base_uri": "https://localhost:8080/"
    },
    "id": "CJ01pa7jGgtg",
    "outputId": "29664ffd-8ff4-4c9f-878a-2fe79c6407df"
   },
   "outputs": [
    {
     "name": "stdout",
     "output_type": "stream",
     "text": [
      "x vaut  10\n",
      "x vaut  13\n"
     ]
    }
   ],
   "source": [
    "x = 10\n",
    "print(\"x vaut \", x)\n",
    "x = x + 3\n",
    "print(\"x vaut \", x)"
   ]
  },
  {
   "cell_type": "markdown",
   "metadata": {
    "id": "Lo8ZgBMDG0S5"
   },
   "source": [
    "Notation ' représente le nouveal état : Une instruction modifie l'état : E →affectation → E'"
   ]
  },
  {
   "cell_type": "markdown",
   "metadata": {
    "id": "USlMbkte3atB"
   },
   "source": [
    "## La factorielle\n",
    "\n",
    "$$ n! = \\prod_{i=1}^{i=n} i$$\n",
    "\n",
    "Pour ecrire ce programme nous allons cumuler dans une varibale F par exemple les étapes intermédiaires du calcul, soit $ F_{i} $ l'etape ou on a déjà calculé $ 1*2...*i $\n",
    "$$ F_i = \\prod_{e=1}^{e=i} e$$\n",
    "\n",
    "Initialement à l'étape 1 (étape $F_1$): F vaut 1 \n",
    "\n",
    "Si F est la valeur connu à l'étape $i-1$ alors $F*i$ est la valeur de la factorielle à l'etape $i$\n",
    "\n",
    "en effet\n",
    "\n",
    "$$ F_{i-1} * i =  (\\prod_{e=1}^{e=i-1} e)*i = \\prod_{e=1}^{e=i} e = F_i $$"
   ]
  },
  {
   "cell_type": "markdown",
   "metadata": {
    "id": "LoFQu6Ly6dby"
   },
   "source": [
    "Nous avons n, nous souhaitons calculer n!.\n",
    "\n",
    "Nous allons garantir à toutes les étapes de notre calcul: que la variable du programme F représente $F_i$ quel que soit l'étape i\n",
    "\n",
    "Initialisation : $i=1$ on a  $F=1$ \n",
    "\n",
    "Nous allons dans une boucle faire progresser i de 1 et calculer à nouveau F\n",
    "\n",
    "**Etape :**  $ i'= i+1$, donc on va calculer $ F_{i'}=F_i*i'$ \n",
    "\n",
    "En programmation en utilisant la sémantique de l'affectation l'etape se traduit par\n",
    "\n",
    "```\n",
    "i = i + 1 \n",
    "F = F * i\n",
    "```\n",
    "\n",
    "Quand i atteint n on s'arrête et on aura donc bien dans F n!"
   ]
  },
  {
   "cell_type": "markdown",
   "metadata": {
    "id": "gidkCiUlA0Ng"
   },
   "source": [
    "Pour cela nopus utlisons l;'instruction while et sa sématique:\n",
    "\n",
    "```\n",
    "While (condition):\n",
    "   # Dans la boucle condition est vraie\n",
    "   actions\n",
    "# Quand on sort de la boucle nus avons condition faux. \n",
    "# cad not condition\n",
    "```\n"
   ]
  },
  {
   "cell_type": "code",
   "execution_count": 8,
   "metadata": {
    "id": "Ezwyvcq815uP"
   },
   "outputs": [],
   "source": [
    "n = 3\n",
    "i=1\n",
    "F=1\n",
    "while (i < n):\n",
    "  i = i + 1\n",
    "  F = F * i\n",
    "# A la fin de la boucle nous avons i >=n : en fait i = n\n",
    "# Commme à toute les étapes nous avions F qui représente F_i nous terminons avec F_n"
   ]
  },
  {
   "cell_type": "code",
   "execution_count": 9,
   "metadata": {
    "colab": {
     "base_uri": "https://localhost:8080/"
    },
    "id": "NLL5RiQuBuMe",
    "outputId": "ea3f7717-546b-42da-d072-a09baf1d2405"
   },
   "outputs": [
    {
     "name": "stdout",
     "output_type": "stream",
     "text": [
      "6\n"
     ]
    }
   ],
   "source": [
    "print(F)"
   ]
  },
  {
   "cell_type": "markdown",
   "metadata": {
    "id": "cOJ4NNtCQQ2Z"
   },
   "source": []
  },
  {
   "cell_type": "markdown",
   "metadata": {
    "id": "h6X7CUU40TaU"
   },
   "source": [
    "# Saisir un nombre\n",
    "\n",
    "La fonction pré-défini `input` permet de lire un texte saisi au clavier.\n",
    "\n",
    "C'est bien un texte (une chaine de carcatère qui est lu)"
   ]
  },
  {
   "cell_type": "code",
   "execution_count": null,
   "metadata": {
    "colab": {
     "base_uri": "https://localhost:8080/"
    },
    "id": "9_nHpTXXz-PI",
    "outputId": "daa1f7e7-4ae0-401f-b924-a7c321406777"
   },
   "outputs": [
    {
     "name": "stdout",
     "output_type": "stream",
     "text": [
      "saisir un nombre > 10\n"
     ]
    }
   ],
   "source": [
    "n_saisi = input ('saisir un nombre > ')"
   ]
  },
  {
   "cell_type": "markdown",
   "metadata": {
    "id": "sPkshlqB0wwP"
   },
   "source": [
    "n est en fait pour le moment une chaine de caractère. Nous pouvons el vérifier avec la fonction pré-définie de Python : `type`"
   ]
  },
  {
   "cell_type": "markdown",
   "metadata": {
    "id": "uFrCCK1Y1LYX"
   },
   "source": [
    "la fonction pré-défini `print` permet d'afficher au terminal les valeurs"
   ]
  },
  {
   "cell_type": "code",
   "execution_count": null,
   "metadata": {
    "colab": {
     "base_uri": "https://localhost:8080/"
    },
    "id": "CGufn1bW0vqH",
    "outputId": "dbeb5764-4c4b-4b5e-8674-38807854268c"
   },
   "outputs": [
    {
     "name": "stdout",
     "output_type": "stream",
     "text": [
      "<class 'str'>\n"
     ]
    }
   ],
   "source": [
    "print(type(n))"
   ]
  },
  {
   "cell_type": "markdown",
   "metadata": {
    "id": "WvwZ6vT61Um2"
   },
   "source": [
    "Comment rendre n un entier? utlisation d'un princpe dit de casting, qui nous permet de modifier la nature d'un objet quand ceci est possible.\n",
    "\n",
    "Pour récupérer un entier nous utiliserons `int` "
   ]
  },
  {
   "cell_type": "code",
   "execution_count": null,
   "metadata": {
    "id": "9_dwMJ8c1p3q"
   },
   "outputs": [],
   "source": [
    "n = int(n_saisi)"
   ]
  },
  {
   "cell_type": "markdown",
   "metadata": {
    "id": "ib5qPQt716fB"
   },
   "source": [
    "Verifions que n est bien un entier"
   ]
  },
  {
   "cell_type": "code",
   "execution_count": null,
   "metadata": {
    "colab": {
     "base_uri": "https://localhost:8080/"
    },
    "id": "MJNZZcqk11bX",
    "outputId": "b12ea998-6371-4fb0-a210-cfa037ef4bb8"
   },
   "outputs": [
    {
     "name": "stdout",
     "output_type": "stream",
     "text": [
      "<class 'int'>\n"
     ]
    }
   ],
   "source": [
    "print(type(n))"
   ]
  }
 ],
 "metadata": {
  "colab": {
   "authorship_tag": "ABX9TyNRAkF4tfdFJLKKXIHhnYOi",
   "include_colab_link": true,
   "name": "fatorielle.ipynb",
   "provenance": []
  },
  "kernelspec": {
   "display_name": "Python 3 (ipykernel)",
   "language": "python",
   "name": "python3"
  },
  "language_info": {
   "codemirror_mode": {
    "name": "ipython",
    "version": 3
   },
   "file_extension": ".py",
   "mimetype": "text/x-python",
   "name": "python",
   "nbconvert_exporter": "python",
   "pygments_lexer": "ipython3",
   "version": "3.9.7"
  }
 },
 "nbformat": 4,
 "nbformat_minor": 1
}
