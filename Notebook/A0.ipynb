{
  "nbformat": 4,
  "nbformat_minor": 0,
  "metadata": {
    "colab": {
      "name": "Untitled3.ipynb",
      "provenance": [],
      "authorship_tag": "ABX9TyMqDeaZbZptB6xhaI3eF+6y",
      "include_colab_link": true
    },
    "kernelspec": {
      "name": "python3",
      "display_name": "Python 3"
    }
  },
  "cells": [
    {
      "cell_type": "markdown",
      "metadata": {
        "id": "view-in-github",
        "colab_type": "text"
      },
      "source": [
        "<a href=\"https://colab.research.google.com/github/opentrainingcamp/python/blob/main/Notebook/A0.ipynb\" target=\"_parent\"><img src=\"https://colab.research.google.com/assets/colab-badge.svg\" alt=\"Open In Colab\"/></a>"
      ]
    },
    {
      "cell_type": "markdown",
      "metadata": {
        "id": "UHx2bEE6Fm8-"
      },
      "source": [
        "# Notre premier exemple\n",
        "\n",
        "Voila **allons** y"
      ]
    },
    {
      "cell_type": "code",
      "metadata": {
        "id": "cR7HXuYoFgmg",
        "outputId": "85cf3d0c-2f54-477d-971a-18e3df378fb3",
        "colab": {
          "base_uri": "https://localhost:8080/"
        }
      },
      "source": [
        "x = 3\n",
        "y = 5\n",
        "z = x + y\n",
        "print(z)"
      ],
      "execution_count": null,
      "outputs": [
        {
          "output_type": "stream",
          "text": [
            "8\n"
          ],
          "name": "stdout"
        }
      ]
    },
    {
      "cell_type": "markdown",
      "source": [
        "## Un autre exemple soit la fonction mathématique\n",
        "$$ \\mathbb{N} \\times \\mathbb{N} ⇒ \\mathbb{N} $$\n",
        "$$ f(x,y) = x+y $$\n",
        "\n",
        "Ecrivons ceci avec Python, bien sûre nous reviendrons en détail à tous ceci. Pour le moment c'est pour vous montrer la simplicité de Python et des notebooks"
      ],
      "metadata": {
        "id": "lHw2gRzQuTtL"
      }
    },
    {
      "cell_type": "code",
      "source": [
        "# Première manière, definition de fonction standard\n",
        "def f(x, y):\n",
        "  return x + y"
      ],
      "metadata": {
        "id": "hNbeXgcBuuST"
      },
      "execution_count": 8,
      "outputs": []
    },
    {
      "cell_type": "code",
      "source": [
        "f(5,10)"
      ],
      "metadata": {
        "id": "Yy_kmEyYu19h",
        "outputId": "39d88713-2143-4a59-a56d-167ac1ac4716",
        "colab": {
          "base_uri": "https://localhost:8080/"
        }
      },
      "execution_count": 9,
      "outputs": [
        {
          "output_type": "execute_result",
          "data": {
            "text/plain": [
              "15.4"
            ]
          },
          "metadata": {},
          "execution_count": 9
        }
      ]
    },
    {
      "cell_type": "code",
      "source": [
        "# En style fonctionnel, déclaratif, lambda calcul\n",
        "g = lambda x,y: x + y"
      ],
      "metadata": {
        "id": "HZL2fcDLu7Z0"
      },
      "execution_count": 4,
      "outputs": []
    },
    {
      "cell_type": "code",
      "source": [
        "g(5,5)"
      ],
      "metadata": {
        "id": "iWOUxApKvPSc",
        "outputId": "93ba2b8c-50bc-4976-e832-5be77c92c69c",
        "colab": {
          "base_uri": "https://localhost:8080/"
        }
      },
      "execution_count": 5,
      "outputs": [
        {
          "output_type": "execute_result",
          "data": {
            "text/plain": [
              "10"
            ]
          },
          "metadata": {},
          "execution_count": 5
        }
      ]
    }
  ]
}