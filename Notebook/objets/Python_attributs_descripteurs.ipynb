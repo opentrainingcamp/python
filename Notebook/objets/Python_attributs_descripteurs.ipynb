{
  "nbformat": 4,
  "nbformat_minor": 0,
  "metadata": {
    "colab": {
      "name": "UTC503_Python_attributs_descripteurs.ipynb",
      "provenance": [],
      "authorship_tag": "ABX9TyP6IeSlItwd9glME5/HPKAB",
      "include_colab_link": true
    },
    "kernelspec": {
      "name": "python3",
      "display_name": "Python 3"
    },
    "language_info": {
      "name": "python"
    }
  },
  "cells": [
    {
      "cell_type": "markdown",
      "metadata": {
        "id": "view-in-github",
        "colab_type": "text"
      },
      "source": [
        "<a href=\"https://colab.research.google.com/github/opentrainingcamp/python/blob/main/Notebook/objets/Python_attributs_descripteurs.ipynb\" target=\"_parent\"><img src=\"https://colab.research.google.com/assets/colab-badge.svg\" alt=\"Open In Colab\"/></a>"
      ]
    },
    {
      "cell_type": "markdown",
      "source": [
        "# Propriété de Python () : ajoutez des attributs gérés à vos classes"
      ],
      "metadata": {
        "id": "7i1eApOpMFTW"
      }
    },
    {
      "cell_type": "markdown",
      "source": [
        "Avec la propriété () de Python, vous pouvez créer des attributs gérés dans vos classes. Vous pouvez utiliser des attributs gérés, également appelés propriétés, lorsque vous devez modifier leur implémentation interne sans changer l'API publique de la classe. Fournir des API stables peut vous aider à éviter de casser le code de vos utilisateurs lorsqu'ils s'appuient sur vos classes et objets.\n",
        "\n",
        "Les propriétés sont sans doute le moyen le plus populaire de créer des attributs gérés rapidement et dans le plus pur style Pythonic.\n",
        "\n",
        "Dans cette première partie, vous apprendrez à :\n",
        "\n",
        "* Créez des attributs ou des propriétés gérés dans vos classes\n",
        "* Effectuer une évaluation des attributs paresseux et fournir des attributs calculés\n",
        "* Évitez les méthodes setter et getter pour rendre vos classes plus pythoniques\n",
        "* Créer des propriétés en lecture seule, en lecture-écriture et en écriture seule\n",
        "* Créez des API cohérentes et rétrocompatibles pour vos classes\n",
        "\n",
        "Vous allez également expérimenter quelques exemples pratiques qui utilisent property() pour valider les données d'entrée, calculer les valeurs d'attribut de manière dynamique, enregistrer votre code, etc. Pour tirer le meilleur parti de ce didacticiel, vous devez connaître les bases de la programmation orientée objet et des décorateurs en Python."
      ],
      "metadata": {
        "id": "IdQb9M5gMIVG"
      }
    },
    {
      "cell_type": "markdown",
      "source": [
        "## Gestion des attributs dans vos classes\n",
        "Lorsque vous définissez une classe dans un langage de programmation orienté objet, vous vous retrouverez probablement avec des attributs d'instance et de classe. En d'autres termes, vous vous retrouverez avec des variables accessibles via l'instance, la classe ou même les deux, selon la langue. Les attributs représentent ou contiennent l'état interne d'un objet donné, auquel vous aurez souvent besoin d'accéder et de muter.\n",
        "\n",
        "En règle générale, vous disposez d'au moins deux manières de gérer un attribut. Soit vous pouvez accéder à l'attribut et le modifier directement, soit vous pouvez utiliser des méthodes. Les méthodes sont des fonctions attachées à une classe donnée. Ils fournissent les comportements et les actions qu'un objet peut effectuer avec ses données et attributs internes.\n",
        "\n",
        "Si vous exposez vos attributs à l'utilisateur, ils font alors partie de l'API publique de vos classes. Votre utilisateur y accédera et les mutera directement dans son code. Le problème survient lorsque vous devez modifier l'implémentation interne d'un attribut donné.\n",
        "\n",
        "Supposons que vous travaillez sur une classe Circle. L'implémentation initiale a un seul attribut appelé `.radius`. Vous finissez de coder la classe et la mettez à disposition de vos utilisateurs finaux. Ils commencent à utiliser Circle dans leur code pour créer de nombreux projets et applications.\n",
        "\n",
        "Supposons maintenant que vous ayez un utilisateur important qui vous présente une nouvelle exigence. Ils ne veulent plus que Circle stocke le rayon. Ils ont besoin d'un attribut public `.diameter`.\n",
        "\n",
        "À ce stade, supprimer `.radius` pour commencer à utiliser `.diameter` pourrait casser le code de certains de vos utilisateurs finaux. Vous devez gérer cette situation autrement que par la suppression de `.radius`.\n",
        "\n",
        "Les langages de programmation tels que Java et C++ vous encouragent à ne jamais exposer vos attributs pour éviter ce genre de problème. Au lieu de cela, vous devez fournir des méthodes getter et setter, également appelées accesseurs et mutateurs, respectivement. Ces méthodes offrent un moyen de modifier l'implémentation interne de vos attributs sans modifier votre API publique."
      ],
      "metadata": {
        "id": "m1O4-5amNFgo"
      }
    },
    {
      "cell_type": "markdown",
      "source": [
        "# Quelle aproche getter/setter en Python\n",
        "\n",
        "Créeon notre première aproche naive (mais correcte) utilisant la notion de getter et setter"
      ],
      "metadata": {
        "id": "YgGafN1bN1sO"
      }
    },
    {
      "cell_type": "code",
      "source": [
        "class Point:\n",
        "    def __init__(self, x, y):\n",
        "        self._x = x\n",
        "        self._y = y\n",
        "\n",
        "    def get_x(self):\n",
        "        return self._x\n",
        "\n",
        "    def set_x(self, value):\n",
        "        self._x = value\n",
        "\n",
        "    def get_y(self):\n",
        "        return self._y\n",
        "\n",
        "    def set_y(self, value):\n",
        "        self._y = value"
      ],
      "metadata": {
        "id": "ipErtEhDOHxm"
      },
      "execution_count": null,
      "outputs": []
    },
    {
      "cell_type": "markdown",
      "source": [
        "Dans cet exemple, vous créez un point avec deux attributs non publics `._x` et `._y` pour contenir les coordonnées cartésiennes du point à portée de main."
      ],
      "metadata": {
        "id": "bjbkVqgmOUzf"
      }
    },
    {
      "cell_type": "markdown",
      "source": [
        "> **Note** : Python n'a pas la notion de modificateurs d'accès, tels que private, protected et public, pour restreindre l'accès aux attributs et aux méthodes. En Python, la distinction se fait entre les membres de classe publics et non publics.\n",
        "\n",
        "> Si vous souhaitez signaler qu'un attribut ou une méthode donnée n'est pas publique, vous devez utiliser la convention Python bien connue consistant à préfixer le nom avec un trait de soulignement (_). C'est la raison derrière la dénomination des attributs `._x` et `._y`.\n",
        "\n",
        "> Notez qu'il ne s'agit que d'une convention. Cela ne vous empêche pas, vous et les autres programmeurs, d'accéder aux attributs en utilisant la notation par points, comme dans `obj._attr`. Cependant, violer cette convention est une mauvaise pratique."
      ],
      "metadata": {
        "id": "PTZQeAttOc__"
      }
    },
    {
      "cell_type": "code",
      "source": [
        "point = Point(12, 5)\n",
        "point.get_x()"
      ],
      "metadata": {
        "id": "knDmLHt6O-e0"
      },
      "execution_count": null,
      "outputs": []
    },
    {
      "cell_type": "code",
      "source": [
        "point.get_y()"
      ],
      "metadata": {
        "id": "50sOXqXEPFy3"
      },
      "execution_count": null,
      "outputs": []
    },
    {
      "cell_type": "code",
      "source": [
        "point.set_x(42)\n",
        "point.get_x()"
      ],
      "metadata": {
        "id": "DmL1huPmPJSH"
      },
      "execution_count": null,
      "outputs": []
    },
    {
      "cell_type": "code",
      "source": [
        "# # Les attributs non publics sont toujours accessibles (mais mauvaise paratique faux pas le faire!)~\n",
        " print(point._x,  point._y)\n"
      ],
      "metadata": {
        "id": "c6YNwHahPUQv"
      },
      "execution_count": null,
      "outputs": []
    },
    {
      "cell_type": "markdown",
      "source": [
        "## Une meilleure aproche pythonique\n",
        "L'approche la plus commune consiste à transformer vos attributs en propriétés.\n",
        "\n",
        "Les propriétés représentent une fonctionnalité intermédiaire entre un attribut simple (ou champ) et une méthode. En d'autres termes, ils vous permettent de créer des méthodes qui se comportent comme des attributs. Avec les propriétés, vous pouvez modifier la façon dont vous calculez l'attribut cible chaque fois que vous en avez besoin.\n",
        "\n",
        "Par exemple, vous pouvez transformer à la fois `.x` et `.y` en propriétés. Avec ce changement, vous pouvez continuer à y accéder en tant qu'attributs. Vous aurez également une méthode sous-jacente contenant `.x` et `.y` qui vous permettra de modifier leur implémentation interne et d'effectuer des actions juste avant que vos utilisateurs n'y accèdent et les mute."
      ],
      "metadata": {
        "id": "O7uRMl_XPhq_"
      }
    },
    {
      "cell_type": "markdown",
      "source": [
        "### Premiers pas avec la `property()` de Python\n",
        "La `property()` de Python est le moyen Pythonique d'éviter les méthodes getter et setter formelles dans votre code. \n",
        "Cette fonction vous permet de transformer des attributs de classe en propriétés ou en attributs gérés. \n",
        "Puisque property() est une fonction intégrée, vous pouvez l'utiliser sans rien importer. De plus, property() a été implémenté en C pour garantir des performances optimales."
      ],
      "metadata": {
        "id": "xfyRupz0RNao"
      }
    },
    {
      "cell_type": "markdown",
      "source": [
        "Avec property(), vous pouvez attacher des méthodes getter et setter à des attributs de classe donnés. De cette façon, vous pouvez gérer l'implémentation interne de cet attribut sans exposer les méthodes getter et setter dans votre API. Vous pouvez également spécifier un moyen de gérer la suppression d'attributs et fournir une docstring appropriée pour vos propriétés."
      ],
      "metadata": {
        "id": "IMF5Zh2sRwqI"
      }
    },
    {
      "cell_type": "markdown",
      "source": [
        "Voici la signature de cette fonction `property(fget=None, fset=None, fdel=None, doc=None)`\n",
        "\n",
        "Les deux premiers arguments prennent des objets fonction qui joueront le rôle de méthodes getter (fget) et setter (fset). Voici un résumé de ce que fait chaque argument :"
      ],
      "metadata": {
        "id": "MSApgcH7Rzeg"
      }
    },
    {
      "cell_type": "markdown",
      "source": [
        "| Paramètre | Description |\n",
        "| --------- | ------------| \n",
        "| fget | Fonction qui renvoie la valeur de l'attribut géré | \n",
        "| fset | Fonction qui permet de définir la valeur de l'attribut géré | \n",
        "|fdel | Fonction pour définir comment l'attribut géré gère la suppression | \n",
        "|doc | Chaîne représentant la docstring de la propriété | "
      ],
      "metadata": {
        "id": "URc4uObGSTy2"
      }
    },
    {
      "cell_type": "markdown",
      "source": [
        "Un exemple pour mieux comprendre"
      ],
      "metadata": {
        "id": "jUPY0NwCSapX"
      }
    },
    {
      "cell_type": "code",
      "source": [
        "class Circle:\n",
        "    def __init__(self, radius):\n",
        "        self._radius = radius\n",
        "\n",
        "    def _get_radius(self):\n",
        "        print(\"Get radius\")\n",
        "        return self._radius\n",
        "\n",
        "    def _set_radius(self, value):\n",
        "        print(\"Set radius\")\n",
        "        self._radius = value\n",
        "\n",
        "    def _del_radius(self):\n",
        "        print(\"Delete radius\")\n",
        "        del self._radius\n",
        "\n",
        "    radius = property(\n",
        "        fget=_get_radius,\n",
        "        fset=_set_radius,\n",
        "        fdel=_del_radius,\n",
        "        doc=\"The radius property.\"\n",
        "    )"
      ],
      "metadata": {
        "id": "CI4oZFi8SAXP"
      },
      "execution_count": null,
      "outputs": []
    },
    {
      "cell_type": "markdown",
      "source": [
        "Dans cet extrait de code, vous créez Circle. L'initialiseur de classe, `.__init__()`, prend rayon comme argument et le stocke dans un attribut non public appelé `._radius`. Ensuite, vous définissez trois méthodes non publiques :\n",
        "\n",
        "* `._get_radius()` renvoie la valeur actuelle de `._radius`\n",
        "* `._set_radius()` prend la valeur comme argument et l'affecte à `._radius`\n",
        "* `._del_radius()` supprime l'attribut d'instance  `._radius`\n",
        "Une fois ces trois méthodes en place, vous créez un attribut de classe appelé `.radius` (sans l'_)  pour stocker l'objet de propriété. Pour initialiser la propriété, vous passez les trois méthodes comme arguments à property(). Vous transmettez également une docstring appropriée pour votre propriété.\n",
        "\n",
        "Dans cet exemple, vous utilisez des arguments de mot-clé pour améliorer la lisibilité du code et éviter toute confusion. De cette façon, vous savez exactement quelle méthode entre dans chaque argument."
      ],
      "metadata": {
        "id": "ba5pDNuaS0Fg"
      }
    },
    {
      "cell_type": "code",
      "source": [
        "circle = Circle(42.0)\n",
        "circle.radius\n"
      ],
      "metadata": {
        "colab": {
          "base_uri": "https://localhost:8080/"
        },
        "id": "XgM7g4C-TRMr",
        "outputId": "49c309b6-2d65-41ea-aaa4-2621b3b67869"
      },
      "execution_count": null,
      "outputs": [
        {
          "output_type": "stream",
          "name": "stdout",
          "text": [
            "Get radius\n"
          ]
        },
        {
          "output_type": "execute_result",
          "data": {
            "text/plain": [
              "42.0"
            ]
          },
          "metadata": {},
          "execution_count": 5
        }
      ]
    },
    {
      "cell_type": "code",
      "source": [
        "circle.radius = 100.0\n",
        "circle.radius\n"
      ],
      "metadata": {
        "colab": {
          "base_uri": "https://localhost:8080/"
        },
        "id": "ByJdafkhTcKh",
        "outputId": "7ca48d01-76a1-4e22-b0ab-a707d56211eb"
      },
      "execution_count": null,
      "outputs": [
        {
          "output_type": "stream",
          "name": "stdout",
          "text": [
            "Set radius\n",
            "Get radius\n"
          ]
        },
        {
          "output_type": "execute_result",
          "data": {
            "text/plain": [
              "100.0"
            ]
          },
          "metadata": {},
          "execution_count": 6
        }
      ]
    },
    {
      "cell_type": "code",
      "source": [
        "del circle.radius"
      ],
      "metadata": {
        "colab": {
          "base_uri": "https://localhost:8080/"
        },
        "id": "rHekWWLuTdUf",
        "outputId": "45a83a4a-3be7-4649-90a0-c26163803631"
      },
      "execution_count": null,
      "outputs": [
        {
          "output_type": "stream",
          "name": "stdout",
          "text": [
            "Delete radius\n"
          ]
        }
      ]
    },
    {
      "cell_type": "code",
      "source": [
        "circle.radius"
      ],
      "metadata": {
        "colab": {
          "base_uri": "https://localhost:8080/",
          "height": 305
        },
        "id": "osLmwvJbTqj-",
        "outputId": "3408336b-2a7e-449d-e50c-93128ea62ac1"
      },
      "execution_count": null,
      "outputs": [
        {
          "output_type": "stream",
          "name": "stdout",
          "text": [
            "Get radius\n"
          ]
        },
        {
          "output_type": "error",
          "ename": "AttributeError",
          "evalue": "ignored",
          "traceback": [
            "\u001b[0;31m---------------------------------------------------------------------------\u001b[0m",
            "\u001b[0;31mAttributeError\u001b[0m                            Traceback (most recent call last)",
            "\u001b[0;32m<ipython-input-8-b893cc768455>\u001b[0m in \u001b[0;36m<module>\u001b[0;34m()\u001b[0m\n\u001b[0;32m----> 1\u001b[0;31m \u001b[0mcircle\u001b[0m\u001b[0;34m.\u001b[0m\u001b[0mradius\u001b[0m\u001b[0;34m\u001b[0m\u001b[0;34m\u001b[0m\u001b[0m\n\u001b[0m",
            "\u001b[0;32m<ipython-input-4-f6352d065584>\u001b[0m in \u001b[0;36m_get_radius\u001b[0;34m(self)\u001b[0m\n\u001b[1;32m      5\u001b[0m     \u001b[0;32mdef\u001b[0m \u001b[0m_get_radius\u001b[0m\u001b[0;34m(\u001b[0m\u001b[0mself\u001b[0m\u001b[0;34m)\u001b[0m\u001b[0;34m:\u001b[0m\u001b[0;34m\u001b[0m\u001b[0;34m\u001b[0m\u001b[0m\n\u001b[1;32m      6\u001b[0m         \u001b[0mprint\u001b[0m\u001b[0;34m(\u001b[0m\u001b[0;34m\"Get radius\"\u001b[0m\u001b[0;34m)\u001b[0m\u001b[0;34m\u001b[0m\u001b[0;34m\u001b[0m\u001b[0m\n\u001b[0;32m----> 7\u001b[0;31m         \u001b[0;32mreturn\u001b[0m \u001b[0mself\u001b[0m\u001b[0;34m.\u001b[0m\u001b[0m_radius\u001b[0m\u001b[0;34m\u001b[0m\u001b[0;34m\u001b[0m\u001b[0m\n\u001b[0m\u001b[1;32m      8\u001b[0m \u001b[0;34m\u001b[0m\u001b[0m\n\u001b[1;32m      9\u001b[0m     \u001b[0;32mdef\u001b[0m \u001b[0m_set_radius\u001b[0m\u001b[0;34m(\u001b[0m\u001b[0mself\u001b[0m\u001b[0;34m,\u001b[0m \u001b[0mvalue\u001b[0m\u001b[0;34m)\u001b[0m\u001b[0;34m:\u001b[0m\u001b[0;34m\u001b[0m\u001b[0;34m\u001b[0m\u001b[0m\n",
            "\u001b[0;31mAttributeError\u001b[0m: 'Circle' object has no attribute '_radius'"
          ]
        }
      ]
    },
    {
      "cell_type": "markdown",
      "source": [
        "### Tout ceci est un peu lourd, autre possibilités les décorateurs\n",
        "\n",
        "Notre code devient"
      ],
      "metadata": {
        "id": "bns-xW-iUFPo"
      }
    },
    {
      "cell_type": "code",
      "source": [
        "class Circle:\n",
        "    def __init__(self, radius):\n",
        "        self._radius = radius\n",
        "\n",
        "    @property\n",
        "    def radius(self):\n",
        "        \"\"\"The radius property.\"\"\"\n",
        "        print(\"Get radius\")\n",
        "        return self._radius\n",
        "\n",
        "    @radius.setter\n",
        "    def radius(self, value):\n",
        "        print(\"Set radius\")\n",
        "        self._radius = value\n",
        "\n",
        "    @radius.deleter\n",
        "    def radius(self):\n",
        "        print(\"Delete radius\")\n",
        "        del self._radius"
      ],
      "metadata": {
        "id": "oH99bsgMUSNx"
      },
      "execution_count": null,
      "outputs": []
    },
    {
      "cell_type": "markdown",
      "source": [
        "Ce code semble assez différent de l'approche des méthodes getter et setter. Circle semble maintenant plus Pythonic et propre. Vous n'avez plus besoin d'utiliser des noms de méthode tels que ._get_radius(), ._set_radius() et ._del_radius(). Vous disposez maintenant de trois méthodes avec le même nom d'attribut propre et descriptif. Comment est-ce possible?\n",
        "\n",
        "L'approche du décorateur pour créer des propriétés nécessite de définir une première méthode utilisant le nom public de l'attribut géré sous-jacent, qui est `.radius` dans ce cas. Cette méthode doit implémenter la logique getter. Le @property\n",
        "\n",
        "@radius.setter définit la méthode setter pour `.radius`. Dans ce cas, la syntaxe est assez différente. Au lieu d'utiliser à nouveau @property, vous utilisez @radius.setter.\n",
        "\n",
        "enfin @radius.deleter permet de suprimer l'attribut"
      ],
      "metadata": {
        "id": "_6UyCUrbUe1H"
      }
    },
    {
      "cell_type": "code",
      "source": [
        "circle = Circle(43.0)\n",
        "print(\"circle.radius\", circle.radius)\n",
        "\n",
        "circle.radius = 101.0\n",
        "print(\"circle.radius\", circle.radius)\n",
        "\n",
        "del circle.radius\n",
        "print(\"circle.radius\", circle.radius)"
      ],
      "metadata": {
        "colab": {
          "base_uri": "https://localhost:8080/",
          "height": 444
        },
        "id": "Uomki-2FVVVp",
        "outputId": "a37ebd46-b88e-4fdb-9163-94664f9197d3"
      },
      "execution_count": null,
      "outputs": [
        {
          "output_type": "stream",
          "name": "stdout",
          "text": [
            "Get radius\n",
            "circle.radius 43.0\n",
            "Set radius\n",
            "Get radius\n",
            "circle.radius 101.0\n",
            "Delete radius\n",
            "Get radius\n"
          ]
        },
        {
          "output_type": "error",
          "ename": "AttributeError",
          "evalue": "ignored",
          "traceback": [
            "\u001b[0;31m---------------------------------------------------------------------------\u001b[0m",
            "\u001b[0;31mAttributeError\u001b[0m                            Traceback (most recent call last)",
            "\u001b[0;32m<ipython-input-11-1d3e1bc93ea3>\u001b[0m in \u001b[0;36m<module>\u001b[0;34m()\u001b[0m\n\u001b[1;32m      6\u001b[0m \u001b[0;34m\u001b[0m\u001b[0m\n\u001b[1;32m      7\u001b[0m \u001b[0;32mdel\u001b[0m \u001b[0mcircle\u001b[0m\u001b[0;34m.\u001b[0m\u001b[0mradius\u001b[0m\u001b[0;34m\u001b[0m\u001b[0;34m\u001b[0m\u001b[0m\n\u001b[0;32m----> 8\u001b[0;31m \u001b[0mprint\u001b[0m\u001b[0;34m(\u001b[0m\u001b[0;34m\"circle.radius\"\u001b[0m\u001b[0;34m,\u001b[0m \u001b[0mcircle\u001b[0m\u001b[0;34m.\u001b[0m\u001b[0mradius\u001b[0m\u001b[0;34m)\u001b[0m\u001b[0;34m\u001b[0m\u001b[0;34m\u001b[0m\u001b[0m\n\u001b[0m",
            "\u001b[0;32m<ipython-input-9-b591e62bae91>\u001b[0m in \u001b[0;36mradius\u001b[0;34m(self)\u001b[0m\n\u001b[1;32m      7\u001b[0m         \u001b[0;34m\"\"\"The radius property.\"\"\"\u001b[0m\u001b[0;34m\u001b[0m\u001b[0;34m\u001b[0m\u001b[0m\n\u001b[1;32m      8\u001b[0m         \u001b[0mprint\u001b[0m\u001b[0;34m(\u001b[0m\u001b[0;34m\"Get radius\"\u001b[0m\u001b[0;34m)\u001b[0m\u001b[0;34m\u001b[0m\u001b[0;34m\u001b[0m\u001b[0m\n\u001b[0;32m----> 9\u001b[0;31m         \u001b[0;32mreturn\u001b[0m \u001b[0mself\u001b[0m\u001b[0;34m.\u001b[0m\u001b[0m_radius\u001b[0m\u001b[0;34m\u001b[0m\u001b[0;34m\u001b[0m\u001b[0m\n\u001b[0m\u001b[1;32m     10\u001b[0m \u001b[0;34m\u001b[0m\u001b[0m\n\u001b[1;32m     11\u001b[0m     \u001b[0;34m@\u001b[0m\u001b[0mradius\u001b[0m\u001b[0;34m.\u001b[0m\u001b[0msetter\u001b[0m\u001b[0;34m\u001b[0m\u001b[0;34m\u001b[0m\u001b[0m\n",
            "\u001b[0;31mAttributeError\u001b[0m: 'Circle' object has no attribute '_radius'"
          ]
        }
      ]
    },
    {
      "cell_type": "markdown",
      "source": [
        "# Que sont les descripteurs Python ?\n",
        "Les descripteurs sont des objets Python qui implémentent une méthode du protocole de descripteur, qui vous donne la possibilité de créer des objets qui ont un comportement spécial lorsqu'ils sont accessibles en tant qu'attributs d'autres objets. Ici vous pouvez voir la définition correcte du protocole de descripteur :\n",
        "\n",
        "Protocole descripteur : Un attribut ne doit pas être manipulé directement main à travers une méthode, en voici la liste du protocole descripteur, en python on aurait:\n",
        "```python\n",
        "__get__(self, obj, type=None) -> object\n",
        "__set__(self, obj, value) -> None\n",
        "__delete__(self, obj) -> None\n",
        "__set_name__(self, owner, name)\n",
        "```"
      ],
      "metadata": {
        "id": "gULJGGxlIwD_"
      }
    },
    {
      "cell_type": "markdown",
      "source": [
        "Si votre descripteur implémente uniquement `.__get__()`, alors il s'agit d'un descripteur d'une \"non-données\". S'il implémente `.__set__()` ou `.__delete__()`, on dit qu'il s'agit d'un descripteur de données. Notez que cette différence ne concerne pas seulement le nom, mais c'est aussi une différence de comportement. C'est parce que les descripteurs de données ont la priorité pendant le processus de recherche, comme vous le verrez plus tard.\n",
        "\n",
        "Jetez un œil à l'exemple suivant, qui définit un descripteur qui enregistre quelque chose sur la console lors de l'accès :"
      ],
      "metadata": {
        "id": "jdmyq58uI5oP"
      }
    },
    {
      "cell_type": "code",
      "execution_count": null,
      "metadata": {
        "colab": {
          "base_uri": "https://localhost:8080/"
        },
        "id": "trxnVRD0Isjr",
        "outputId": "c3ee003c-1f61-4c08-e90f-5cb92082b114"
      },
      "outputs": [
        {
          "output_type": "stream",
          "name": "stdout",
          "text": [
            "accessing the attribute to get the value\n",
            "42\n"
          ]
        }
      ],
      "source": [
        "# descriptors.py\n",
        "class Verbose_attribute():\n",
        "    def __get__(self, obj, type=None) -> object:\n",
        "        print(\"accessing the attribute to get the value\")\n",
        "        return 42\n",
        "    def __set__(self, obj, value) -> None:\n",
        "        print(\"accessing the attribute to set the value\")\n",
        "        raise AttributeError(\"Cannot change the value\")\n",
        "\n",
        "class Foo():\n",
        "    attribute1 = Verbose_attribute()\n",
        "\n",
        "my_foo_object = Foo()\n",
        "x = my_foo_object.attribute1\n",
        "print(x)"
      ]
    },
    {
      "cell_type": "markdown",
      "source": [
        "Dans l'exemple ci-dessus, Verbose_attribute() implémente le protocole de descripteur. Une fois qu'il est instancié en tant qu'attribut de Foo, il peut être considéré comme un descripteur.\n",
        "\n",
        "En tant que descripteur, il a un comportement contraignant lorsqu'il est accédé à l'aide de la notation par points. Dans ce cas, le descripteur enregistre un message sur la console à chaque accès pour obtenir ou définir une valeur :\n",
        "\n",
        "Lorsqu'il est accédé à `.__get__()` la valeur, il renvoie toujours la valeur 42.\n",
        "Lorsqu'il accède à `.__set__()` une valeur spécifique, il lève une exception AttributeError, qui est la méthode recommandée pour implémenter des descripteurs en lecture seule.\n",
        "\n",
        "Maintenant, exécutez l'exemple ci-dessus et vous verrez le descripteur enregistrer l'accès à la console avant de renvoyer la valeur constante 42:\n",
        "Ici, lorsque vous essayez d'accéder à l'attribut1 de Foo(), le descripteur affiche \"accessing the attribute to get the value\" et retourne la valeur, comme défini dans `.__get__()`. "
      ],
      "metadata": {
        "id": "yNTGSBeMJ6EK"
      }
    },
    {
      "cell_type": "markdown",
      "source": [
        "# Comment les descripteurs fonctionnent dans les internes de Python\n",
        "Si vous avez de l'expérience en tant que développeur Python orienté objet, vous pouvez penser que l'approche de l'exemple précédent est un peu exagérée. Vous pouvez obtenir le même résultat en utilisant des propriétés. Bien que cela soit vrai, vous serez peut-être surpris de savoir que les propriétés en Python ne sont que… des descripteurs ! Vous verrez plus tard que les propriétés ne sont pas la seule fonctionnalité qui utilise les descripteurs Python."
      ],
      "metadata": {
        "id": "tTpzgVxXLCEB"
      }
    }
  ]
}