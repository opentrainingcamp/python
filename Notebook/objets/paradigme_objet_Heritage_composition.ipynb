{
  "nbformat": 4,
  "nbformat_minor": 0,
  "metadata": {
    "colab": {
      "name": "UTC503_paradigme_objet_Heritage_composition.ipynb",
      "provenance": [],
      "collapsed_sections": [],
      "authorship_tag": "ABX9TyPHPbLQv6MPTZuNy6srqOtE",
      "include_colab_link": true
    },
    "kernelspec": {
      "name": "python3",
      "display_name": "Python 3"
    }
  },
  "cells": [
    {
      "cell_type": "markdown",
      "metadata": {
        "id": "view-in-github",
        "colab_type": "text"
      },
      "source": [
        "<a href=\"https://colab.research.google.com/github/opentrainingcamp/python/blob/main/Notebook/objets/paradigme_objet_Heritage_composition.ipynb\" target=\"_parent\"><img src=\"https://colab.research.google.com/assets/colab-badge.svg\" alt=\"Open In Colab\"/></a>"
      ]
    },
    {
      "cell_type": "markdown",
      "metadata": {
        "id": "aNEi2i6Ka1P2"
      },
      "source": [
        "# L’orienté objet : lier les opérations au type\n",
        "\n",
        "* Attributs:\n",
        "    * d'instances\n",
        "    * de classe\n",
        "* méthodes\n",
        "\n",
        "## Notion d'arbre d'héritage dans un espace de nommage\n",
        "\n",
        "Un espace de nommage est un nom donné à un groupe d'élements. Les répartoire sont un exemple. Les espaces de nommage sont récursif un espace contient aussi d'autres espace de nommage.\n",
        "\n",
        "> NAMESPACE :== ELEM\\* | NAMESAPCE\\*\n",
        ">\n",
        "> ELEM :== variables | definitons de fonction | definition de classes \n",
        "\n",
        "\n",
        "Essayer [Espace de nommage et import](https://github.com/ISSAE/UTC503/tree/master/Seances/namesapce) de faire `python principal.py`\n",
        "\n",
        "... discussion ... \n",
        "\n"
      ]
    },
    {
      "cell_type": "markdown",
      "metadata": {
        "id": "TVTIoa4xT-6t"
      },
      "source": [
        "## L'arbre d'heritage dans le paradigme objet à la Python\n",
        "\n",
        "Des éléments accessibles au niveaux des instances et d'autres au niveaux des classes. \n",
        "\n",
        "En introduction, nous avons vu que nous avions une relation entre l'instance et la classe qui crée cette instance. C'est-à-dire que lorsque l'on cherche un attribut dans une instance, si on ne le trouve pas dans l'espace de nommage de l'instance, on remonte et on arrive dans la classe. \n",
        "\n",
        "> Classe => instance\n",
        "> \n",
        "> instance.elem > si existe dans instance utilise elem sinon recherche elem dans la Classe > Classe.elem sinon erreur\n",
        "\n",
        "\n",
        "Cette notion est ue notion d'arbre d'heritage. Cette notion d'arbre d'héritage s'étend également aux classes. Les classes peuvent hériter d'autres classes et on peut donc avoir un arbre d'héritage qui va partir \n",
        "> des instances, >> remonter aux classes, >> et remonter aux classes dont héritent ces classes. \n",
        "\n",
        "\n"
      ]
    },
    {
      "cell_type": "code",
      "metadata": {
        "id": "D3FVGxZbdyjw"
      },
      "source": [
        "class C1:\n",
        "  pass\n",
        "\n",
        "class C2:\n",
        "  pass\n",
        "\n",
        "class C(C1,C2):\n",
        "  pass\n",
        "\n"
      ],
      "execution_count": null,
      "outputs": []
    },
    {
      "cell_type": "markdown",
      "metadata": {
        "id": "5HdpSoI9eZug"
      },
      "source": [
        "On crée deux classes C1 et C2. Et ensuite, on crée une troisième classe C, qui hérite de C1 et C2. Cette notion d'héritage est représentée par des parenthèses mises après le nom de la classe, et dans ces parenthèses, on va mettre la liste des classes dont on hérite."
      ]
    },
    {
      "cell_type": "code",
      "metadata": {
        "id": "4lhRToWQeROA"
      },
      "source": [
        "c1 = C1() # new C1()\n",
        "c2 = C2()\n",
        "c  = C()"
      ],
      "execution_count": null,
      "outputs": []
    },
    {
      "cell_type": "code",
      "metadata": {
        "colab": {
          "base_uri": "https://localhost:8080/"
        },
        "id": "eG-GFuktdM0s",
        "outputId": "b5463fd7-d231-4365-d465-d4567162eb6a"
      },
      "source": [
        "type(c)"
      ],
      "execution_count": null,
      "outputs": [
        {
          "output_type": "execute_result",
          "data": {
            "text/plain": [
              "__main__.C"
            ]
          },
          "metadata": {
            "tags": []
          },
          "execution_count": 5
        }
      ]
    },
    {
      "cell_type": "markdown",
      "metadata": {
        "id": "hff_CKfSd8KG"
      },
      "source": [
        "On créé 3 objets (instance de C1,C2 et C)"
      ]
    },
    {
      "cell_type": "markdown",
      "metadata": {
        "id": "BX3ofx9ne-sh"
      },
      "source": [
        "* En fait, on va appeler la classe C une classe, et les classes C1 et C2 les super-classes de C. \n",
        "* On peut également dire en regardant le problème dans l'autre sens, que C1 et C2 sont des classes, et que C est une sous-classe de C1 et C2. \n",
        "\n",
        "![](https://issae.github.io/UTC503/Seances/Objets/heritage001.png)\n",
        "\n"
      ]
    },
    {
      "cell_type": "code",
      "metadata": {
        "id": "GwM9i4AKgDEl"
      },
      "source": [
        "i1 = C()\n",
        "i2 = C()"
      ],
      "execution_count": null,
      "outputs": []
    },
    {
      "cell_type": "markdown",
      "metadata": {
        "id": "lawx8IDBgCQY"
      },
      "source": [
        "Ensuite, si on crée des instances, I1 et I2, ces instances I1 et I2 sont des objets qui vont hériter de la classe. Et en fait, on remarque maintenant que les instances, la classe et les super-classes forment ce que l'on appelle un arbre d'héritage. \n",
        "\n",
        "![](https://github.com/ISSAE/UTC503/raw/master/Seances/Objets/arbreHeritage.png)\n",
        "\n",
        "Lorsque on cherche un attribut dans l'instance, si on ne le trouve pas dans l'espace de nommage de l'instance, on remonte dans sa classe ; si on ne le trouve pas dans la classe, on remonte dans les super-classes. Les super-classes étant des classes tout à fait comme les autres, elles peuvent elles-mêmes hériter d'autres classes et on peux donc avoir un arbre d'héritage qui est très grand.... "
      ]
    },
    {
      "cell_type": "markdown",
      "metadata": {
        "id": "QzmRWw51PWM7"
      },
      "source": [
        "## Definissons un exemple Le parallélogramme et ses dérivés: \n",
        "\n",
        "En géométrie, un parallélogramme est un quadrilatère dont les segments diagonaux se coupent en leurs milieux\n",
        "\n",
        "et les cas particuliers\n",
        "\n",
        "* Un losange est un parallélogramme ayant au moins deux côtés consécutifs de même longueur. Il est même équilatéral.\n",
        "* Un rectangle est un parallélogramme ayant au moins un angle droit. Il est même équiangle.\n",
        "* Un carré est un losange rectangle."
      ]
    },
    {
      "cell_type": "markdown",
      "metadata": {
        "id": "oCAr0tIOTMoW"
      },
      "source": [
        "## Commençons par définir un segment par deux points"
      ]
    },
    {
      "cell_type": "code",
      "metadata": {
        "id": "fM2Vw-d1TUR0"
      },
      "source": [
        "class Point:\n",
        "  ''' point et vecteur à la foi définit par un couple x,y '''\n",
        "\n",
        "  # le constructeur Point(int x, int y)\n",
        "  def __init__(self, x=0, y=0):\n",
        "    self.x = x\n",
        "    self.y = y\n",
        "\n",
        "  def __getitem__(self, i):\n",
        "    if (i==0):\n",
        "      return self.x\n",
        "    elif (i==1):\n",
        "      return self.y\n",
        "    else:\n",
        "      raise Exception(\"Indice hors limites\")\n",
        "\n",
        "  def __len__(self):\n",
        "    return 2\n",
        "\n",
        "  def __add__(self, autre):\n",
        "    return Point(self.x+autre.x, self.y+autre.y)\n",
        "\n",
        "  def __mult__(self, autre):\n",
        "    ''' produit cartésien '''\n",
        "    \n",
        "    return self.x*autre.x + self.y*autre.y\n",
        "\n",
        "  def for_plot(self, plot):\n",
        "    plot(self.x,self.y,'o-')\n",
        "\n",
        "  def __str__(self):\n",
        "    return f'<<Point {self.x},{self.y}>>'\n"
      ],
      "execution_count": null,
      "outputs": []
    },
    {
      "cell_type": "code",
      "metadata": {
        "colab": {
          "base_uri": "https://localhost:8080/"
        },
        "id": "ebtE9TQ7fyhW",
        "outputId": "edad1ef5-a2cb-46b0-be02-c5f2c1c4ccb0"
      },
      "source": [
        "p = Point()\n",
        "print(p)\n",
        "\n",
        "str(p)\n",
        "len(p)"
      ],
      "execution_count": null,
      "outputs": [
        {
          "output_type": "stream",
          "text": [
            "<<Point 0,0>>\n"
          ],
          "name": "stdout"
        },
        {
          "output_type": "execute_result",
          "data": {
            "text/plain": [
              "2"
            ]
          },
          "metadata": {
            "tags": []
          },
          "execution_count": 12
        }
      ]
    },
    {
      "cell_type": "code",
      "metadata": {
        "colab": {
          "base_uri": "https://localhost:8080/"
        },
        "id": "8X0IiWhag96X",
        "outputId": "efcbd3df-9d1b-489d-bbae-ed77ae7a4a66"
      },
      "source": [
        "p1 = Point(10,11)\n",
        "p2 = Point(20,21)\n",
        "print(p1,p2)"
      ],
      "execution_count": null,
      "outputs": [
        {
          "output_type": "stream",
          "text": [
            "<<Point 10,11>> <<Point 20,21>>\n"
          ],
          "name": "stdout"
        }
      ]
    },
    {
      "cell_type": "code",
      "metadata": {
        "colab": {
          "base_uri": "https://localhost:8080/"
        },
        "id": "qMMRZCQyhHvl",
        "outputId": "e410455a-cee0-4408-dd4b-a8e4d1ff69f4"
      },
      "source": [
        "print(p1+p2)"
      ],
      "execution_count": null,
      "outputs": [
        {
          "output_type": "stream",
          "text": [
            "<<Point 30,32>>\n"
          ],
          "name": "stdout"
        }
      ]
    },
    {
      "cell_type": "code",
      "metadata": {
        "colab": {
          "base_uri": "https://localhost:8080/",
          "height": 265
        },
        "id": "O-xFELXuXate",
        "outputId": "7221f7c8-e89d-4a6d-a8b2-464aa21e85e1"
      },
      "source": [
        "p1 = Point(10,0)\n",
        "p2 = Point(0,10)\n",
        "\n",
        "import matplotlib\n",
        "import matplotlib.pyplot as plt\n",
        "\n",
        "p1.for_plot(plt.plot)\n",
        "p2.for_plot(plt.plot)\n",
        "plt.show()"
      ],
      "execution_count": null,
      "outputs": [
        {
          "output_type": "display_data",
          "data": {
            "image/png": "[encoded data removed]",
            "text/plain": [
              "<Figure size 432x288 with 1 Axes>"
            ]
          },
          "metadata": {
            "tags": [],
            "needs_background": "light"
          }
        }
      ]
    },
    {
      "cell_type": "markdown",
      "metadata": {
        "id": "CZ7pTr67Uu70"
      },
      "source": [
        "## Composition"
      ]
    },
    {
      "cell_type": "code",
      "metadata": {
        "id": "aZ_1O0KCUuA2"
      },
      "source": [
        "class Segment:\n",
        "  def __init__(self, p1, p2):\n",
        "    ''' Un segment définit par 2 points '''\n",
        "    # Et si p1 et p2 sont pas des points!!!\n",
        "    self.p1 = p1\n",
        "    self.p2 = p2\n",
        "\n",
        "  def milieu(self):\n",
        "    return Point((self.p1.x+self.p2.x)/2,(self.p1.y+self.p2.y)/2)\n",
        "  \n",
        "  def taille(self):\n",
        "    import math\n",
        "    return math.hypot(self.p2.x-self.p1.x, self.p2.y-self.p1.y)\n",
        "\n",
        "  def for_plot(self, plot):\n",
        "    plot([self.p1.x,self.p2.x],[self.p1.y,self.p2.y],'o-')\n",
        "\n",
        "  def __str__(self):\n",
        "    return f'<<Segment {self.p1},{self.p2}>>'\n",
        "  "
      ],
      "execution_count": null,
      "outputs": []
    },
    {
      "cell_type": "code",
      "metadata": {
        "colab": {
          "base_uri": "https://localhost:8080/",
          "height": 283
        },
        "id": "mp0TzlcdPVTm",
        "outputId": "5ec70ecd-38a1-4811-af0d-e9388e81d7f7"
      },
      "source": [
        "s=Segment(p1,p2)\n",
        "print(s)\n",
        "s.for_plot(plt.plot)\n",
        "plt.show()"
      ],
      "execution_count": null,
      "outputs": [
        {
          "output_type": "stream",
          "text": [
            "<<Segment <<Point 10,0>>,<<Point 0,10>>>>\n"
          ],
          "name": "stdout"
        },
        {
          "output_type": "display_data",
          "data": {
            "image/png": "[encoded data removed]",
            "text/plain": [
              "<Figure size 432x288 with 1 Axes>"
            ]
          },
          "metadata": {
            "tags": [],
            "needs_background": "light"
          }
        }
      ]
    },
    {
      "cell_type": "code",
      "metadata": {
        "colab": {
          "base_uri": "https://localhost:8080/"
        },
        "id": "BwNPvCIvib6e",
        "outputId": "ff6afba8-ec27-407c-d7d8-d3214159dfac"
      },
      "source": [
        "print(s.milieu())"
      ],
      "execution_count": null,
      "outputs": [
        {
          "output_type": "stream",
          "text": [
            "<<Point 5.0,5.0>>\n"
          ],
          "name": "stdout"
        }
      ]
    },
    {
      "cell_type": "code",
      "metadata": {
        "id": "1QkKNPSXmjS2"
      },
      "source": [
        "class Segment_bis(Segment):\n",
        "  def __init__(self, x1, y1, x2, y2):\n",
        "    super().__init__(Point(x1, y1), Point(x2,y2))\n",
        "    self.X=[x1,x2]\n",
        "    self.Y=[y1,y2]\n",
        "\n",
        "  def for_plot(self, plot):\n",
        "    plot(self.X,self.Y,\"x-\")\n"
      ],
      "execution_count": null,
      "outputs": []
    },
    {
      "cell_type": "code",
      "metadata": {
        "id": "7nfC--FYavOr",
        "colab": {
          "base_uri": "https://localhost:8080/",
          "height": 283
        },
        "outputId": "68830c96-7eec-4e2f-bd9f-c39943599593"
      },
      "source": [
        "s2 = Segment_bis(10,15,25,20)\n",
        "\n",
        "s2.for_plot(plt.plot)\n",
        "print(s2.milieu())\n",
        "s2.milieu().for_plot(plt.plot)\n",
        "plt.show()"
      ],
      "execution_count": null,
      "outputs": [
        {
          "output_type": "stream",
          "text": [
            "<<Point 17.5,17.5>>\n"
          ],
          "name": "stdout"
        },
        {
          "output_type": "display_data",
          "data": {
            "image/png": "[encoded data removed]",
            "text/plain": [
              "<Figure size 432x288 with 1 Axes>"
            ]
          },
          "metadata": {
            "tags": [],
            "needs_background": "light"
          }
        }
      ]
    },
    {
      "cell_type": "markdown",
      "metadata": {
        "id": "EXw7_WKkp6y0"
      },
      "source": [
        "## Un autre sans héritage avec héritage"
      ]
    },
    {
      "cell_type": "code",
      "metadata": {
        "id": "5JAQANmLp5dV"
      },
      "source": [
        "class Rectangle:\n",
        "    def __init__(self, length, width):\n",
        "        self.length = length\n",
        "        self.width = width\n",
        "\n",
        "    def area(self):\n",
        "        return self.length * self.width\n",
        "\n",
        "    def perimeter(self):\n",
        "        return 2 * self.length + 2 * self.width\n",
        "\n",
        "class Square:\n",
        "    def __init__(self, length):\n",
        "        self.length = length\n",
        "\n",
        "    def area(self):\n",
        "        return self.length * self.length\n",
        "\n",
        "    def perimeter(self):\n",
        "        return 4 * self.length"
      ],
      "execution_count": null,
      "outputs": []
    },
    {
      "cell_type": "code",
      "metadata": {
        "id": "rl3XuWepp-9u"
      },
      "source": [
        "class Rectangle:\n",
        "    def __init__(self, length, width):\n",
        "        self.length = length\n",
        "        self.width = width\n",
        "\n",
        "    def area(self):\n",
        "        return self.length * self.width\n",
        "\n",
        "    def perimeter(self):\n",
        "        return 2 * self.length + 2 * self.width\n",
        "\n",
        "# Here we declare that the Square class inherits from the Rectangle class\n",
        "class Square(Rectangle):\n",
        "    def __init__(self, length):\n",
        "        super().__init__(length, length)"
      ],
      "execution_count": null,
      "outputs": []
    },
    {
      "cell_type": "markdown",
      "metadata": {
        "id": "TcyjeLYO94IE"
      },
      "source": [
        "## Expression binaire \n",
        "\n",
        "* EXP $\\Rightarrow$ EXPB | CONST\n",
        "* EXPB $\\Rightarrow$ (EXP OP EXP)\n",
        "* CONST $\\Rightarrow$ tout type numérique\n",
        "* OP $\\Rightarrow$ p | - | * | / | ...\n",
        "\n",
        "Une expression binaire est une expression. Une constante est une expression..\n",
        "\n",
        "Si nous modélisons nous aurons par exemple"
      ]
    },
    {
      "cell_type": "code",
      "metadata": {
        "id": "acxM4fILD23R"
      },
      "source": [
        "class Exp:\n",
        "    def __str__(self):\n",
        "        pass\n",
        "    def infixe(self):\n",
        "        pass\n",
        "    def postfixe(self):\n",
        "        pass\n",
        "    def prefixe(self):\n",
        "        pass\n",
        "    def eval():\n",
        "        pass"
      ],
      "execution_count": null,
      "outputs": []
    },
    {
      "cell_type": "code",
      "metadata": {
        "id": "DfQQbmq-_i2v"
      },
      "source": [
        "\n",
        "\n",
        "class Const(Exp):\n",
        "  \"\"\" Les constante des expression arithmétique\"\"\" \n",
        "  def __init__(self,v):\n",
        "    \"\"\" e attribut d'objet contenant le nombre\"\"\"\n",
        "    self.e=v\n",
        "  # def __str__(self):\n",
        "  #  return f\"C:{self.e}\"\n",
        "  def __str__(self):\n",
        "    return \"C:\"+str(self.e)\n",
        "  def postfixe(self):\n",
        "        return f\"C:{self.e}\"\n",
        "  def prefixe(self):\n",
        "        return f\"C:{self.e}\"\n",
        "  def eval(self):\n",
        "    return self.e\n",
        "    \n",
        "class ExpB(Exp):\n",
        "    \"\"\" Les Expression binaire des expression arithmétique\"\"\" \n",
        "    def __init__(self, op, e1, e2):\n",
        "        \"\"\" Expression binaire est définit par\n",
        "            un operateur : op exemple + - *\n",
        "            Une expression gauche e1: par exemple 2 ou (2+3)\n",
        "            Une expression droite e2:\n",
        "            (e1 op e2)\n",
        "            \"\"\"\n",
        "        self.op=op\n",
        "        self.e1=e1\n",
        "        self.e2=e2\n",
        "    def __str__(self):\n",
        "        return f\"({self.e1} {self.op} {self.e2})\"\n",
        "    # def __str__(slef):\n",
        "    #    return \"(\"+str(self.e1)+\" \"+str(self.op)+ \" \"+str(self.e2)+\")\"\n",
        "    def postfixe(self):\n",
        "        return f\"{self.e1.postfixe()} {self.e2.postfixe()} {self.op}\"\n",
        "    \n",
        "    def prefixe(self):\n",
        "        return f\"{self.op}({self.e1.prefixe()},{self.e2.prefixe()})\"\n",
        "    \n",
        "    def eval(self):\n",
        "        if self.op == '+':\n",
        "            return self.e1.eval() + self.e2.eval()\n",
        "        elif self.op == '-':\n",
        "            return self.e1.eval() - self.e2.eval()\n",
        "        elif self.op == '*':\n",
        "            return self.e1.eval() * self.e2.eval()\n",
        "        else:\n",
        "            raise SyntaxError(\"Pas un operateur connue \"+op)\n",
        "    "
      ],
      "execution_count": null,
      "outputs": []
    },
    {
      "cell_type": "code",
      "metadata": {
        "id": "pxnal9cvAY1n"
      },
      "source": [
        "c1=Const(1) # 1\n",
        "c2=Const(3.5) # 3.5\n",
        "eb1=ExpB('+',c1,c2) # (1 + 3.5)"
      ],
      "execution_count": null,
      "outputs": []
    },
    {
      "cell_type": "code",
      "metadata": {
        "colab": {
          "base_uri": "https://localhost:8080/"
        },
        "id": "qxhP4U3kmZn-",
        "outputId": "affa3284-0941-4097-d2f3-7f72e22cdec6"
      },
      "source": [
        "print(c1)\n",
        "print(c2)\n",
        "print(eb1)"
      ],
      "execution_count": null,
      "outputs": [
        {
          "output_type": "stream",
          "text": [
            "C:1\n",
            "C:3.5\n",
            "(C:1 p C:3.5)\n"
          ],
          "name": "stdout"
        }
      ]
    },
    {
      "cell_type": "code",
      "metadata": {
        "colab": {
          "base_uri": "https://localhost:8080/"
        },
        "id": "KDFBRM1dmqp8",
        "outputId": "2766361f-a1c2-4bfc-c986-7234e3149735"
      },
      "source": [
        "print(eb1.eval())"
      ],
      "execution_count": null,
      "outputs": [
        {
          "output_type": "stream",
          "text": [
            "4.5\n"
          ],
          "name": "stdout"
        }
      ]
    },
    {
      "cell_type": "code",
      "metadata": {
        "id": "2Mwa72wwAmkg"
      },
      "source": [
        "c1.infixe()"
      ],
      "execution_count": null,
      "outputs": []
    },
    {
      "cell_type": "code",
      "metadata": {
        "colab": {
          "base_uri": "https://localhost:8080/"
        },
        "id": "wndUXZMvBEOI",
        "outputId": "e25fe18e-eeaa-4a72-c55a-4c4b7733946e"
      },
      "source": [
        "eb1.eval()"
      ],
      "execution_count": null,
      "outputs": [
        {
          "output_type": "execute_result",
          "data": {
            "text/plain": [
              "4.5"
            ]
          },
          "metadata": {
            "tags": []
          },
          "execution_count": 51
        }
      ]
    },
    {
      "cell_type": "code",
      "metadata": {
        "colab": {
          "base_uri": "https://localhost:8080/"
        },
        "id": "-9QbI0o0BJc_",
        "outputId": "5f1fe8ba-7789-43a9-bf9b-f019e7edef8e"
      },
      "source": [
        "eb1"
      ],
      "execution_count": null,
      "outputs": [
        {
          "output_type": "execute_result",
          "data": {
            "text/plain": [
              "<__main__.ExpB at 0x7fbeddb78048>"
            ]
          },
          "metadata": {
            "tags": []
          },
          "execution_count": 52
        }
      ]
    },
    {
      "cell_type": "code",
      "metadata": {
        "colab": {
          "base_uri": "https://localhost:8080/"
        },
        "id": "a1jxBX7HBLcp",
        "outputId": "111e1da0-fe06-4851-8b15-cd0bd1e11941"
      },
      "source": [
        "print(c1, c2, eb1, sep=' - ')"
      ],
      "execution_count": null,
      "outputs": [
        {
          "output_type": "stream",
          "text": [
            "C:1 - C:3.5 - (C:1 + C:3.5)\n"
          ],
          "name": "stdout"
        }
      ]
    },
    {
      "cell_type": "code",
      "metadata": {
        "id": "B6fpMXLXBc6v"
      },
      "source": [
        "eb2=ExpB('-', eb1,c1)"
      ],
      "execution_count": null,
      "outputs": []
    },
    {
      "cell_type": "code",
      "metadata": {
        "colab": {
          "base_uri": "https://localhost:8080/"
        },
        "id": "IlGrFuMqBksB",
        "outputId": "44cb994d-c725-4c7d-9ef7-a9252bbdd582"
      },
      "source": [
        "print(eb2, '=', eb2.eval())"
      ],
      "execution_count": null,
      "outputs": [
        {
          "output_type": "stream",
          "text": [
            "((C:1 + C:3.5) - C:1) = 3.5\n"
          ],
          "name": "stdout"
        }
      ]
    },
    {
      "cell_type": "code",
      "metadata": {
        "id": "EhMyx3MbCL_R"
      },
      "source": [
        "eb3=ExpB('*', eb1,eb2)"
      ],
      "execution_count": null,
      "outputs": []
    },
    {
      "cell_type": "code",
      "metadata": {
        "colab": {
          "base_uri": "https://localhost:8080/"
        },
        "id": "2_2ASaQTCN-B",
        "outputId": "fb5ccca2-5555-49c6-8b72-057ade80cb27"
      },
      "source": [
        "print(eb3, '=', eb3.eval())"
      ],
      "execution_count": null,
      "outputs": [
        {
          "output_type": "stream",
          "text": [
            "((C:1 + C:3.5) * ((C:1 + C:3.5) - C:1)) = 15.75\n"
          ],
          "name": "stdout"
        }
      ]
    },
    {
      "cell_type": "code",
      "metadata": {
        "colab": {
          "base_uri": "https://localhost:8080/"
        },
        "id": "HH5NBR07CR_S",
        "outputId": "0de5d1f0-8cb9-4afd-efc9-4da715025732"
      },
      "source": [
        "print(eb3.postfixe(), eb3.prefixe(), eb3.infixe(), sep='\\n')"
      ],
      "execution_count": null,
      "outputs": [
        {
          "output_type": "stream",
          "text": [
            "C:1 C:3.5 + C:1 C:3.5 + C:1 - *\n",
            "*(+(C:1,C:3.5),-(+(C:1,C:3.5),C:1))\n",
            "None\n"
          ],
          "name": "stdout"
        }
      ]
    },
    {
      "cell_type": "code",
      "metadata": {
        "id": "8w-XtnZkDH6p"
      },
      "source": [
        "class NonImplemente(Exception):\n",
        "  pass"
      ],
      "execution_count": null,
      "outputs": []
    },
    {
      "cell_type": "code",
      "metadata": {
        "id": "_Ls441AFDSQa"
      },
      "source": [
        "class Exp:\n",
        "    def __str__(self):\n",
        "        raise NonImplemente(\"__str__ de Exp\")\n",
        "    def infixe(self):\n",
        "        raise NonImplemente(\"infixe de Exp\")\n",
        "    def postfixe(self):\n",
        "        raise NonImplemente(\"postfixe de Exp\")\n",
        "    def prefixe(self):\n",
        "        raise NonImplemente(\"prefixe de Exp\")\n",
        "    def eval():\n",
        "        raise NonImplemente(\"eval de Exp\")\n"
      ],
      "execution_count": null,
      "outputs": []
    },
    {
      "cell_type": "code",
      "metadata": {
        "id": "QiIfmuX8HDdz"
      },
      "source": [
        "class Const(Exp):\n",
        "  \"\"\" Les constante des expression arithmétique\"\"\" \n",
        "  def __init__(self,v):\n",
        "    \"\"\" e attribut d'objet contenant le nombre\"\"\"\n",
        "    self.e=v\n",
        "  # def __str__(self):\n",
        "  #  return f\"C:{self.e}\"\n",
        "  def __str__(self):\n",
        "    return \"C:\"+str(self.e)\n",
        "  def postfixe(self):\n",
        "        return f\"C:{self.e}\"\n",
        "  def prefixe(self):\n",
        "        return f\"C:{self.e}\"\n",
        "  def eval(self):\n",
        "    return self.e\n",
        "    "
      ],
      "execution_count": null,
      "outputs": []
    },
    {
      "cell_type": "code",
      "metadata": {
        "id": "7FTno0wOHGn4"
      },
      "source": [
        "class ExpB(Exp):\n",
        "    \"\"\" Les Expression binaire des expression arithmétique\"\"\" \n",
        "    def __init__(self, op, e1, e2):\n",
        "        \"\"\" Expression binaire est définit par\n",
        "            un operateur : op exemple + - *\n",
        "            Une expression gauche e1: par exemple 2 ou (2+3)\n",
        "            Une expression droite e2:\n",
        "            (e1 op e2)\n",
        "            \"\"\"\n",
        "        if (op in ['+', '-', '*', '/']) and isinstance(e1, Exp) and isinstance(e2,Exp):\n",
        "          self.op=op\n",
        "          self.e1=e1\n",
        "          self.e2=e2\n",
        "        else:\n",
        "          raise Exception(\"Mauvais paramétre du contructeur\")\n",
        "    def __str__(self):\n",
        "        return f\"\"\"({self.e1} {self.op} {self.e2})\"\"\"\n",
        "    # def __str__(slef):\n",
        "    #    return \"(\"+str(self.e1)+\" \"+str(self.op)+ \" \"+str(self.e2)+\")\"\n",
        "    def postfixe(self):\n",
        "        return f\"{self.e1.postfixe()} {self.e2.postfixe()} {self.op}\"\n",
        "    \n",
        "    def prefixe(self):\n",
        "        return f\"{self.op}({self.e1.prefixe()},{self.e2.prefixe()})\"\n",
        "    \n",
        "    def eval(self):\n",
        "        if self.op == '+':\n",
        "            return self.e1.eval() + self.e2.eval()\n",
        "        elif self.op == '-':\n",
        "            return self.e1.eval() - self.e2.eval()\n",
        "        elif self.op == '*':\n",
        "            return self.e1.eval() * self.e2.eval()\n",
        "        else:\n",
        "            raise SyntaxError(\"Pas un operateur connue \"+op)\n",
        "    "
      ],
      "execution_count": null,
      "outputs": []
    },
    {
      "cell_type": "code",
      "metadata": {
        "colab": {
          "base_uri": "https://localhost:8080/"
        },
        "id": "n3c4h_xYDoN7",
        "outputId": "65ec1fb7-69f8-4ce7-b1b8-0b8ef79f5d8a"
      },
      "source": [
        "c1 = Const(10)\n",
        "# c1.infixe()\n",
        "isinstance(c1,Exp)\n",
        "eb1 = ExpB(\"+\", c1, Const(20))\n",
        "print(eb1,eb1.eval())"
      ],
      "execution_count": null,
      "outputs": [
        {
          "output_type": "stream",
          "text": [
            "(C:10 + C:20) 30\n"
          ],
          "name": "stdout"
        }
      ]
    },
    {
      "cell_type": "code",
      "metadata": {
        "colab": {
          "base_uri": "https://localhost:8080/",
          "height": 288
        },
        "id": "VrcEQPOgH3WC",
        "outputId": "f01f7ed7-f134-4c4b-ddc2-867669145943"
      },
      "source": [
        "eb2 = ExpB('+', c1, 3)"
      ],
      "execution_count": null,
      "outputs": [
        {
          "output_type": "error",
          "ename": "Exception",
          "evalue": "ignored",
          "traceback": [
            "\u001b[0;31m---------------------------------------------------------------------------\u001b[0m",
            "\u001b[0;31mException\u001b[0m                                 Traceback (most recent call last)",
            "\u001b[0;32m<ipython-input-109-cc6a38f3790c>\u001b[0m in \u001b[0;36m<module>\u001b[0;34m()\u001b[0m\n\u001b[0;32m----> 1\u001b[0;31m \u001b[0meb2\u001b[0m \u001b[0;34m=\u001b[0m \u001b[0mExpB\u001b[0m\u001b[0;34m(\u001b[0m\u001b[0;34m'+'\u001b[0m\u001b[0;34m,\u001b[0m \u001b[0mc1\u001b[0m\u001b[0;34m,\u001b[0m \u001b[0;36m3\u001b[0m\u001b[0;34m)\u001b[0m\u001b[0;34m\u001b[0m\u001b[0;34m\u001b[0m\u001b[0m\n\u001b[0m",
            "\u001b[0;32m<ipython-input-105-095e8d578cda>\u001b[0m in \u001b[0;36m__init__\u001b[0;34m(self, op, e1, e2)\u001b[0m\n\u001b[1;32m     13\u001b[0m           \u001b[0mself\u001b[0m\u001b[0;34m.\u001b[0m\u001b[0me2\u001b[0m\u001b[0;34m=\u001b[0m\u001b[0me2\u001b[0m\u001b[0;34m\u001b[0m\u001b[0;34m\u001b[0m\u001b[0m\n\u001b[1;32m     14\u001b[0m         \u001b[0;32melse\u001b[0m\u001b[0;34m:\u001b[0m\u001b[0;34m\u001b[0m\u001b[0;34m\u001b[0m\u001b[0m\n\u001b[0;32m---> 15\u001b[0;31m           \u001b[0;32mraise\u001b[0m \u001b[0mException\u001b[0m\u001b[0;34m(\u001b[0m\u001b[0;34m\"Mauvais paramétre du contructeur\"\u001b[0m\u001b[0;34m)\u001b[0m\u001b[0;34m\u001b[0m\u001b[0;34m\u001b[0m\u001b[0m\n\u001b[0m\u001b[1;32m     16\u001b[0m     \u001b[0;32mdef\u001b[0m \u001b[0m__str__\u001b[0m\u001b[0;34m(\u001b[0m\u001b[0mself\u001b[0m\u001b[0;34m)\u001b[0m\u001b[0;34m:\u001b[0m\u001b[0;34m\u001b[0m\u001b[0;34m\u001b[0m\u001b[0m\n\u001b[1;32m     17\u001b[0m         \u001b[0;32mreturn\u001b[0m \u001b[0;34mf\"\"\"({self.e1} {self.op} {self.e2})\"\"\"\u001b[0m\u001b[0;34m\u001b[0m\u001b[0;34m\u001b[0m\u001b[0m\n",
            "\u001b[0;31mException\u001b[0m: Mauvais paramétre du contructeur"
          ]
        }
      ]
    },
    {
      "cell_type": "code",
      "metadata": {
        "id": "pVdjit3bGFRH"
      },
      "source": [
        "class A:\n",
        "  pass\n",
        "class B(A):\n",
        "  pass"
      ],
      "execution_count": null,
      "outputs": []
    },
    {
      "cell_type": "code",
      "metadata": {
        "id": "-75emNzsGtZB"
      },
      "source": [
        "b = B()\n",
        "a = A()"
      ],
      "execution_count": null,
      "outputs": []
    },
    {
      "cell_type": "code",
      "metadata": {
        "colab": {
          "base_uri": "https://localhost:8080/"
        },
        "id": "_NENK4FLGxij",
        "outputId": "dabfa0a9-f232-4db7-b747-1d028fd82bbc"
      },
      "source": [
        "isinstance(b, A)"
      ],
      "execution_count": null,
      "outputs": [
        {
          "output_type": "execute_result",
          "data": {
            "text/plain": [
              "True"
            ]
          },
          "metadata": {
            "tags": []
          },
          "execution_count": 102
        }
      ]
    },
    {
      "cell_type": "code",
      "metadata": {
        "colab": {
          "base_uri": "https://localhost:8080/"
        },
        "id": "0mdjO8KMKDwy",
        "outputId": "70e3aa14-84b5-43db-9ff2-6cbd5b60bf0e"
      },
      "source": [
        "B.__mro__"
      ],
      "execution_count": null,
      "outputs": [
        {
          "output_type": "execute_result",
          "data": {
            "text/plain": [
              "(__main__.B, __main__.A, object)"
            ]
          },
          "metadata": {
            "tags": []
          },
          "execution_count": 111
        }
      ]
    }
  ]
}