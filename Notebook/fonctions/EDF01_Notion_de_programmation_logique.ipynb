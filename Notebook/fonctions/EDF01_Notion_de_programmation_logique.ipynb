{
  "nbformat": 4,
  "nbformat_minor": 0,
  "metadata": {
    "colab": {
      "name": "Notion de programmation logique.ipynb",
      "provenance": [],
      "authorship_tag": "ABX9TyNFnPz2Mc+9e27UXCSC5jav",
      "include_colab_link": true
    },
    "kernelspec": {
      "name": "python3",
      "display_name": "Python 3"
    },
    "language_info": {
      "name": "python"
    }
  },
  "cells": [
    {
      "cell_type": "markdown",
      "metadata": {
        "id": "view-in-github",
        "colab_type": "text"
      },
      "source": [
        "<a href=\"https://colab.research.google.com/github/opentrainingcamp/python/blob/main/Notebook/fonctions/EDF01_Notion_de_programmation_logique.ipynb\" target=\"_parent\"><img src=\"https://colab.research.google.com/assets/colab-badge.svg\" alt=\"Open In Colab\"/></a>"
      ]
    },
    {
      "cell_type": "markdown",
      "source": [
        "Ce document est un Notebook autoformant, entre le cours et l’exercice. L’objectif est de vous introduire par l’exemple des fondamentaux du paradigme fonctionnel.\n",
        "\n",
        "# Les closures (fermeture)\n",
        "\n",
        "Variable utilisé dans une fonction, ni paramètre, ni locale.\n",
        "\n",
        "## Variable paramètre"
      ],
      "metadata": {
        "id": "Kza0cKjs7C8D"
      }
    },
    {
      "cell_type": "code",
      "execution_count": null,
      "metadata": {
        "id": "oyS1PlG36-vu"
      },
      "outputs": [],
      "source": [
        "def fp(x):\n",
        "  '''Ici x est un paramètre'''\n",
        "  return x+1"
      ]
    },
    {
      "cell_type": "code",
      "source": [
        "fp(1)"
      ],
      "metadata": {
        "id": "A_WxNPZZ8Pg9",
        "outputId": "bbb88871-b479-46ea-90b8-5bd0cce1f810",
        "colab": {
          "base_uri": "https://localhost:8080/"
        }
      },
      "execution_count": null,
      "outputs": [
        {
          "output_type": "execute_result",
          "data": {
            "text/plain": [
              "2"
            ]
          },
          "metadata": {},
          "execution_count": 2
        }
      ]
    },
    {
      "cell_type": "code",
      "source": [
        "# que donne ceci?\n",
        "x=10\n",
        "fp()"
      ],
      "metadata": {
        "id": "y1RbrtoY8T1E"
      },
      "execution_count": null,
      "outputs": []
    },
    {
      "cell_type": "markdown",
      "source": [
        "<font color=\"red\">@TODO1 expliquer pourquoi d'après vous.<font>"
      ],
      "metadata": {
        "id": "sZTmiP9h8cr0"
      }
    },
    {
      "cell_type": "markdown",
      "source": [
        "## Variable locale"
      ],
      "metadata": {
        "id": "CqPWK9kL80i8"
      }
    },
    {
      "cell_type": "code",
      "source": [
        "def fl():\n",
        "  x=0\n",
        "  return x+1"
      ],
      "metadata": {
        "id": "Bvzh1Uui8y-P"
      },
      "execution_count": null,
      "outputs": []
    },
    {
      "cell_type": "code",
      "source": [
        "# Que donne ceci cette fois ci\n",
        "x=10\n",
        "fl()"
      ],
      "metadata": {
        "id": "3rd3sbBr87BU"
      },
      "execution_count": null,
      "outputs": []
    },
    {
      "cell_type": "markdown",
      "source": [
        "<font color=\"red\">@TODO2 expliquer pourquoi d'après vous.<font>"
      ],
      "metadata": {
        "id": "pm61B00v9Dxk"
      }
    },
    {
      "cell_type": "markdown",
      "source": [
        "## Fermeture (closure)\n"
      ],
      "metadata": {
        "id": "J9V50jRS9LDc"
      }
    },
    {
      "cell_type": "code",
      "source": [
        "# Closure\n",
        "def f():\n",
        "  'y et z ne sont ni des paramètres ni des variable locale!'\n",
        "  return z+y\n",
        "\n",
        "# si vous faire f() que se passe t'il?\n",
        "f()"
      ],
      "metadata": {
        "id": "Y-hd3cYU9l7T"
      },
      "execution_count": null,
      "outputs": []
    },
    {
      "cell_type": "markdown",
      "source": [
        "<font color=\"red\">@TODO3 expliquer pourquoi d'après vous.<font>"
      ],
      "metadata": {
        "id": "VLUHJ6kA9aOE"
      }
    },
    {
      "cell_type": "code",
      "source": [
        "# Essayer ceci\n",
        "z=2\n",
        "y=3\n",
        "w=z+y\n",
        "print(f(),w)\n",
        "z=10\n",
        "y=20\n",
        "\n",
        "#w ne change pas mais le resultat de f() si\n",
        "print(f(),w)"
      ],
      "metadata": {
        "id": "FZ3ytUev9sAz"
      },
      "execution_count": null,
      "outputs": []
    },
    {
      "cell_type": "markdown",
      "source": [
        "<font color=\"red\">@TODO4 expliquer pourquoi d'après vous.<font>"
      ],
      "metadata": {
        "id": "2KMjepX79-CU"
      }
    },
    {
      "cell_type": "markdown",
      "source": [
        "## Une utilisation des closures\n",
        "\n",
        "\n",
        "Les closure sont source de bug car ils introduisent un effet qui pourrait être non prévisible. \n",
        "Mais cette notion permet de définir des fonctions dynamiquement, par exemple\n"
      ],
      "metadata": {
        "id": "q9NOiAuE-plE"
      }
    },
    {
      "cell_type": "markdown",
      "source": [
        "### Fonction qui définit une autre fonction\n",
        "Nous y reviendrons en déatil quand nous définirons la notion de lambda fonction"
      ],
      "metadata": {
        "id": "e8MvkBAj_BgU"
      }
    },
    {
      "cell_type": "code",
      "source": [
        "#soit \n",
        "def poly(a, b):\n",
        "  def app(x):\n",
        "    return a*x+b\n",
        "  return app"
      ],
      "metadata": {
        "id": "eAtUyUnL_FhM"
      },
      "execution_count": null,
      "outputs": []
    },
    {
      "cell_type": "markdown",
      "source": [
        "<font color=\"red\">@TODO5 Quel est le résultat de ploly(1,1) par exemple<font>"
      ],
      "metadata": {
        "id": "NBBTIbSK_h5M"
      }
    },
    {
      "cell_type": "code",
      "source": [
        "poly(1,1)"
      ],
      "metadata": {
        "id": "KyfayMEJ_t-b"
      },
      "execution_count": null,
      "outputs": []
    },
    {
      "cell_type": "markdown",
      "source": [
        "<font color=\"red\">@TODO6 Une explication?<font>"
      ],
      "metadata": {
        "id": "pO19UKck_74s"
      }
    },
    {
      "cell_type": "markdown",
      "source": [
        "La fonction poly revoie queqlues chose qui semble être elle même une fonction\n",
        "\n",
        "En effet elle renvoie une fonction permettant de définir un polynome de premier degré ax+b"
      ],
      "metadata": {
        "id": "FxK5XLx-ADCE"
      }
    },
    {
      "cell_type": "code",
      "source": [
        "# définir le polynome 2x+3\n",
        "p1 = poly(2,4)"
      ],
      "metadata": {
        "id": "Hf1BEWci_7Es"
      },
      "execution_count": null,
      "outputs": []
    },
    {
      "cell_type": "markdown",
      "source": [
        "<font color=\"red\">@TODO7 Que donne p1(1)?<font>"
      ],
      "metadata": {
        "id": "gTsUyJ0mAzHN"
      }
    },
    {
      "cell_type": "code",
      "source": [
        "p1(1)"
      ],
      "metadata": {
        "id": "m1laaU0tAuT7"
      },
      "execution_count": null,
      "outputs": []
    },
    {
      "cell_type": "markdown",
      "source": [
        "<font color=\"red\">@TODO8 Que donne p1(1) expliquer pourquoi?<font>"
      ],
      "metadata": {
        "id": "uFMNaJogA6xT"
      }
    },
    {
      "cell_type": "markdown",
      "source": [
        "<font color=\"red\">@TODO9 Definir dans une cellule le polynome -x+1</font>"
      ],
      "metadata": {
        "id": "M2ApWVAiBAMF"
      }
    },
    {
      "cell_type": "code",
      "source": [
        "# definir polynome -x+1 ici"
      ],
      "metadata": {
        "id": "VD2qCO5lBK_U"
      },
      "execution_count": null,
      "outputs": []
    },
    {
      "cell_type": "markdown",
      "source": [
        "<font color=\"red\">@TODO10 Exercice final</font>\n",
        "Ecrire la fonction qui génère la fonction pour calculer des polynome de second degré $ax^2+bx+c$"
      ],
      "metadata": {
        "id": "B9WyyHJcBZ30"
      }
    },
    {
      "cell_type": "code",
      "source": [
        "# Code de todo10"
      ],
      "metadata": {
        "id": "ntV8_lDpCG8o"
      },
      "execution_count": null,
      "outputs": []
    }
  ]
}