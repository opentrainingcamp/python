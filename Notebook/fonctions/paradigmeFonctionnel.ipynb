{
  "nbformat": 4,
  "nbformat_minor": 0,
  "metadata": {
    "colab": {
      "name": "paradigmeFonctionnel.ipynb",
      "provenance": [],
      "collapsed_sections": [],
      "include_colab_link": true
    },
    "kernelspec": {
      "name": "python3",
      "display_name": "Python 3"
    }
  },
  "cells": [
    {
      "cell_type": "markdown",
      "metadata": {
        "id": "view-in-github",
        "colab_type": "text"
      },
      "source": [
        "<a href=\"https://colab.research.google.com/github/opentrainingcamp/python/blob/main/Notebook/fonctions/paradigmeFonctionnel.ipynb\" target=\"_parent\"><img src=\"https://colab.research.google.com/assets/colab-badge.svg\" alt=\"Open In Colab\"/></a>"
      ]
    },
    {
      "cell_type": "markdown",
      "metadata": {
        "id": "zAw8yZdEWBGN"
      },
      "source": [
        "# Paradigme fonctionnel\n",
        "\n",
        "Structurer le programme avec des fonctions et leur structure de contrôle principale : la composition de fonction \n",
        "\n",
        "La fonction s’applique à un élément d’un ensemble (domaine) de départ et donne un unique résultat dans un autre ensemble (domaine) d'arriver.\n",
        "\n",
        "si\n",
        "\n",
        "$f:\\ D1 \\rightarrow D2,$\n",
        "\n",
        "$g:\\ D2 \\rightarrow D3$ \n",
        "\n",
        "alors \n",
        "\n",
        "$g∘f:\\ D1 \\rightarrow D3$ tel que $g∘f(x) = g(f(x))$\n",
        "\n",
        "Dans un langage de programmation fonctionnel les domaines (ensembles) sont les types\n"
      ]
    },
    {
      "cell_type": "code",
      "source": [
        ""
      ],
      "metadata": {
        "id": "4cALa1HgaLkz"
      },
      "execution_count": null,
      "outputs": []
    },
    {
      "cell_type": "markdown",
      "metadata": {
        "id": "CnAaVgf6YcGN"
      },
      "source": [
        "# Association lexicale\n",
        "Association lexicale: Quand on écrit une définition en utilisant des symbole et des opérateurs; on suppose que ces symboles ont une sémantique et on été défini auparavant\n",
        "\n",
        "$successeur: \\mathbb{N} \\rightarrow \\mathbb{N}$\n",
        "\n",
        "> $ x \\epsilon \\mathbb{N} \\rightarrow (x+1)\\epsilon \\mathbb{N}$\n",
        "\n",
        "Par exemple, on utilise le symbole (le caractère) + ce symbole a une sémantique (que fait-il?) qui est une opération d’addition qui doit être déjà définie\n"
      ]
    },
    {
      "cell_type": "markdown",
      "metadata": {
        "id": "aGvcPDibJkcf"
      },
      "source": [
        "Remarque en Python on dirait (duck typing): successeur s'applique à tout type possédant l'opérateur `+ (__add__)`"
      ]
    },
    {
      "cell_type": "markdown",
      "metadata": {
        "id": "ZpHej-ribu1F"
      },
      "source": [
        "# Abstraction fonctionnelle\n",
        "Un programme fonctionnel consiste en une expression E (représentant l'algorithme et les entrées). Cette expression E est sujette à des règles de réécriture : la réduction consiste en un remplacement d'une partie de programme fonctionnel par une autre partie de programme selon une règle de réécriture bien définie. Ce processus de réduction sera répété jusqu'à l'obtention d'une expression irréductible (aucune partie ne peut être réécrite). L'expression E* ainsi obtenue est appelée forme normale (fn) de E et constitue la sortie du programme. \n"
      ]
    },
    {
      "cell_type": "markdown",
      "metadata": {
        "id": "WHnB-PiacEJd"
      },
      "source": [
        "par exemple dans $f(x)=2*x$ quand on fait $f(2)$ on a $f(2) \\rightarrow 2*2 \\rightarrow 4$ uniquement par règles de substition"
      ]
    },
    {
      "cell_type": "markdown",
      "metadata": {
        "id": "v3Wi2mwceL51"
      },
      "source": [
        "# Les fondements : Le lambda Calcul\n",
        "Le λ-calcul a été inventé par le logicien américain Alonzo Church dans les années 1930\n",
        "Fournir un fondement au mathématiques plus simple que la théorie des ensembles, et fondé sur la notion de fonction => résultat en calculabilité, étant équivalent aux machine de turing et donc aux algorithme impératif\n",
        "\n",
        "Une théorie: Syntaxe, des règles d’inférences et une sémantique\n"
      ]
    },
    {
      "cell_type": "markdown",
      "metadata": {
        "id": "5wtyZkmDcgVu"
      },
      "source": [
        "# Lambda Calculus\n",
        "Les expressions lambda en Python et dans d’autres langages de programmation ont leurs racines dans le calcul lambda, un modèle de calcul inventé par Alonzo Church. Vous découvrirez quand le lambda calcul a été introduit et pourquoi c’est un concept fondamental qui s’est retrouvé dans l’écosystème Python.\n",
        "\n",
        "## Histoire, impératif fonctionnel les bases\n",
        "Alonzo Church a officialisé lambda calculus, une langue basée sur l’abstraction pure, dans les années 1930. Les fonctions lambda sont également appelées abstractions lambda, une référence directe au modèle d’abstraction de la création originale d’Alonzo Church.\n",
        "\n",
        "Le calcul lambda peut coder n’importe quel calcul. Il s’agit de [Turing complete](https://simple.wikipedia.org/wiki/Turing_complete), mais contrairement au concept d’une Turing machine, il est pur et ne ne garde aucun état.\n",
        "\n",
        "Les langages fonctionnels trouvent leur origine dans la logique mathématique et le calcul lambda, tandis que les langages de programmation impératifs embrassent le modèle de calcul basé sur l’état inventé par Alan Turing. Les deux modèles de calcul, lambda calcul et Turing machines, peuvent être traduits l’un dans l’autre. Cette équivalence est connue sous le nom de \"Church-Turing hypothesis\".\n",
        "\n",
        "Les langages fonctionnels héritent directement de la philosophie du calcul lambda, adoptant une approche **déclarative** de la programmation qui met l’accent sur l’abstraction, la **transformation** des données, la **composition** et la **pureté** (aucun état et aucun effet secondaire). Des exemples de langages fonctionnels incluent Haskell, Lisp ou Erlang.\n",
        "\n",
        "En revanche, la machine de Turing a conduit à une programmation impérative trouvée dans des langages comme Fortran, C , Java, C# ou Python.\n",
        "\n",
        "Le style impératif consiste à programmer avec des instructions, conduisant le déroulement du programme étape par étape avec des instructions détaillées. Cette approche favorise la mutation et nécessite la gestion de l’état.\n",
        "\n",
        "La séparation dans les deux familles présente quelques nuances, car certains langages fonctionnels incorporent des caractéristiques impératives, comme OCaml, tandis que les caractéristiques fonctionnelles imprègnent la famille impérative des langues en particulier avec l’introduction de lambda fonctions dans Java, ou Python.\n",
        "\n",
        "**Python n’est pas intrinsèquement un langage fonctionnel, mais il a adopté très tôt certains concepts fonctionnels.** En particulier, `map, filter, Reduce et l’opérateur lambda,` sont présents."
      ]
    },
    {
      "cell_type": "markdown",
      "metadata": {
        "id": "X_9JCZIFek9k"
      },
      "source": [
        "# la syntaxe : Les trois constructions principales du λ-calcul sont :\n",
        "* **la variable** (il faut bien commencer quelque part) : nous les noterons x, y, z, etc. \n",
        "* **l’application** : si u et v sont deux programmes, on peut considérer u comme une fonction et v comme un argument possible, et former l’application `u v`. Ceci correspond à la notation mathématique usuelle `u(v)` tout en nous économisant quelques parenthèses. On remarquera qu’il n’y a pas de contraintes de typage ici, et qu’il est donc tout à fait légal de former des auto-applications `x x` , par exemple. \n",
        "* **l’abstraction** : si u est un programme dépendant (ou non) de la variable x, alors on peut former un nouveau programme λx: u, qui représente la fonction qui à x associe u. Par exemple, λx: x + 1 est intuitivement la fonction qui à x associe x + 1 \n",
        "\n",
        "sauf que + et 1 ne font pas partie du vocabulaire décrit ci-dessus, faudra donc les définir avec du λ-calcul. Un point sur lequel nous reviendrons.\n",
        "\n",
        "\n"
      ]
    },
    {
      "cell_type": "markdown",
      "metadata": {
        "id": "we9Eg5t1e_x9"
      },
      "source": [
        "# Calculs et réduction : Les règles essentiel du λ-calcul \n",
        "* **α-renommage: (α)** λx: u  λy·(u[x ↾ y]) ,  [x ↾ y] exprime remplacer x par y\n",
        "ceci exprime par exemple que λx: x + 1 et λy: y + 1 représente la même expression\n",
        "* **β-réduction: (β)** (λx: u) v -> u[x ↾ v] qui exprime que si on applique la fonction qui à x associe u à l’argument v, on obtient la même chose que si on calcule directement u avec x remplacé par v. \n",
        "\n",
        "Par exemple, $(λx: x + 1)4  \\rightarrow 4 + 1$\n"
      ]
    },
    {
      "cell_type": "markdown",
      "metadata": {
        "id": "dY5uK-7Afll1"
      },
      "source": [
        "# Python possède une définition lambda\n",
        "```python\n",
        "lambda v : expression\n",
        "```\n",
        "\n",
        "exemple:"
      ]
    },
    {
      "cell_type": "code",
      "metadata": {
        "id": "VJFEPjGcfx4E",
        "colab": {
          "base_uri": "https://localhost:8080/"
        },
        "outputId": "afe85233-e8b9-447d-fcb0-af7a2d090f9f"
      },
      "source": [
        "lambda x: x+1"
      ],
      "execution_count": null,
      "outputs": [
        {
          "output_type": "execute_result",
          "data": {
            "text/plain": [
              "<function __main__.<lambda>>"
            ]
          },
          "metadata": {
            "tags": []
          },
          "execution_count": 1
        }
      ]
    },
    {
      "cell_type": "markdown",
      "metadata": {
        "id": "-xOfJCeSf77_"
      },
      "source": [
        "pour appliquer la β-réduction\n",
        "(lambda x: x+1)(2) -> python répondra 3\n"
      ]
    },
    {
      "cell_type": "code",
      "metadata": {
        "colab": {
          "base_uri": "https://localhost:8080/"
        },
        "id": "2B0NIqX6f-zt",
        "outputId": "bd6e7f0c-9ecd-44ea-b6a5-1a2e103b7045"
      },
      "source": [
        "(lambda x: x+1)(2)\n"
      ],
      "execution_count": null,
      "outputs": [
        {
          "output_type": "execute_result",
          "data": {
            "text/plain": [
              "3"
            ]
          },
          "metadata": {
            "tags": []
          },
          "execution_count": 1
        }
      ]
    },
    {
      "cell_type": "markdown",
      "metadata": {
        "id": "eGg17OzFnSIY"
      },
      "source": [
        "(lambda x : x+1)(2) => (2+1) -> 3"
      ]
    },
    {
      "cell_type": "markdown",
      "metadata": {
        "id": "AnbuJndlgDeP"
      },
      "source": [
        "on peut nommer les lambdas , tout simplement `inc = lambda x: x`+1 "
      ]
    },
    {
      "cell_type": "code",
      "metadata": {
        "id": "fYv7EYjff2We"
      },
      "source": [
        "inc = lambda x: x+1"
      ],
      "execution_count": null,
      "outputs": []
    },
    {
      "cell_type": "code",
      "metadata": {
        "id": "Ih21HQ-JV7yO",
        "colab": {
          "base_uri": "https://localhost:8080/"
        },
        "outputId": "5752a8e1-1bac-4745-f6d5-71adbb4e0815"
      },
      "source": [
        "inc(2)"
      ],
      "execution_count": null,
      "outputs": [
        {
          "output_type": "execute_result",
          "data": {
            "text/plain": [
              "3"
            ]
          },
          "metadata": {
            "tags": []
          },
          "execution_count": 8
        }
      ]
    },
    {
      "cell_type": "code",
      "metadata": {
        "id": "g39XPcxPn86A"
      },
      "source": [
        "e1 if c else e2"
      ],
      "execution_count": null,
      "outputs": []
    },
    {
      "cell_type": "markdown",
      "metadata": {
        "id": "elhAPz3dgSsd"
      },
      "source": [
        "Dans lambda, pas d’état: pas d’affectation, pas d’instructions tout est expression\n"
      ]
    },
    {
      "cell_type": "code",
      "metadata": {
        "id": "f-o2uZFmV4k4"
      },
      "source": [
        "fact = lambda n: n*fact(n-1) if n else 1"
      ],
      "execution_count": null,
      "outputs": []
    },
    {
      "cell_type": "code",
      "metadata": {
        "colab": {
          "base_uri": "https://localhost:8080/"
        },
        "id": "bChpzdmwOdgd",
        "outputId": "6b0d8708-70f5-4e6f-ae4c-c5010f73f9fe"
      },
      "source": [
        "fact(3)"
      ],
      "execution_count": null,
      "outputs": [
        {
          "output_type": "execute_result",
          "data": {
            "text/plain": [
              "6"
            ]
          },
          "metadata": {
            "tags": []
          },
          "execution_count": 5
        }
      ]
    },
    {
      "cell_type": "markdown",
      "metadata": {
        "id": "m1zJIpXnxr3k"
      },
      "source": [
        "En lambda calcul tout est fonction, pas de différence entre la fonction et le paramètre dans l'application `u v` "
      ]
    },
    {
      "cell_type": "code",
      "metadata": {
        "id": "MPflALTAv0gx",
        "colab": {
          "base_uri": "https://localhost:8080/"
        },
        "outputId": "08906556-f6c2-45b0-b060-bf667f24e445"
      },
      "source": [
        "#Autre exemple, un parametre peux être aussi une fonction\n",
        "applique10 = lambda f: f(10)\n",
        "\n",
        "applique10(inc)"
      ],
      "execution_count": null,
      "outputs": [
        {
          "output_type": "execute_result",
          "data": {
            "text/plain": [
              "11"
            ]
          },
          "metadata": {
            "tags": []
          },
          "execution_count": 9
        }
      ]
    },
    {
      "cell_type": "code",
      "metadata": {
        "colab": {
          "base_uri": "https://localhost:8080/"
        },
        "id": "eMekUWqRquWT",
        "outputId": "a3836e5b-853b-4cd1-972c-f1534da3b0bc"
      },
      "source": [
        "(lambda f: f(10))(inc)"
      ],
      "execution_count": null,
      "outputs": [
        {
          "output_type": "execute_result",
          "data": {
            "text/plain": [
              "11"
            ]
          },
          "metadata": {
            "tags": []
          },
          "execution_count": 12
        }
      ]
    },
    {
      "cell_type": "markdown",
      "metadata": {
        "id": "pZdH0Erdo1wW"
      },
      "source": [
        "applique10(inc) => inc(10) => 10+1 => 11\n",
        "\n",
        "```\n",
        "# Ce texte est au format code\n",
        "```\n",
        "\n"
      ]
    },
    {
      "cell_type": "code",
      "metadata": {
        "id": "QGrcpxUxpMw6"
      },
      "source": [
        "applique10(2)"
      ],
      "execution_count": null,
      "outputs": []
    },
    {
      "cell_type": "markdown",
      "metadata": {
        "id": "TALL55FEpSHG"
      },
      "source": [
        "applique10(2) => 2(10)"
      ]
    },
    {
      "cell_type": "markdown",
      "metadata": {
        "id": "QHJw_Z5dvnyj"
      },
      "source": [
        "# La programmation fonctionnelle : quelques caractéristiques\n",
        "* Les fonctions sont de première classe (objets). Autrement dit, tout ce que vous pouvez faire avec les «données» peut être fait avec les fonctions elles-mêmes (telles que le passage d'une fonction à une autre fonction).\n",
        "* La récursivité est utilisée comme structure de contrôle principale. Dans certaines langues, aucune autre construction de «boucle» n'existe.\n",
        "* L'accent est mis sur le traitement des listes (par exemple, c'est la source du nom Lisp). Les listes sont souvent utilisées avec la récursion sur les sous-listes en remplacement des boucles.\n",
        "* Les langages fonctionnels «purs» évitent les effets de bords. Cela exclut le modèle presque omniprésent dans les langages impératifs d'affectation d'une première, puis d'une autre valeur à la même variable pour suivre l'état du programme.\n",
        "* En programmatin fonctionnelle on tranforme les données on ne les modifie pas, nous utiliserons et nous nous forcerons à manipuler des données immutables\n",
        "* La programmation fonctionnelle décourage ou interdit carrément les déclarations, et fonctionne à la place avec l'évaluation des expressions (fonctions plus arguments). Dans le cas pur, un programme est expression.\n",
        "* La programmation fonctionnelle se préoccupe de ce qui doit être calculé plutôt que de la manière dont il doit être calculé.\n",
        "* Une grande partie de la programmation fonctionnelle utilise des fonctions «d'ordre supérieur» (en d'autres termes, des fonctions qui agissent sur des fonctions qui fonctionnent sur des fonctions).\n",
        "\n"
      ]
    },
    {
      "cell_type": "code",
      "metadata": {
        "id": "Q4gWY4vUryjD"
      },
      "source": [
        "plus = lambda x: lambda y: x+y"
      ],
      "execution_count": null,
      "outputs": []
    },
    {
      "cell_type": "code",
      "metadata": {
        "id": "qXSMzmN4r88y"
      },
      "source": [
        "plus10 = plus(10)"
      ],
      "execution_count": null,
      "outputs": []
    },
    {
      "cell_type": "markdown",
      "metadata": {
        "id": "iTiEzEBxsI51"
      },
      "source": [
        "plus(10) => lambda y: 10+y"
      ]
    },
    {
      "cell_type": "code",
      "metadata": {
        "colab": {
          "base_uri": "https://localhost:8080/"
        },
        "id": "VTwzJXlLsDu2",
        "outputId": "40953c4d-734d-43b7-93fc-56177eb9aefc"
      },
      "source": [
        "plus10(100)"
      ],
      "execution_count": null,
      "outputs": [
        {
          "output_type": "execute_result",
          "data": {
            "text/plain": [
              "110"
            ]
          },
          "metadata": {
            "tags": []
          },
          "execution_count": 17
        }
      ]
    },
    {
      "cell_type": "markdown",
      "metadata": {
        "id": "3OxkIWIcsSUZ"
      },
      "source": [
        "lambda y: 10+y => 10+100 => 110"
      ]
    },
    {
      "cell_type": "markdown",
      "metadata": {
        "id": "B0hdp6cE4AaQ"
      },
      "source": [
        "L'idée de la programmation fonctionnelle est de se concentrer sur l'écriture de petites fonctions expressives qui effectuent les **transformations** de données requises. Les combinaisons de fonctions peuvent souvent créer du code plus succinct et plus expressif que de longues chaînes d'instructions procédurales ou les méthodes d'objets complexes avec état. Ce partie se concentre sur les fonctionnalités de programmation fonctionnelle de Python.\n",
        "\n",
        "Cela offre une voie pour la conception de logiciels distincte de l'approche strictement orientée objet utilisée ailleurs. La combinaison d'objets avec des fonctions permet une flexibilité dans l'assemblage d'une collection optimale de composants."
      ]
    },
    {
      "cell_type": "markdown",
      "metadata": {
        "id": "muzz-_QD4RhN"
      },
      "source": [
        "# Fonctions et collections de données\n",
        "\n",
        "Étant donné que la programmation fonctionne souvent avec des collections de données, nous appliquerons souvent une fonction à tous les éléments d'une collection. Cela se produit lors de l'extraction et de la transformation de données. Cela se produit également lors de la synthèse des données. Cela correspond parfaitement à l'idée mathématique d'un constructeur d'ensemble ou d'une compréhension d'ensemble.\n",
        "\n",
        "Il existe trois modèles courants pour appliquer une fonction à un ensemble de données:"
      ]
    },
    {
      "cell_type": "markdown",
      "metadata": {
        "id": "DuzY1aD74neE"
      },
      "source": [
        "* **Mappage:** Ceci applique une fonction à tous les éléments d'une collection,. Nous appliquons une fonction, m, à chaque élément, x, d'une plus grande collection, S. $\\{m(x) / x \\in S\\}$\n",
        "* **Filtrage:** Cela utilise une fonction pour sélectionner des éléments d'une collection,. Nous utilisons un prédicat, f, pour déterminer s'il faut passer ou rejeter chaque élément, x, de la plus grande collection, S. $\\{x / x \\in S si f(x)\\}$\n",
        "* **Réduire:** cela résume les éléments d'une collection. L'une des réductions les plus courantes consiste à créer une somme de tous les éléments d'une collection, S, écrite comme. \n",
        "$\\sum_{x \\in S} x$\n",
        "D'autres réductions courantes incluent la recherche du plus petit, du plus grand, du produit de tous les élements, moyenne, écart type, etc..."
      ]
    },
    {
      "cell_type": "markdown",
      "metadata": {
        "id": "wD0wcTS_6tJH"
      },
      "source": [
        "$$ \\left \\{\n",
        "   \\begin{array}{r c l}\n",
        "      map &&:  \\{map(x) | x \\in S\\} \\\\\n",
        "      filter &&:  \\{x | x \\in S\\ si\\ filter(x)\\} \\\\\n",
        "      reduce &&: reduce(S)\n",
        "   \\end{array}\n",
        "   \\right .\n",
        "$$"
      ]
    },
    {
      "cell_type": "markdown",
      "metadata": {
        "id": "dZHrb9T67dXN"
      },
      "source": [
        "# Python comme langage fonctionnel\n",
        "La programmation fonctionnelle étant un style de programmation, elle pourrait être mise en œuvre avec tout langage de programmation. \n",
        "\n",
        "Par contre pour être suffisamment puissante il est préférable de l’utiliser avec un langage \n",
        "* permettant l’ordre supérieur \n",
        "* et le polymorphisme. ou mieux le typage dynamique ou encore le duck typing\n",
        "\n",
        "Python permet les 2, il possède aussi les fonctions anonyme lambda\n"
      ]
    },
    {
      "cell_type": "code",
      "metadata": {
        "colab": {
          "base_uri": "https://localhost:8080/"
        },
        "id": "LNhQfOywuLzX",
        "outputId": "579bf968-d3c0-4441-fa3c-c73538047777"
      },
      "source": [
        "lambda x,y: x+y"
      ],
      "execution_count": null,
      "outputs": [
        {
          "output_type": "execute_result",
          "data": {
            "text/plain": [
              "<function __main__.<lambda>>"
            ]
          },
          "metadata": {
            "tags": []
          },
          "execution_count": 18
        }
      ]
    },
    {
      "cell_type": "markdown",
      "metadata": {
        "id": "aKZsetTD91QH"
      },
      "source": [
        "# Ordre supérieur et typage dynamique : Fonctionnel en Python\n",
        "\n",
        "Python permet les 2, Les fonctions sont des entités comme toutes les autres, et le duck typing permet la souplesse au niveaux des  “Abstraction fonctionnelle”\n",
        "\n",
        "quand on défini par exemple `EV if Cond else EF`, on à une expression qui modélise:\n",
        "\n",
        "si Cond est évalué à vraie, alors le résultat est celle de l’expression EV sinon l'évaluation est celle de l’expression EF . \n",
        "\n",
        "Dans ce cas peu importe les types de EV et EF. Le langage que l’on utilise devrait le permettre.\n",
        "\n",
        "Je vous laisse réfléchir à cette définition:\n"
      ]
    },
    {
      "cell_type": "code",
      "metadata": {
        "id": "BSqseF9o-B7O"
      },
      "source": [
        "LunOuLautrePure = lambda cond: lambda ev: lambda ef: ev if cond else ef\n",
        "LunOuLautre = lambda cond, ev, ef: ev if cond else ef"
      ],
      "execution_count": null,
      "outputs": []
    },
    {
      "cell_type": "code",
      "metadata": {
        "colab": {
          "base_uri": "https://localhost:8080/",
          "height": 35
        },
        "id": "pVAp-Jpm-csW",
        "outputId": "333e582c-d335-44d6-f8b8-fd9a9a202d9f"
      },
      "source": [
        "LunOuLautrePure(True)('sasf')(100)"
      ],
      "execution_count": null,
      "outputs": [
        {
          "output_type": "execute_result",
          "data": {
            "application/vnd.google.colaboratory.intrinsic+json": {
              "type": "string"
            },
            "text/plain": [
              "'sasf'"
            ]
          },
          "metadata": {
            "tags": []
          },
          "execution_count": 23
        }
      ]
    },
    {
      "cell_type": "code",
      "metadata": {
        "colab": {
          "base_uri": "https://localhost:8080/"
        },
        "id": "EU6BMYOHvdrI",
        "outputId": "67ff6a92-8635-4c8f-9a57-8fcc1a6bc7f0"
      },
      "source": [
        "LunOuLautrePure(True)"
      ],
      "execution_count": null,
      "outputs": [
        {
          "output_type": "execute_result",
          "data": {
            "text/plain": [
              "<function __main__.<lambda>.<locals>.<lambda>>"
            ]
          },
          "metadata": {
            "tags": []
          },
          "execution_count": 24
        }
      ]
    },
    {
      "cell_type": "code",
      "metadata": {
        "colab": {
          "base_uri": "https://localhost:8080/",
          "height": 167
        },
        "id": "cKP5G1eGvlLg",
        "outputId": "8330755b-01d2-4b36-9806-67e99c1e8e25"
      },
      "source": [
        "LunOuLautre(True)"
      ],
      "execution_count": null,
      "outputs": [
        {
          "output_type": "error",
          "ename": "TypeError",
          "evalue": "ignored",
          "traceback": [
            "\u001b[0;31m---------------------------------------------------------------------------\u001b[0m",
            "\u001b[0;31mTypeError\u001b[0m                                 Traceback (most recent call last)",
            "\u001b[0;32m<ipython-input-25-950016937bba>\u001b[0m in \u001b[0;36m<module>\u001b[0;34m()\u001b[0m\n\u001b[0;32m----> 1\u001b[0;31m \u001b[0mLunOuLautre\u001b[0m\u001b[0;34m(\u001b[0m\u001b[0;32mTrue\u001b[0m\u001b[0;34m)\u001b[0m\u001b[0;34m\u001b[0m\u001b[0;34m\u001b[0m\u001b[0m\n\u001b[0m",
            "\u001b[0;31mTypeError\u001b[0m: <lambda>() missing 2 required positional arguments: 'ev' and 'ef'"
          ]
        }
      ]
    },
    {
      "cell_type": "code",
      "metadata": {
        "colab": {
          "base_uri": "https://localhost:8080/"
        },
        "id": "sa8_SPIBvQGm",
        "outputId": "295e6429-b08b-4f60-813e-6920e72ea063"
      },
      "source": [
        "LunOuLautre(False, 'saf', 10)"
      ],
      "execution_count": null,
      "outputs": [
        {
          "output_type": "execute_result",
          "data": {
            "text/plain": [
              "10"
            ]
          },
          "metadata": {
            "tags": []
          },
          "execution_count": 22
        }
      ]
    },
    {
      "cell_type": "code",
      "metadata": {
        "colab": {
          "base_uri": "https://localhost:8080/"
        },
        "id": "EgstVFUl-nOX",
        "outputId": "0f015c9a-a2ed-46b4-e574-119246a209ad"
      },
      "source": [
        "LunOuLautrePure(False)('expression vaie')(100)"
      ],
      "execution_count": null,
      "outputs": [
        {
          "output_type": "execute_result",
          "data": {
            "text/plain": [
              "100"
            ]
          },
          "metadata": {
            "tags": []
          },
          "execution_count": 5
        }
      ]
    },
    {
      "cell_type": "markdown",
      "metadata": {
        "id": "sXvPO3_YAeGV"
      },
      "source": [
        "# Écrivons nos premières fonctions en paradigme fonctionnel pur\n",
        "\n",
        "* factoriel\n",
        "* fibonacci\n",
        "* taille d'une liste\n",
        "* plus petit/plus grand élément d'une liste\n"
      ]
    },
    {
      "cell_type": "markdown",
      "metadata": {
        "id": "8F6gLJvMGoJa"
      },
      "source": [
        "## Factoriel : fact(n)\n",
        "\n",
        "$$ \\left \\{\n",
        "   \\begin{array}{r c l}\n",
        "      si\\ n > 0 &:  &n * fact(n-1) \\\\\n",
        "      si\\ n==0 &:  &1 \\\\\n",
        "   \\end{array}\n",
        "   \\right .\n",
        "$$"
      ]
    },
    {
      "cell_type": "code",
      "metadata": {
        "id": "uE4KvU7QHgIx"
      },
      "source": [
        "fact = lambda n: n*fact(n-1) if n else 1"
      ],
      "execution_count": null,
      "outputs": []
    },
    {
      "cell_type": "code",
      "metadata": {
        "colab": {
          "base_uri": "https://localhost:8080/"
        },
        "id": "XDnq59vrHoUx",
        "outputId": "36206648-b6fc-438b-d2a1-57c1d1311431"
      },
      "source": [
        "fact(5)"
      ],
      "execution_count": null,
      "outputs": [
        {
          "output_type": "execute_result",
          "data": {
            "text/plain": [
              "120"
            ]
          },
          "metadata": {
            "tags": []
          },
          "execution_count": 27
        }
      ]
    },
    {
      "cell_type": "code",
      "metadata": {
        "colab": {
          "base_uri": "https://localhost:8080/"
        },
        "id": "0q4n8rLWOKQM",
        "outputId": "30cebb08-4aca-4a57-f28a-e2d465b8c477"
      },
      "source": [
        "print(fact(10))\n",
        "%timeit fact(10)"
      ],
      "execution_count": null,
      "outputs": [
        {
          "output_type": "stream",
          "text": [
            "3628800\n",
            "1000000 loops, best of 3: 1.3 µs per loop\n"
          ],
          "name": "stdout"
        }
      ]
    },
    {
      "cell_type": "markdown",
      "metadata": {
        "id": "4puZT6H7HSvh"
      },
      "source": [
        "## Fibonacci : fib(n)\n",
        "\n",
        "$$ \\left \\{\n",
        "   \\begin{array}{r c l}\n",
        "      si\\ n > 1 &:  &fibo(n-1)+fibo(n-2) \\\\\n",
        "      si\\ n <= 1 &:  &1 \\\\\n",
        "   \\end{array}\n",
        "   \\right .\n",
        "$$"
      ]
    },
    {
      "cell_type": "code",
      "metadata": {
        "id": "9JOO2dxZHrEo"
      },
      "source": [
        "fibo = lambda n: fibo(n-1)+fibo(n-2) if n>1 else 1"
      ],
      "execution_count": null,
      "outputs": []
    },
    {
      "cell_type": "code",
      "metadata": {
        "colab": {
          "base_uri": "https://localhost:8080/"
        },
        "id": "tiw1TBGiH3px",
        "outputId": "d4b866f1-3013-4683-949a-41870c4fa82d"
      },
      "source": [
        "print(fibo(20))\n",
        "%timeit fibo(20)"
      ],
      "execution_count": null,
      "outputs": [
        {
          "output_type": "stream",
          "text": [
            "10946\n",
            "100 loops, best of 3: 2.38 ms per loop\n"
          ],
          "name": "stdout"
        }
      ]
    },
    {
      "cell_type": "markdown",
      "metadata": {
        "id": "X8opx462L492"
      },
      "source": [
        "### Le prix de la récusivité non terminale\n",
        "\n",
        "Comparons à la version impérative"
      ]
    },
    {
      "cell_type": "code",
      "metadata": {
        "id": "hTs_8mklIlax"
      },
      "source": [
        "def fiboimp(n):\n",
        "  f_2, f_1=1,1\n",
        "  for c in range(n-1):\n",
        "    f_2, f_1 = f_1, f_2+f_1\n",
        "  return f_1"
      ],
      "execution_count": null,
      "outputs": []
    },
    {
      "cell_type": "code",
      "metadata": {
        "colab": {
          "base_uri": "https://localhost:8080/"
        },
        "id": "ny1I4p-MJLBj",
        "outputId": "c04ed750-d1c1-448e-ac4a-b8a59e129327"
      },
      "source": [
        "print(fiboimp(20))\n",
        "%timeit fiboimp(20)"
      ],
      "execution_count": null,
      "outputs": [
        {
          "output_type": "stream",
          "text": [
            "10946\n",
            "The slowest run took 4.74 times longer than the fastest. This could mean that an intermediate result is being cached.\n",
            "1000000 loops, best of 3: 1.11 µs per loop\n"
          ],
          "name": "stdout"
        }
      ]
    },
    {
      "cell_type": "markdown",
      "metadata": {
        "id": "ThsKc81VMCny"
      },
      "source": [
        "Algorithme plus complexe car moins naturel que la définition:\n",
        "\n",
        "Trouver entre autre : initilisation, la condition d'arret de la boucle et l'invariant de boucle"
      ]
    },
    {
      "cell_type": "markdown",
      "metadata": {
        "id": "1iVovx0BMmCL"
      },
      "source": [
        "# Récursivité, récursivité terminale, itération"
      ]
    },
    {
      "cell_type": "markdown",
      "metadata": {
        "id": "OSKM6ec9MqB9"
      },
      "source": [
        "L'équivalence entre une fonction purement récursive et une fonction itérative issue de sa version récursive terminale.\n",
        "\n",
        "**Une fonction récursive terminale:** Aucun traitement n'est effectué à la remontée d'un appel récursif (sauf le retour d'une valeur).\n",
        "\n",
        "**Une fonction récursive non terminale:** Le résultat de l'appel récursif est utilisé pour réaliser un traitement (en plus du retour d'une valeur).\n",
        "\n",
        "Une fonction récursive terminale est en théorie plus efficace (mais souvent moins facile à écrire) que son équivalent non terminale : il n'y a qu'une phase de descente et pas de phase de remontée.\n",
        "\n",
        "En récursivité terminale, les appels récursifs n'ont pas besoin d'être empilés dans la pile d'exécution, car l'appel suivant remplace simplement l'appel précédent dans le contexte d'exécution.\n",
        "\n",
        "Il est possible de transformer, de façon simple, une fonction récursive terminale en une fonction itérative : c'est la dérécursivation.\n"
      ]
    },
    {
      "cell_type": "code",
      "metadata": {
        "id": "R1mGjXoaMcVT"
      },
      "source": [
        "# redifinissons fact et fobo en recusivité terminale\n",
        "\n",
        "fact_t = lambda n, acc: fact_t(n-1, acc*n) if n else acc"
      ],
      "execution_count": null,
      "outputs": []
    },
    {
      "cell_type": "code",
      "metadata": {
        "colab": {
          "base_uri": "https://localhost:8080/"
        },
        "id": "37VOs9foNZez",
        "outputId": "565230e5-1285-4d13-90f6-df4b23d1e53e"
      },
      "source": [
        "print(fact_t(10, 1))\n",
        "%timeit fact_t(10,1)"
      ],
      "execution_count": null,
      "outputs": [
        {
          "output_type": "stream",
          "text": [
            "3628800\n",
            "1000000 loops, best of 3: 1.34 µs per loop\n"
          ],
          "name": "stdout"
        }
      ]
    },
    {
      "cell_type": "code",
      "metadata": {
        "id": "H1M4nNaLOkVM"
      },
      "source": [
        "fibo_t = lambda n , acc: fibo_t(n-1, [acc[1], acc[0]+acc[1]]) if n>1 else acc[1]"
      ],
      "execution_count": null,
      "outputs": []
    },
    {
      "cell_type": "code",
      "metadata": {
        "colab": {
          "base_uri": "https://localhost:8080/"
        },
        "id": "exv8bMW2O8q7",
        "outputId": "9d66a7cd-da7e-4397-feee-4bb267699af3"
      },
      "source": [
        "print(fibo_t(20, [1,1]))\n",
        "%timeit fibo_t(20, [1,1])"
      ],
      "execution_count": null,
      "outputs": [
        {
          "output_type": "stream",
          "text": [
            "10946\n",
            "100000 loops, best of 3: 3.95 µs per loop\n"
          ],
          "name": "stdout"
        }
      ]
    },
    {
      "cell_type": "markdown",
      "metadata": {
        "id": "UszuEbhcXVA3"
      },
      "source": [
        "# manipulation d'ensemble et listes\n",
        "\n",
        "Pour nous entrainer à écrie des fonctions récusives en fonctionel pure, nous allons faire quelques fonctions sur les listes.\n",
        "\n",
        "Commencons par définir les 3 opérateurs définissant une liste (à la Lisp):\n",
        "\n",
        "* créer une liste. new_l\n",
        "* estVide. vide_l\n",
        "* tete,\n",
        "* reste\n",
        "* cons\n",
        "\n",
        "nous avons ces proprétés\n",
        "\n",
        "* cons(tete(l),reste(l)) = l\n",
        "* vide_l(newl()) = True"
      ]
    },
    {
      "cell_type": "markdown",
      "metadata": {
        "id": "PgOT5h3LYVcQ"
      },
      "source": [
        "## Définissons ces fonctions en Python et fonctionnel pure"
      ]
    },
    {
      "cell_type": "code",
      "metadata": {
        "id": "FbZleX0_Ybfu"
      },
      "source": [
        "new_l = lambda : []"
      ],
      "execution_count": null,
      "outputs": []
    },
    {
      "cell_type": "code",
      "metadata": {
        "id": "dhTgbtV8TtPV"
      },
      "source": [
        "vide_l = lambda l: not l"
      ],
      "execution_count": null,
      "outputs": []
    },
    {
      "cell_type": "code",
      "metadata": {
        "colab": {
          "base_uri": "https://localhost:8080/"
        },
        "id": "cOQum68AYph5",
        "outputId": "4ace8136-1cde-4139-dc7b-e4aec50af7ed"
      },
      "source": [
        "vide_l(new_l())"
      ],
      "execution_count": null,
      "outputs": [
        {
          "output_type": "execute_result",
          "data": {
            "text/plain": [
              "True"
            ]
          },
          "metadata": {
            "tags": []
          },
          "execution_count": 75
        }
      ]
    },
    {
      "cell_type": "code",
      "metadata": {
        "id": "DXwAReNBYzhp"
      },
      "source": [
        "tete = lambda l: l[0]"
      ],
      "execution_count": null,
      "outputs": []
    },
    {
      "cell_type": "code",
      "metadata": {
        "colab": {
          "base_uri": "https://localhost:8080/"
        },
        "id": "EohdsNXaY7yY",
        "outputId": "6c21f8f9-afa8-4ede-8e8b-016008ed0b16"
      },
      "source": [
        "tete([1,2,3])"
      ],
      "execution_count": null,
      "outputs": [
        {
          "output_type": "execute_result",
          "data": {
            "text/plain": [
              "1"
            ]
          },
          "metadata": {
            "tags": []
          },
          "execution_count": 79
        }
      ]
    },
    {
      "cell_type": "code",
      "metadata": {
        "id": "NTwX3DZyZGLu"
      },
      "source": [
        "reste = lambda l: l[1:]"
      ],
      "execution_count": null,
      "outputs": []
    },
    {
      "cell_type": "code",
      "metadata": {
        "colab": {
          "base_uri": "https://localhost:8080/"
        },
        "id": "lWRjhj_QZJcR",
        "outputId": "b364f505-f382-49ff-8645-3de3ae317206"
      },
      "source": [
        "reste([1,2,3])"
      ],
      "execution_count": null,
      "outputs": [
        {
          "output_type": "execute_result",
          "data": {
            "text/plain": [
              "[2, 3]"
            ]
          },
          "metadata": {
            "tags": []
          },
          "execution_count": 81
        }
      ]
    },
    {
      "cell_type": "code",
      "metadata": {
        "id": "CHEpjg-7ZQ6v"
      },
      "source": [
        "cons = lambda t, r: [t, *r]"
      ],
      "execution_count": null,
      "outputs": []
    },
    {
      "cell_type": "code",
      "metadata": {
        "colab": {
          "base_uri": "https://localhost:8080/"
        },
        "id": "FDAeXBUoZX0-",
        "outputId": "d5328535-fc9a-49f7-fcc3-145c258456d6"
      },
      "source": [
        "cons(1,[2,3])"
      ],
      "execution_count": null,
      "outputs": [
        {
          "output_type": "execute_result",
          "data": {
            "text/plain": [
              "[1, 2, 3]"
            ]
          },
          "metadata": {
            "tags": []
          },
          "execution_count": 83
        }
      ]
    },
    {
      "cell_type": "code",
      "metadata": {
        "colab": {
          "base_uri": "https://localhost:8080/"
        },
        "id": "d3pRzb-AZbsn",
        "outputId": "6f12ecfd-a1c6-4004-ac6a-2d3fbf20e83e"
      },
      "source": [
        "cons(1, cons(2, new_l()) )"
      ],
      "execution_count": null,
      "outputs": [
        {
          "output_type": "execute_result",
          "data": {
            "text/plain": [
              "[1, 2]"
            ]
          },
          "metadata": {
            "tags": []
          },
          "execution_count": 86
        }
      ]
    },
    {
      "cell_type": "markdown",
      "metadata": {
        "id": "r-zU2IU0j2b-"
      },
      "source": [
        "### Suivre ce [lien](https://colab.research.google.com/drive/1R3F3gOYoihrsOSgQnZWHZSgQXOO-d0tD) pour les exemples de récusivité avec les listes, et définition d'unschémas géneral de récursivité \n",
        "\n",
        "https://colab.research.google.com/drive/1R3F3gOYoihrsOSgQnZWHZSgQXOO-d0tD\n",
        "\n"
      ]
    },
    {
      "cell_type": "markdown",
      "metadata": {
        "id": "WnPtOvQecOuz"
      },
      "source": [
        "# Transformer une récursivité en recursivité terminale\n",
        "\n",
        "## La récursivité \n",
        "Un algorithme est récursif lorqu'il intervoent dans sa propre déscription. Il est défini en fonction de lui même. En général un algorithme récursif est lié à une relation de récurence.\n",
        "\n",
        "Par exemple on peut définir $x^n$ par la récurence suivante:\n",
        "$$ \\left \\{\n",
        "   \\begin{array}{r c l}\n",
        "      x^0 = 1 \\\\\n",
        "      x^n = x*x^{n-1} &si & n\\geq1 \\\\\n",
        "   \\end{array}\n",
        "   \\right .\n",
        "$$\n"
      ]
    },
    {
      "cell_type": "code",
      "metadata": {
        "id": "jWttyVo9fqbQ"
      },
      "source": [
        "# ce qui donne naturellement en Python\n",
        "xpn = lambda x: lambda n: 1 if n==0 else x*xpn(x)(n-1) "
      ],
      "execution_count": null,
      "outputs": []
    },
    {
      "cell_type": "code",
      "metadata": {
        "colab": {
          "base_uri": "https://localhost:8080/"
        },
        "id": "f0-wka5DgCxQ",
        "outputId": "c7742b0b-2203-47e6-84cd-617c806fa64f"
      },
      "source": [
        "xpn(10)(3)"
      ],
      "execution_count": null,
      "outputs": [
        {
          "output_type": "execute_result",
          "data": {
            "text/plain": [
              "1000"
            ]
          },
          "metadata": {
            "tags": []
          },
          "execution_count": 10
        }
      ]
    },
    {
      "cell_type": "code",
      "metadata": {
        "id": "k1uNnxbYgvUt"
      },
      "source": [
        "# ce qui donne naturellement en Python\n",
        "xpn = lambda x, n: 1 if n==0 else x*xpn(x,n-1) "
      ],
      "execution_count": null,
      "outputs": []
    },
    {
      "cell_type": "code",
      "metadata": {
        "colab": {
          "base_uri": "https://localhost:8080/"
        },
        "id": "c3ub3vOTg0he",
        "outputId": "55d48cb5-298e-47f4-dd3f-da9e4df9ca11"
      },
      "source": [
        "xpn(10,3)"
      ],
      "execution_count": null,
      "outputs": [
        {
          "output_type": "execute_result",
          "data": {
            "text/plain": [
              "1000"
            ]
          },
          "metadata": {
            "tags": []
          },
          "execution_count": 12
        }
      ]
    },
    {
      "cell_type": "markdown",
      "metadata": {
        "id": "dEQCI8xrhKyG"
      },
      "source": [
        "## Récursivité double\n",
        "soit les combinaison $C_n^p$ on a\n",
        "\n",
        "$$ \\left \\lgroup\n",
        "   \\begin{array}{r c l}\n",
        "      C_n^0 = 1 &si &p=0\\\\\n",
        "      C_i^i = 1 &si &n=p\\\\\n",
        "      C_{n-1}^p + C_{n-1}^{p-1} &si &n>0,p>0,n \\neq p \\\\\n",
        "   \\end{array}\n",
        "   \\right .\n",
        "$$"
      ]
    },
    {
      "cell_type": "code",
      "metadata": {
        "id": "tAXss4wAitjA"
      },
      "source": [
        "c_n_p = lambda n,p: 1 if p==0 else 1 if n==p else c_n_p(n-1,p)+c_n_p(n-1,p-1)"
      ],
      "execution_count": null,
      "outputs": []
    },
    {
      "cell_type": "code",
      "metadata": {
        "colab": {
          "base_uri": "https://localhost:8080/"
        },
        "id": "5oQwq-Yli-z0",
        "outputId": "b5d9090c-30a5-4c18-be44-7d6d0508f938"
      },
      "source": [
        "c_n_p(10,0)"
      ],
      "execution_count": null,
      "outputs": [
        {
          "output_type": "execute_result",
          "data": {
            "text/plain": [
              "1"
            ]
          },
          "metadata": {
            "tags": []
          },
          "execution_count": 14
        }
      ]
    },
    {
      "cell_type": "code",
      "metadata": {
        "colab": {
          "base_uri": "https://localhost:8080/"
        },
        "id": "MbstyU-2jDYL",
        "outputId": "89b41bc2-911d-48f3-b1c9-9b13a1ada179"
      },
      "source": [
        "c_n_p(10,10)"
      ],
      "execution_count": null,
      "outputs": [
        {
          "output_type": "execute_result",
          "data": {
            "text/plain": [
              "1"
            ]
          },
          "metadata": {
            "tags": []
          },
          "execution_count": 15
        }
      ]
    },
    {
      "cell_type": "code",
      "metadata": {
        "colab": {
          "base_uri": "https://localhost:8080/"
        },
        "id": "GrnIWf8EjGbk",
        "outputId": "5935a2e3-0bc3-4c8c-b420-75dc8c6579c9"
      },
      "source": [
        "c_n_p(5,1)"
      ],
      "execution_count": null,
      "outputs": [
        {
          "output_type": "execute_result",
          "data": {
            "text/plain": [
              "5"
            ]
          },
          "metadata": {
            "tags": []
          },
          "execution_count": 16
        }
      ]
    },
    {
      "cell_type": "code",
      "metadata": {
        "colab": {
          "base_uri": "https://localhost:8080/"
        },
        "id": "7QPfhYpujKlA",
        "outputId": "2bc94e50-9c8b-41a5-ad97-1df5d8633cfd"
      },
      "source": [
        "c_n_p(5,2)"
      ],
      "execution_count": null,
      "outputs": [
        {
          "output_type": "execute_result",
          "data": {
            "text/plain": [
              "10"
            ]
          },
          "metadata": {
            "tags": []
          },
          "execution_count": 17
        }
      ]
    },
    {
      "cell_type": "markdown",
      "metadata": {
        "id": "tZi_QFMydESS"
      },
      "source": [
        "## Point d'arrêt\n",
        "\n",
        "Toute les définitions récusives possèdent un point d'arrêt. Il faut un cas d’arrêt où l’on ne fait pas d’appel récursif.\n",
        "\n",
        "```\n",
        "<reponseDirecte> if <test_arret> else <appelRecursif>\n",
        "```\n"
      ]
    },
    {
      "cell_type": "markdown",
      "metadata": {
        "id": "4oF9D3Mxn1tz"
      },
      "source": [
        "# récusivité et récusivité terminale\n",
        "\n",
        "## Schemas général d'une récusivité\n",
        "$$ \\left \\lgroup\n",
        "   \\begin{array}{r c l}\n",
        "      f(...,0,...) &= &quelque\\ chose\\ sans\\ recusivité \\\\\n",
        "      f(...,n,...) &= &g(n,f(....,n-1,....),....)\\ forme\\ générale\n",
        "   \\end{array}\n",
        "   \\right .\n",
        "$$\n",
        "\n",
        "## Schemas général d'une récusivité terminale\n",
        "\n",
        "$$ \\left \\lgroup\n",
        "   \\begin{array}{r c l}\n",
        "      f(0) &= &quelque\\ chose\\ sans\\ recusivité \\\\\n",
        "      f(...,n,...) &= &f(...,(n-1),...)\\ forme\\ générale\n",
        "   \\end{array}\n",
        "   \\right .\n",
        "$$"
      ]
    },
    {
      "cell_type": "markdown",
      "metadata": {
        "id": "ohLlY-Q7fpEI"
      },
      "source": [
        "\n",
        "## La pile d'execution \n",
        "La Pile d’exécution (call stack) du programme en cours est un\n",
        "emplacement mémoire destiner à mémoriser les paramètres, les\n",
        "variables locales ainsi que l’adresse de retour de chaque fonction en\n",
        "cours d’exécution."
      ]
    },
    {
      "cell_type": "markdown",
      "metadata": {
        "id": "Lo01UUf6cozK"
      },
      "source": [
        "Elle fonctionne selon le principe LIFO (Last-In-First-Out) : dernier\n",
        "entré premier sorti.\n",
        "\n",
        "Attention ! La pile à une taille fixée, une mauvaise utilisation de la\n",
        "récursivité peut entraîner un débordement de pile (stack overflow)."
      ]
    },
    {
      "cell_type": "code",
      "metadata": {
        "id": "vG-Q8NHpxQtd"
      },
      "source": [
        "fact = lambda n: 1 if n ==0 else fact(n-1)*n"
      ],
      "execution_count": null,
      "outputs": []
    },
    {
      "cell_type": "code",
      "metadata": {
        "colab": {
          "base_uri": "https://localhost:8080/",
          "height": 279
        },
        "id": "NzXBXMM2cn4u",
        "outputId": "2a88ba59-5365-445c-fd4a-68f293658e4b"
      },
      "source": [
        "fact(1000)"
      ],
      "execution_count": null,
      "outputs": [
        {
          "output_type": "error",
          "ename": "RecursionError",
          "evalue": "ignored",
          "traceback": [
            "\u001b[0;31m---------------------------------------------------------------------------\u001b[0m",
            "\u001b[0;31mRecursionError\u001b[0m                            Traceback (most recent call last)",
            "\u001b[0;32m<ipython-input-14-a3d790031eab>\u001b[0m in \u001b[0;36m<module>\u001b[0;34m()\u001b[0m\n\u001b[0;32m----> 1\u001b[0;31m \u001b[0mfact\u001b[0m\u001b[0;34m(\u001b[0m\u001b[0;36m1000\u001b[0m\u001b[0;34m)\u001b[0m\u001b[0;34m\u001b[0m\u001b[0;34m\u001b[0m\u001b[0m\n\u001b[0m",
            "\u001b[0;32m<ipython-input-13-3d66625b130e>\u001b[0m in \u001b[0;36m<lambda>\u001b[0;34m(n)\u001b[0m\n\u001b[0;32m----> 1\u001b[0;31m \u001b[0mfact\u001b[0m \u001b[0;34m=\u001b[0m \u001b[0;32mlambda\u001b[0m \u001b[0mn\u001b[0m\u001b[0;34m:\u001b[0m \u001b[0;36m1\u001b[0m \u001b[0;32mif\u001b[0m \u001b[0mn\u001b[0m \u001b[0;34m==\u001b[0m\u001b[0;36m0\u001b[0m \u001b[0;32melse\u001b[0m \u001b[0mfact\u001b[0m\u001b[0;34m(\u001b[0m\u001b[0mn\u001b[0m\u001b[0;34m-\u001b[0m\u001b[0;36m1\u001b[0m\u001b[0;34m)\u001b[0m\u001b[0;34m*\u001b[0m\u001b[0mn\u001b[0m\u001b[0;34m\u001b[0m\u001b[0;34m\u001b[0m\u001b[0m\n\u001b[0m",
            "... last 1 frames repeated, from the frame below ...\n",
            "\u001b[0;32m<ipython-input-13-3d66625b130e>\u001b[0m in \u001b[0;36m<lambda>\u001b[0;34m(n)\u001b[0m\n\u001b[0;32m----> 1\u001b[0;31m \u001b[0mfact\u001b[0m \u001b[0;34m=\u001b[0m \u001b[0;32mlambda\u001b[0m \u001b[0mn\u001b[0m\u001b[0;34m:\u001b[0m \u001b[0;36m1\u001b[0m \u001b[0;32mif\u001b[0m \u001b[0mn\u001b[0m \u001b[0;34m==\u001b[0m\u001b[0;36m0\u001b[0m \u001b[0;32melse\u001b[0m \u001b[0mfact\u001b[0m\u001b[0;34m(\u001b[0m\u001b[0mn\u001b[0m\u001b[0;34m-\u001b[0m\u001b[0;36m1\u001b[0m\u001b[0;34m)\u001b[0m\u001b[0;34m*\u001b[0m\u001b[0mn\u001b[0m\u001b[0;34m\u001b[0m\u001b[0;34m\u001b[0m\u001b[0m\n\u001b[0m",
            "\u001b[0;31mRecursionError\u001b[0m: maximum recursion depth exceeded in comparison"
          ]
        }
      ]
    },
    {
      "cell_type": "markdown",
      "metadata": {
        "id": "TsD3unN57x9D"
      },
      "source": [
        "# Transformation\n",
        "\n",
        "* Utilisation d'un accumulateur `acc` : correspond à la valeur jusqu'à l'étape de récusivité précédente `n-1`.\n",
        "\n",
        "* On démmare avec acc initialisé à la valeur du point d'arret\n",
        "\n",
        "exemple cas de factorielle: \n",
        "\n",
        "$$ fact(n) = \\left \\{\n",
        "   \\begin{array}{r c l}\n",
        "      si\\ n > 0 &:  &n * fact(n-1) \\\\\n",
        "      si\\ n==0 &:  &1 \\\\\n",
        "   \\end{array}\n",
        "   \\right .\n",
        "$$\n",
        "\n",
        "devient: acc représente fact(n-1) \n",
        "\n",
        "$$ fact_t(acc, n) = \\left \\{\n",
        "   \\begin{array}{r c l}\n",
        "      si\\ n > 0 &:  &fact_t(acc*n,n-1) \\\\\n",
        "      si\\ n==0 &:  &acc \\\\\n",
        "   \\end{array}\n",
        "   \\right .\n",
        "$$\n",
        "\n",
        "puis\n",
        "\n",
        "$$ fact(n) = fact_t(1,n) $$\n"
      ]
    },
    {
      "cell_type": "code",
      "metadata": {
        "id": "4Zdq4N4E-Kvm"
      },
      "source": [
        "# en definition lambda\n",
        "fact_t = lambda acc: lambda n: acc if n==0 else fact_t(acc*n)(n-1)\n",
        "fact = fact_t(1)"
      ],
      "execution_count": null,
      "outputs": []
    },
    {
      "cell_type": "code",
      "metadata": {
        "colab": {
          "base_uri": "https://localhost:8080/"
        },
        "id": "1bjfeZrh_CTV",
        "outputId": "cde7cdc2-0e97-41e5-8459-c3eb4d7df9f4"
      },
      "source": [
        "print(fact(3), fact(5), fact(10))"
      ],
      "execution_count": null,
      "outputs": [
        {
          "output_type": "stream",
          "text": [
            "6 120 3628800\n"
          ],
          "name": "stdout"
        }
      ]
    },
    {
      "cell_type": "code",
      "metadata": {
        "id": "-8RgbrTI-OL_"
      },
      "source": [
        "# en definition normale"
      ],
      "execution_count": null,
      "outputs": []
    },
    {
      "cell_type": "code",
      "metadata": {
        "id": "1zEEmdl4y2LV"
      },
      "source": [
        "# fact = lambda n: 1 if n==0 else n*fatcvt(n-1)\n",
        "def fact(n):\n",
        "  if (n==0):\n",
        "    return 1\n",
        "  else:\n",
        "    return n*fact(n-1)"
      ],
      "execution_count": null,
      "outputs": []
    },
    {
      "cell_type": "code",
      "metadata": {
        "id": "KPSrqR7n_lAO"
      },
      "source": [
        "def fact_t(acc, n):\n",
        "  if n==0:\n",
        "    return acc\n",
        "  else:\n",
        "    return fact_t(acc*n,n-1)\n",
        "\n",
        "def fact(n):\n",
        "  return fact_t(1,n)"
      ],
      "execution_count": null,
      "outputs": []
    },
    {
      "cell_type": "code",
      "metadata": {
        "colab": {
          "base_uri": "https://localhost:8080/"
        },
        "id": "ZWeapjDP_yQo",
        "outputId": "a5f6ed63-7ddd-41de-f199-2a9e35840753"
      },
      "source": [
        "print(fact(3), fact(5), fact(10))"
      ],
      "execution_count": null,
      "outputs": [
        {
          "output_type": "stream",
          "text": [
            "6 120 3628800\n"
          ],
          "name": "stdout"
        }
      ]
    },
    {
      "cell_type": "markdown",
      "metadata": {
        "id": "-FWdtzA8_3Jm"
      },
      "source": [
        "Avons nous résulu le problème de la pile? En recursivité terminale plus besoin d'empiler, le dernier `return` est le résulat"
      ]
    },
    {
      "cell_type": "code",
      "metadata": {
        "colab": {
          "base_uri": "https://localhost:8080/",
          "height": 349
        },
        "id": "DrEYCFODACic",
        "outputId": "7125d530-31d6-429e-ac69-81d2686142e9"
      },
      "source": [
        "fact_t(1,1000)"
      ],
      "execution_count": null,
      "outputs": [
        {
          "output_type": "error",
          "ename": "RecursionError",
          "evalue": "ignored",
          "traceback": [
            "\u001b[0;31m---------------------------------------------------------------------------\u001b[0m",
            "\u001b[0;31mRecursionError\u001b[0m                            Traceback (most recent call last)",
            "\u001b[0;32m<ipython-input-21-ddce5fd6c117>\u001b[0m in \u001b[0;36m<module>\u001b[0;34m()\u001b[0m\n\u001b[0;32m----> 1\u001b[0;31m \u001b[0mfact_t\u001b[0m\u001b[0;34m(\u001b[0m\u001b[0;36m1\u001b[0m\u001b[0;34m,\u001b[0m\u001b[0;36m1000\u001b[0m\u001b[0;34m)\u001b[0m\u001b[0;34m\u001b[0m\u001b[0;34m\u001b[0m\u001b[0m\n\u001b[0m",
            "\u001b[0;32m<ipython-input-19-14e11e0a208d>\u001b[0m in \u001b[0;36mfact_t\u001b[0;34m(acc, n)\u001b[0m\n\u001b[1;32m      3\u001b[0m     \u001b[0;32mreturn\u001b[0m \u001b[0macc\u001b[0m\u001b[0;34m\u001b[0m\u001b[0;34m\u001b[0m\u001b[0m\n\u001b[1;32m      4\u001b[0m   \u001b[0;32melse\u001b[0m\u001b[0;34m:\u001b[0m\u001b[0;34m\u001b[0m\u001b[0;34m\u001b[0m\u001b[0m\n\u001b[0;32m----> 5\u001b[0;31m     \u001b[0;32mreturn\u001b[0m \u001b[0mfact_t\u001b[0m\u001b[0;34m(\u001b[0m\u001b[0macc\u001b[0m\u001b[0;34m*\u001b[0m\u001b[0mn\u001b[0m\u001b[0;34m,\u001b[0m\u001b[0mn\u001b[0m\u001b[0;34m-\u001b[0m\u001b[0;36m1\u001b[0m\u001b[0;34m)\u001b[0m\u001b[0;34m\u001b[0m\u001b[0;34m\u001b[0m\u001b[0m\n\u001b[0m\u001b[1;32m      6\u001b[0m \u001b[0;34m\u001b[0m\u001b[0m\n\u001b[1;32m      7\u001b[0m \u001b[0;32mdef\u001b[0m \u001b[0mfact\u001b[0m\u001b[0;34m(\u001b[0m\u001b[0mn\u001b[0m\u001b[0;34m)\u001b[0m\u001b[0;34m:\u001b[0m\u001b[0;34m\u001b[0m\u001b[0;34m\u001b[0m\u001b[0m\n",
            "... last 1 frames repeated, from the frame below ...\n",
            "\u001b[0;32m<ipython-input-19-14e11e0a208d>\u001b[0m in \u001b[0;36mfact_t\u001b[0;34m(acc, n)\u001b[0m\n\u001b[1;32m      3\u001b[0m     \u001b[0;32mreturn\u001b[0m \u001b[0macc\u001b[0m\u001b[0;34m\u001b[0m\u001b[0;34m\u001b[0m\u001b[0m\n\u001b[1;32m      4\u001b[0m   \u001b[0;32melse\u001b[0m\u001b[0;34m:\u001b[0m\u001b[0;34m\u001b[0m\u001b[0;34m\u001b[0m\u001b[0m\n\u001b[0;32m----> 5\u001b[0;31m     \u001b[0;32mreturn\u001b[0m \u001b[0mfact_t\u001b[0m\u001b[0;34m(\u001b[0m\u001b[0macc\u001b[0m\u001b[0;34m*\u001b[0m\u001b[0mn\u001b[0m\u001b[0;34m,\u001b[0m\u001b[0mn\u001b[0m\u001b[0;34m-\u001b[0m\u001b[0;36m1\u001b[0m\u001b[0;34m)\u001b[0m\u001b[0;34m\u001b[0m\u001b[0;34m\u001b[0m\u001b[0m\n\u001b[0m\u001b[1;32m      6\u001b[0m \u001b[0;34m\u001b[0m\u001b[0m\n\u001b[1;32m      7\u001b[0m \u001b[0;32mdef\u001b[0m \u001b[0mfact\u001b[0m\u001b[0;34m(\u001b[0m\u001b[0mn\u001b[0m\u001b[0;34m)\u001b[0m\u001b[0;34m:\u001b[0m\u001b[0;34m\u001b[0m\u001b[0;34m\u001b[0m\u001b[0m\n",
            "\u001b[0;31mRecursionError\u001b[0m: maximum recursion depth exceeded in comparison"
          ]
        }
      ]
    },
    {
      "cell_type": "markdown",
      "metadata": {
        "id": "lwf7tmvFAG-F"
      },
      "source": [
        "Non! car python étant plutot orienté impératif, ou plutot préfère l'explicite à l'implicite, ne tante pas d'obtimier les récusions alors? quel solution?\n",
        "\n",
        "Traduire en boucle...."
      ]
    },
    {
      "cell_type": "markdown",
      "metadata": {
        "id": "l81lF15rArtc"
      },
      "source": [
        "```python\n",
        "def fact_t(acc, n):\n",
        "  if n==0:\n",
        "    return acc\n",
        "  else:\n",
        "    return fact_t(acc*n,n-1)\n",
        "```\n",
        "\n",
        "```Python\n",
        "def fact_t(acc, n):\n",
        "  debut_fact_t\n",
        "  if n==0:\n",
        "    return acc\n",
        "  else:\n",
        "    acc = acc*n\n",
        "    n = n-1\n",
        "    aller à debut_fact_t:\n",
        "```\n"
      ]
    },
    {
      "cell_type": "code",
      "metadata": {
        "id": "QxMth-zABMET"
      },
      "source": [
        "#ce qui donnerait\n",
        "def fact_t(acc,n):\n",
        "  while True:\n",
        "    if n==0:\n",
        "        return acc\n",
        "    else:\n",
        "        acc = acc*n\n",
        "        n = n-1\n"
      ],
      "execution_count": null,
      "outputs": []
    },
    {
      "cell_type": "code",
      "metadata": {
        "id": "vkmV0GSeBis_"
      },
      "source": [
        "fact_t(1,100000)"
      ],
      "execution_count": null,
      "outputs": []
    },
    {
      "cell_type": "code",
      "metadata": {
        "id": "nY1s3zdGBrsl"
      },
      "source": [
        "#dernière optimisation\n",
        "def fact_t(acc,n):\n",
        "  while(n!=0):\n",
        "    acc = acc*n\n",
        "    n = n-1\n",
        "  # On sort de la boucle quand not (n!=0)\n",
        "\n",
        "def fact(n):\n",
        "  return fact_t(1,n)"
      ],
      "execution_count": null,
      "outputs": []
    },
    {
      "cell_type": "code",
      "metadata": {
        "id": "Oa_GQai8DFRq"
      },
      "source": [
        "#puis finalement tout simplement\n",
        "def fact(n):\n",
        "  acc = 1\n",
        "  while(n!=0):\n",
        "    acc = acc*n\n",
        "    n = n-1"
      ],
      "execution_count": null,
      "outputs": []
    },
    {
      "cell_type": "markdown",
      "metadata": {
        "id": "Comp7UJdDQgX"
      },
      "source": [
        "Qu'aurait donner la fonction fact en raisonement impératif avec boucle while\n",
        "\n",
        "on cherche un invariant de boucle on à fait le calcul jusqu'aun certaine étape:\n",
        "\n",
        "fact_i = 1*2*...*i\n",
        "\n",
        "i=0, fact_0 = 1\n",
        "\n",
        "\n"
      ]
    },
    {
      "cell_type": "code",
      "metadata": {
        "id": "9XHxH6piD7z_"
      },
      "source": [
        "def fact(n):\n",
        "  i=0\n",
        "  acc=1\n",
        "  while (i<n):\n",
        "    #avant acc = 1*2*...*i\n",
        "    i=i+1\n",
        "    #après acc = 1*2*...*(i+1)\n",
        "    acc = acc * i\n",
        "  #quand on sort i = n donc acc = 1*2*...*n"
      ],
      "execution_count": null,
      "outputs": []
    },
    {
      "cell_type": "markdown",
      "metadata": {
        "id": "cdr3SMlWKRLN"
      },
      "source": [
        "# Quelques problèmes facile en récursif plus complexe en itératif\n",
        "\n",
        "## Tour de hanoi\n",
        "\n",
        "![](https://upload.wikimedia.org/wikipedia/commons/thumb/6/60/Tower_of_Hanoi_4.gif/260px-Tower_of_Hanoi_4.gif)\n",
        "\n",
        "Nous allons voir qu'il est très simple de créer un programme récursif qui nous dit quoi faire pour résoudre le problème. Tout d'abord on appelle les tours A, B et C. On appelle n le nombre de disque présents au départ dans la tour A. Pour déplacer tous les disques de la tour A vers la tour C, on peut raisonner comme suit :\n",
        "\n",
        "* On déplace n-1 disques de A vers la tour B\n",
        "* On déplace le dernier disque de A vers C\n",
        "* On déplace les n-1 disques de B vers C\n",
        "\n",
        "L'astuce ici est de créer une fonction hanoi qui prend 4 paramètres : `hanoi(n,debut,inter,fin)` où n est le nombre de disques à déplacer, debut est la tour de départ de nos n disques, inter est la tour intermédiaire que l'on peut utiliser pour déplacer et fin est la tour ou doivent se trouver les n disques au final.\n",
        "\n",
        "Ainsi, au début on va lancer `hanoi(n,\"A\",\"B\",\"C\")` mais quand on va vouloir déplacer les n-1 disques de A vers B, on écrira `hanoi(n-1,\"A\",\"C\",\"B\")` .\n",
        "\n",
        "Exercice pour Ecrire cette fonction recursive `hanoi(n,debut,inter,fin)` de manière à afficher (avec print) à chaque étape le déplacement à effectuer sous la forme \"A B\" pour un déplacement de la tour \"A\" vers la tour \"B\" par exemple.\n",
        "\n",
        "Entrée : (n,\"A\",\"B\",\"C\") où n est un entier.\n",
        "\n",
        "Sortie : Les instructions à suivre pour déplacer les n disques de la tour \"A\" à la tour \"C\" donnée sous la forme \"A B\" pour signifier un déplacement de A vers B et affiché avec print.\n",
        "\n",
        "\n",
        "\n",
        "## Ackerman\n",
        "\n",
        "Ack(m,n) \n",
        "* vaut : n+1 si m=0\n",
        "* Ack(m-1,1) sinon et si n=0\n",
        "* Ack(m-1, Ack(m,n-1)) autrement"
      ]
    },
    {
      "cell_type": "markdown",
      "metadata": {
        "id": "EUqzjtt-OIDK"
      },
      "source": [
        ""
      ]
    }
  ]
}