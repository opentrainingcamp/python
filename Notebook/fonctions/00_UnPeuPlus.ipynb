{
  "nbformat": 4,
  "nbformat_minor": 0,
  "metadata": {
    "colab": {
      "name": "UTC503_UnPeuPlus.ipynb",
      "provenance": [],
      "collapsed_sections": [],
      "authorship_tag": "ABX9TyP5foGvDoZ4dvdgcQf9xM+m",
      "include_colab_link": true
    },
    "kernelspec": {
      "display_name": "Python 3",
      "name": "python3"
    }
  },
  "cells": [
    {
      "cell_type": "markdown",
      "metadata": {
        "id": "view-in-github",
        "colab_type": "text"
      },
      "source": [
        "<a href=\"https://colab.research.google.com/github/opentrainingcamp/python/blob/main/Notebook/fonctions/00_UnPeuPlus.ipynb\" target=\"_parent\"><img src=\"https://colab.research.google.com/assets/colab-badge.svg\" alt=\"Open In Colab\"/></a>"
      ]
    },
    {
      "cell_type": "markdown",
      "metadata": {
        "id": "iQoxW2_8M450"
      },
      "source": [
        "# Allons un peu plus loin, spécificités de Python\n",
        "\n",
        "Préparation des notions qui noujs permettrons d'introduire \n",
        "le paradigme fonctionnel dans le contexte Python"
      ]
    },
    {
      "cell_type": "markdown",
      "metadata": {
        "id": "Ca9wqbx3M844"
      },
      "source": [
        "* Closure\n",
        "* and-or et booléen\n",
        "* docstring\n",
        "* paramètres par défaut\n",
        "* signature de fonction (surcharge? polymorphisme?)\n",
        "* ‘expression if’ vs ‘instruction if’\n",
        "* iterable / générateur\n",
        "* Les modules: Avec le chapitre sur les objets\n",
        "* Les lambda, fonction de première classes : prochain chapitres\n",
        "* Quelques exemples préparant la suite\n"
      ]
    },
    {
      "cell_type": "markdown",
      "metadata": {
        "id": "f7FuXbcVu202"
      },
      "source": [
        "# Closure"
      ]
    },
    {
      "cell_type": "code",
      "metadata": {
        "id": "YUo8bQpFM1gv"
      },
      "source": [
        "# Closure\n",
        "def f():\n",
        "  'x et y ne sont ni des paramètres ni des variable locale!'\n",
        "  return x+y\n",
        "\n",
        "# si vous faire f() il y aura une erreure car ni x, ni y sont défini\n",
        "f()"
      ],
      "execution_count": null,
      "outputs": []
    },
    {
      "cell_type": "markdown",
      "metadata": {
        "id": "voMnc-FJvcxQ"
      },
      "source": [
        "Si vous définissez x et y, ça marche! x et y on été pris depuis le contexte... c'est la closure (la fermeture)"
      ]
    },
    {
      "cell_type": "code",
      "metadata": {
        "id": "fvxdu4uavQ4f"
      },
      "source": [
        "x=2\n",
        "y=3\n",
        "z=x+y\n",
        "print(f(),z)\n",
        "x=10\n",
        "y=20\n",
        "\n",
        "#z ne change pas mais le resultat de f() si\n",
        "print(f(),z)"
      ],
      "execution_count": null,
      "outputs": []
    },
    {
      "cell_type": "markdown",
      "source": [
        "Remarque : La closure est un anti-pattern dans le paradigme fonctionnel, c'est même une réelle sourtce de bugs en paradigme impératif"
      ],
      "metadata": {
        "id": "pwR-uM3CjfUI"
      }
    },
    {
      "cell_type": "markdown",
      "metadata": {
        "id": "Wj_bUlqXO9LP"
      },
      "source": [
        "## Expression Booléenne et Les expressions and et or : pythonique\n",
        "\n",
        "En Python, `and` et `or` appliquent la logique booléenne comme vous pouvez l’attendre, mais ils ne retournent pas de valeurs booléennes, ils retournent une des valeurs comparées.\n",
        "\n",
        ">Lorsqu’on utilise `and` ou `or` les valeurs sont évaluées dans un contexte booléen de gauche à droite. `0, '', [], (), {} et None` valent faux dans ce contexte, tout le reste vaut vrai.  \n",
        "* Si toutes les valeurs valent vrai dans un contexte booléen, and retourne la dernière valeur, sinon rerourne la première valeure fausse\n",
        "* or rtourne la première vraie, ou la drenière si toutes sont fausse. \n",
        "\n",
        "\n"
      ]
    },
    {
      "cell_type": "code",
      "metadata": {
        "id": "pSu088rUO3ce"
      },
      "source": [
        "'a' and 'b'"
      ],
      "execution_count": null,
      "outputs": []
    },
    {
      "cell_type": "code",
      "metadata": {
        "id": "MVio3rRAfKki"
      },
      "source": [
        "0 and 'a'"
      ],
      "execution_count": null,
      "outputs": []
    },
    {
      "cell_type": "code",
      "metadata": {
        "id": "B0UYClvwfRYr"
      },
      "source": [
        "if (0 and 'a'):\n",
        "  print('T')\n",
        "else:\n",
        "  print('F')"
      ],
      "execution_count": null,
      "outputs": []
    },
    {
      "cell_type": "code",
      "metadata": {
        "id": "epsgo1lBfjpf"
      },
      "source": [
        "if ('b'and 'a'):\n",
        "  print('T')\n",
        "else:\n",
        "  print('F')"
      ],
      "execution_count": null,
      "outputs": []
    },
    {
      "cell_type": "code",
      "metadata": {
        "id": "UFqskfY7fsCU"
      },
      "source": [
        "x = 'a' and 'b' and 'c'"
      ],
      "execution_count": null,
      "outputs": []
    },
    {
      "cell_type": "code",
      "metadata": {
        "id": "HeIhIEQdfwzh"
      },
      "source": [
        "x"
      ],
      "execution_count": null,
      "outputs": []
    },
    {
      "cell_type": "code",
      "metadata": {
        "id": "NEfJAGW2f1aT"
      },
      "source": [
        "y = 'a' and '' and 'c'"
      ],
      "execution_count": null,
      "outputs": []
    },
    {
      "cell_type": "code",
      "metadata": {
        "id": "ZjnuHsVdf8el"
      },
      "source": [
        "y"
      ],
      "execution_count": null,
      "outputs": []
    },
    {
      "cell_type": "code",
      "metadata": {
        "id": "E6eTrk5zgAIy"
      },
      "source": [
        "xo = 'a' or 'b' or 'c'"
      ],
      "execution_count": null,
      "outputs": []
    },
    {
      "cell_type": "code",
      "metadata": {
        "id": "hjLETHE9gORV"
      },
      "source": [
        "xo"
      ],
      "execution_count": null,
      "outputs": []
    },
    {
      "cell_type": "code",
      "metadata": {
        "id": "w7sR3V1TgfQi"
      },
      "source": [
        "def f():\n",
        "  print('x')\n",
        "  return 1"
      ],
      "execution_count": null,
      "outputs": []
    },
    {
      "cell_type": "code",
      "metadata": {
        "id": "1X69ka9Cgln6"
      },
      "source": [
        "calcul = f() and f() and '' and f()"
      ],
      "execution_count": null,
      "outputs": []
    },
    {
      "cell_type": "code",
      "metadata": {
        "id": "PJ5bf7hngzzE"
      },
      "source": [
        "calcul"
      ],
      "execution_count": null,
      "outputs": []
    },
    {
      "cell_type": "code",
      "metadata": {
        "id": "f3Oud2IqhIHr"
      },
      "source": [
        "calculor = f() or f() or '' or f()"
      ],
      "execution_count": null,
      "outputs": []
    },
    {
      "cell_type": "code",
      "metadata": {
        "id": "TZxRbCF_O6XV"
      },
      "source": [
        "'a' or 'b'"
      ],
      "execution_count": null,
      "outputs": []
    },
    {
      "cell_type": "code",
      "metadata": {
        "id": "XRpH7H58Plyg"
      },
      "source": [
        "0 and 'a'"
      ],
      "execution_count": null,
      "outputs": []
    },
    {
      "cell_type": "markdown",
      "metadata": {
        "id": "rMXDr7yYtCMP"
      },
      "source": [
        "## cas condition and e1 or e2\n",
        "equivalent à si condition alor e1 sinon e2\n",
        "\n",
        "Supposons que e1 et e2 ne soit pas interprété False.\n",
        "\n",
        "Quand condition True:  True and e1 donne e1\n",
        "\n",
        "Quand condition False: True and e1 est False on continue avec or et la réponse est e2"
      ]
    },
    {
      "cell_type": "code",
      "metadata": {
        "id": "o0k0SA2Nhtp6"
      },
      "source": [
        "e1,e2 = 'string1', 'string2'"
      ],
      "execution_count": null,
      "outputs": []
    },
    {
      "cell_type": "code",
      "metadata": {
        "id": "ZHKL0lD1tA1i"
      },
      "source": [
        "True and e1 or e2"
      ],
      "execution_count": null,
      "outputs": []
    },
    {
      "cell_type": "code",
      "metadata": {
        "id": "NynapmVTt0X1"
      },
      "source": [
        "False and e1 or e2"
      ],
      "execution_count": null,
      "outputs": []
    },
    {
      "cell_type": "code",
      "metadata": {
        "id": "-itKpSl8t39L"
      },
      "source": [
        "# ATTENTION\n",
        "True and '' or e2"
      ],
      "execution_count": null,
      "outputs": []
    },
    {
      "cell_type": "code",
      "metadata": {
        "id": "mlGoCvJYuHMW"
      },
      "source": [
        "def uneCond(cond, exp1, exp2):\n",
        "  ''' Nous utilisons return car c and e1 or e2 est une expression\n",
        "  Return ne peut pas être utilisé avec une enstruction\n",
        "  '''\n",
        "  return cond and exp1 or exp2"
      ],
      "execution_count": null,
      "outputs": []
    },
    {
      "cell_type": "code",
      "metadata": {
        "id": "1iSvtOh2uh9G"
      },
      "source": [
        "print(\"Avec True\", uneCond(True, e1, e2), \"avec False\", uneCond(False, e1, e2))"
      ],
      "execution_count": null,
      "outputs": []
    },
    {
      "cell_type": "markdown",
      "metadata": {
        "id": "7dumVa1Wsy8n"
      },
      "source": [
        "# Operateurs spalt * et **"
      ]
    },
    {
      "cell_type": "code",
      "metadata": {
        "id": "H4Wy7O3ywB0I"
      },
      "source": [
        "x = ['A', 'B']\n",
        "y = ('C', 'D')\n",
        "z = [*x, *y]\n",
        "print (z)\n",
        "\n",
        "\n",
        "d1={0: 'A', 1: 'B', 'c': 'C', 'd': 'D'}\n",
        "d2={'v1':'Data v1', 'v2':2, 1.0:'pourquoi pas'}\n",
        "print(*d1)\n",
        "print([*d1,*d2])\n",
        "print({**d1,**d2})"
      ],
      "execution_count": null,
      "outputs": []
    },
    {
      "cell_type": "markdown",
      "metadata": {
        "id": "3sK2KPISw-NC"
      },
      "source": [
        "## Unpacking dans le détail, l'opérateur * un peu étrange\n",
        "\n",
        "* \\* pour la multiplication des nombres,\n",
        "* mais \\* avec les listes ça donne quoi?"
      ]
    },
    {
      "cell_type": "code",
      "metadata": {
        "id": "pXqCQBGhxA5v"
      },
      "source": [
        "# soit la liste lst\n",
        "lst = [1, 2, 3]"
      ],
      "execution_count": null,
      "outputs": []
    },
    {
      "cell_type": "markdown",
      "metadata": {
        "id": "PkgfvxCVxdtQ"
      },
      "source": [
        "## lst * nombre ?\n",
        "\n",
        "créer nouvelle liste en répétant `nombre` fois la liste `lst`"
      ]
    },
    {
      "cell_type": "code",
      "metadata": {
        "id": "Oa85-lIhxiy2"
      },
      "source": [
        "# exemple\n",
        "lst * 3"
      ],
      "execution_count": null,
      "outputs": []
    },
    {
      "cell_type": "markdown",
      "metadata": {
        "id": "niXJoHNRx3lH"
      },
      "source": [
        "lst contient 3 élément que se passe t'il si on fait"
      ]
    },
    {
      "cell_type": "code",
      "metadata": {
        "id": "Oe_Zll3Dx8wB"
      },
      "source": [
        "a, b, c = lst"
      ],
      "execution_count": null,
      "outputs": []
    },
    {
      "cell_type": "markdown",
      "metadata": {
        "id": "G31kigN4yAIs"
      },
      "source": [
        "Python intègre une fonctionnalité, l’unpacking, qui permet de prendre chaque élément d’un itérable et de les attribuer à des variables distinctes, d’un seul coup. C’est un raccourci très pratique :"
      ]
    },
    {
      "cell_type": "code",
      "metadata": {
        "id": "72SXD5y0x_m3"
      },
      "source": [
        "print(a, b, c)"
      ],
      "execution_count": null,
      "outputs": []
    },
    {
      "cell_type": "code",
      "metadata": {
        "id": "ykHtqVatyQQy"
      },
      "source": [
        "# moins de varibales\n",
        "ma, mb = lst"
      ],
      "execution_count": null,
      "outputs": []
    },
    {
      "cell_type": "code",
      "metadata": {
        "id": "0krPsNKvyiSi"
      },
      "source": [
        "#plus de variables\n",
        "pa, pb, pc, pd = lst"
      ],
      "execution_count": null,
      "outputs": []
    },
    {
      "cell_type": "markdown",
      "metadata": {
        "id": "1q88A0cVysAj"
      },
      "source": [
        "### utilisation de * pour capturer le reste de la liste"
      ]
    },
    {
      "cell_type": "code",
      "metadata": {
        "id": "crzjnfvyymti"
      },
      "source": [
        "#mais\n",
        "tete, *reste = lst"
      ],
      "execution_count": null,
      "outputs": []
    },
    {
      "cell_type": "code",
      "metadata": {
        "id": "gC7IcMmFyzro"
      },
      "source": [
        "print(\"tete=\", tete, \"reste=\", reste)"
      ],
      "execution_count": null,
      "outputs": []
    },
    {
      "cell_type": "markdown",
      "metadata": {
        "id": "45Aj956S0mGg"
      },
      "source": [
        "# utilisation de * pour forcer le unpacking\n"
      ]
    },
    {
      "cell_type": "code",
      "metadata": {
        "id": "yA-TcIMJ0lQS"
      },
      "source": [
        "# Soit l1, l2\n",
        "l1 = [1, 2]\n",
        "l2 = [3, 4]"
      ],
      "execution_count": null,
      "outputs": []
    },
    {
      "cell_type": "code",
      "metadata": {
        "id": "YIyJ7Hzx0zFS"
      },
      "source": [
        "# si on fait\n",
        "l = [l1, l2]\n",
        "\n",
        "# On obtient une liste l de 2 éléments composés de la liste l1 et la liste l2\n",
        "l"
      ],
      "execution_count": null,
      "outputs": []
    },
    {
      "cell_type": "code",
      "metadata": {
        "id": "aIcUNzqx1AFv"
      },
      "source": [
        "# Par contre si on utilise \n",
        "lunpack = [*l1, *l2]\n",
        "\n",
        "#On a 4 éléments l1 et l2 éyant été \"unpacked\" \n",
        "lunpack"
      ],
      "execution_count": null,
      "outputs": []
    },
    {
      "cell_type": "markdown",
      "metadata": {
        "id": "YrdbW5XW1TsC"
      },
      "source": [
        "## Le unpack de dictionnaire le double * (**)"
      ]
    },
    {
      "cell_type": "code",
      "metadata": {
        "id": "QTr-y1mU1ZAN"
      },
      "source": [
        "d1 = { 'a': 'vala', 2: 'val2', 'trois': 3, 10:100}\n",
        "d2 = { 'b': 'valb', 20: 'val20', 'trois': 3, 100:1000}\n",
        "\n",
        "\n",
        "d= {**d1, **d2}\n",
        "d"
      ],
      "execution_count": null,
      "outputs": []
    },
    {
      "cell_type": "markdown",
      "metadata": {
        "id": "kRu19OcFxG6H"
      },
      "source": [
        "## Utilisation utile avec les fonctions"
      ]
    },
    {
      "cell_type": "markdown",
      "metadata": {
        "id": "vxtW6h3F2F5L"
      },
      "source": [
        "### paramétres par défaut"
      ]
    },
    {
      "cell_type": "code",
      "metadata": {
        "id": "HfB1tmJ-25p8"
      },
      "source": [
        "# dans cet exemple\n",
        "def f(x, y=10):\n",
        "  return x+y\n"
      ],
      "execution_count": null,
      "outputs": []
    },
    {
      "cell_type": "markdown",
      "metadata": {
        "id": "KP17zB_E3B5N"
      },
      "source": [
        "si on appel la fonction f avec un seul paramétre y prendra a valeur 10 par défaut \n",
        "\n",
        "***(attention dans la définition des paramétres ou l'appel l'opérateur `=` n'est pas une affectation!)***"
      ]
    },
    {
      "cell_type": "code",
      "metadata": {
        "id": "oyx55kxv3XcT"
      },
      "source": [
        "f(1)"
      ],
      "execution_count": null,
      "outputs": []
    },
    {
      "cell_type": "code",
      "metadata": {
        "id": "9ojGEhU43bb1"
      },
      "source": [
        "f(1,100)"
      ],
      "execution_count": null,
      "outputs": []
    },
    {
      "cell_type": "markdown",
      "metadata": {
        "id": "CbAwAt7B4N2i"
      },
      "source": [
        "#### plusieurs paramétres par défauts"
      ]
    },
    {
      "cell_type": "code",
      "metadata": {
        "id": "ojsFIcoS4UFx"
      },
      "source": [
        "def plusf(x=1, y=2, z=3):\n",
        "  print(x, y, z)\n",
        "  return x+y+z"
      ],
      "execution_count": null,
      "outputs": []
    },
    {
      "cell_type": "code",
      "metadata": {
        "id": "xC8diGas4fDB"
      },
      "source": [
        "print(plusf(), plusf(10), plusf(10, 20), plusf(z=30))"
      ],
      "execution_count": null,
      "outputs": []
    },
    {
      "cell_type": "markdown",
      "metadata": {
        "id": "Qe9Ab6mR2CU1"
      },
      "source": [
        "### paramétres variables\n",
        "\n",
        "La syntaxe *params (remplacez “params” par ce que vous voulez) permet d’indiquer lors de la définition d’une fonction que notre fonction peut accepter un nombre variable d’arguments. Ces arguments sont intégrés dans un tuple. On va pouvoir préciser 0, 1 ou plusieurs paramètres classiques dans la définition de la fonction avant la partie variable."
      ]
    },
    {
      "cell_type": "code",
      "metadata": {
        "id": "FwXlGjRq3pZc"
      },
      "source": [
        "# exemple\n",
        "def somme(*params):\n",
        "  print(params)\n",
        "  s = 0\n",
        "  for e in params:\n",
        "    s += e\n",
        "  return s"
      ],
      "execution_count": null,
      "outputs": []
    },
    {
      "cell_type": "code",
      "metadata": {
        "id": "iDxaaCpS3z10"
      },
      "source": [
        "print(somme(1), somme(1,2,3,4), somme())"
      ],
      "execution_count": null,
      "outputs": []
    },
    {
      "cell_type": "markdown",
      "metadata": {
        "id": "OknoPNed4HHx"
      },
      "source": [
        "De façon alternative, la syntaxe **kwargs (remplacez “kwargs” par ce que vous voulez) permet également d’indiquer que notre fonction peut recevoir un nombre variable d’arguments mais cette fois-ci les arguments devront être passés sous la forme d’un dictionnaire Python."
      ]
    },
    {
      "cell_type": "code",
      "metadata": {
        "id": "wxNVAygg4zsZ"
      },
      "source": [
        "def kf(**kargs):\n",
        "  print(kargs)\n",
        "\n",
        "kf(a=1, b=3, c=4)"
      ],
      "execution_count": null,
      "outputs": []
    },
    {
      "cell_type": "markdown",
      "metadata": {
        "id": "hyEZabOE4-JC"
      },
      "source": [
        "kargs est un dictionnaire!"
      ]
    },
    {
      "cell_type": "code",
      "metadata": {
        "id": "WoOpboDt5CKj"
      },
      "source": [
        "# plus généralement\n",
        "def vkf(*p, **ps):\n",
        "  print(\"varibale\", p, \"nommés\", ps)\n",
        "\n",
        "vkf(1,2,3,4,5,x=1,y=2,z=3)"
      ],
      "execution_count": null,
      "outputs": []
    },
    {
      "cell_type": "markdown",
      "metadata": {
        "id": "qe3bY7Md5XBS"
      },
      "source": [
        "### nous utiliserons tout ceci bientôt dans le paradigme fonctionnel pure.... en particulier pour définir des décorateurs... "
      ]
    },
    {
      "cell_type": "markdown",
      "metadata": {
        "id": "eMzFjD6ls1za"
      },
      "source": [
        "# expression if vs instruction if"
      ]
    },
    {
      "cell_type": "code",
      "metadata": {
        "id": "EuvXsxaU6BVz"
      },
      "source": [
        "# l'intruction if\n",
        "def est_paire_ou_impaire(x):\n",
        "  res = ''\n",
        "  if x%2:\n",
        "    res = 'impaire'\n",
        "  else:\n",
        "    res = 'paire'\n",
        "  return res"
      ],
      "execution_count": null,
      "outputs": []
    },
    {
      "cell_type": "code",
      "metadata": {
        "id": "lKU-6Oyx6s7s"
      },
      "source": [
        "print(est_paire_ou_impaire(11))\n",
        "print(est_paire_ou_impaire(12))"
      ],
      "execution_count": null,
      "outputs": []
    },
    {
      "cell_type": "code",
      "metadata": {
        "id": "k54XCxx16YSz"
      },
      "source": [
        "# l'expression if\n",
        "def paire_ou_impaire(x):\n",
        "  return 'impaire' if x%2 else 'paire'"
      ],
      "execution_count": null,
      "outputs": []
    },
    {
      "cell_type": "code",
      "metadata": {
        "id": "N7MnWHIT65NG"
      },
      "source": [
        "print(paire_ou_impaire(11))\n",
        "print(paire_ou_impaire(12))"
      ],
      "execution_count": null,
      "outputs": []
    },
    {
      "cell_type": "code",
      "metadata": {
        "id": "USEypav-7Z9K"
      },
      "source": [
        "# comme c'est une expression on peut l'utiliser comme tel\n",
        "x=11\n",
        "(1 if x%2 else 0) + x"
      ],
      "execution_count": null,
      "outputs": []
    },
    {
      "cell_type": "code",
      "metadata": {
        "id": "GW2PjJ6Z7nEs"
      },
      "source": [
        "x=12\n",
        "(1 if x%2 else 0) + x"
      ],
      "execution_count": null,
      "outputs": []
    },
    {
      "cell_type": "markdown",
      "metadata": {
        "id": "uoQDTj_0GNh-"
      },
      "source": [
        "# List comprehention\n"
      ]
    },
    {
      "cell_type": "markdown",
      "metadata": {
        "id": "9YU1NbnFGa8Z"
      },
      "source": [
        "Un bon développeur cherchera toujours à augmenter sa productivité avec le temps. Il existe des astuces python qui permettent d'optimiser le code .\n",
        "\n",
        "Une de ces astuces est la compréhension de liste (ou liste en compréhension ou list comprehension ).\n",
        "\n",
        "Pour le moment l'idée est simple: simplifier le code pour le rendre plus lisible et donc plus rapide à écrire et plus simple à maintenir.\n",
        "\n",
        "nous verrons que la liste comprehention est un filter, map, nous y reviendrons "
      ]
    },
    {
      "cell_type": "markdown",
      "metadata": {
        "id": "mENSiIduGrCs"
      },
      "source": [
        "### syntaxe\n",
        "\n",
        "```python\n",
        "new_list = [function(item) for item in list if condition(item)]\n",
        "```"
      ]
    },
    {
      "cell_type": "markdown",
      "metadata": {
        "id": "YwQibpUXG3il"
      },
      "source": [
        "### Un premier exemple : filter une liste"
      ]
    },
    {
      "cell_type": "code",
      "metadata": {
        "id": "4a2uxylEGouk"
      },
      "source": [
        "l = [1, 10, 50, 3, 10, 20, 2, 8, 11, 101]"
      ],
      "execution_count": null,
      "outputs": []
    },
    {
      "cell_type": "markdown",
      "metadata": {
        "id": "EBjNOt6CHDMz"
      },
      "source": [
        "recuperer une liste avec les valeurs > 10\n",
        "\n",
        "On aurait"
      ]
    },
    {
      "cell_type": "code",
      "metadata": {
        "id": "6q06twPPHI2Z"
      },
      "source": [
        "def plusque(l,n):\n",
        "  res = []\n",
        "  for e in l:\n",
        "    if (e > n):\n",
        "      res.append(e)\n",
        "  return res\n"
      ],
      "execution_count": null,
      "outputs": []
    },
    {
      "cell_type": "code",
      "metadata": {
        "id": "o7X-iy1THbLN"
      },
      "source": [
        "plusque(l,10)"
      ],
      "execution_count": null,
      "outputs": []
    },
    {
      "cell_type": "code",
      "metadata": {
        "id": "9tZtzXWKHgEW"
      },
      "source": [
        "# avec liste comprehention\n",
        "[e for e in l if e>10]"
      ],
      "execution_count": null,
      "outputs": []
    },
    {
      "cell_type": "code",
      "metadata": {
        "id": "67kEkpyUHoHn"
      },
      "source": [
        "def plusque_c(l, n):\n",
        "  return [e for e in l if e>n]"
      ],
      "execution_count": null,
      "outputs": []
    },
    {
      "cell_type": "markdown",
      "metadata": {
        "id": "urRugxljHwlj"
      },
      "source": [
        "## Un deuxième exemple : Exécuter une fonction sur chaque item d'une liste\n",
        "Prenons l'exemple d'une conversion de string en integer de plusieurs items:"
      ]
    },
    {
      "cell_type": "code",
      "metadata": {
        "id": "qVfXgbKNIDUW"
      },
      "source": [
        "lstr = [\"10\", \"20\", \"30\"]\n",
        "[int(s) for s in lstr]"
      ],
      "execution_count": null,
      "outputs": []
    },
    {
      "cell_type": "markdown",
      "metadata": {
        "id": "fpay6wX8IQiB"
      },
      "source": [
        "### Que donne ces 'comprehention liste's?"
      ]
    },
    {
      "cell_type": "code",
      "metadata": {
        "id": "gwfh6auBIdeC"
      },
      "source": [
        "[(x,y) for x in range(3) for y in range(3)]"
      ],
      "execution_count": null,
      "outputs": []
    },
    {
      "cell_type": "code",
      "metadata": {
        "id": "2F8_gtvbGPy3"
      },
      "source": [
        "[(x,x**2) for x in range(10+1)]\n",
        "\n",
        "[x for x in range(10+1) if x%2 == 0]\n",
        "\n",
        "[(x, y) for x in [1,2,3] for y in [3,1,4] if x != y]\n",
        "\n",
        "\n",
        "[num for elem in [[1,2,3], [4,5,6], [7,8,9]] for num in elem]\n",
        "\n",
        "[num for elem in [[1,2,3], 4, [5,6,7]] if isinstance(elem,list) for num in elem ]\n",
        "\n",
        "((x,x**3) for x in range(10+1))\n",
        "\n",
        "(x for x in range(10+1) if x%2 == 1)\n",
        "\n",
        "{x for x in 'abracadabra' if x not in 'abc'}\n",
        "\n",
        "{x:'paire' for x in range(10+1) if x%2 == 0}"
      ],
      "execution_count": null,
      "outputs": []
    }
  ]
}