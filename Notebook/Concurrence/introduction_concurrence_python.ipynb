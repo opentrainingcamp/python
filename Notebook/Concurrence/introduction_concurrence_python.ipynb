{
  "nbformat": 4,
  "nbformat_minor": 0,
  "metadata": {
    "colab": {
      "name": "introduction_concurrence_python.ipynb",
      "provenance": [],
      "collapsed_sections": [],
      "include_colab_link": true
    },
    "kernelspec": {
      "name": "python3",
      "display_name": "Python 3"
    }
  },
  "cells": [
    {
      "cell_type": "markdown",
      "metadata": {
        "id": "view-in-github",
        "colab_type": "text"
      },
      "source": [
        "<a href=\"https://colab.research.google.com/github/opentrainingcamp/python/blob/main/Notebook/Concurrence/introduction_concurrence_python.ipynb\" target=\"_parent\"><img src=\"https://colab.research.google.com/assets/colab-badge.svg\" alt=\"Open In Colab\"/></a>"
      ]
    },
    {
      "cell_type": "markdown",
      "metadata": {
        "id": "vNySIXvCtGpz"
      },
      "source": [
        "# Pourquoi la programmation conncurente: Quand la concurrence est-elle utile?"
      ]
    },
    {
      "cell_type": "code",
      "metadata": {
        "id": "Z4nOMXLqtJkK",
        "colab": {
          "base_uri": "https://localhost:8080/"
        },
        "outputId": "7392a56f-8fb8-40c6-b5bc-04b1042ca15d"
      },
      "source": [
        "# coding: utf-8\n",
        "import sys\n",
        "print(sys.version)"
      ],
      "execution_count": 1,
      "outputs": [
        {
          "output_type": "stream",
          "name": "stdout",
          "text": [
            "3.7.13 (default, Apr 24 2022, 01:04:09) \n",
            "[GCC 7.5.0]\n"
          ]
        }
      ]
    },
    {
      "cell_type": "code",
      "metadata": {
        "id": "iPh-bw-_BdZV"
      },
      "source": [
        "sys.getdefaultencoding()"
      ],
      "execution_count": null,
      "outputs": []
    },
    {
      "cell_type": "markdown",
      "metadata": {
        "id": "CdBJAufxC5qt"
      },
      "source": [
        "# Vous connaissez peut-être pas python, voici les basiques et/ou un rappel\n",
        "\n",
        "Un premier exemple!"
      ]
    },
    {
      "cell_type": "code",
      "metadata": {
        "id": "ISRmtDbkDJRE",
        "colab": {
          "base_uri": "https://localhost:8080/"
        },
        "outputId": "6a99b9d7-2cba-4362-cc0c-e13893e84111"
      },
      "source": [
        "for i in [0, 1, 2, 4]:\n",
        "    print(\"valeur :\", i)\n",
        "print(\"Fin\")"
      ],
      "execution_count": null,
      "outputs": [
        {
          "output_type": "stream",
          "name": "stdout",
          "text": [
            "valeur : 0\n",
            "valeur : 1\n",
            "valeur : 2\n",
            "valeur : 4\n",
            "Fin\n"
          ]
        }
      ]
    },
    {
      "cell_type": "markdown",
      "metadata": {
        "id": "uNQUZvvCDN46"
      },
      "source": [
        "Noter le `:` et les tabulations, pas besoin de begin/end ou {, } ni de ; pour faire des blocs d'instructions\n",
        "\n",
        "## Les expressions"
      ]
    },
    {
      "cell_type": "code",
      "metadata": {
        "id": "rl5Q4CW2Diwb"
      },
      "source": [
        "(3 * 4) + 2"
      ],
      "execution_count": null,
      "outputs": []
    },
    {
      "cell_type": "markdown",
      "metadata": {
        "id": "ROfgiC8BDz_T"
      },
      "source": [
        "## L'affectation"
      ]
    },
    {
      "cell_type": "code",
      "metadata": {
        "id": "tk5MPyUtD2ns"
      },
      "source": [
        "x = (3 + 5) / 4\n",
        "y = 2 * x\n",
        "z = \"Un texte\"\n",
        "w = 'un autre texte'\n",
        "#Du texte formaté f\"\"\n",
        "A = f\"x={x} et y={y}\"\n",
        "C = \"x={x} et y={y}\"\n",
        "B = None"
      ],
      "execution_count": null,
      "outputs": []
    },
    {
      "cell_type": "markdown",
      "metadata": {
        "id": "VVwF8ld6EWgr"
      },
      "source": [
        "Vérifier les valeurs des variables x,y,z,w,A et B"
      ]
    },
    {
      "cell_type": "code",
      "metadata": {
        "id": "cRiJR8ZzDqsT"
      },
      "source": [
        "B"
      ],
      "execution_count": null,
      "outputs": []
    },
    {
      "cell_type": "markdown",
      "metadata": {
        "id": "eIJpmqqUElwd"
      },
      "source": [
        "# Essayer la différence entre / et //"
      ]
    },
    {
      "cell_type": "code",
      "metadata": {
        "id": "PtQe5FY2EtQh"
      },
      "source": [
        "f\"le / {5/2} et // {5//2}\""
      ],
      "execution_count": null,
      "outputs": []
    },
    {
      "cell_type": "markdown",
      "metadata": {
        "id": "e6zlLZNTFpkX"
      },
      "source": [
        "La fonction print"
      ]
    },
    {
      "cell_type": "code",
      "metadata": {
        "id": "7qhx71yGFYOL"
      },
      "source": [
        "# La fonction print\n",
        "print(f\"le modulo : % {5%2} et la division entière // {5//2}\")\n",
        "print(5*x)"
      ],
      "execution_count": null,
      "outputs": []
    },
    {
      "cell_type": "markdown",
      "metadata": {
        "id": "VpfTvNCEF55T"
      },
      "source": [
        "## Conditionelle"
      ]
    },
    {
      "cell_type": "code",
      "metadata": {
        "id": "z5Bihw2JF_1b"
      },
      "source": [
        "condition = True"
      ],
      "execution_count": null,
      "outputs": []
    },
    {
      "cell_type": "code",
      "metadata": {
        "id": "OnJMxwgjF3qS"
      },
      "source": [
        "if (condition):\n",
        "  x = 2\n",
        "  print(x)\n",
        "else:\n",
        "  y = 5\n",
        "  print(y)"
      ],
      "execution_count": null,
      "outputs": []
    },
    {
      "cell_type": "code",
      "metadata": {
        "id": "OfCpSw2sjQfT"
      },
      "source": [
        "if (condition): \n",
        "  print (\"Vraie\") \n",
        "else: \n",
        "  print(\"Faux\")"
      ],
      "execution_count": null,
      "outputs": []
    },
    {
      "cell_type": "markdown",
      "metadata": {
        "id": "8mOSyLFzGMR7"
      },
      "source": [
        "Essayer avec condition False si elle était True et True si elle était False"
      ]
    },
    {
      "cell_type": "markdown",
      "metadata": {
        "id": "zlk2d_3SGcBO"
      },
      "source": [
        "## La répétition"
      ]
    },
    {
      "cell_type": "code",
      "metadata": {
        "id": "BgrciLMmGg4b"
      },
      "source": [
        "x = 10\n",
        "while (x > 0):\n",
        "  print(x, end=' ')\n",
        "  x = x -1"
      ],
      "execution_count": null,
      "outputs": []
    },
    {
      "cell_type": "markdown",
      "metadata": {
        "id": "GiuFndG-Hdv9"
      },
      "source": [
        "## La répétition par itérateur `for`"
      ]
    },
    {
      "cell_type": "code",
      "metadata": {
        "id": "spRUfV8fHhf_"
      },
      "source": [
        "for i in range(10):\n",
        "  print(i, end=':')"
      ],
      "execution_count": null,
      "outputs": []
    },
    {
      "cell_type": "code",
      "metadata": {
        "id": "3yRUmcS1koQ-"
      },
      "source": [
        "help(print)"
      ],
      "execution_count": null,
      "outputs": []
    },
    {
      "cell_type": "code",
      "metadata": {
        "id": "Qcbzi5hnHpe8"
      },
      "source": [
        "# cas de range\n",
        "range(10)"
      ],
      "execution_count": null,
      "outputs": []
    },
    {
      "cell_type": "code",
      "metadata": {
        "id": "0ZSXQac6HvWD"
      },
      "source": [
        "list(range(10))"
      ],
      "execution_count": null,
      "outputs": []
    },
    {
      "cell_type": "markdown",
      "metadata": {
        "id": "p4t2QgKUH0jV"
      },
      "source": [
        "## définition de fonction"
      ]
    },
    {
      "cell_type": "code",
      "metadata": {
        "id": "38-vDi7YH26G"
      },
      "source": [
        "def f(x,y):\n",
        "  return (x+y)"
      ],
      "execution_count": null,
      "outputs": []
    },
    {
      "cell_type": "code",
      "metadata": {
        "id": "nwgjEP4BlT25"
      },
      "source": [
        "f(3,4)"
      ],
      "execution_count": null,
      "outputs": []
    },
    {
      "cell_type": "markdown",
      "metadata": {
        "id": "Fv7c9EDWIkdm"
      },
      "source": [
        "## Les listes"
      ]
    },
    {
      "cell_type": "code",
      "metadata": {
        "id": "HEc2j0pVlXYv"
      },
      "source": [
        "l = [1,2,3,4,5,6,7]\n",
        "print(l)"
      ],
      "execution_count": null,
      "outputs": []
    },
    {
      "cell_type": "code",
      "metadata": {
        "id": "m8Ygquqylm90"
      },
      "source": [
        "l[4] = 100\n",
        "l"
      ],
      "execution_count": null,
      "outputs": []
    },
    {
      "cell_type": "markdown",
      "metadata": {
        "id": "3Aij7RPuImyG"
      },
      "source": [
        "## Les tuples"
      ]
    },
    {
      "cell_type": "code",
      "metadata": {
        "id": "jcrnDIzMmcM8"
      },
      "source": [
        "t = (1,2,3,4,5,6)\n"
      ],
      "execution_count": null,
      "outputs": []
    },
    {
      "cell_type": "markdown",
      "metadata": {
        "id": "2KpFchKOIpKD"
      },
      "source": [
        "## Les dictionnaires (hash)"
      ]
    },
    {
      "cell_type": "code",
      "metadata": {
        "id": "FAhTj4N5my1r"
      },
      "source": [
        "d = {3:4, \"toto\":6, \"tuple\":t}\n",
        "d"
      ],
      "execution_count": null,
      "outputs": []
    },
    {
      "cell_type": "code",
      "metadata": {
        "id": "mq8WBK19nGwV"
      },
      "source": [
        "d['titi'] = 11\n",
        "d"
      ],
      "execution_count": null,
      "outputs": []
    },
    {
      "cell_type": "code",
      "metadata": {
        "id": "pIMAGec0nVJA"
      },
      "source": [
        "d['ouf']"
      ],
      "execution_count": null,
      "outputs": []
    },
    {
      "cell_type": "markdown",
      "metadata": {
        "id": "bam5Ed-VKBcd"
      },
      "source": [
        "## try / catch / With as"
      ]
    },
    {
      "cell_type": "code",
      "metadata": {
        "id": "1fBQaz1BJ3xc"
      },
      "source": [
        "# file handling \n",
        "\n",
        "# 1) Sans rien\n",
        "file = open('file_path', 'w') \n",
        "file.write('hello world !') \n",
        "file.close() \n",
        "\n",
        "# 2) mieux avec try / finally\n",
        "file = open('file_path2', 'w') \n",
        "try: \n",
        "\tfile.write('hello world') \n",
        "finally: \n",
        "\tfile.close() \n"
      ],
      "execution_count": null,
      "outputs": []
    },
    {
      "cell_type": "code",
      "metadata": {
        "id": "q-mgvo8KJ90Y"
      },
      "source": [
        "# avec with \n",
        "with open('file_path3', 'w') as file: \n",
        "\tfile.write('hello world !') "
      ],
      "execution_count": null,
      "outputs": []
    },
    {
      "cell_type": "markdown",
      "metadata": {
        "id": "ZbPTIuJqKgt3"
      },
      "source": [
        "## Obtenir des documents directement de l'internet"
      ]
    },
    {
      "cell_type": "code",
      "metadata": {
        "id": "sZNsb9-dKkRG",
        "colab": {
          "base_uri": "https://localhost:8080/"
        },
        "outputId": "92377103-fc80-4399-f666-68a57f53fc6f"
      },
      "source": [
        "import requests\n",
        "response = requests.get(\"http://www.cofares.net\")\n",
        "response.content"
      ],
      "execution_count": null,
      "outputs": [
        {
          "output_type": "execute_result",
          "data": {
            "text/plain": [
              "b'<!DOCTYPE html>\\n<html lang=en>\\n  <meta charset=utf-8>\\n  <meta name=viewport content=\"initial-scale=1, minimum-scale=1, width=device-width\">\\n  <title>Error 404 (Not Found)!!1</title>\\n  <style>\\n    *{margin:0;padding:0}html,code{font:15px/22px arial,sans-serif}html{background:#fff;color:#222;padding:15px}body{margin:7% auto 0;max-width:390px;min-height:180px;padding:30px 0 15px}* > body{background:url(//www.google.com/images/errors/robot.png) 100% 5px no-repeat;padding-right:205px}p{margin:11px 0 22px;overflow:hidden}ins{color:#777;text-decoration:none}a img{border:0}@media screen and (max-width:772px){body{background:none;margin-top:0;max-width:none;padding-right:0}}#logo{background:url(//www.google.com/images/branding/googlelogo/1x/googlelogo_color_150x54dp.png) no-repeat;margin-left:-5px}@media only screen and (min-resolution:192dpi){#logo{background:url(//www.google.com/images/branding/googlelogo/2x/googlelogo_color_150x54dp.png) no-repeat 0% 0%/100% 100%;-moz-border-image:url(//www.google.com/images/branding/googlelogo/2x/googlelogo_color_150x54dp.png) 0}}@media only screen and (-webkit-min-device-pixel-ratio:2){#logo{background:url(//www.google.com/images/branding/googlelogo/2x/googlelogo_color_150x54dp.png) no-repeat;-webkit-background-size:100% 100%}}#logo{display:inline-block;height:54px;width:150px}\\n  </style>\\n  <a href=//www.google.com/><span id=logo aria-label=Google></span></a>\\n  <p><b>404.</b> <ins>That\\xe2\\x80\\x99s an error.</ins>\\n  <p>The requested URL <code>/</code> was not found on this server.  <ins>That\\xe2\\x80\\x99s all we know.</ins>\\n'"
            ]
          },
          "metadata": {
            "tags": []
          },
          "execution_count": 76
        }
      ]
    },
    {
      "cell_type": "code",
      "metadata": {
        "colab": {
          "base_uri": "https://localhost:8080/"
        },
        "id": "XOUIMWkMpH6q",
        "outputId": "d52e2fcc-268a-4250-ea61-8dc03d60f20b"
      },
      "source": [
        "type(response.content)"
      ],
      "execution_count": null,
      "outputs": [
        {
          "output_type": "execute_result",
          "data": {
            "text/plain": [
              "bytes"
            ]
          },
          "metadata": {
            "tags": []
          },
          "execution_count": 73
        }
      ]
    },
    {
      "cell_type": "markdown",
      "metadata": {
        "id": "0VyJq2AUvgSc"
      },
      "source": [
        "# Revenons à la concurrence: Quand la concurrence est-elle utile?\n",
        "La concurrence peut faire une grande différence pour deux types de problèmes. Celles-ci sont généralement appelées \n",
        "* \"CPU-bound\" et \n",
        "* \"I/O-bound\".\n",
        "\n",
        "Les problèmes liés aux E / S entraînent un ralentissement de votre programme car il doit souvent attendre les entrées / sorties (E / S) d'une ressource externe. Ils surviennent fréquemment lorsque votre programme travaille avec des choses beaucoup plus lentes que votre CPU.\n",
        "\n",
        "Les exemples de choses qui sont plus lentes que votre CPU sont légion, mais votre programme n'interagit heureusement pas avec la plupart d'entre eux. Les éléments lents avec lesquels votre programme interagira le plus fréquemment sont le système de fichiers et les connexions réseau.\n",
        "\n",
        "Voyons à quoi cela ressemble:\n",
        "\n",
        "![IO-bound](https://files.realpython.com/media/IOBound.4810a888b457.png)\n",
        "\n",
        "D'un autre côté, il existe des classes de programmes qui effectuent des calculs importants sans parler au réseau ni accéder à un fichier. Ce sont les programmes liés au processeur, car la ressource limitant la vitesse de votre programme est le processeur, et non le réseau ou le système de fichiers.\n",
        "\n",
        "Voici un diagramme correspondant pour un programme lié au processeur:\n",
        "\n",
        "![CPU-BOUND](https://files.realpython.com/media/CPUBound.d2d32cb2626c.png)"
      ]
    },
    {
      "cell_type": "markdown",
      "metadata": {
        "id": "G8AqFMgewqDK"
      },
      "source": [
        "# Chaque problème aura une solution différente\n",
        "\n",
        "## Cas IO-bound\n",
        "\n",
        "Badaboom directement sur un exemple *(ne vous inquiétez pas nous reviendrons dans les détails des différentes librairies et m^me Python a fur et a mesure de l'avancement)*\n",
        "\n",
        "### L'exemple: télecharger des choses depuis l'internet\n"
      ]
    },
    {
      "cell_type": "code",
      "metadata": {
        "id": "Kq0ROv7exkni"
      },
      "source": [
        "# Un ensemble de sites\n",
        "sites = [\n",
        "        \"https://www.jython.org\",\n",
        "        \"http://olympus.realpython.org/dice\",\n",
        "    ] * 80"
      ],
      "execution_count": null,
      "outputs": []
    },
    {
      "cell_type": "code",
      "metadata": {
        "id": "NnUvO7GIxtHT"
      },
      "source": [
        "#C'est quoi ce truc? [ ] pour une liste , * 80 répéret 80 fois\n",
        "sites"
      ],
      "execution_count": null,
      "outputs": []
    },
    {
      "cell_type": "code",
      "metadata": {
        "id": "nwBYL4WFxYPM"
      },
      "source": [
        "import requests\n",
        "import time\n",
        "\n",
        "# Une version amélioré (pas vraiment nécessaire pour notre démonstration ;)\n",
        "def download_site(url, session):\n",
        "    with session.get(url) as response:\n",
        "        print(f\"Lu {len(response.content)} depuis {url}\")\n",
        "\n",
        "\n",
        "def download_all_sites(sites):\n",
        "    with requests.Session() as session:\n",
        "        for url in sites:\n",
        "            download_site(url, session)\n",
        "\n"
      ],
      "execution_count": null,
      "outputs": []
    },
    {
      "cell_type": "code",
      "metadata": {
        "id": "1WiZPrcOyqVS"
      },
      "source": [
        "help(requests.Session)"
      ],
      "execution_count": null,
      "outputs": []
    },
    {
      "cell_type": "code",
      "metadata": {
        "id": "-a_JHcDEyFOl"
      },
      "source": [
        "def test():\n",
        "  start_time = time.time()\n",
        "  download_all_sites(sites)\n",
        "  duration = time.time() - start_time\n",
        "  print(f\"Téléchargé {len(sites)} en {duration} secondes\")\n",
        "  return duration"
      ],
      "execution_count": null,
      "outputs": []
    },
    {
      "cell_type": "code",
      "metadata": {
        "id": "2SbkVC1D2AyV"
      },
      "source": [
        "d1 = test()"
      ],
      "execution_count": null,
      "outputs": []
    },
    {
      "cell_type": "markdown",
      "metadata": {
        "id": "or55QKZhzZCs"
      },
      "source": [
        "remarque: *Il est possible d'utiliser simplement `request.get()` directement, mais la création d'un objet Session permet aux requêtes de faire des astuces de mise en réseau sophistiquées et d'accélérer vraiment les choses.*"
      ]
    },
    {
      "cell_type": "code",
      "metadata": {
        "id": "uttGCVyJtmoj"
      },
      "source": [
        "help(requests.get)"
      ],
      "execution_count": null,
      "outputs": []
    },
    {
      "cell_type": "markdown",
      "metadata": {
        "id": "IK_bomiT0Y-2"
      },
      "source": [
        "### Pourquoi la version synchrone est avantageuse?\n",
        "\n",
        "Le grand avantage de cette version de code est que c’est facile. C'était relativement facile à écrire et à déboguer. Il est également plus simple de réfléchir. Il n’y a qu’un seul train de pensées qui le traverse. Vous pouvez donc prédire quelle sera la prochaine étape et comment elle se comportera.\n",
        "\n",
        "### Les problèmes avec la version synchrone\n",
        "\n",
        "Le gros problème ici est qu’il est relativement lent par rapport aux autres solutions que nous proposerons."
      ]
    },
    {
      "cell_type": "markdown",
      "metadata": {
        "id": "fA09ZhJ505nK"
      },
      "source": [
        "# La version Thread"
      ]
    },
    {
      "cell_type": "code",
      "metadata": {
        "id": "WNvvJeH104kj"
      },
      "source": [
        "import concurrent.futures\n",
        "import threading\n",
        "\n",
        "\n",
        "thread_local = threading.local()\n",
        "\n",
        "\n",
        "def get_session():\n",
        "    if not hasattr(thread_local, \"session\"):\n",
        "        thread_local.session = requests.Session()\n",
        "    return thread_local.session\n",
        "\n",
        "\n",
        "def download_site(url):\n",
        "    session = get_session()\n",
        "    with session.get(url) as response:\n",
        "        print(f\"Lu {len(response.content)} depuis {url}\")\n",
        "\n",
        "\n",
        "def download_all_sites(sites):\n",
        "    with concurrent.futures.ThreadPoolExecutor(max_workers=5) as executor:\n",
        "        executor.map(download_site, sites)"
      ],
      "execution_count": null,
      "outputs": []
    },
    {
      "cell_type": "code",
      "metadata": {
        "id": "019OnKEf1mGV"
      },
      "source": [
        "d2 = test()"
      ],
      "execution_count": null,
      "outputs": []
    },
    {
      "cell_type": "code",
      "metadata": {
        "id": "RerEAT3e2HFk",
        "colab": {
          "base_uri": "https://localhost:8080/"
        },
        "outputId": "834ca124-f73a-42af-ff1b-3ab4dba82fe2"
      },
      "source": [
        "# Gain\n",
        "d1 / d2"
      ],
      "execution_count": null,
      "outputs": [
        {
          "output_type": "execute_result",
          "data": {
            "text/plain": [
              "4.438132851404973"
            ]
          },
          "metadata": {
            "tags": []
          },
          "execution_count": 88
        }
      ]
    },
    {
      "cell_type": "markdown",
      "metadata": {
        "id": "hUJh36x-2n49"
      },
      "source": [
        "Avec le \"Threading\", la structure générale est la même et vous n'avez besoin que de quelques modifications. download_all_sites () a changé et à une structure plus complexe.\n",
        "\n",
        "Nous y reviendrons ...."
      ]
    },
    {
      "cell_type": "markdown",
      "metadata": {
        "id": "tTXMDaBFYPYz"
      },
      "source": [
        "### Pourquoi la version Thread est avantageuse?\n",
        "Rapide, pas trop de chamgement dans le code, du moins il seemble\n",
        "\n",
        "Voila ce qui c'est passé\n",
        "\n",
        "![Thread](https://files.realpython.com/media/Threading.3eef48da829e.png)\n",
        "\n",
        "### Les problèmes avec la version Thread\n",
        "\n",
        "Eh bien, comme vous pouvez le voir dans l'exemple, il faut un peu plus de code pour que cela se produise, et vous devez vraiment réfléchir aux données partagées entre les threads.\n",
        "\n",
        "Les threads peuvent interagir de manière subtile et difficile à détecter. Ces interactions peuvent provoquer des conditions de concurrence qui entraînent fréquemment des bogues aléatoires et intermittents qui peuvent être assez difficiles à trouver.\n",
        "\n",
        "**Situation de concurrence (ou de compétition) race-condition**\n",
        "sont toute une classe de bogues subtils qui peuvent se produire et se produisent fréquemment dans le code multithread. Les situation de concurrence se produisent parce que le programmeur n'a pas suffisamment protégé les accès aux données pour empêcher les threads d'interférer les uns avec les autres. Vous devez prendre des mesures supplémentaires lors de l'écriture de code thread pour vous assurer que les choses sont thread-safe. \n",
        "\n"
      ]
    },
    {
      "cell_type": "code",
      "metadata": {
        "id": "GCLpbp5EatPK"
      },
      "source": [
        "# Exemple de situation de concurrence\n",
        "\n",
        "def increment_counter(fake_value):\n",
        "    global counter\n",
        "    for _ in range(100):\n",
        "        counter += 1\n",
        "\n",
        "donnee_bidon = [x for x in range(5000)]\n",
        "def race_cond():\n",
        "  global counter\n",
        "  counter = 0\n",
        "  with concurrent.futures.ThreadPoolExecutor() as executor:\n",
        "      executor.map(increment_counter, donnee_bidon)"
      ],
      "execution_count": null,
      "outputs": []
    },
    {
      "cell_type": "code",
      "metadata": {
        "id": "hu4zNOwKa1-3",
        "colab": {
          "base_uri": "https://localhost:8080/"
        },
        "outputId": "bcd93341-89ee-4d59-a3be-a9a57c3615ab"
      },
      "source": [
        "race_cond()\n",
        "counter"
      ],
      "execution_count": null,
      "outputs": [
        {
          "output_type": "execute_result",
          "data": {
            "text/plain": [
              "500000"
            ]
          },
          "metadata": {
            "tags": []
          },
          "execution_count": 97
        }
      ]
    },
    {
      "cell_type": "markdown",
      "metadata": {
        "id": "VbKHgeHJZ4B0"
      },
      "source": [
        "## Version asyncio\n",
        "\n",
        "### Notion de Coroutine\n",
        "Dans un programme, une coroutine est une unité de traitement qui s'apparente à une routine, à ceci près que, alors que la sortie d'une routine met fin à la routine, la sortie de la coroutine peut être le résultat d'une suspension de son traitement jusqu'à ce qu'il lui soit signalé de reprendre son cours. La suspension de la coroutine et la reprise de son cours peuvent s'accompagner d'une transmission de données.\n",
        "\n",
        "Les coroutines permettent de réaliser des traitements basés sur des algorithmes coopératifs comme les itérateurs, les générateurs, des canaux de communication, etc.\n",
        "\n",
        "D'après Donald Knuth, le terme coroutine fut inventé par Melvin Conway en 1958, alors qu'il travaillait à l'écriture d'un programme assembleur1. Plus tard, Conway proposa d'organiser un compilateur en un ensemble de coroutines, ce qui donne la possibilité d'utiliser des chemins différents lors du débogage, et d'utiliser une seule structure en production\n",
        "Nous y reviendrons aussi mais en première aproche\n",
        "\n",
        "## asyncio une implémentation coroutine dans Python\n",
        "Un point important d'asyncio est que les tâches n'abandonnent jamais le contrôle sans le faire intentionnellement. Ils ne sont jamais interrompus au milieu d'une opération. Cela nous permet de partager des ressources un peu plus facilement en asyncio qu'en threading. Vous n'avez pas à vous soucier de rendre votre code thread-safe.\n",
        "\n",
        "Le système avec les Thread est préemptif, avec Asyncio non.\n",
        "\n",
        "Les librairies doivent être adaptés a asyncio! \n",
        "\n",
        "Nous devons aussi faire attention dans un notebook...."
      ]
    },
    {
      "cell_type": "code",
      "metadata": {
        "id": "irkZ-7rbeZT2",
        "colab": {
          "base_uri": "https://localhost:8080/"
        },
        "outputId": "20a3ce40-e979-4997-82fe-dfa022ade1fb"
      },
      "source": [
        "!pip -q install aiohttp\n",
        "!pip -q install nest_asyncio"
      ],
      "execution_count": null,
      "outputs": [
        {
          "output_type": "stream",
          "text": [
            "\u001b[K     |████████████████████████████████| 1.3MB 5.5MB/s \n",
            "\u001b[K     |████████████████████████████████| 143kB 22.4MB/s \n",
            "\u001b[K     |████████████████████████████████| 296kB 18.3MB/s \n",
            "\u001b[?25h  Building wheel for idna-ssl (setup.py) ... \u001b[?25l\u001b[?25hdone\n"
          ],
          "name": "stdout"
        }
      ]
    },
    {
      "cell_type": "code",
      "metadata": {
        "id": "dM0ZT00zklhC"
      },
      "source": [
        "#Car on est dans un notebook\n",
        "import nest_asyncio\n",
        "nest_asyncio.apply()"
      ],
      "execution_count": null,
      "outputs": []
    },
    {
      "cell_type": "code",
      "metadata": {
        "id": "6rAKpn3teEhC"
      },
      "source": [
        "import asyncio\n",
        "import aiohttp\n",
        "\n",
        "async def download_site(session, url):\n",
        "    async with session.get(url) as response:\n",
        "        print(f\"Lu {len(response.content)} depuis {url}\")\n",
        "\n",
        "\n",
        "async def download_all_sites(sites):\n",
        "    async with aiohttp.ClientSession() as session:\n",
        "        tasks = []\n",
        "        for url in sites:\n",
        "            task = asyncio.ensure_future(download_site(session, url))\n",
        "            tasks.append(task)\n",
        "        await asyncio.gather(*tasks, return_exceptions=True)\n"
      ],
      "execution_count": null,
      "outputs": []
    },
    {
      "cell_type": "code",
      "metadata": {
        "id": "Q08AADUphSry",
        "colab": {
          "base_uri": "https://localhost:8080/"
        },
        "outputId": "d80a8bb1-3a6b-484d-b839-5db1ebc7a7be"
      },
      "source": [
        "start_time = time.time()\n",
        "asyncio.get_event_loop().run_until_complete(download_all_sites(sites))\n",
        "duration = time.time() - start_time\n",
        "print(f\"Downloaded {len(sites)} sites in {duration} seconds\")"
      ],
      "execution_count": null,
      "outputs": [
        {
          "output_type": "stream",
          "text": [
            "Downloaded 160 sites in 0.8419253826141357 seconds\n"
          ],
          "name": "stdout"
        }
      ]
    },
    {
      "cell_type": "markdown",
      "metadata": {
        "id": "kY3E2N_jk6OY"
      },
      "source": [
        "### Que c'est-il passé\n",
        "![asyncio](https://files.realpython.com/media/Asyncio.31182d3731cf.png)"
      ]
    },
    {
      "cell_type": "markdown",
      "metadata": {
        "id": "F1DLsTGhM8tu"
      },
      "source": [
        "## Et le multi processeur (CPU bounfd)"
      ]
    },
    {
      "cell_type": "code",
      "metadata": {
        "id": "BmH_uvy-NPDt"
      },
      "source": [
        "import requests\n",
        "import multiprocessing\n",
        "import time\n",
        "\n",
        "session = None\n",
        "\n",
        "\n",
        "def set_global_session():\n",
        "    global session\n",
        "    if not session:\n",
        "        session = requests.Session()\n",
        "\n",
        "\n",
        "def download_site(url):\n",
        "    with session.get(url) as response:\n",
        "        name = multiprocessing.current_process().name\n",
        "        print(f\"{name}:Read {len(response.content)} from {url}\")\n",
        "\n",
        "\n",
        "def download_all_sites(sites):\n",
        "    with multiprocessing.Pool(initializer=set_global_session) as pool:\n",
        "        pool.map(download_site, sites)"
      ],
      "execution_count": null,
      "outputs": []
    },
    {
      "cell_type": "code",
      "metadata": {
        "id": "RuCpjFDBNRz4"
      },
      "source": [
        "def test():\n",
        "    start_time = time.time()\n",
        "    download_all_sites(sites)\n",
        "    duration = time.time() - start_time\n",
        "    print(f\"Downloaded {len(sites)} in {duration} seconds\")"
      ],
      "execution_count": null,
      "outputs": []
    },
    {
      "cell_type": "code",
      "metadata": {
        "id": "j4I4MtCGNace"
      },
      "source": [
        "test()"
      ],
      "execution_count": null,
      "outputs": []
    },
    {
      "cell_type": "code",
      "metadata": {
        "id": "UognYY_wOrLG",
        "colab": {
          "base_uri": "https://localhost:8080/"
        },
        "outputId": "7c253764-9bfb-484b-9ef0-1fb8a0b311e4"
      },
      "source": [
        "multiprocessing.cpu_count()"
      ],
      "execution_count": null,
      "outputs": [
        {
          "output_type": "execute_result",
          "data": {
            "text/plain": [
              "2"
            ]
          },
          "metadata": {
            "tags": []
          },
          "execution_count": 106
        }
      ]
    }
  ]
}