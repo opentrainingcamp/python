{
  "nbformat": 4,
  "nbformat_minor": 0,
  "metadata": {
    "colab": {
      "name": "Serialisation_Deserialisation",
      "private_outputs": true,
      "provenance": [],
      "authorship_tag": "ABX9TyP5rVk3I2HDCxX5EpBXf6Av",
      "include_colab_link": true
    },
    "kernelspec": {
      "name": "python3",
      "display_name": "Python 3"
    }
  },
  "cells": [
    {
      "cell_type": "markdown",
      "metadata": {
        "id": "view-in-github",
        "colab_type": "text"
      },
      "source": [
        "<a href=\"https://colab.research.google.com/github/opentrainingcamp/python/blob/main/Notebook/Serialisation_Deserialisation.ipynb\" target=\"_parent\"><img src=\"https://colab.research.google.com/assets/colab-badge.svg\" alt=\"Open In Colab\"/></a>"
      ]
    },
    {
      "cell_type": "markdown",
      "metadata": {
        "id": "reLDRLrUu5Qe"
      },
      "source": [
        "# Sérialisation / désérialisation Python utilisation de JSON"
      ]
    },
    {
      "cell_type": "markdown",
      "metadata": {
        "id": "BAZX8tSTvkKy"
      },
      "source": [
        "## Rappel un dictionnaire Python\n",
        "\n",
        "Un dictionnaire est un ensemble de clés/valeurs, la clé pouvant être une valeur immutable et la valeur est tout type."
      ]
    },
    {
      "cell_type": "markdown",
      "metadata": {
        "id": "abA6Mxofv7pE"
      },
      "source": [
        "### Quelques exemples"
      ]
    },
    {
      "cell_type": "code",
      "metadata": {
        "id": "uAJt39xev__r"
      },
      "source": [
        "d1 = {'Un': 1, 2: 'Deux', 3:3, 'listeAussi':[1,3,4,5, 'texte', {1: 3}],'tuple': (5,'texte',7), 'uneValDic': {'Une': 1, 5: 'Cinq', 3:3}}"
      ],
      "execution_count": null,
      "outputs": []
    },
    {
      "cell_type": "code",
      "metadata": {
        "id": "E2Nl6nz_wiGs"
      },
      "source": [
        "d1"
      ],
      "execution_count": null,
      "outputs": []
    },
    {
      "cell_type": "markdown",
      "metadata": {
        "id": "OmKJhyluwmVq"
      },
      "source": [
        "## Récupérer les valeurs d'une clé\n"
      ]
    },
    {
      "cell_type": "code",
      "metadata": {
        "id": "40jLPcE-wq7F"
      },
      "source": [
        "print(d1.get('Un'),d1.get('ExistePas'))"
      ],
      "execution_count": null,
      "outputs": []
    },
    {
      "cell_type": "code",
      "metadata": {
        "id": "s9hlj8Qawkwz"
      },
      "source": [
        "print(d1['Un'], d1[3], d1[2], d1['uneValDic'])"
      ],
      "execution_count": null,
      "outputs": []
    },
    {
      "cell_type": "code",
      "metadata": {
        "id": "-eGbwmYnw7f8"
      },
      "source": [
        "d1['ExistePas']"
      ],
      "execution_count": null,
      "outputs": []
    },
    {
      "cell_type": "markdown",
      "metadata": {
        "id": "GxHn_-7mxQ7W"
      },
      "source": [
        "# Modifié une clé"
      ]
    },
    {
      "cell_type": "code",
      "metadata": {
        "id": "du-KCb8GxTPj"
      },
      "source": [
        "d1['Un'] = 'Nouveaux'"
      ],
      "execution_count": null,
      "outputs": []
    },
    {
      "cell_type": "code",
      "metadata": {
        "id": "BC3o_shGx8T7"
      },
      "source": [
        "d1"
      ],
      "execution_count": null,
      "outputs": []
    },
    {
      "cell_type": "code",
      "metadata": {
        "id": "UvXXtSGzxoEu"
      },
      "source": [
        "#ou plusieur en même temps\n",
        "d1.update({3: 'Trois', 'ExistePas': 'Existe', 2:2})"
      ],
      "execution_count": null,
      "outputs": []
    },
    {
      "cell_type": "code",
      "metadata": {
        "id": "OyoSRCclxP3l"
      },
      "source": [
        "d1"
      ],
      "execution_count": null,
      "outputs": []
    },
    {
      "cell_type": "code",
      "metadata": {
        "id": "F0ldgWpExNpL"
      },
      "source": [
        ""
      ],
      "execution_count": null,
      "outputs": []
    },
    {
      "cell_type": "markdown",
      "metadata": {
        "id": "5qPUbkqNy2P7"
      },
      "source": [
        "# Conversion dictionnaire vers JSON\n",
        "Pour convertir un Dict en JSON en Python, vous pouvez utiliser la fonction `json.dumps()`. La fonction json.dumps () convertit l'objet Dictionary en chaîne JSON."
      ]
    },
    {
      "cell_type": "code",
      "metadata": {
        "id": "L8Uoqd0sy_8W"
      },
      "source": [
        "import json\n",
        "json.dumps(d1)"
      ],
      "execution_count": null,
      "outputs": []
    },
    {
      "cell_type": "code",
      "metadata": {
        "id": "pPt_LscjzHnc"
      },
      "source": [
        "print(json.dumps(d1))"
      ],
      "execution_count": null,
      "outputs": []
    },
    {
      "cell_type": "code",
      "metadata": {
        "id": "AW7WO_NVzisk"
      },
      "source": [
        "print(json.dumps(d1, indent=2))"
      ],
      "execution_count": null,
      "outputs": []
    },
    {
      "cell_type": "code",
      "metadata": {
        "id": "6cssJ19d0SI1"
      },
      "source": [
        "d1json = json.dumps(d1)"
      ],
      "execution_count": null,
      "outputs": []
    },
    {
      "cell_type": "markdown",
      "metadata": {
        "id": "RgToxGqf0akk"
      },
      "source": [
        "## Charger un string JSON en dictionnaire Python\n",
        "\n",
        "Pour convertir une chaîne JSON Python en dictionnaire, utilisez la fonction json.loads (). Notez que seulement si le contenu JSON est un objet JSON, et lorsqu'il est analysé à l'aide de la fonction load (), nous obtenons l'objet Dictionary Python.\n",
        "\n",
        "Le contenu JSON avec un tableau d'objets sera converti en une liste Python par la fonction load ()."
      ]
    },
    {
      "cell_type": "code",
      "metadata": {
        "id": "QCVidF1W0jvc"
      },
      "source": [
        "newd1 = json.loads(d1json)"
      ],
      "execution_count": null,
      "outputs": []
    },
    {
      "cell_type": "code",
      "metadata": {
        "id": "xjACXPcn0aAc"
      },
      "source": [
        "newd1"
      ],
      "execution_count": null,
      "outputs": []
    },
    {
      "cell_type": "code",
      "metadata": {
        "id": "Ob9_f7Kd06TV"
      },
      "source": [
        "d1"
      ],
      "execution_count": null,
      "outputs": []
    },
    {
      "cell_type": "markdown",
      "metadata": {
        "id": "XsydTMbavhCV"
      },
      "source": [
        "# Les objets Python et les dictionnaires"
      ]
    },
    {
      "cell_type": "code",
      "metadata": {
        "id": "5iQtuWstulAY"
      },
      "source": [
        "class Person:\n",
        "  def __init__(self, name, age):\n",
        "    self.name = name\n",
        "    self.age = age\n",
        "\n",
        "p1 = Person('Pascal', 59)"
      ],
      "execution_count": null,
      "outputs": []
    },
    {
      "cell_type": "code",
      "metadata": {
        "id": "5_RflazF1cWj"
      },
      "source": [
        "# une attribut magique __dict__ !\n",
        "p1.__dict__"
      ],
      "execution_count": null,
      "outputs": []
    },
    {
      "cell_type": "markdown",
      "metadata": {
        "id": "PNG6bwIt1nYb"
      },
      "source": [
        "## Transfromer un objet Python en JSON est simple on utilise __dict__ créer par Python"
      ]
    },
    {
      "cell_type": "code",
      "metadata": {
        "id": "zE2AD32P1tsE"
      },
      "source": [
        "p1json = json.dumps(p1.__dict__)\n",
        "p1json"
      ],
      "execution_count": null,
      "outputs": []
    },
    {
      "cell_type": "markdown",
      "metadata": {
        "id": "gt1YK0tI18Mc"
      },
      "source": [
        "# JSON vers objet, utilisation de l'opérateur SPLAT ** (unpacking) sur dictionnaire"
      ]
    },
    {
      "cell_type": "code",
      "metadata": {
        "id": "aPSEbNYMH4FV"
      },
      "source": [
        "def f(x, y):\n",
        "  return x+y\n",
        "\n",
        "f(y=2, x=1)"
      ],
      "execution_count": null,
      "outputs": []
    },
    {
      "cell_type": "code",
      "metadata": {
        "id": "7qUHCwtqIGyK"
      },
      "source": [
        "p2 = Person(name='nom1', age=10)\n",
        "p2"
      ],
      "execution_count": null,
      "outputs": []
    },
    {
      "cell_type": "code",
      "metadata": {
        "id": "H-LURGKDIYBb"
      },
      "source": [
        "dictp = {'name':'toto', 'age': 25}\n",
        "Person(**dictp)"
      ],
      "execution_count": null,
      "outputs": []
    },
    {
      "cell_type": "code",
      "metadata": {
        "id": "D3l6JWaq2EGW"
      },
      "source": [
        "personfromjson = Person(**json.loads(p1json))\n",
        "print(personfromjson, personfromjson.name, personfromjson.age)"
      ],
      "execution_count": null,
      "outputs": []
    },
    {
      "cell_type": "markdown",
      "metadata": {
        "id": "z-Lm8WW04m9X"
      },
      "source": [
        "# Nous avons tout ce qu'il faut pour sérialiser / désérialiser des objets"
      ]
    },
    {
      "cell_type": "markdown",
      "metadata": {
        "id": "sW9BlFdF9fXl"
      },
      "source": [
        "### Sérialiser dump"
      ]
    },
    {
      "cell_type": "code",
      "metadata": {
        "id": "dWoFOt0C4wOA"
      },
      "source": [
        "# Un exemple\n",
        "class Person:\n",
        "  def __init__(self, name, age):\n",
        "    self.name = name\n",
        "    self.age = age\n",
        "\n",
        "  def __repr__(self):\n",
        "    return f'Person(name={self.name},age={self.age})'"
      ],
      "execution_count": null,
      "outputs": []
    },
    {
      "cell_type": "code",
      "metadata": {
        "id": "z2QjHPL95CK1"
      },
      "source": [
        "p1=Person('Pascal', 59)\n",
        "p2=Person('Fares', 15)\n",
        "pbd = [p1, p2]\n",
        "pbd"
      ],
      "execution_count": null,
      "outputs": []
    },
    {
      "cell_type": "code",
      "metadata": {
        "id": "QpRjnbsH5P_l"
      },
      "source": [
        "import json\n",
        "\n",
        "with open('liste_of_persons1', 'w', encoding='utf-8')  as jf:\n",
        "  for p in pbd:\n",
        "    json.dump(p.__dict__, jf)\n",
        "    jf.write('\\n')\n",
        "\n"
      ],
      "execution_count": null,
      "outputs": []
    },
    {
      "cell_type": "code",
      "metadata": {
        "id": "hOCLAco78z8v"
      },
      "source": [
        "# meilleur solution\n",
        "class personEncoder(json.JSONEncoder):\n",
        "        def default(self, o):\n",
        "            return o.__dict__\n",
        "\n",
        "with open('liste_of_persons2', 'w', encoding='utf-8')  as jf:\n",
        "  for p in pbd:\n",
        "    json.dump(p, jf, cls=personEncoder)\n",
        "    jf.write('\\n')"
      ],
      "execution_count": null,
      "outputs": []
    },
    {
      "cell_type": "code",
      "metadata": {
        "id": "Y8pBmn2l_aNS"
      },
      "source": [
        "#encode mieux?\n",
        "\n",
        "with open('liste_of_persons3', 'w', encoding='utf-8')  as jf:\n",
        "    json.dump(pbd, jf, cls=personEncoder)"
      ],
      "execution_count": null,
      "outputs": []
    },
    {
      "cell_type": "markdown",
      "metadata": {
        "id": "8aSAyqGX9ic9"
      },
      "source": [
        "## Désérialiser load"
      ]
    },
    {
      "cell_type": "code",
      "metadata": {
        "id": "2ZQDU6Ua9_ll"
      },
      "source": [
        "lpersons = []\n",
        "with open('liste_of_persons2', 'r', encoding='utf-8')  as jf:\n",
        "  for l in jf:\n",
        "    lpersons.append(Person(**json.loads(l)))\n",
        "\n",
        "lpersons"
      ],
      "execution_count": null,
      "outputs": []
    },
    {
      "cell_type": "code",
      "metadata": {
        "id": "cfnMxuQH-izF"
      },
      "source": [
        "# ou mieux\n",
        "\n",
        "def personDecoder(pdict):\n",
        "  return Person(**pdict)\n",
        "\n",
        "\n",
        "lpersons = []\n",
        "with open('liste_of_persons2', 'r', encoding='utf-8')  as jf:\n",
        "  for l in jf:\n",
        "    lpersons.append(json.loads(l, object_hook=personDecoder))\n",
        "\n",
        "lpersons"
      ],
      "execution_count": null,
      "outputs": []
    },
    {
      "cell_type": "code",
      "metadata": {
        "id": "vKLrzIlDAWVf"
      },
      "source": [
        "# Ou encore mieux\n",
        "with open('liste_of_persons3', 'r', encoding='utf-8')  as jf:\n",
        "  lpersons = json.load(jf, object_hook=personDecoder)\n",
        "\n",
        "lpersons"
      ],
      "execution_count": null,
      "outputs": []
    }
  ]
}