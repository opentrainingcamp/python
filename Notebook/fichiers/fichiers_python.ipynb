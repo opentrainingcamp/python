{
  "nbformat": 4,
  "nbformat_minor": 0,
  "metadata": {
    "colab": {
      "name": "fichiers_python.ipynb",
      "private_outputs": true,
      "provenance": [],
      "collapsed_sections": [],
      "authorship_tag": "ABX9TyOUJF1jDbdlRVqSLoiBCwtt",
      "include_colab_link": true
    },
    "kernelspec": {
      "name": "python3",
      "display_name": "Python 3"
    }
  },
  "cells": [
    {
      "cell_type": "markdown",
      "metadata": {
        "id": "view-in-github",
        "colab_type": "text"
      },
      "source": [
        "<a href=\"https://colab.research.google.com/github/opentrainingcamp/python/blob/main/Notebook/fichiers/fichiers_python.ipynb\" target=\"_parent\"><img src=\"https://colab.research.google.com/assets/colab-badge.svg\" alt=\"Open In Colab\"/></a>"
      ]
    },
    {
      "cell_type": "markdown",
      "metadata": {
        "id": "VxXIZwF9tG-m"
      },
      "source": [
        "# Complément : manipulation de fichiers et dossiers en Python\n",
        "\n",
        "## Persister des données\n",
        "\n",
        "Le moyen essentiel de faire persister vos données sont les fichiers.\n",
        "\n",
        "Dans ce complément, vous apprendrez:\n",
        "\n",
        "* Qu'est-ce qui compose un fichier et pourquoi c'est important en Python\n",
        "* Les bases de la lecture et de l'écriture de fichiers en Python\n",
        "* Quelques exemples de lecture et d'écriture de fichiers"
      ]
    },
    {
      "cell_type": "markdown",
      "metadata": {
        "id": "FXOog6DGwQPx"
      },
      "source": [
        "## Pour ceux qui ne le savent pas, Qu'est-ce qu'un fichier?\n",
        "\n",
        "Avant de pouvoir utiliser des fichiers en Python, il est important de comprendre ce qu'est exactement un fichier et comment les systèmes d'exploitation modernes gèrent certains de leurs aspects.\n",
        "\n",
        "À la base, un fichier est un ensemble contigu **d'octets** utilisé pour stocker des données. Ces données sont organisées dans un format spécifique et peuvent être quelque chose d'aussi simple qu'un fichier texte ou aussi compliqué qu'un exécutable de programme.\n",
        "\n",
        "Les fichiers sur la plupart des systèmes de fichiers modernes sont composés de trois parties principales:\n",
        "\n",
        "* **En-tête:** métadonnées sur le contenu du fichier (nom du fichier, taille, type, etc.)\n",
        "* **Données:** contenu du fichier tel qu'écrit par le créateur ou l'éditeur\n",
        "* **Fin de fichier (EOF)**: caractère spécial qui indique la fin du fichier"
      ]
    },
    {
      "cell_type": "markdown",
      "metadata": {
        "id": "psXrcNC5wm1u"
      },
      "source": [
        "![Structure fichbier](https://github.com/lipug/lipug.github.io/raw/main/Python/fichiers/strcture_fichier.png)"
      ]
    },
    {
      "cell_type": "markdown",
      "metadata": {
        "id": "faFt_h3R0BqO"
      },
      "source": [
        "# Chemins de fichiers, le PATH\n",
        "\n",
        "Lorsque vous accédez à un fichier sur un système d'exploitation, un chemin d'accès au fichier est requis. Le chemin du fichier est une chaîne qui représente l'emplacement d'un fichier. Il est divisé en trois parties principales:\n",
        "\n",
        "* Chemin du dossier: l'emplacement du dossier de fichiers sur le système de fichiers où les dossiers suivants sont séparés par une barre oblique / (Unix) ou une barre oblique inverse \\ (Windows)\n",
        "* Nom du fichier: le nom réel du fichier\n",
        "* Extension: la fin du chemin du fichier précédée d'un point (.) Utilisé pour indiquer le type de fichier\n",
        "\n",
        "Un dossier possède une définition résursive: il contient des fichiers ou d'autres dossiers. \n",
        "\n",
        "$DOSSIER ::= {CONTENU}^* $\n",
        "\n",
        "$ CONTENU ::= fichier | DOSSIER $\n",
        "\n",
        "Le système de fichier commence par un dossier racine, Le fichier représente un npoeud terminal. À partir du dossier racine nous retrouvons tous les fichiers du système de fichier. "
      ]
    },
    {
      "cell_type": "code",
      "metadata": {
        "id": "6Eqv516YcKAA"
      },
      "source": [
        "chemindef2 = '/content/sample_data/dossier1/dossier2/f2'"
      ],
      "execution_count": null,
      "outputs": []
    },
    {
      "cell_type": "markdown",
      "metadata": {
        "id": "kP5a5fe95J1n"
      },
      "source": [
        "# Les fichiers textes, introduction à l'encodage\n",
        "\n",
        "Un fichier est une suite d'octet, mais les fichiers texte (suite de caractères) ont une particularité, il possède des codages (octets spéciaux) permettant de faire du formatage par exemple la tabulation, passage à la ligne etc...\n",
        "\n",
        "Un code => indique un caractère => le caractère possède un glyphe.\n",
        "\n",
        "*Un glyphe (du grec : γλυφή ; « ciselure », « gravure ») est une représentation graphique (parmi une infinité possible) d'un signe typographique, autrement dit d'un caractère (glyphe de caractère) ou d'un accent (glyphe d'accent), ou bien d'une ligature de ces caractères (y compris pour une syllabe ou un mot tout entier, dans les écritures cursives et jointives où on ne peut pas produire facilement et proprement les signes par une simple juxtaposition de plusieurs glyphes conçus séparément).*\n",
        "\n",
        "Prenons cette chaine de caractère sur plusieurs lignes:"
      ]
    },
    {
      "cell_type": "markdown",
      "metadata": {
        "id": "32mqNscXgdYx"
      },
      "source": [
        "### Premier contact"
      ]
    },
    {
      "cell_type": "code",
      "metadata": {
        "id": "BQNBYf9jtFSg"
      },
      "source": [
        "texte = '''\n",
        "un texte de plusieurs lignes\n",
        "\n",
        "ligne 3\n",
        "\n",
        "ligne4 une tabulation    elle est invisible ici mais j'ai\n",
        "  taper sur la touche Tab\n",
        "\n",
        "Donc voila\n",
        "'''"
      ],
      "execution_count": null,
      "outputs": []
    },
    {
      "cell_type": "code",
      "metadata": {
        "id": "gTtDuGpF6K0X"
      },
      "source": [
        "texte"
      ],
      "execution_count": null,
      "outputs": []
    },
    {
      "cell_type": "code",
      "metadata": {
        "id": "tZPUewEH6Wyh"
      },
      "source": [
        "texte2=\"abc\\ncde\\n\\tetc...\""
      ],
      "execution_count": null,
      "outputs": []
    },
    {
      "cell_type": "code",
      "metadata": {
        "id": "e-qrGHdK6dum"
      },
      "source": [
        "print(texte2)"
      ],
      "execution_count": null,
      "outputs": []
    },
    {
      "cell_type": "code",
      "metadata": {
        "id": "GgKCpvM8k4N-"
      },
      "source": [
        "texte2"
      ],
      "execution_count": null,
      "outputs": []
    },
    {
      "cell_type": "markdown",
      "metadata": {
        "id": "UUmT2XKB6xiX"
      },
      "source": [
        "# Codages de caractères\n",
        "Un autre problème courant auquel vous pouvez être confronté est le codage des données d'octets. Un encodage est une traduction de données d'octets en caractères lisibles par l'homme. Cela se fait généralement en attribuant une valeur numérique pour représenter un caractère. Les deux encodages les plus courants sont les formats ASCII et UNICODE. ASCII ne peut stocker que 128 caractères, tandis que Unicode peut contenir jusqu'à 1 114 112 caractères.\n",
        "\n",
        "ASCII est en fait un sous-ensemble d'Unicode (UTF-8), ce qui signifie que ASCII et Unicode partagent les mêmes valeurs numériques à caractères. Il est important de noter que l’analyse d’un fichier avec un codage de caractères incorrect peut entraîner des échecs ou une fausse représentation du caractère. Par exemple, si un fichier a été créé à l'aide du codage UTF-8 et que vous essayez de l'analyser à l'aide du codage ASCII, s'il y a un caractère qui est en dehors de ces 128 valeurs, une erreur sera générée."
      ]
    },
    {
      "cell_type": "markdown",
      "metadata": {
        "id": "hzbPuVKh88Nl"
      },
      "source": [
        "# ENCODAGES CARACTÈRE Et UNICODE dans PYTHON\n",
        "1. Qu'est-ce qu'un encodage?\n",
        "2. ASCII et un peu d'histoire\n",
        "3. Spécification des bits sous forme de valeurs binaires, oct et hexadécimales\n",
        "4. Unicode et UTF-8\n",
        "5. Comment UTF-8 encode un point de code\n",
        "6. Combinaison de points de code en un seul glyphe\n",
        "7. Fonctions Python intégrées qui vous aident\n",
        "8. UTF-16, UTF-32, Latin-1, CP1252"
      ]
    },
    {
      "cell_type": "markdown",
      "metadata": {
        "id": "c8iF0ujz9UQ-"
      },
      "source": [
        "Les ordinateurs ne comprennent que les nombres\n",
        "* Les encodages de caractères sont un moyen de représenter du texte: un mappage (une association) entre un nombre et un caractère\n",
        "* ASCII était la norme par excellence\n",
        "* N'encode vraiment que l'alphabet latin\n",
        "* Unicode est une norme internationale"
      ]
    },
    {
      "cell_type": "markdown",
      "metadata": {
        "id": "YoGx3ywQ9yTB"
      },
      "source": [
        "# Rappel: Les bits et octets\n",
        "\n",
        "Les ordinateurs ne comprennent que les nombres\n",
        "* suite de bits! (2 valeurs, nombre binaire)\n",
        "  * Vrai / Faux\n",
        "  * Marche / Arrêt\n",
        "  * 1/0\n",
        "* Un «octet» est un regroupement de bits, dans les PC, il s'agissait de 8 bits par octet\n",
        "* Un octet de 8 bits peut contenir $2^8$ (256) combinaisons\n",
        "* c'est-à-dire les nombres 0 - 255\n"
      ]
    },
    {
      "cell_type": "markdown",
      "metadata": {
        "id": "VlawkbAI-onH"
      },
      "source": [
        "# Les origines de l'encodage\n",
        "\n",
        "* IBM a introduit le codage BCD (Binary Coded Decimal) en 1959\n",
        "  * BCD utilisait 6 bits pour représenter un caractère\n",
        "* IBM BCD étendu avec EBCDIC (Extended Binary Coded Decimal Code d'échange) en 1963\n",
        "  * Utilisé 8 bits\n",
        "  * Était si avancé qu'il incluait des lettres minuscules!\n",
        "* ASCII (American Standard Code for Information Interchange) créé en 1963\n",
        "  * Utilisé 7 bits, mais la plupart des ordinateurs l'ont représenté par 8\n",
        "  * Adopté en tant que norme internationale en 1967, comporte plusieurs itérations et\n",
        "plusieurs extensions\n",
        "  * Le PC l'a utilisé"
      ]
    },
    {
      "cell_type": "markdown",
      "metadata": {
        "id": "xVyCHx7E_LXt"
      },
      "source": [
        "# Un peu de terminology pour bien nous comprendre\n",
        "\n",
        "* **Caractère:** \"unité minimale de texte ayant une valeur sémantique\"\n",
        "* **Jeu de caractères**: collection de caractères, souvent utilisée par plusieurs langues\n",
        "  * Jeu de caractères latins vs jeu de caractères grecs vs jeu de caractères russes\n",
        "* **Code Point**: un nombre qui représente un seul caractère dans un ensemble de caractères encodés\n",
        "  * «A» en ASCII est le point de code décimal 65\n",
        "* **Unité de code**, encodage: séquence de bits représentant un point de code\n",
        "  * Les unités de code ASCII ont une longueur de 7 bits - numérotées de 0 à 127\n",
        "  * Unicode prend en charge différents encodages avec des unités de code de longueur variable\n",
        "  * UTF-8 est de 8 bits mais son point de code peut être mappé à 1, 2, 3 ou 4 unités de code\n"
      ]
    },
    {
      "cell_type": "markdown",
      "metadata": {
        "id": "pzNWEluMhcAC"
      },
      "source": [
        "# Notion code caractère (Code Point) `ord`, représentation caractère `chr` "
      ]
    },
    {
      "cell_type": "code",
      "metadata": {
        "id": "kdmbGTIw__sl"
      },
      "source": [
        "help(ord)"
      ],
      "execution_count": null,
      "outputs": []
    },
    {
      "cell_type": "code",
      "metadata": {
        "id": "6vOjZcj5AFTE"
      },
      "source": [
        "help(chr)"
      ],
      "execution_count": null,
      "outputs": []
    },
    {
      "cell_type": "code",
      "metadata": {
        "id": "v6BfMJBCARZD"
      },
      "source": [
        "print(bin(ord('A')), ord('A'), hex(ord('A')))"
      ],
      "execution_count": null,
      "outputs": []
    },
    {
      "cell_type": "code",
      "metadata": {
        "id": "7FYwJTZCAZz-"
      },
      "source": [
        "print(bin(ord('ö')), ord('ö'), hex(ord('ö')))"
      ],
      "execution_count": null,
      "outputs": []
    },
    {
      "cell_type": "code",
      "metadata": {
        "id": "5GeevNB_hFik"
      },
      "source": [
        "print(bin(ord('أ')), ord('أ'), hex(ord('أ')))"
      ],
      "execution_count": null,
      "outputs": []
    },
    {
      "cell_type": "code",
      "metadata": {
        "id": "RkfCEDc0Afri"
      },
      "source": [
        "[chr(cp) for cp in [65, 246, 1571]]"
      ],
      "execution_count": null,
      "outputs": []
    },
    {
      "cell_type": "markdown",
      "metadata": {
        "id": "7dne6r38tT-m"
      },
      "source": [
        "# VIDEO 4"
      ]
    },
    {
      "cell_type": "markdown",
      "metadata": {
        "id": "GihOOH0SBXQ3"
      },
      "source": [
        "# Les bases de chaines de carctères : ASCII et le module de chaîne Python\n",
        "\n",
        "## ASCII\n",
        "* Le PC a commencé avec ASCII\n",
        "* Alphabet latin de base - pas de caractères accentués\n",
        "* 128 caractères\n",
        "\n",
        "| Code Point | Classe | Valeur |\n",
        "| ---------- | ------ | ------ | \n",
        "|0 - 31  | Controle/non-imprimable | | \n",
        "| 32 - 64| Space, symbols, numbers |  !”#$%&’()*+,-./0123456789:;<=>?@ |\n",
        "|65 - 90 | Uppercase English alphabet  | ABCDEFGHIJKLMNOPQRSTUVWXYZ  | \n",
        "| 91 - 96 | More symbols | [\\\\]^_` | \n",
        "| 97 - 122 |  Lowercase English alphabet | abcdefghijklmnopqrstuvwxyz|\n",
        "| 123 - 126 | More symbols | \\{\\|\\}~ | \n",
        "| 127 | \\<DEL\\> | | \n",
        " "
      ]
    },
    {
      "cell_type": "markdown",
      "metadata": {
        "id": "jVcFi-YzCyIf"
      },
      "source": [
        "# ASCII étendu\n",
        "* ASCII n'utilise que 128 nombres: tient sur 7 bits\n",
        "  * Octets 8 bits utilisés par le PC\n",
        "  * 8ème bit utilisé pour les contrôles de transmission (bit de parité)\n",
        "* L'ASCII étendu a utilisé les 8 bits\n",
        "  * Ajout de caractères accentués communs pour prendre en charge la plupart des Langues latine et germaniques (par exemple À, ê, ç, ...)\n",
        "* Latin-1 (ISO-8859-1) était une autre extension\n",
        "* Windows-1252, alias CP-1252, était une autre extension\n",
        "* Extended ASCII, Latin-1, CP-1252 et Unicode utilisent tous les 128 premiers codes points ASCII"
      ]
    },
    {
      "cell_type": "markdown",
      "metadata": {
        "id": "VbPRky0zDXIV"
      },
      "source": [
        "# Le module string de Python\n",
        "\n",
        "string — Opérations usuelles sur des chaînes (ASCII)"
      ]
    },
    {
      "cell_type": "markdown",
      "metadata": {
        "id": "TLJXSqeVFEVO"
      },
      "source": [
        "Chaînes constantes\n",
        "Les constantes définies dans ce module sont :\n",
        "\n",
        "**string.ascii_letters**\n",
        "La concaténation des constantes ascii_lowercase et ascii_uppercase décrites ci-dessous. Cette valeur n'est pas dépendante de l'environnement linguistique.\n",
        "\n",
        "**string.ascii_lowercase**\n",
        "Les lettres minuscules 'abcdefghijklmnopqrstuvwxyz'. Cette valeur ne dépend pas de l'environnement linguistique et ne changera pas.\n",
        "\n",
        "**string.ascii_uppercase**\n",
        "Les lettres majuscules 'ABCDEFGHIJKLMNOPQRSTUVWXYZ'. Cette valeur ne dépend pas de l'environnement linguistique et ne changera pas.\n",
        "\n",
        "**string.digits**\n",
        "La chaîne '0123456789'.\n",
        "\n",
        "**string.hexdigits**\n",
        "La chaîne '0123456789abcdefABCDEF'.\n",
        "\n",
        "**string.octdigits**\n",
        "La chaîne '01234567.\n",
        "\n",
        "**string.punctuation**\n",
        "Chaîne de caractères ASCII considérés comme ponctuation dans l'environnement linguistique C : !\"#$%&'()*+,-./:;<=>?@[\\]^_`{|}~.\n",
        "\n",
        "**string.printable**\n",
        "Chaîne de caractères ASCII considérés comme affichables. C'est une combinaison de digits, ascii_letters, punctuation, et whitespace.\n",
        "\n",
        "**string.whitespace**\n",
        "Une chaîne comprenant tous les caractères ASCII considérés comme espaces. Sont inclus les caractères espace, tabulations, saut de ligne, retour du chariot, saut de page, et tabulation verticale."
      ]
    },
    {
      "cell_type": "code",
      "metadata": {
        "id": "Q8ZilcmSFWEO"
      },
      "source": [
        "import string\n",
        "\n",
        "type(string.punctuation)\n",
        "string.punctuation"
      ],
      "execution_count": null,
      "outputs": []
    },
    {
      "cell_type": "markdown",
      "metadata": {
        "id": "0sATtB37F8V_"
      },
      "source": [
        "# Encodage et codage: Bits, Octets, Ocatal (oct), Hexadécimal (hex), Binaire (bin)\n",
        "\n",
        "Les nombres en Python peuvent être en héxadecimal commence par 0x, décimal, octal comence par 0o et binaire commence par 0b "
      ]
    },
    {
      "cell_type": "code",
      "metadata": {
        "id": "2MpuDeCBGq0Q"
      },
      "source": [
        "n = 539\n",
        "print(bin(n),oct(n),n,hex(n))"
      ],
      "execution_count": null,
      "outputs": []
    },
    {
      "cell_type": "markdown",
      "metadata": {
        "id": "9iD59xRHG5Tu"
      },
      "source": [
        "| Base | Valeur |  facteurs |\n",
        "| ---- | -----  | ------    |\n",
        "| | | ------------------------------------------------------------------ | \n",
        "| 2 |  **0b1000011011** | $ 2^9 + 2^4 + 2^3 + 2^1 + 2^0 $ | \n",
        "| 8 | **0o1033** | $1*8^3 + 3*8^1 + 3*8^0$ |\n",
        "| 10 | **539** | $5*10^2 + 3*10^1 + 9*10^0$ |\n",
        "| 16 | **0x21B** | $2*16^2 + 1*16^1 + 11*16^0$ | "
      ]
    },
    {
      "cell_type": "markdown",
      "metadata": {
        "id": "P28XRonI5MDL"
      },
      "source": [
        "## utilisation de formatted string `f'... '`\n",
        "\n"
      ]
    },
    {
      "cell_type": "code",
      "metadata": {
        "id": "HF_rgAir6Bh1"
      },
      "source": [
        "number = 653\n",
        "f'{number}'"
      ],
      "execution_count": null,
      "outputs": []
    },
    {
      "cell_type": "code",
      "metadata": {
        "id": "7Lxczd5f6iuM"
      },
      "source": [
        "f'{number:0b}'"
      ],
      "execution_count": null,
      "outputs": []
    },
    {
      "cell_type": "code",
      "metadata": {
        "id": "Cjl5sgJn6lP9"
      },
      "source": [
        "f'{number:0o}'"
      ],
      "execution_count": null,
      "outputs": []
    },
    {
      "cell_type": "code",
      "metadata": {
        "id": "ZR55GJvh6uem"
      },
      "source": [
        "print(f'{number:0x}', f'{number:0X}')\n"
      ],
      "execution_count": null,
      "outputs": []
    },
    {
      "cell_type": "code",
      "metadata": {
        "id": "sDpLv0Dk6yLO"
      },
      "source": [
        "int('653')\n"
      ],
      "execution_count": null,
      "outputs": []
    },
    {
      "cell_type": "code",
      "metadata": {
        "id": "E6jeYAZC6z3e"
      },
      "source": [
        "int('653', base=16)\n"
      ],
      "execution_count": null,
      "outputs": []
    },
    {
      "cell_type": "code",
      "metadata": {
        "id": "zfIpdJ7i607P"
      },
      "source": [
        "int('653', base=2)"
      ],
      "execution_count": null,
      "outputs": []
    },
    {
      "cell_type": "code",
      "metadata": {
        "id": "qQk78dBb6XeY"
      },
      "source": [
        "int('11', base=2)"
      ],
      "execution_count": null,
      "outputs": []
    },
    {
      "cell_type": "code",
      "metadata": {
        "id": "VkQND4BR6aMo"
      },
      "source": [
        ""
      ],
      "execution_count": null,
      "outputs": []
    },
    {
      "cell_type": "code",
      "metadata": {
        "id": "enWmVaBsIPYj"
      },
      "source": [
        "for i in range(0,16):\n",
        "  print(f'{i:02d}\\t0b{i:04b}\\t0x{i:02x}')"
      ],
      "execution_count": null,
      "outputs": []
    },
    {
      "cell_type": "code",
      "metadata": {
        "id": "VhwqKpQ663-3"
      },
      "source": [
        "' '.join(f'{ord(c):08x}' for c in 'un petit texte é è á à ï و أحرف 👍')"
      ],
      "execution_count": null,
      "outputs": []
    },
    {
      "cell_type": "code",
      "metadata": {
        "id": "piJ_TRm49qtQ"
      },
      "source": [
        "# J'utiliserais cette fonction dans la suite pour récuperer \n",
        "# le code point en hexadécimal\n",
        "def code_point_hex(texte):\n",
        "  return '.'.join(f'{ord(c):06x}' for c in texte)"
      ],
      "execution_count": null,
      "outputs": []
    },
    {
      "cell_type": "code",
      "metadata": {
        "id": "Q0Tj5aWd-NSm"
      },
      "source": [
        "code_point_hex(\"Voila l'exemple و أحرف 👍\")"
      ],
      "execution_count": null,
      "outputs": []
    },
    {
      "cell_type": "code",
      "metadata": {
        "id": "eNofxABx-jU2"
      },
      "source": [
        "code_point_hex('cet été')"
      ],
      "execution_count": null,
      "outputs": []
    },
    {
      "cell_type": "code",
      "metadata": {
        "id": "rYywPuIx-9F9"
      },
      "source": [
        "# une syntaxe python escape \\u ou \\U\n",
        "# \\u 4 digits\n",
        "# \\U 8 digits\n",
        "'cet \\u00e9t\\u00e9'"
      ],
      "execution_count": null,
      "outputs": []
    },
    {
      "cell_type": "markdown",
      "metadata": {
        "id": "4LXDwgAvKgYl"
      },
      "source": [
        "# Revenons au codage des caractères : L'unicode et Python3\n",
        "\n",
        "\n",
        "\n",
        "Python 3 représente les données textuelle sous forme de chaîne(suite de caractères) ou d'octet (suite d'octets). Dans cette partie, on va voir léffet de  encode() et decode(), qui vous permettront de convertir entre les deux. Vous allez également commencer à travailler avec Unicode et découvrir la différence entre un encodage et un point de code. Unicode spécifie des points de code pour les caractères mais pas leurs encodages. Il existe plusieurs manières d'encoder Unicode. UTF-8 est le plus courant et est la valeur par défaut dans Python 3."
      ]
    },
    {
      "cell_type": "markdown",
      "metadata": {
        "id": "P3KIVZr1sD2R"
      },
      "source": [
        "## Les code point unicode\n",
        "* ASCII a 128 points de code, pas assez pour toutes les langues humaines\n",
        "* Unicode a 1 114 112 points de code possibles\n",
        "  * 17 * 216 - 1\n",
        "  * 0 - 0x10FFFF\n",
        "  * Les 128 premiers points de code sont ASCII - rétrocompatibles\n",
        "* ce n'est pas un encodage"
      ]
    },
    {
      "cell_type": "markdown",
      "metadata": {
        "id": "xL2dg3vBsjL2"
      },
      "source": [
        "## L'encodage\n",
        "\n",
        "* Unicode est l'asociation des points de code et des caractères\n",
        "* Encodages multiples\n",
        "* UTF-8\n",
        "* UTF-16, UTF-32 et plus\n"
      ]
    },
    {
      "cell_type": "markdown",
      "metadata": {
        "id": "AdrKiCvrs495"
      },
      "source": [
        "## Séquence de caractères (str) ou séquence d'octets (bytes)\n",
        "\n",
        "* Python 3 a deux représentations pour les données texte: des chaînes et des octets\n",
        "* L'encodage / décodage est le processus de déplacement entre eux"
      ]
    },
    {
      "cell_type": "code",
      "metadata": {
        "id": "wrOfGpjjXrh3"
      },
      "source": [
        "type('bonjour')"
      ],
      "execution_count": null,
      "outputs": []
    },
    {
      "cell_type": "code",
      "metadata": {
        "id": "7Qa6mu7QXu4o"
      },
      "source": [
        "type(b'bonjour')"
      ],
      "execution_count": null,
      "outputs": []
    },
    {
      "cell_type": "code",
      "metadata": {
        "id": "UjD4cxo5X6Ez"
      },
      "source": [
        "type('bonjour'.encode())"
      ],
      "execution_count": null,
      "outputs": []
    },
    {
      "cell_type": "markdown",
      "metadata": {
        "id": "qy4d85pKAg1Y"
      },
      "source": [
        "une chaîne Unicode est une séquence de points de code, qui sont des nombres de 0 à 0x10FFFF (1 114 111 en décimal). Cette séquence de points de code doit être stockée en mémoire sous la forme d'un ensemble de unités de code, et les unités de code sont ensuite transposées en octets de 8 bits. Les règles de traduction d'une chaîne Unicode en une séquence d'octets sont appelées un encodage de caractères ou simplement un encodage.\n",
        "\n",
        "Cette représentation est simple mais son utilisation pose un certain nombre de problèmes.\n",
        "\n",
        "* Elle n’est pas portable ; des processeurs différents ordonnent les octets différemment.\n",
        "\n",
        "* Elle gâche beaucoup d'espace. Dans la plupart des textes, la majorité des points de code sont inférieurs à 127, ou à 255, donc beaucoup d'espace est occupé par des octets 0x00. La chaîne ci-dessus occupe 24 octets, à comparer aux 6 octets nécessaires pour une représentation en ASCII. L'utilisation supplémentaire de RAM n'a pas trop d'importance (les ordinateurs de bureau ont des gigaoctets de RAM et les chaînes ne sont généralement pas si grandes que ça), mais l'accroissement de notre utilisation du disque et de la bande passante réseau par un facteur de 4 est intolérable.\n",
        "\n",
        "* Elle n’est pas compatible avec les fonctions C existantes telles que strlen(), il faudrait donc utiliser une nouvelle famille de fonctions, celle des chaînes larges (wide strings).\n",
        "\n",
        "* Par conséquent, cet encodage n'est pas très utilisé et d'autres encodages, plus efficaces et pratiques comme UTF-8, sont plutôt choisis."
      ]
    },
    {
      "cell_type": "code",
      "metadata": {
        "id": "ngAo5agcykqm"
      },
      "source": [
        "'bonjour'.encode('utf-8')"
      ],
      "execution_count": null,
      "outputs": []
    },
    {
      "cell_type": "code",
      "metadata": {
        "id": "OFsTSxR3yr0F"
      },
      "source": [
        "encbonj = 'bonjour'.encode('utf-8')\n",
        "print(type(encbonj), encbonj , type('bonjour'))"
      ],
      "execution_count": null,
      "outputs": []
    },
    {
      "cell_type": "code",
      "metadata": {
        "id": "9wanAAq5zC5T"
      },
      "source": [
        "enccara = 'Caractères éèáàöï'.encode('utf-8')\n",
        "enccara"
      ],
      "execution_count": null,
      "outputs": []
    },
    {
      "cell_type": "code",
      "metadata": {
        "id": "I5-UCKCwNa-p"
      },
      "source": [
        "print(ord('é'), hex(ord('é')), 'é'.encode('utf-8'))"
      ],
      "execution_count": null,
      "outputs": []
    },
    {
      "cell_type": "code",
      "metadata": {
        "id": "2MAnqUpcznKc"
      },
      "source": [
        "print(ord('€'), hex(ord('€')), '€'.encode('utf-8'))"
      ],
      "execution_count": null,
      "outputs": []
    },
    {
      "cell_type": "code",
      "metadata": {
        "id": "ggHYZJdyx8Dp"
      },
      "source": [
        "print(ord('a'), hex(ord('a')), 'a'.encode('utf-8'))"
      ],
      "execution_count": null,
      "outputs": []
    },
    {
      "cell_type": "code",
      "metadata": {
        "id": "FhhVJWxzNyNi"
      },
      "source": [
        "print(ord('ح'), hex(ord('ح')), 'ح'.encode('utf-8'))"
      ],
      "execution_count": null,
      "outputs": []
    },
    {
      "cell_type": "code",
      "metadata": {
        "id": "BdSJW1eRSHzt"
      },
      "source": [
        "'\\u062d'"
      ],
      "execution_count": null,
      "outputs": []
    },
    {
      "cell_type": "code",
      "metadata": {
        "id": "4VMvDWZDZ1eL"
      },
      "source": [
        "chr(1581)"
      ],
      "execution_count": null,
      "outputs": []
    },
    {
      "cell_type": "code",
      "metadata": {
        "id": "J18AXaRv0YRu"
      },
      "source": [
        "b'Caract\\xc3\\xa8res \\xc3\\xa9\\xc3\\xa8\\xc3\\xa1\\xc3\\xa0\\xc3\\xb6\\xc3\\xaf'.decode('utf-8')"
      ],
      "execution_count": null,
      "outputs": []
    },
    {
      "cell_type": "code",
      "metadata": {
        "id": "SHVeAQn10NvM"
      },
      "source": [
        "b'Caract\\xc3\\xa8res \\xc3\\xa9\\xc3\\xa8\\xc3\\xa1\\xc3\\xa0\\xc3\\xb6\\xc3\\xaf'.decode('latin1')"
      ],
      "execution_count": null,
      "outputs": []
    },
    {
      "cell_type": "code",
      "metadata": {
        "id": "02ycxfRo2-7S"
      },
      "source": [
        "import sys\n",
        "print(sys.getsizeof(\"Caractères éèáàöï et d'autres texte\") )\n",
        "print(sys.getsizeof(\"Caractères éèáàöï et d'autres texte\".encode('utf-8')) )"
      ],
      "execution_count": null,
      "outputs": []
    },
    {
      "cell_type": "code",
      "metadata": {
        "id": "-ZBK23Ejbn09"
      },
      "source": [
        "u'\\U0001F947'"
      ],
      "execution_count": null,
      "outputs": []
    },
    {
      "cell_type": "code",
      "metadata": {
        "id": "djo5GB4YcQIX"
      },
      "source": [
        "u'\\U0001f44d'"
      ],
      "execution_count": null,
      "outputs": []
    },
    {
      "cell_type": "markdown",
      "metadata": {
        "id": "yfXsN7kg4NEy"
      },
      "source": [
        "# Python 3 par défaut UNICODE et UTF-8\n",
        "\n",
        "Comme nous avoins vu une str est en fait une suite de code point unicode, la plupart des code point unicode peuvent convenir pour créer des identifiants (des noms)"
      ]
    },
    {
      "cell_type": "code",
      "metadata": {
        "id": "DUSuAiCMNdkn"
      },
      "source": [
        ""
      ],
      "execution_count": null,
      "outputs": []
    },
    {
      "cell_type": "code",
      "metadata": {
        "id": "q_jgcQ4e8nHm"
      },
      "source": [
        "help(''.encode)"
      ],
      "execution_count": null,
      "outputs": []
    },
    {
      "cell_type": "code",
      "metadata": {
        "id": "pptydCnZ8RAD"
      },
      "source": [
        "'caractères'.encode('utf-8')"
      ],
      "execution_count": null,
      "outputs": []
    },
    {
      "cell_type": "code",
      "metadata": {
        "id": "cU939mCr8aCj"
      },
      "source": [
        "'caractères'.encode('ascii')"
      ],
      "execution_count": null,
      "outputs": []
    },
    {
      "cell_type": "code",
      "metadata": {
        "id": "8vcuhGoZiPcI"
      },
      "source": [
        "type(b'abc')"
      ],
      "execution_count": null,
      "outputs": []
    },
    {
      "cell_type": "code",
      "metadata": {
        "id": "wVVQxFMtiSnQ"
      },
      "source": [
        "type(u'ab\\xc3\\xb6c')"
      ],
      "execution_count": null,
      "outputs": []
    },
    {
      "cell_type": "code",
      "metadata": {
        "id": "zUKtmGr8A7gz"
      },
      "source": [
        "code_a = ord('a')\n",
        "char_a = chr(ca)"
      ],
      "execution_count": null,
      "outputs": []
    },
    {
      "cell_type": "code",
      "metadata": {
        "id": "AIzQ3jsABDR-"
      },
      "source": [
        "ca"
      ],
      "execution_count": null,
      "outputs": []
    },
    {
      "cell_type": "code",
      "metadata": {
        "id": "OulTnDe9BEje"
      },
      "source": [
        "chr(98)"
      ],
      "execution_count": null,
      "outputs": []
    },
    {
      "cell_type": "markdown",
      "metadata": {
        "id": "C-Rz09lluJcf"
      },
      "source": [
        "# Ouvrir, lire, écrire dans un fichier (sérialiser/déserialiser)\n",
        "\n",
        "## Les entrées/sorties\n",
        "\n",
        "Il existe bien des moyens de présenter les sorties d'un programme ; les données peuvent être affichées sous une forme lisible par un être humain ou sauvegardées dans un fichier pour une utilisation future. Nous allons voir quelques possibilités.\n",
        "\n",
        "*Remarque: l'entrée et la sortie standard (clavier et écran sont pour Python comme pour Unix) des fichiers. À ce titre grace à print et input, vous les avez probablement déjà utilisé...*\n",
        "\n",
        "\n",
        "Python permet de créer un objet fichier d'interface permettant la manipulation des fichiers.\n",
        "\n",
        "Les fonctions de bases sont:\n",
        "\n",
        "* **open()** : La fonction open() renvoie un objet fichier et est le plus souvent utilisée avec deux arguments : open(nomfichier, mode). L'objet fichier est manipulé au moyen des méthodes:\n",
        "   * **f.read()** : Pour lire le contenu d'un fichier\n",
        "   * **f.readline()** : f.readline() lit une seule ligne du fichier\n",
        "   * **f.write()** : écrit le contenu de chaine dans le fichier et renvoie le nombre de caractères écrits."
      ]
    },
    {
      "cell_type": "markdown",
      "metadata": {
        "id": "9oQeP3GsFvzN"
      },
      "source": [
        "Open -> write\n",
        "\n",
        "![](https://lipug.cofares.net/Python/fichiers/write.png)\n",
        "\n",
        "Open -> read\n",
        "\n",
        "![](https://lipug.cofares.net/Python/fichiers/read.jpg)"
      ]
    },
    {
      "cell_type": "markdown",
      "metadata": {
        "id": "MpZ4giquwSjy"
      },
      "source": [
        "# La fonction open\n",
        "\n",
        "`open(file, mode='r', buffering=-1, encoding=None, errors=None, newline=None, closefd=True, opener=None)`\n",
        "\n",
        "## signification de quelques pareamètres, les essentiels pour débuter\n",
        "\n",
        "**file** est un objet représentant un chemin du système de fichiers donnant le chemin (absolu ou relatif au répertoire courant) du fichier à ouvrir ou un nombre entier représentant le descripteur de fichier à envelopper (par exemple un socket...).\n",
        "\n",
        "**mode** est une chaîne optionnelle permettant de spécifier dans quel mode le fichier est ouvert. Par défaut, mode vaut 'r' qui signifie «ouvrir en lecture pour du texte». 'w' est aussi une valeur classique, permettant d'écrire (en effaçant le contenu du fichier s'il existe), ainsi que 'x' permettant une création exclusive et 'a' pour ajouter à la fin du fichier (ce qui, sur certains systèmes Unix, signifie que toutes les écritures seront des ajouts en fin de fichier, sans tenir compte de la position demandée). En mode texte, si encoding n'est pas spécifié, l'encodage utilisé dépend de la plate-forme : locale.getpreferredencoding(False) est appelée pour obtenir l'encodage défini par les paramètres régionaux (pour lire et écrire des octets bruts, utilisez le mode binaire sans préciser encoding non spécifié). Les modes disponibles sont :\n",
        "\n",
        "| Caractère | Signification \n",
        "| --------- | ------------- \n",
        "| 'r'|ouvre en lecture (par défaut) |\n",
        "| 'w' |ouvre en écriture, en effaçant le contenu du fichier\n",
        "|'x' |ouvre pour une création exclusive, échouant si le fichier existe déjà\n",
        "|'a'|ouvre en écriture, ajoutant à la fin du fichier s'il existe\n",
        "|'b'|mode binaire\n",
        "|'t'|mode texte (par défaut)\n",
        "|'+'|ouvre en modification (lecture et écriture)\n",
        "\n",
        "Python fait la différence entre les entrées-sorties binaires et textes. Les fichiers ouverts en mode binaire (avec 'b' dans mode) donnent leur contenu sous forme de bytes sans codage et décodage. En mode texte (par défaut, ou lorsque 't' est dans le mode), le contenu du fichier est donné sous forme de str, les octets ayant été décodés au préalable en utilisant un encodage déduit de l'environnement ou encoding s'il est donné.\n",
        "\n",
        "**encoding** est le nom de l'encodage utilisé pour encoder ou décoder le fichier. Il doit seulement être utilisé en mode texte. L'encodage par défaut dépend de la plateforme (ce que locale.getpreferredencoding() donne), mais n'importe quel encodage de texte pris en charge par Python peut être utilisé. Voir codecs pour une liste des encodages pris en charge.\n",
        "\n",
        "\n"
      ]
    },
    {
      "cell_type": "markdown",
      "metadata": {
        "id": "SxD0kEi7Fnvw"
      },
      "source": [
        "Résumé: \n",
        "Le premier argument est une chaîne contenant le nom du fichier. Le deuxième argument est une autre chaîne contenant quelques caractères décrivant la façon dont le fichier est utilisé. mode peut être 'r' quand le fichier n'est accédé qu'en lecture, 'w' en écriture seulement (un fichier existant portant le même nom sera alors écrasé) et 'a' ouvre le fichier en mode ajout (toute donnée écrite dans le fichier est automatiquement ajoutée à la fin). 'r+' ouvre le fichier en mode lecture/écriture. L'argument mode est optionnel, sa valeur par défaut est 'r'.\n",
        "\n",
        "Normalement, les fichiers sont ouverts en mode texte, c'est-à-dire que vous lisez et écrivez des chaînes de caractères depuis et dans ce fichier, suivant un encodage donné. Si aucun encodage n'est spécifié, l'encodage par défaut dépend de la plateforme. 'b' collé à la fin du mode indique que le fichier doit être ouvert en mode binaire c'est-à-dire que les données sont lues et écrites sous formes d'octets (type bytes). Ce mode est à utiliser pour les fichiers contenant autre chose que du texte.\n",
        "\n",
        "En mode texte, le comportement par défaut, à la lecture, est de convertir les fin de lignes spécifiques à la plateforme (\\n sur Unix, \\r\\n sur Windows, etc.) en simples \\n. Lors de l'écriture, le comportement par défaut est d'appliquer l'opération inverse : les \\n sont convertis dans leur équivalent sur la plateforme courante. Ces modifications effectuées automatiquement sont normales pour du texte mais détérioreraient des données binaires contenues dans un fichier de type JPEG ou EXE. Soyez particulièrement attentifs à ouvrir ces fichiers binaires en mode binaire.\n",
        "\n",
        "C'est une bonne pratique d'utiliser le mot-clé with lorsque vous traitez des fichiers. Vous fermez ainsi toujours correctement le fichier, même si une exception est levée. Utiliser with est aussi beaucoup plus court que d'utiliser l'équivalent avec des blocs try…finally :\n",
        "\n",
        "```python\n",
        "with open('workfile') as f:\n",
        "     read_data = f.read()\n",
        "```\n",
        "\n",
        "au lieu de\n",
        "\n",
        "```python\n",
        "f = open('workfile')\n",
        "try:\n",
        "  read_data = f.read()\n",
        "finally:\n",
        "  f.close()\n",
        "```"
      ]
    },
    {
      "cell_type": "code",
      "metadata": {
        "id": "M0QG9BHxtCvs"
      },
      "source": [
        "f = open('workfile', 'w')"
      ],
      "execution_count": null,
      "outputs": []
    },
    {
      "cell_type": "code",
      "metadata": {
        "id": "chn4PeeztGpK"
      },
      "source": [
        "f"
      ],
      "execution_count": null,
      "outputs": []
    },
    {
      "cell_type": "markdown",
      "metadata": {
        "id": "Zw-O-j-iJ-dr"
      },
      "source": [
        "## La méthode write"
      ]
    },
    {
      "cell_type": "markdown",
      "metadata": {
        "id": "9t02i8HiR02t"
      },
      "source": [
        "`f.write(data)` écrit le contenu de data dans le fichier et renvoie le nombre de caractères ou d'octets écrits.\n",
        "\n",
        "data est soit une chaîne (séquence de caractères en mode texte), soit un séquences d'octet en mode binaire\n",
        "\n",
        "Les autres types doivent être convertis, soit en une chaîne (en mode texte), soit en objet bytes (en mode binaire) avant de les écrire"
      ]
    },
    {
      "cell_type": "markdown",
      "metadata": {
        "id": "nzgOpa-6KB-g"
      },
      "source": [
        "## Lire depuis un fichier : La méthode read. readline\n",
        "\n",
        "Pour lire le contenu d'un fichier, appelez `f.read(taille)`, cette dernière lit une certaine quantité de données et la renvoie sous forme de chaîne (en mode texte) ou d'objet bytes (en mode binaire). taille est un argument numérique facultatif. Lorsque taille est omis ou négatif, la totalité du contenu du fichier sera lue et renvoyée ; c'est votre problème si le fichier est deux fois plus grand que la mémoire de votre machine. Sinon, au maximum taille caractères (en mode texte) ou taille octets (en mode binaire) sont lus et renvoyés. Si la fin du fichier est atteinte, f.read() renvoie une chaîne vide ('').\n",
        "\n",
        "`f.readline()` lit une seule ligne du fichier ; un caractère de fin de ligne (\\n) est laissé à la fin de la chaîne. Il n'est omis que sur la dernière ligne du fichier si celui-ci ne se termine pas un caractère de fin de ligne. Ceci permet de rendre la valeur de retour non ambigüe : si f.readline() renvoie une chaîne vide, c'est que la fin du fichier a été atteinte, alors qu'une ligne vide est représentée par '\\n' (une chaîne de caractères ne contenant qu'une fin de ligne).\n",
        "\n",
        "Pour lire ligne à ligne, vous pouvez aussi boucler sur l'objet fichier. C'est plus efficace en termes de gestion mémoire, plus rapide et donne un code plus simple :"
      ]
    },
    {
      "cell_type": "code",
      "metadata": {
        "id": "VeA2AtL_LFlC"
      },
      "source": [
        "# exemple /content/sample_data/README.md\n",
        "with open('/content/sample_data/README.md', 'r') as f:\n",
        "  for l in f:\n",
        "    print(l, end='')"
      ],
      "execution_count": null,
      "outputs": []
    },
    {
      "cell_type": "markdown",
      "metadata": {
        "id": "eD9gpzvTMRBx"
      },
      "source": [
        "Pour construire une liste avec toutes les lignes d'un fichier, il est aussi possible d'utiliser list(f) ou f.readlines()."
      ]
    },
    {
      "cell_type": "code",
      "metadata": {
        "id": "-I_90vY6MR5U"
      },
      "source": [
        "# exemple\n",
        "with open('/content/sample_data/README.md', 'r') as f:\n",
        "  all = list(f)"
      ],
      "execution_count": null,
      "outputs": []
    },
    {
      "cell_type": "code",
      "metadata": {
        "id": "oK7OqWesOUh3"
      },
      "source": [
        "f"
      ],
      "execution_count": null,
      "outputs": []
    },
    {
      "cell_type": "code",
      "metadata": {
        "id": "YpL13yiBMXDB"
      },
      "source": [
        "all"
      ],
      "execution_count": null,
      "outputs": []
    },
    {
      "cell_type": "code",
      "metadata": {
        "id": "8HXnwQC4McQC"
      },
      "source": [
        "f = open('/content/sample_data/README.md', 'r')\n",
        "mots = [m for l in f for m in l.split()]\n",
        "f.close()\n",
        "mots"
      ],
      "execution_count": null,
      "outputs": []
    },
    {
      "cell_type": "code",
      "metadata": {
        "id": "5xfUnLk-vLuY"
      },
      "source": [
        "'abcd efg skdjfh lskjdfg sldkjf '.split('s')"
      ],
      "execution_count": null,
      "outputs": []
    },
    {
      "cell_type": "markdown",
      "metadata": {
        "id": "i3oFKOneT36C"
      },
      "source": [
        "# Sérialiser / déserialiser\n",
        "\n",
        "Les chaînes de caractères peuvent facilement être écrites dans un fichier et relues. Les nombres nécessitent un peu plus d'effort, car la méthode read() ne renvoie que des chaînes. Elles doivent donc être passées à une fonction comme int(), qui prend une chaîne comme '123' en entrée et renvoie sa valeur numérique 123. Mais dès que vous voulez enregistrer des types de données plus complexes comme des listes, des dictionnaires ou des instances de classes, le traitement lecture/écriture à la main devient vite compliqué.\n",
        "\n",
        "## Utulisation de repr et eval\n",
        "\n"
      ]
    },
    {
      "cell_type": "markdown",
      "metadata": {
        "id": "sOs7EO30hR6v"
      },
      "source": [
        "Les 2 méthodes des objets repr et str permette de transformer, un objet Python en représentation lisible donc texte.\n",
        "\n",
        "L'objectif de __repr__ est d'être sans ambiguïté\n",
        "L'objectif de __str__ est d'être lisible\n",
        "\n",
        "Nous allons utiliser l'astuce dútiliser repr pour reformer l'objet initial\n",
        "\n",
        "Le processus est\n",
        "\n",
        "ObjetPython => repr(ObjetPython) => archiver (write) => lire => recontruire l'objet avec eval"
      ]
    },
    {
      "cell_type": "code",
      "metadata": {
        "id": "p6z9OFnriEzT"
      },
      "source": [
        "l = [1,2,3]\n",
        "representation = repr(l)\n",
        "type(representation)"
      ],
      "execution_count": null,
      "outputs": []
    },
    {
      "cell_type": "code",
      "metadata": {
        "id": "WjVM3QFHwZIJ"
      },
      "source": [
        ""
      ],
      "execution_count": null,
      "outputs": []
    },
    {
      "cell_type": "code",
      "metadata": {
        "id": "DKe2w7-2jQyw"
      },
      "source": [
        "representation"
      ],
      "execution_count": null,
      "outputs": []
    },
    {
      "cell_type": "code",
      "metadata": {
        "id": "G0ipp9ILweGg"
      },
      "source": [
        "eval('2 + 3')"
      ],
      "execution_count": null,
      "outputs": []
    },
    {
      "cell_type": "code",
      "metadata": {
        "id": "v1_KMvWHiO9n"
      },
      "source": [
        "listorigine = eval(representation)\n",
        "print(listorigine , type(listorigine))"
      ],
      "execution_count": null,
      "outputs": []
    },
    {
      "cell_type": "markdown",
      "metadata": {
        "id": "joSQw-_gjU76"
      },
      "source": [
        "# généralisons par un exemple simple"
      ]
    },
    {
      "cell_type": "code",
      "metadata": {
        "id": "ipYAYPQ2jaDy"
      },
      "source": [
        "class X:\n",
        "  def __init__(self, x, y):\n",
        "    self._x,self._y = x,y\n",
        "\n",
        "  def __str__(self):\n",
        "    'pour un objet X lisible'\n",
        "    return f'Objet X : x={self._x} et y={self._y}'\n",
        "\n",
        "  def __repr__(self):\n",
        "    'doit être utilisable avec eval'\n",
        "    return f'X({self._x},{self._y})'\n",
        "\n",
        "  @property\n",
        "  def x(self):\n",
        "    return _x\n",
        "\n",
        "  @x.setter\n",
        "  def x(self, vx):\n",
        "    _x = vx\n",
        "    \n",
        "  @property\n",
        "  def y(self):\n",
        "    return _y\n",
        "\n",
        "  @y.setter\n",
        "  def y(self, vy):\n",
        "    _y = vy"
      ],
      "execution_count": null,
      "outputs": []
    },
    {
      "cell_type": "code",
      "metadata": {
        "id": "tFliuTjDhRQp"
      },
      "source": [
        "ox = X(10,20)\n",
        "ox"
      ],
      "execution_count": null,
      "outputs": []
    },
    {
      "cell_type": "code",
      "metadata": {
        "id": "zZmdFNExxAzE"
      },
      "source": [
        "print(ox)"
      ],
      "execution_count": null,
      "outputs": []
    },
    {
      "cell_type": "code",
      "metadata": {
        "id": "dJ1KRV-lxHds"
      },
      "source": [
        "print(f'{ox}')"
      ],
      "execution_count": null,
      "outputs": []
    },
    {
      "cell_type": "code",
      "metadata": {
        "id": "xEGV5je4kb3S"
      },
      "source": [
        "str(ox)"
      ],
      "execution_count": null,
      "outputs": []
    },
    {
      "cell_type": "code",
      "metadata": {
        "id": "zSABPgiKglLi"
      },
      "source": [
        "print(ox)"
      ],
      "execution_count": null,
      "outputs": []
    },
    {
      "cell_type": "code",
      "metadata": {
        "id": "TMnity_4kW4x"
      },
      "source": [
        "repdeox = repr(ox)\n",
        "repdeox"
      ],
      "execution_count": null,
      "outputs": []
    },
    {
      "cell_type": "code",
      "metadata": {
        "id": "kJZUxUHhkgAf"
      },
      "source": [
        "objetxorigine = eval(repdeox)\n",
        "type(objetxorigine)"
      ],
      "execution_count": null,
      "outputs": []
    },
    {
      "cell_type": "code",
      "metadata": {
        "id": "dZZvlZ7ho35r"
      },
      "source": [
        "objetxorigine.x=1000\n",
        "print(objetxorigine)"
      ],
      "execution_count": null,
      "outputs": []
    },
    {
      "cell_type": "markdown",
      "metadata": {
        "id": "WrJ0aBDmUJh8"
      },
      "source": [
        "## Sauvegarde/lecture de données structurées avec le module json "
      ]
    },
    {
      "cell_type": "markdown",
      "metadata": {
        "id": "ZLspvkjPU7xR"
      },
      "source": [
        "Plutôt que de passer son temps à écrire et déboguer du code permettant de sauvegarder des types de données compliqués, Python permet d'utiliser JSON (*JavaScript Object Notation*), un format répandu de représentation et d'échange de données. Le module standard appelé json peut transformer des données hiérarchisées Python en une représentation sous forme de chaîne de caractères. Ce processus est nommé sérialiser. Reconstruire les données à partir de leur représentation sous forme de chaîne est appelé déserialiser. Entre sa sérialisation et sa dé-sérialisation, la chaîne représentant les données peut avoir été stockée ou transmise à une autre machine\n",
        "\n",
        "module json et les méthodes\n",
        "1. json.dumps et json.dump\n",
        "2. json.loads et json.load"
      ]
    },
    {
      "cell_type": "markdown",
      "metadata": {
        "id": "ZWwJTpK8VNyr"
      },
      "source": [
        "Si vous avez un objet x, vous pouvez voir sa représentation JSON en tapant simplement :\n",
        "\n",
        "\n",
        "```python\n",
        "import json\n",
        "json.dumps([1, 'simple', 'list'])\n",
        "```\n",
        "\n",
        "Une variante de la fonction dumps(), nommée dump(), sérialise simplement l'objet donné vers un fichier texte. Donc si f est un fichier texte ouvert en écriture, il est possible de faire :\n",
        "\n",
        "```json.dump(x, f)```\n",
        "\n",
        "Pour reconstruire l'objet, si f est cette fois un fichier texte ouvert en lecture :\n",
        "\n",
        "```x = json.load(f)```\n",
        "\n",
        "Cette méthode de sérialisation peut sérialiser des listes et des dictionnaires. Mais sérialiser d'autres types de données requiert un peu plus de travail. La documentation du module json explique comment faire."
      ]
    },
    {
      "cell_type": "markdown",
      "metadata": {
        "id": "hNwiLjnKDahS"
      },
      "source": [
        "# Etude de cas et exemples"
      ]
    },
    {
      "cell_type": "code",
      "metadata": {
        "id": "S9knsHT1Ddme"
      },
      "source": [
        "import sys \n",
        "\n",
        "class X:\n",
        "  def __init__(self, x, y):\n",
        "    self._x,self._y = x,y\n",
        "\n",
        "  def __str__(self):\n",
        "    'pour un objet X lisible'\n",
        "    return f'Objet X : x={self._x} et y={self._y}'\n",
        "\n",
        "  def __repr__(self):\n",
        "    'doit être utilisable avec eval'\n",
        "    return f'X(x={self._x},y={self._y})'\n",
        "\n",
        "  @property\n",
        "  def x(self):\n",
        "    return _x\n",
        "\n",
        "  @x.setter\n",
        "  def x(self, vx):\n",
        "    _x = vx\n",
        "    \n",
        "  @property\n",
        "  def y(self):\n",
        "    return _y\n",
        "\n",
        "  @y.setter\n",
        "  def y(self, vy):\n",
        "    _y = vy\n",
        "\n",
        "# stdout assigned to a variable \n",
        "out = sys.stdout \n",
        "ox = X(10,20)\n",
        "\n",
        "# printing everything in the same line \n",
        "out.write(repr(ox))\n",
        "\n"
      ],
      "execution_count": null,
      "outputs": []
    },
    {
      "cell_type": "code",
      "metadata": {
        "id": "4ksZiVq9EWlL"
      },
      "source": [
        "eval(repr(ox))"
      ],
      "execution_count": null,
      "outputs": []
    },
    {
      "cell_type": "markdown",
      "metadata": {
        "id": "lOQhfa5h655H"
      },
      "source": [
        "SUITE TODO alho UNICODE <-> UTF-8 le demander en commentaire de cette vidéo"
      ]
    },
    {
      "cell_type": "code",
      "metadata": {
        "id": "ToVcxgsF6lfX"
      },
      "source": [
        "# unicode string\n",
        "string = 'pythön!'\n",
        "\n",
        "# print string\n",
        "print('The string is:', string)\n",
        "\n",
        "# default encoding to utf-8\n",
        "string_utf = string.encode()\n",
        "\n",
        "# print result\n",
        "print('The encoded version is:', string_utf)"
      ],
      "execution_count": null,
      "outputs": []
    },
    {
      "cell_type": "code",
      "metadata": {
        "id": "8jjUOaXo7qsb"
      },
      "source": [
        "x = hex(ord('ö'))\n",
        "x"
      ],
      "execution_count": null,
      "outputs": []
    },
    {
      "cell_type": "code",
      "metadata": {
        "id": "hAMgyi2p8-d_"
      },
      "source": [
        "b'pyth\\xc3\\xb6n!'.decode()"
      ],
      "execution_count": null,
      "outputs": []
    },
    {
      "cell_type": "code",
      "metadata": {
        "id": "g0ecmFLX9RQw"
      },
      "source": [
        "b'\\xc3\\xb6'.decode()"
      ],
      "execution_count": null,
      "outputs": []
    },
    {
      "cell_type": "code",
      "metadata": {
        "id": "C21nWZrb9dSk"
      },
      "source": [
        "'é'.encode()"
      ],
      "execution_count": null,
      "outputs": []
    },
    {
      "cell_type": "code",
      "metadata": {
        "id": "aLhT_Eum99WZ"
      },
      "source": [
        "hex(ord('\\t'))"
      ],
      "execution_count": null,
      "outputs": []
    },
    {
      "cell_type": "code",
      "metadata": {
        "id": "gRwM2D2O-AeK"
      },
      "source": [
        "b'\\x09'.decode()"
      ],
      "execution_count": null,
      "outputs": []
    },
    {
      "cell_type": "code",
      "metadata": {
        "id": "Gs7fPwnph6fE"
      },
      "source": [
        "print(1, b'\\x09'.decode(), 2)"
      ],
      "execution_count": null,
      "outputs": []
    },
    {
      "cell_type": "code",
      "metadata": {
        "id": "Acq4tp-f8Ek-"
      },
      "source": [
        "# unicode string\n",
        "string = 'pythön!'\n",
        "\n",
        "# print string\n",
        "print('The string is:', string)\n",
        "\n",
        "# ignore error\n",
        "print('The encoded version (with ignore) is:', string.encode(\"ascii\", \"ignore\"))\n",
        "\n",
        "# replace error\n",
        "print('The encoded version (with replace) is:', string.encode(\"ascii\", \"replace\"))"
      ],
      "execution_count": null,
      "outputs": []
    }
  ]
}