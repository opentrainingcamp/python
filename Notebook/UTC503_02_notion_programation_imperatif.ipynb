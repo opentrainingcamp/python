{
  "nbformat": 4,
  "nbformat_minor": 0,
  "metadata": {
    "colab": {
      "name": "UTC503_02_notion_programation.ipynb",
      "provenance": [],
      "collapsed_sections": [],
      "authorship_tag": "ABX9TyPc8vlfB/QMbOzuqiBvkRQd",
      "include_colab_link": true
    },
    "kernelspec": {
      "name": "python3",
      "display_name": "Python 3"
    }
  },
  "cells": [
    {
      "cell_type": "markdown",
      "metadata": {
        "id": "view-in-github",
        "colab_type": "text"
      },
      "source": [
        "<a href=\"https://colab.research.google.com/github/ISSAE/UTC503/blob/collab/UTC503_02_notion_programation_imperatif.ipynb\" target=\"_parent\"><img src=\"https://colab.research.google.com/assets/colab-badge.svg\" alt=\"Open In Colab\"/></a>"
      ]
    },
    {
      "cell_type": "markdown",
      "metadata": {
        "id": "CW2jCMo-Wy-R"
      },
      "source": [
        "# 02 UTC503 : Paradigme de Programation UTC503\n",
        "Pascal Fares (c) Cnam Liban\n",
        "\n",
        "Inspiré de Pierre Courtieu : Cnam Paris\n"
      ]
    },
    {
      "cell_type": "markdown",
      "metadata": {
        "id": "VZxQ3f5Tc7jg"
      },
      "source": [
        "## Programmation impérative : introduction, impératif?\n",
        "\n",
        "\n",
        "### Objectifs\n",
        "* Comprendre les principes de la programmation impérative \n",
        "* Algorithmique : types primitifs, instructions, structures de contrôle \n",
        "* Méthode des raffinages. \n",
        "* Structuration des données : tableaux, enregistrements, types énumérés \n",
        "* Structuration des instructions : sous-programmes et modules \n",
        "\n"
      ]
    },
    {
      "cell_type": "markdown",
      "metadata": {
        "id": "tqmE2YAMHmk4"
      },
      "source": [
        "## Variables, valeurs\n",
        "Une des fonctionnalités essentielle d'un langage de programmation impératif est la manipulation des variables et les faire évoluer jusqu'à obtenir le résultat souhaité à partir d’une situation initiale. \n",
        "\n",
        "Une variable est un nom qui fait référence à une valeur. je schématiser souvent par {nom: valeur}\n",
        "\n",
        "pour donner une valeur à une variable => l’affectation (change l’état, car change la valeur)\n",
        "\n",
        "Exemple:"
      ]
    },
    {
      "cell_type": "code",
      "metadata": {
        "id": "ANB02wsLJlLu"
      },
      "source": [
        "x = 3 \n",
        "message = \"Un long message texte\"\n",
        "un_autre_message = 'Aussi un texte'\n",
        "pi = 3.141592653589793"
      ],
      "execution_count": null,
      "outputs": []
    },
    {
      "cell_type": "markdown",
      "metadata": {
        "id": "s3E8AxqTKmef"
      },
      "source": [
        "## État\n",
        "J'applelerais l'état d'un programme, l'ensemble des variables et de leur valeur\n",
        "\n",
        "dans l'exemple précédent j'aurais:\n",
        "\n",
        "`{x: 3, message: \"Un long message texte\", un_autre_message: \"aussi un texte\", pi: 3.141592653589793}`\n",
        "\n",
        "Nous avons vu dans l'introduction, notion de calculabilité: qu'un algorithme ou le programme (traduction de l'algorithme dans un language de programmation) permettent de **transformer**: \n",
        "* une situation (état) initiale, \n",
        "* au moyen d'une séquence d'instructions , \n",
        "* en une situation (état) final qui est le résultat souhaité"
      ]
    },
    {
      "cell_type": "markdown",
      "metadata": {
        "id": "X2tvmJHsdKQv"
      },
      "source": [
        "## Premier exemple : résoudre équation du premier degré ax+b=0\n",
        "```\n",
        "Programme premier_degre\n",
        "Variables\n",
        "       a : entier\n",
        "       b: entier\n",
        "       r:  réel\n",
        "Debut\n",
        "      -- saisir les données\n",
        "      Ecrire (“Donner a et b”)\n",
        "      Lire(a)\n",
        "      Lire(b)\n",
        "      -- Calculer les réponses\n",
        "      -- réponse = -b/a a condition que a soit non nul (0)\n",
        "     r= -b/a\n",
        "      Ecrire (“La réponse est “, r)\n",
        "     -- ce programme n’est pas tout a fait correct\n",
        "Fin\n",
        "```\n"
      ]
    },
    {
      "cell_type": "markdown",
      "metadata": {
        "id": "xDlz3VMOYSv3"
      },
      "source": [
        "> Executer sur papier le programme précédent\n",
        "\n",
        "#### remarques\n",
        "\n",
        "> -- est un commentaire\n",
        "\n",
        "> Le reste est-il suffisament claire?\n",
        "\n",
        "> A-t-on besoin de beaucoup plus d'explications?"
      ]
    },
    {
      "cell_type": "markdown",
      "metadata": {
        "id": "sHcyd7shY31I"
      },
      "source": [
        "### Sémantique\n",
        "**Sémantique ou modèle de calcul:** C’est ce qui donne le sens du programme (explique son comportement) \n",
        "\n",
        "**L’état du programme:** \n",
        "* La valeur des variables déclarées dans le programme (une zone de la mémoire) \n",
        "* Le compteur ordinal : le numéro de la prochaine instruction à exécuter \n",
        "\n",
        "**Lancement du programme :**\n",
        "* Au début de l’exécution, les variables ont une valeur indéterminée. \n",
        "* Le compteur ordinal indique la première instruction du programme principal \n",
        "\n",
        "**Exécution :**\n",
        "Exécution de l’instruction référencée par le compteur ordinal et \n",
        "mise à jour du compteur ordinal (en général l’instruction suivante : séquence).\n"
      ]
    },
    {
      "cell_type": "markdown",
      "metadata": {
        "id": "uz5oqlEiZ4Lq"
      },
      "source": [
        "### Principe du paradigme impératif : instruction / expression\n",
        "\n",
        "Un programme est une séquence d’instructions qui modifient son état (cad les valeurs des variable déclarés). => l’affectation est la seule instruction qui modifie l’état!\n",
        "\n",
        "**`x = a+b`** est une instruction elle modifie x\n",
        "\n",
        "**`a+b`** seule n’est pas une instruction rien ne se passe (du point de vue état): du point de vue du programme qu’on écrit.\n",
        "\n",
        "Bien sure au niveaux machine il se passe des choses et a+b est un programme pour la machine elle même mais pas pour le programmeur. \n",
        "\n",
        "on dit que a+b est une expression elle produit un résultat, ne modifie en elle même aucun état. \n",
        "\n",
        "Changement d'un état, pour une instruction\n",
        "$$e_i \\xrightarrow{\\text{instruction}} e_j$$\n",
        "\n",
        "Un programme impératif par de l'état initial $e_{init}$ et se termine dans un etat final $e_{fin}$ suite à l'exucution d'une séquence d'instructions\n",
        "\n",
        "$$e_{init} \\xrightarrow{\\text{instructions}} ... \\xrightarrow{\\text{instructions}} e_{fin}$$"
      ]
    },
    {
      "cell_type": "code",
      "metadata": {
        "id": "6L2C_WlXOSvo"
      },
      "source": [
        "#Exemple\n",
        "x = 2\n",
        "y = 2*x"
      ],
      "execution_count": null,
      "outputs": []
    },
    {
      "cell_type": "code",
      "metadata": {
        "colab": {
          "base_uri": "https://localhost:8080/"
        },
        "id": "ObQqm2f2OcAF",
        "outputId": "b78b3cd5-c9d6-4e8e-eea4-e8c1e526721d"
      },
      "source": [
        "x"
      ],
      "execution_count": null,
      "outputs": [
        {
          "output_type": "execute_result",
          "data": {
            "text/plain": [
              "2"
            ]
          },
          "metadata": {
            "tags": []
          },
          "execution_count": 5
        }
      ]
    },
    {
      "cell_type": "code",
      "metadata": {
        "colab": {
          "base_uri": "https://localhost:8080/"
        },
        "id": "tJZiYJZhOdil",
        "outputId": "630588d2-0b54-4aa5-f0d7-e529e639c2a3"
      },
      "source": [
        "y"
      ],
      "execution_count": null,
      "outputs": [
        {
          "output_type": "execute_result",
          "data": {
            "text/plain": [
              "4"
            ]
          },
          "metadata": {
            "tags": []
          },
          "execution_count": 6
        }
      ]
    },
    {
      "cell_type": "code",
      "metadata": {
        "id": "p406YkIVdkYg"
      },
      "source": [
        ""
      ],
      "execution_count": null,
      "outputs": []
    },
    {
      "cell_type": "markdown",
      "metadata": {
        "id": "BZTk24d7Of4U"
      },
      "source": [
        "$$\\phi \\xrightarrow{\\text{x=2}} {x:2} \\xrightarrow{\\text{y=2*x}} {x:2, y:4}$$"
      ]
    },
    {
      "cell_type": "markdown",
      "metadata": {
        "id": "bBObDHLMeFI_"
      },
      "source": [
        "## Les défis\n",
        "Définir des outils de structuration des programmes pour permettre la conception, l’écriture et la maintenance (évolutive et corrective) de programme de grande taille : \n",
        "* **Structures de contrôle** (conditionnelle et répétition)\n",
        "* **Types de données :** organiser les données. \n",
        "* **Sous-programmes :** procédures et fonctions (organiser les instructions) \n",
        "* **Modules et bibliothèques** (organisation les sous-programmes et les types) \n",
        "* Mais aussi : **raisonner sur le programme** (typage, flot de contrôle, assertions, preuve...), tests (fonctionnels, structurels, de performance), documentation, etc.\n"
      ]
    },
    {
      "cell_type": "markdown",
      "metadata": {
        "id": "bLd40hKqeXp2"
      },
      "source": [
        "## Comment trouver une solution : Le raffinage\n",
        "Décomposer le problème posé en sous-problèmes qui seront à leur tour décomposés jusqu’à obtenir des problèmes élémentaires (i.e. compréhensible du processeur). \n",
        "\n",
        "Ici un problèmes est élémentaire s’il correspond à une instruction ou une expression du langage algorithme.\n"
      ]
    },
    {
      "cell_type": "markdown",
      "metadata": {
        "id": "Fkj0Oj2IfFNH"
      },
      "source": [
        "## Au debut : Comprendre le problème\n",
        "Pour avoir une chance de trouver la solution (un programme qui répond à la demande), il faut bien comprendre le problème posé (la demande) \n",
        "\n",
        "Moyens : \n",
        "* Reformuler le problème en rédigeant la demande. \n",
        "* Lister des « exemples ou cas d’utilisation » du programme. Il s’agit de \n",
        "préciser : \n",
        "  * les données en entrées ;  \n",
        "  * et les résultats attendus. \n",
        "\n",
        "Remarque : Les exemples d’utilisation donneront les jeux de test fonctionnels qui permettront de tester le programme. \n",
        "\n",
        "Le développement dirigé par les tests (TDD) préconise d'écrire les tests avant le programme lui même\n"
      ]
    },
    {
      "cell_type": "markdown",
      "metadata": {
        "id": "Bii2-Th0hWJ4"
      },
      "source": [
        "## Revenons a notre exemple : une equation du premier degré\n",
        "Problème (demande du client): résoudre l’équation du premier degré où on devra saisir les coéficients de l'équiation\n",
        "\n",
        "Premier raffinage : mieux comprendre le problème en posant des questions aux spécialiste du domaine.\n",
        "\n",
        "**R0 : résoudre l’équation du premier degré sous la forme ax+b=0, a et b sont saisies par l'utilisateur**\n",
        "\n",
        "donner quelques exemples: cas d’utilisation ou exemple d’utilisation : jeux de test\n",
        "\n",
        "- [ ] a=1,b=0 => réponse 0\n",
        "* [ ] a=1,b=1 => réponse -1\n",
        "* [ ] a=0,b!=0 => erreur pas de solution\n",
        "* [ ] a=0,b=0 => infinité de solution\n"
      ]
    },
    {
      "cell_type": "markdown",
      "metadata": {
        "id": "nipNYaS4h0pg"
      },
      "source": [
        "## Identifier une solution informelle\n",
        "\n",
        "* Identifier une manière de résoudre le problème. \n",
        "* Il s’agit d’avoir l’idée, l’intuition de comment traiter le problème. \n",
        "* Comment trouver l’idée ? **C’est le point difficile !** c'est l'éxpérience, c'est le travail, c'est les exemples, ....\n",
        "\n",
        "Par exemple : Pour calculer la solution du premier degré , ici la solution est triviale `(x = -b/a)` à condition de penser à tous les cas particuliers et comment les traiter et à quel moment\n",
        "\n",
        "Remarque : On peut vérifier son idée sur les exemples d’utilisation identifiés.\n"
      ]
    },
    {
      "cell_type": "markdown",
      "metadata": {
        "id": "Y3Nx87vGinX5"
      },
      "source": [
        "## Continuer à raffiner\n",
        "> -- R0 : résoudre l’équation du premier degré sous la forme ax+b=0\n",
        "\n",
        ">>R01 : Lire les données a,b\n",
        "\n",
        ">>**R02 : calculer -b/a en respectant les contrainte**\n",
        "\n",
        ">>R03 : afficher le résultat\n",
        "\n",
        "## Raffinons R02\n",
        "> -- R02 : calculer -b/a en respectant les contraintes  : choisir la solution en fonctions des valeur en entrée a et b\n",
        "\n",
        ">>R021. Si a!=0 solution est -b/a\n",
        "\n",
        ">>R022. si a et b = 0 une infinité de solution\n",
        "\n",
        ">>R023. si a=0 et b!=0 pas de solution\n",
        "\n"
      ]
    },
    {
      "cell_type": "markdown",
      "metadata": {
        "id": "UxrZjisNj2xT"
      },
      "source": [
        "## Tout ceci commence à prendre forme"
      ]
    },
    {
      "cell_type": "code",
      "metadata": {
        "id": "6Aro7AMIWwPy"
      },
      "source": [
        "# l'algorithme directement en pseudo python (je reviendrais sur la syntaxe, pour le moment consider que c'est du pseudo code)\n",
        "# Le raffinage R02\n",
        "def f_premier_degre(a,b):\n",
        "  '''\n",
        "  a: coéficient a\n",
        "  b: coéficient b\n",
        "  '''\n",
        "  if a != 0: return (-b/a)\n",
        "  if a == b == 0: return \"Infinité de solutions\"\n",
        "  if a == 0 and b !=0: return \"Pas de solution\""
      ],
      "execution_count": null,
      "outputs": []
    },
    {
      "cell_type": "code",
      "metadata": {
        "id": "R4XDOy42llNj"
      },
      "source": [
        "# Le programme principal (le début), Le raffinage R0\n",
        "def premier_degre():\n",
        "  '''\n",
        "  résourdre l'equation du premier degré sous la forme\n",
        "  a*x + b = 0\n",
        "  '''\n",
        "  print(\"Saisir a et b les coéficient de l'équiation a*x+b=0\")\n",
        "  a = input(\"Donner le coéficient a :\")\n",
        "  b = input(\"Donner le coéficient b :\")\n",
        "  print(f_premier_degre(a,b))\n"
      ],
      "execution_count": null,
      "outputs": []
    },
    {
      "cell_type": "code",
      "metadata": {
        "colab": {
          "base_uri": "https://localhost:8080/"
        },
        "id": "_ITUj4blmQMz",
        "outputId": "99bb15c4-3d39-420a-d4e3-6de592eecef4"
      },
      "source": [
        "help(premier_degre)"
      ],
      "execution_count": null,
      "outputs": [
        {
          "output_type": "stream",
          "text": [
            "Help on function premier_degre in module __main__:\n",
            "\n",
            "premier_degre()\n",
            "    résourdre l'equation du premier degré sous la forme\n",
            "    a*x + b = 0\n",
            "\n"
          ],
          "name": "stdout"
        }
      ]
    },
    {
      "cell_type": "code",
      "metadata": {
        "id": "L177KfNEmcYP"
      },
      "source": [
        "premier_degre()"
      ],
      "execution_count": null,
      "outputs": []
    },
    {
      "cell_type": "code",
      "metadata": {
        "id": "V5RIJC8hnCOY"
      },
      "source": [
        "# Le programme principal (le début), Le raffinage R0\n",
        "def premier_degre():\n",
        "  '''\n",
        "  résourdre l'equation du premier degré sous la forme\n",
        "  a*x + b = 0\n",
        "  '''\n",
        "  a = input(\"Donner le coéficient a :\")\n",
        "  b = input(\"Donner le coéficient b :\")\n",
        "  print(f_premier_degre(int(a),int(b)))\n"
      ],
      "execution_count": null,
      "outputs": []
    },
    {
      "cell_type": "code",
      "metadata": {
        "colab": {
          "base_uri": "https://localhost:8080/"
        },
        "id": "RdFKJgkYnRKP",
        "outputId": "3a9eecf5-7696-43dd-c1ed-101d38bb595d"
      },
      "source": [
        "premier_degre()"
      ],
      "execution_count": null,
      "outputs": [
        {
          "output_type": "stream",
          "text": [
            "Donner le coéficient a :10\n",
            "Donner le coéficient b :20\n",
            "-2.0\n"
          ],
          "name": "stdout"
        }
      ]
    },
    {
      "cell_type": "code",
      "metadata": {
        "id": "VUTXAdFWnv7J"
      },
      "source": [
        "# le vraie travail est fait dans f_premier_degre, testons..\n",
        "assert f_premier_degre(0,0) == \"Infinité de solutions\", \"quand a et b=0 on doit avoir infomnité de solution\"\n",
        "assert f_premier_degre(0,1) == \"Pas de solution\", \"quand a=0 et b!=0 on doit avoir pas de solution\"\n",
        "assert f_premier_degre(1,1) == -1, f\"Devrait être -1/1 le résultat était {f_premier_degre(1,1)}\"\n",
        "assert f_premier_degre(1,-2) == 2, f\"Devrait être 2/1 le résultat était {f_premier_degre(1,-2)}\""
      ],
      "execution_count": null,
      "outputs": []
    }
  ]
}