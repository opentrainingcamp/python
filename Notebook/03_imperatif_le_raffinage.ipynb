{
  "nbformat": 4,
  "nbformat_minor": 0,
  "metadata": {
    "colab": {
      "name": "03_imperatif_le_raffinage.ipynb",
      "provenance": [],
      "collapsed_sections": [],
      "authorship_tag": "ABX9TyM4BKFwfSXjFv7KaYN8ksB6",
      "include_colab_link": true
    },
    "kernelspec": {
      "name": "python3",
      "display_name": "Python 3"
    }
  },
  "cells": [
    {
      "cell_type": "markdown",
      "metadata": {
        "id": "view-in-github",
        "colab_type": "text"
      },
      "source": [
        "<a href=\"https://colab.research.google.com/github/ISSAE/UTC503/blob/collab/03_imperatif_le_raffinage.ipynb\" target=\"_parent\"><img src=\"https://colab.research.google.com/assets/colab-badge.svg\" alt=\"Open In Colab\"/></a>"
      ]
    },
    {
      "cell_type": "markdown",
      "metadata": {
        "id": "AB3yL2mHsLyN"
      },
      "source": [
        "# 03 UTC503 : Paradigme de Programation UTC503, Le raffinage\n",
        "Pascal Fares (c) Cnam Liban"
      ]
    },
    {
      "cell_type": "markdown",
      "metadata": {
        "id": "bLd40hKqeXp2"
      },
      "source": [
        "## Comment trouver une solution : Le raffinage\n",
        "Décomposer le problème posé en sous-problèmes qui seront à leur tour décomposés jusqu’à obtenir des problèmes élémentaires (i.e. compréhensible du processeur). \n",
        "\n",
        "Ici un problèmes est élémentaire s’il correspond à une instruction ou une expression du langage algorithme, ou à un sous-problème déjà traité..\n"
      ]
    },
    {
      "cell_type": "markdown",
      "metadata": {
        "id": "Fkj0Oj2IfFNH"
      },
      "source": [
        "## Au debut : Comprendre le problème\n",
        "Pour avoir une chance de trouver la solution (un programme qui répond à la demande), il faut bien comprendre le problème posé (la demande) \n",
        "\n",
        "Moyens : \n",
        "* Reformuler le problème en rédigeant la demande. \n",
        "* Lister des « exemples ou cas d’utilisation » du programme. Il s’agit de \n",
        "préciser : \n",
        "  * les données en entrées ;  \n",
        "  * et les résultats attendus. \n",
        "\n",
        "Remarque : Les exemples d’utilisation donneront les jeux de test fonctionnels qui permettront de tester le programme. \n",
        "\n",
        "Le développement dirigé par les tests (TDD) préconise d'écrire les tests avant le programme lui même\n"
      ]
    },
    {
      "cell_type": "markdown",
      "metadata": {
        "id": "Bii2-Th0hWJ4"
      },
      "source": [
        "## Revenons a notre exemple : une equation du premier degré\n",
        "**Problème (demande du client):** résoudre l’équation du premier degré où on devra saisir les coéficients de l'équation\n",
        "\n",
        "**Premier raffinage :** mieux comprendre le problème en posant des questions aux spécialiste du domaine.\n",
        "\n",
        "**R0 : résoudre l’équation du premier degré sous la forme ax+b=0, a et b sont saisies par l'utilisateur**\n",
        "\n",
        "donner quelques exemples: cas d’utilisation ou exemple d’utilisation : jeux de test\n",
        "\n",
        "- [ ] a=1,b=0 => réponse 0\n",
        "* [ ] a=1,b=1 => réponse -1\n",
        "* [ ] a=0,b!=0 => erreur pas de solution\n",
        "* [ ] a=0,b=0 => infinité de solution\n"
      ]
    },
    {
      "cell_type": "markdown",
      "metadata": {
        "id": "nipNYaS4h0pg"
      },
      "source": [
        "## Identifier une solution informelle\n",
        "\n",
        "* Identifier une manière de résoudre le problème. \n",
        "* Il s’agit d’avoir l’idée, l’intuition de comment traiter le problème. \n",
        "* Comment trouver l’idée ? **C’est le point difficile !** c'est l'éxpérience, c'est le travail, c'est les exemples, ....\n",
        "\n",
        "Par exemple : Pour calculer la solution du premier degré , ici la solution est triviale `(x = -b/a)` à condition de penser à tous les cas particuliers et comment les traiter et à quel moment\n",
        "\n",
        "Remarque : On peut vérifier son idée sur les exemples d’utilisation identifiés.\n"
      ]
    },
    {
      "cell_type": "markdown",
      "metadata": {
        "id": "Y3Nx87vGinX5"
      },
      "source": [
        "## Continuer à raffiner\n",
        "> -- R0 : résoudre l’équation du premier degré sous la forme ax+b=0\n",
        "\n",
        ">>R01 : Lire les données a,b\n",
        "\n",
        ">>**R02 : calculer -b/a en respectant les contraintes**\n",
        "\n",
        ">>R03 : afficher le résultat\n",
        "\n",
        "## Raffinons R02\n",
        "> -- R02 : calculer -b/a en respectant les contraintes  : choisir la solution en fonctions des valeur en entrée a et b\n",
        "\n",
        ">>R021. Si a!=0 solution est -b/a\n",
        "\n",
        ">>R022. si a et b = 0 une infinité de solution\n",
        "\n",
        ">>R023. si a=0 et b!=0 pas de solution\n",
        "\n"
      ]
    },
    {
      "cell_type": "markdown",
      "metadata": {
        "id": "sOfKwYHuydZf"
      },
      "source": [
        "## Trouver une solution => en raffinant\n",
        "* Un raffinage doit être bien présenté (indentation). Python vous y forcera!\n",
        "* Le vocabulaire utilisé doit être précis et clair. \n",
        "* Chaque niveau de raffinage doit apporter suffisamment d’information (mais pas trop). Il faut trouver le bon équilibre ! \n",
        "* Le raffinage d’une étape (l’ensemble des sous-étapes) doit décrire complètement cette étape. Le raffinage d’une étape ne doit décrire que cette étape. \n",
        "* Les étapes introduites doivent avoir un niveau d’abstraction homogène. \n",
        "* La séquence des étapes doit pouvoir s’exécuter logiquement. \n",
        "* Ne pas employer de structures de contrôle déguisées (si, jusqu’à) mais on peut (doit) utiliser des structures de contrôle (Si, TantQue, Répéter...) ! \n",
        "* N’utiliser qu’une seule structure de contrôle par raffinage. \n",
        "\n",
        "**Remarque :** Certaines de ces règles sont subjectives ! L’important est que vous puissiez expliquer et justifier les choix faits. \n"
      ]
    },
    {
      "cell_type": "markdown",
      "metadata": {
        "id": "2KxAybM_y8kW"
      },
      "source": [
        "## Le raffinage obtenue est t’il de qualité? \n",
        "* A-t-on utilisé des verbes à l’infinitif pour les étapes ? \n",
        "* Pour être correct, un raffinage doit répondre à la question COMMENT ! \n",
        "* Pour vérifier l’appartenance d’une étape e au raffinage d’une étape s, se demander POURQUOI on fait cette étape e. =⇒ Ceci permet d’identifier : \n",
        "    * soit une étape intermédiaire entre e et s ; \n",
        "    * soit que e n’est pas une sous-étape de s (donc pas à sa place). \n",
        "\n",
        "Utiliser les flots de données : \n",
        "* pour vérifier les communications entre niveaux : \n",
        "     * les sous-étapes doivent produire les résultats de l’étape ; \n",
        "     * les sous-étapes peuvent (doivent) utiliser les entrées de l’étape. \n",
        "* au sein d’un niveau : enchaînement des entrée et sorties. On ne peut utiliser une donnée que si elle a été produite avant. \n"
      ]
    },
    {
      "cell_type": "markdown",
      "metadata": {
        "id": "0CvcOCEQ0gHQ"
      },
      "source": [
        "## Produire (résulat du raffinage)\n",
        "**Le dictionnaire de données :** les variables utilisé et leur signification\n",
        "\n",
        "**Algorithme :** Un algorithme est la mise à plat du raffinage : le niveau supérieur devient le commentaire général de l’algorithme. les étapes élémentaires sont les instructions; les étapes intermédiaires deviennent des commentaires \n",
        "\n",
        "**Le programme: **C’est la traduction de l’algorithme dans un langage de programmation. \n",
        "* **Le niveaux supérieur :** procédure ou fonction principale de départ. \n",
        "* **Les étapes élémentaires :** soit des instructions du langage soit des fonctions existante (librairie ou autre). \n",
        "* **Les étapes intermédiaire :** Des appel de procédures  (ou fonctions) à réaliser\n"
      ]
    },
    {
      "cell_type": "markdown",
      "metadata": {
        "id": "NBUH5QRq1Vnn"
      },
      "source": [
        "## L’essentiel dans le paradigme impératif\n",
        "Séquence d’étapes qui modifie l'état (les variables qui nous intéressent)\n",
        "* Les structure de contrôle : bloc, condition et répétition, appel de sous programme, etc.. pour guider la séquence\n",
        "* Les données (variable) et leurs structuration : le changement d’état s’applique à eux.\n",
        "\n",
        "### Un programme doit être testé\n",
        "\n",
        "**Tester :** processus d’exécution d’un programme avec l’intention de découvrir des erreurs ! Deux grands types de tests : \n",
        "* tests fonctionnels : le programme fait-il ce qu’on veut qu’il fasse ? (programme vu comme une « boîte noire ») \n",
        "* tests structurels : toutes les parties du code ont-elles été exécutés ? (programme vu comme une « boîte blanche ») \n",
        "\n",
        "**Principe :** Échantillonnage qui repose sur l’hypothèse implicite que si le programme testé fournit des résultats corrects pour l’échantillon choisi, il fournira aussi des résultats corrects pour toutes les autres données. \n"
      ]
    },
    {
      "cell_type": "markdown",
      "metadata": {
        "id": "PCMpVV6u2Iwb"
      },
      "source": [
        "## Problème des tests par échantillonnage\n",
        "Comment choisir l’échantillon ? \n",
        "\n",
        "Dans le cas de tests fonctionnels, on peut établir une matrice pour vérifier que chaque exigence a été testée. \n",
        "\n",
        "Dans le cas de tests structurels, on peut s’appuyer sur la notion de taux de couverture. \n",
        "\n",
        "Par exemple, a-t-on exécuté au moins une fois toutes les instructions ? Est-on passé au moins une fois par tous les enchaînements. \n",
        "\n",
        "Pb !: Comment savoir que le résultat du programme est correct ? \n",
        "\n",
        "**Remarque :** On peut commencer à tester dès l’écriture d’un raffinage. On peut même écrire les programme de test avant de programmer\n"
      ]
    },
    {
      "cell_type": "markdown",
      "metadata": {
        "id": "iBUwUIyi2fYG"
      },
      "source": [
        "## L’algorithmique\n",
        "Comment construire un algorithme? Dans une approche impérative\n",
        "élement d’un algorithme (la syntaxe) , il en existe plusieurs indépendante des langages de programmation. Mais  je choisirais de décrire les éléments d’un algorithme directement avec une syntaxe Python ou presque.\n"
      ]
    },
    {
      "cell_type": "markdown",
      "metadata": {
        "id": "UxrZjisNj2xT"
      },
      "source": [
        "## Tout ceci commence à prendre forme \"une equation du premier degré\"\n",
        "\n",
        "Je vais écrire l'algorithme directement en Python! Avant même de vous avoir introduit Python! \n",
        "\n",
        "Bien sure nus reviendrons sur la syntaxe en détail, pour le moment consider que c'est du pseudo code\n",
        "\n",
        "* Pour définir quelque chose on dirait `def`\n",
        "* Pour expliquer quelque chose on mettrait `:` \n",
        "* On tabulerait pour être claire\n",
        "* Pour mettre des commentaires:\n",
        "    * Sur plusieurs lignes entourez par 3 \\' ou 3 \\\"\n",
        "    * ou à partir du # jusqu'à la fin de ligne "
      ]
    },
    {
      "cell_type": "code",
      "metadata": {
        "id": "R4XDOy42llNj"
      },
      "source": [
        "# Le programme principal (le début), Le raffinage R0\n",
        "def premier_degre():\n",
        "  '''\n",
        "  résourdre l'equation du premier degré sous la forme\n",
        "  a*x + b = 0\n",
        "  '''\n",
        "  print(\"Saisir a et b les coéficient de l'équiation a*x+b=0\")\n",
        "  # Récupérer les coéficient a et b\n",
        "  a = input(\"Donner le coéficient a :\")\n",
        "  b = input(\"Donner le coéficient b :\")\n",
        "  # Raffinage R02 pour calculer a/b en fonction des valeurs a et b\n",
        "  r = f_premier_degre(a,b)\n",
        "  # Afficher le résultat\n",
        "  print(r)\n"
      ],
      "execution_count": 1,
      "outputs": []
    },
    {
      "cell_type": "code",
      "metadata": {
        "id": "6Aro7AMIWwPy"
      },
      "source": [
        "# l'algorithme directement en pseudo python (je reviendrais sur la syntaxe, pour le moment consider que c'est du pseudo code)\n",
        "# Le raffinage R02\n",
        "def f_premier_degre(a,b):\n",
        "  '''\n",
        "  a: coéficient a\n",
        "  b: coéficient b\n",
        "  '''\n",
        "  if a != 0: return (-b/a)\n",
        "  if a == b == 0: return \"Infinité de solutions\"\n",
        "  if a == 0 and b !=0: return \"Pas de solution\""
      ],
      "execution_count": 11,
      "outputs": []
    },
    {
      "cell_type": "markdown",
      "metadata": {
        "id": "gfwll_5VyJ7Y"
      },
      "source": [
        "### Pour ceux qui veulent en savoir plus dès maintenant"
      ]
    },
    {
      "cell_type": "code",
      "metadata": {
        "colab": {
          "base_uri": "https://localhost:8080/"
        },
        "id": "_ITUj4blmQMz",
        "outputId": "4c84d83b-88b0-45fc-a4b2-59ddd8ffca6c"
      },
      "source": [
        "help(premier_degre)"
      ],
      "execution_count": 3,
      "outputs": [
        {
          "output_type": "stream",
          "text": [
            "Help on function premier_degre in module __main__:\n",
            "\n",
            "premier_degre()\n",
            "    résourdre l'equation du premier degré sous la forme\n",
            "    a*x + b = 0\n",
            "\n"
          ],
          "name": "stdout"
        }
      ]
    },
    {
      "cell_type": "code",
      "metadata": {
        "id": "L177KfNEmcYP",
        "colab": {
          "base_uri": "https://localhost:8080/",
          "height": 364
        },
        "outputId": "2371c06a-07fb-4698-f8b4-ad30e13f2ef1"
      },
      "source": [
        "premier_degre()"
      ],
      "execution_count": 4,
      "outputs": [
        {
          "output_type": "stream",
          "text": [
            "Saisir a et b les coéficient de l'équiation a*x+b=0\n",
            "Donner le coéficient a :10\n",
            "Donner le coéficient b :10\n"
          ],
          "name": "stdout"
        },
        {
          "output_type": "error",
          "ename": "TypeError",
          "evalue": "ignored",
          "traceback": [
            "\u001b[0;31m---------------------------------------------------------------------------\u001b[0m",
            "\u001b[0;31mTypeError\u001b[0m                                 Traceback (most recent call last)",
            "\u001b[0;32m<ipython-input-4-d19d572dfcbe>\u001b[0m in \u001b[0;36m<module>\u001b[0;34m()\u001b[0m\n\u001b[0;32m----> 1\u001b[0;31m \u001b[0mpremier_degre\u001b[0m\u001b[0;34m(\u001b[0m\u001b[0;34m)\u001b[0m\u001b[0;34m\u001b[0m\u001b[0;34m\u001b[0m\u001b[0m\n\u001b[0m",
            "\u001b[0;32m<ipython-input-1-3f0ea679714e>\u001b[0m in \u001b[0;36mpremier_degre\u001b[0;34m()\u001b[0m\n\u001b[1;32m     10\u001b[0m   \u001b[0mb\u001b[0m \u001b[0;34m=\u001b[0m \u001b[0minput\u001b[0m\u001b[0;34m(\u001b[0m\u001b[0;34m\"Donner le coéficient b :\"\u001b[0m\u001b[0;34m)\u001b[0m\u001b[0;34m\u001b[0m\u001b[0;34m\u001b[0m\u001b[0m\n\u001b[1;32m     11\u001b[0m   \u001b[0;31m# Raffinage R02 pour calculer a/b en fonction des valeurs a et b\u001b[0m\u001b[0;34m\u001b[0m\u001b[0;34m\u001b[0m\u001b[0;34m\u001b[0m\u001b[0m\n\u001b[0;32m---> 12\u001b[0;31m   \u001b[0mr\u001b[0m \u001b[0;34m=\u001b[0m \u001b[0mf_premier_degre\u001b[0m\u001b[0;34m(\u001b[0m\u001b[0ma\u001b[0m\u001b[0;34m,\u001b[0m\u001b[0mb\u001b[0m\u001b[0;34m)\u001b[0m\u001b[0;34m\u001b[0m\u001b[0;34m\u001b[0m\u001b[0m\n\u001b[0m\u001b[1;32m     13\u001b[0m   \u001b[0;31m# Afficher le résultat\u001b[0m\u001b[0;34m\u001b[0m\u001b[0;34m\u001b[0m\u001b[0;34m\u001b[0m\u001b[0m\n\u001b[1;32m     14\u001b[0m   \u001b[0mprint\u001b[0m\u001b[0;34m(\u001b[0m\u001b[0mr\u001b[0m\u001b[0;34m)\u001b[0m\u001b[0;34m\u001b[0m\u001b[0;34m\u001b[0m\u001b[0m\n",
            "\u001b[0;32m<ipython-input-2-4a87df36129f>\u001b[0m in \u001b[0;36mf_premier_degre\u001b[0;34m(a, b)\u001b[0m\n\u001b[1;32m      6\u001b[0m   \u001b[0mb\u001b[0m\u001b[0;34m:\u001b[0m \u001b[0mcoéficient\u001b[0m \u001b[0mb\u001b[0m\u001b[0;34m\u001b[0m\u001b[0;34m\u001b[0m\u001b[0m\n\u001b[1;32m      7\u001b[0m   '''\n\u001b[0;32m----> 8\u001b[0;31m   \u001b[0;32mif\u001b[0m \u001b[0ma\u001b[0m \u001b[0;34m!=\u001b[0m \u001b[0;36m0\u001b[0m\u001b[0;34m:\u001b[0m \u001b[0;32mreturn\u001b[0m \u001b[0;34m(\u001b[0m\u001b[0;34m-\u001b[0m\u001b[0mb\u001b[0m\u001b[0;34m/\u001b[0m\u001b[0ma\u001b[0m\u001b[0;34m)\u001b[0m\u001b[0;34m\u001b[0m\u001b[0;34m\u001b[0m\u001b[0m\n\u001b[0m\u001b[1;32m      9\u001b[0m   \u001b[0;32mif\u001b[0m \u001b[0ma\u001b[0m \u001b[0;34m==\u001b[0m \u001b[0mb\u001b[0m \u001b[0;34m==\u001b[0m \u001b[0;36m0\u001b[0m\u001b[0;34m:\u001b[0m \u001b[0;32mreturn\u001b[0m \u001b[0;34m\"Infinité de solutions\"\u001b[0m\u001b[0;34m\u001b[0m\u001b[0;34m\u001b[0m\u001b[0m\n\u001b[1;32m     10\u001b[0m   \u001b[0;32mif\u001b[0m \u001b[0ma\u001b[0m \u001b[0;34m==\u001b[0m \u001b[0;36m0\u001b[0m \u001b[0;32mand\u001b[0m \u001b[0mb\u001b[0m \u001b[0;34m!=\u001b[0m\u001b[0;36m0\u001b[0m\u001b[0;34m:\u001b[0m \u001b[0;32mreturn\u001b[0m \u001b[0;34m\"Pas de solution\"\u001b[0m\u001b[0;34m\u001b[0m\u001b[0;34m\u001b[0m\u001b[0m\n",
            "\u001b[0;31mTypeError\u001b[0m: bad operand type for unary -: 'str'"
          ]
        }
      ]
    },
    {
      "cell_type": "code",
      "metadata": {
        "id": "V5RIJC8hnCOY"
      },
      "source": [
        "# Le programme principal (le début), Le raffinage R0\n",
        "def premier_degre():\n",
        "  '''\n",
        "  résourdre l'equation du premier degré sous la forme\n",
        "  a*x + b = 0\n",
        "  '''\n",
        "  a = input(\"Donner le coéficient a :\")\n",
        "  b = input(\"Donner le coéficient b :\")\n",
        "  print(f_premier_degre(int(a),int(b)))\n"
      ],
      "execution_count": 5,
      "outputs": []
    },
    {
      "cell_type": "code",
      "metadata": {
        "colab": {
          "base_uri": "https://localhost:8080/"
        },
        "id": "RdFKJgkYnRKP",
        "outputId": "33830a3c-9451-4ee8-8293-d5f62a4d6170"
      },
      "source": [
        "premier_degre()"
      ],
      "execution_count": 6,
      "outputs": [
        {
          "output_type": "stream",
          "text": [
            "Donner le coéficient a :10\n",
            "Donner le coéficient b :20\n",
            "-2.0\n"
          ],
          "name": "stdout"
        }
      ]
    },
    {
      "cell_type": "code",
      "metadata": {
        "id": "VUTXAdFWnv7J"
      },
      "source": [
        "# le vraie travail est fait dans f_premier_degre, testons..\n",
        "assert f_premier_degre(0,0) == \"Infinité de solutions\", \"quand a et b=0 on doit avoir infomnité de solution\"\n",
        "assert f_premier_degre(0,1) == \"Pas de solution\", \"quand a=0 et b!=0 on doit avoir pas de solution\"\n",
        "assert f_premier_degre(1,1) == -1, f\"Devrait être -1/1 le résultat était {f_premier_degre(1,1)}\"\n",
        "assert f_premier_degre(1,-2) == 2, f\"Devrait être 2/1 le résultat était {f_premier_degre(1,-2)}\""
      ],
      "execution_count": 12,
      "outputs": []
    }
  ]
}