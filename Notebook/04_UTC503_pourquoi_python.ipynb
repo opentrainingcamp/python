{
  "nbformat": 4,
  "nbformat_minor": 0,
  "metadata": {
    "colab": {
      "name": "04_UTC503_pourquoi_python.ipynb",
      "provenance": [],
      "collapsed_sections": [],
      "mount_file_id": "1MYewo58mwZc4z-WVGGCdalhyLoP38FAz",
      "authorship_tag": "ABX9TyP5HW0XOWeibQn+0x+joL0T",
      "include_colab_link": true
    },
    "kernelspec": {
      "name": "python3",
      "display_name": "Python 3"
    }
  },
  "cells": [
    {
      "cell_type": "markdown",
      "metadata": {
        "id": "view-in-github",
        "colab_type": "text"
      },
      "source": [
        "<a href=\"https://colab.research.google.com/github/ISSAE/UTC503/blob/collab/04_UTC503_pourquoi_python.ipynb\" target=\"_parent\"><img src=\"https://colab.research.google.com/assets/colab-badge.svg\" alt=\"Open In Colab\"/></a>"
      ]
    },
    {
      "cell_type": "markdown",
      "metadata": {
        "id": "I-7vX07fwyxT"
      },
      "source": [
        "# 04 UTC503 paradigme de programmation: Pourquoi python?\n",
        "1. Très lisible, orienté présentation\n",
        "2. Pragmatique (non dogmatique)\n",
        "3. Enormement de librairies standard\n",
        "4. Portable\n",
        "5. Très grosse base de code (installable par pip par exemple)\n",
        "   * Scientifique à la mathlab\n",
        "   * Traitement de données\n",
        "   * Web et framework web\n",
        "   * Et bien plus\n",
        "6. Peut être interfacé avec d'autre language Java, C, C++ (exemple Py4J permet aux programmes Python exécutés dans un interpréteur Python d'accéder dynamiquement aux objets Java dans une machine virtuelle Java.)\n",
        "7. developpement plutot rapide: \n",
        "    * type de base puissant\n",
        "    * Gestion automatique de la mémoire\n",
        "    * Language interprété et notebook jupyter (comme celui ci)\n",
        "8. Multi-paradigme\n",
        "9. importante documentation \n",
        "    * python.org\n",
        "    * stackoverflow\n",
        "10. Des success stories\n",
        "    * Google, Youtube, DropBox, instagram\n",
        "    * spotify, Mercurial, OpenStack, Miro, Reddit, Ubuntu, ...\n",
        "\n",
        "\n",
        "\n",
        "[Les languages les plus populaire en 2020 et salaire moyen](https://www.northeastern.edu/graduate/blog/most-popular-programming-languages/)"
      ]
    },
    {
      "cell_type": "markdown",
      "metadata": {
        "id": "KVf1HH42RP3G"
      },
      "source": [
        "## Les bases du language "
      ]
    },
    {
      "cell_type": "markdown",
      "metadata": {
        "id": "cmAJs8726c-4"
      },
      "source": [
        "### Les commentaires\n",
        "Les commentaires introduits par # qui se terminent avec la ligne : \n",
        "* pour rappeler les étapes non élémentaires identifiées lors du raffinage ; \n",
        "* pour expliciter le rôle d’une variable : après la déclaration ; \n",
        "* pour expliquer une instruction : mis à la fin de la ligne \n",
        "\n",
        "Les commentaires entre “”” (triple “) pouvant être sur plusieurs lignes : \n",
        "* pour exprimer une propriété qui doit être vérifiée à l’exécution du programme.\n",
        "* pour documenter des modules, fonctions, procedures \n",
        "* *Voir aussi structures de contrôle.* "
      ]
    },
    {
      "cell_type": "markdown",
      "metadata": {
        "id": "vqPwM5QRR7Mx"
      },
      "source": [
        "### Un algorithme est composé de trois catégories principales d’éléments \n",
        "1. une définition permet de définir les « entités » qui pourront être manipulées dans l’algorithme. En particulier, on définit des constantes, des types et des sous-programmes (fonctions).\n",
        "2. une déclaration permet de déclarer les données qui sont utilisées par le programme. Les données sont stockées par des variables. EN PYTHON LES DÉCLARATION NE SONT PAS OBLIGATOIRE, donc à la première utilisation ou en début de bloc on décrira les variable dans des commentaires\n",
        "3. Les instructions constituent le programme principal. Elles sont exécutées par l’ordinateur pour transformer les données.\n"
      ]
    },
    {
      "cell_type": "markdown",
      "metadata": {
        "id": "4woes4N1STlU"
      },
      "source": [
        "## Apect impératif de Python : Instruction, expression, Flot d’instructions\n",
        "- [x] <font color='red'>Instruction</font> $\\Rightarrow$ modifie l’état\n",
        "- [x] <font color='blue'>Expression</font> $\\Rightarrow$ fournit un résultat\n",
        "\n",
        "$$ {x:?} \\color{red}{\\xrightarrow{x = \\color{blue}{a + b}}} {x:a+b}$$\n",
        "\n",
        "\n",
        "**Données et structure de données :**\n",
        "- [ ] atomique\n",
        "- [ ] Séquence\n",
        "- [ ] structures complexe\n",
        "\n",
        "**Flot d’instructions :**\n",
        "- [ ] <ins>Séquence</ins> $\\Rightarrow$ bloc d’instruction \n",
        "- [ ] <ins>conditions</ins> $\\Rightarrow$ if else\n",
        "- [ ] <ins>Répétition</ins> $\\Rightarrow$ while\n",
        "- [ ] appel de procédures (instruction) ou appel de Fonctions (expression)\n",
        "\n",
        "**Definition de bloc / nommer un flots d'instruction / sous-programme :**\n",
        "- [ ] procédures (instruction)\n",
        "- [ ] Fonctions (expression)\n",
        "- [ ] Modules (nous y reb=viendrons avec le paradigme Objet)\n",
        "- [ ] Objet (nous y reb=viendrons avec le paradigme Objet)\n"
      ]
    },
    {
      "cell_type": "markdown",
      "metadata": {
        "id": "hX_3_dUqfM2J"
      },
      "source": [
        "### L’unique instruction : affectation!\n",
        "L’affectation permet de modifier la valeur d’une variable. C’est donc la seule instruction : elle modifie l’état. \n",
        "\n",
        "Remarque : L'affectation est parfois caché (effet de bord) par des traitements lors de l’appel d’une procédure\n",
        "\n",
        "Une donnée se trouve en mémoire: elle à une référence (son adresse) \n",
        "\n",
        "En fonction de son type : elle prend un certain espace (une taille) en mémoire. Le type permet de connaître la taille.\n",
        "\n",
        "Comment manipuler les données? Soit on connaît leurs références, soit on les étiquette (on les nomme)\n"
      ]
    },
    {
      "cell_type": "markdown",
      "metadata": {
        "id": "w8hD6rlwW6LZ"
      },
      "source": [
        "###  Les variable en Python sont des noms\n",
        "En Python les variables (sont nommé  “nom d’une donnée”) représente en fait la référence vers les données.\n"
      ]
    },
    {
      "cell_type": "code",
      "metadata": {
        "id": "NupMQqutRO5a"
      },
      "source": [
        "x = 2\n",
        "y = [1, 2]"
      ],
      "execution_count": null,
      "outputs": []
    },
    {
      "cell_type": "markdown",
      "metadata": {
        "id": "7PphFIZThWYg"
      },
      "source": [
        "Car en fait tout est objet (tout est référence)\n",
        "\n",
        "![ref](https://issae.github.io/images/ref.png)\n",
        "\n",
        "* en python la fonction `id` donne la référence"
      ]
    },
    {
      "cell_type": "code",
      "metadata": {
        "id": "t5GjjS1eRLI4",
        "colab": {
          "base_uri": "https://localhost:8080/"
        },
        "outputId": "cd777374-6078-41ee-c27f-f3805d3ea248"
      },
      "source": [
        "id(x)"
      ],
      "execution_count": null,
      "outputs": [
        {
          "output_type": "execute_result",
          "data": {
            "text/plain": [
              "10914528"
            ]
          },
          "metadata": {
            "tags": []
          },
          "execution_count": 3
        }
      ]
    },
    {
      "cell_type": "code",
      "metadata": {
        "colab": {
          "base_uri": "https://localhost:8080/"
        },
        "id": "dHTxzFPIi4MJ",
        "outputId": "6f9b2c70-e65f-4ae5-88d2-a11272eee038"
      },
      "source": [
        "id(2)"
      ],
      "execution_count": null,
      "outputs": [
        {
          "output_type": "execute_result",
          "data": {
            "text/plain": [
              "10914528"
            ]
          },
          "metadata": {
            "tags": []
          },
          "execution_count": 4
        }
      ]
    },
    {
      "cell_type": "markdown",
      "metadata": {
        "id": "H6_oskOAljLo"
      },
      "source": [
        "Remarquer que x et 2 ont la même référence! (ie le même identifiant)\n",
        "\n",
        "### Les données ont un type la fonction `type` en pythion"
      ]
    },
    {
      "cell_type": "code",
      "metadata": {
        "colab": {
          "base_uri": "https://localhost:8080/"
        },
        "id": "Yk_MhCkflzCm",
        "outputId": "de26895c-778b-4ea8-88ee-fe79e9a22649"
      },
      "source": [
        "type(x)"
      ],
      "execution_count": null,
      "outputs": [
        {
          "output_type": "execute_result",
          "data": {
            "text/plain": [
              "int"
            ]
          },
          "metadata": {
            "tags": []
          },
          "execution_count": 5
        }
      ]
    },
    {
      "cell_type": "code",
      "metadata": {
        "colab": {
          "base_uri": "https://localhost:8080/"
        },
        "id": "gBnSUsmMmCmq",
        "outputId": "f31be427-d5ff-4663-c5f9-48a2338f9f92"
      },
      "source": [
        "type(y)"
      ],
      "execution_count": null,
      "outputs": [
        {
          "output_type": "execute_result",
          "data": {
            "text/plain": [
              "list"
            ]
          },
          "metadata": {
            "tags": []
          },
          "execution_count": 6
        }
      ]
    },
    {
      "cell_type": "code",
      "metadata": {
        "colab": {
          "base_uri": "https://localhost:8080/"
        },
        "id": "PqQQSb87mKCd",
        "outputId": "2160f4ca-66de-4289-f4d1-e2fd237fb7f1"
      },
      "source": [
        "x = 2.0\n",
        "y = x\n",
        "print(x, y, type(x), type(y), id(x), id(y), id(2.0))"
      ],
      "execution_count": null,
      "outputs": [
        {
          "output_type": "stream",
          "text": [
            "2.0 2.0 <class 'float'> <class 'float'> 140348581678416 140348581678416 140348581678488\n"
          ],
          "name": "stdout"
        }
      ]
    },
    {
      "cell_type": "markdown",
      "metadata": {
        "id": "nbsGZVzoSIo0"
      },
      "source": [
        "### En Python, on pourra par exemple faire"
      ]
    },
    {
      "cell_type": "code",
      "metadata": {
        "id": "PXWwxr-Um_vf"
      },
      "source": [
        "x = 2\n",
        "x = 3.0\n",
        "x = [1, 2, 3]"
      ],
      "execution_count": null,
      "outputs": []
    },
    {
      "cell_type": "markdown",
      "metadata": {
        "id": "1QP9DGTwnJI2"
      },
      "source": [
        "car x est le nom (la référence) il dedignera une nouvelle référence après l'affectation"
      ]
    },
    {
      "cell_type": "code",
      "metadata": {
        "colab": {
          "base_uri": "https://localhost:8080/"
        },
        "id": "XADyX-HsnYPm",
        "outputId": "5eb074b3-934f-48ee-f257-2da86470b271"
      },
      "source": [
        "x = 2\n",
        "print(x, type(x), id(x))\n",
        "x = 2.0\n",
        "print(x, type(x), id(x))\n",
        "x= [1, 2, 3]\n",
        "print(x, type(x), id(x))"
      ],
      "execution_count": null,
      "outputs": [
        {
          "output_type": "stream",
          "text": [
            "2 <class 'int'> 10914528\n",
            "2.0 <class 'float'> 140348421915416\n",
            "[1, 2, 3] <class 'list'> 140348421204872\n"
          ],
          "name": "stdout"
        }
      ]
    },
    {
      "cell_type": "code",
      "metadata": {
        "colab": {
          "base_uri": "https://localhost:8080/"
        },
        "id": "fPNAdfD0n7wA",
        "outputId": "f2ddce8b-fdfc-44cf-d23a-ab7de08112cc"
      },
      "source": [
        "# c'est quoi d'après vous?\n",
        "globals()['x']"
      ],
      "execution_count": null,
      "outputs": [
        {
          "output_type": "execute_result",
          "data": {
            "text/plain": [
              "[1, 2, 3]"
            ]
          },
          "metadata": {
            "tags": []
          },
          "execution_count": 21
        }
      ]
    },
    {
      "cell_type": "markdown",
      "metadata": {
        "id": "cjF5OTyWRQp6"
      },
      "source": [
        "### Données muttable et immutable\n",
        "L’assignation par référence n’a vraiment d’influance (effet sur l'état) que dans le cas où un objet est mutable. \n",
        "\n",
        "En Python, il existe en effet deux types d’objets: \n",
        "* les mutables (listes, dictionnaires, sets, objets custo, etc) et\n",
        "* les non mutables (strings, int, floats, tuples, etc).\n",
        "\n",
        "**Les mutables** sont ceux qu’on peut modifier après leur création. \n",
        "\n",
        "**Les non mutables** sont ceux qu’on ne peut pas modifier après création.\n",
        "\n",
        "On ne peut pas modifier 152 une fois que l’objet int est créé. Mais on peut rajouter des éléments à une liste après qu’elle soit créée. Les ints sont non mutables. Les listes sont mutables.\n",
        "Cela peut surprendre, mais les strings sont non mutables. Même quand vous faites:"
      ]
    },
    {
      "cell_type": "code",
      "metadata": {
        "colab": {
          "base_uri": "https://localhost:8080/"
        },
        "id": "Hal-nxO6Q209",
        "outputId": "918042cc-1e13-4caf-e2da-72b1d3948587"
      },
      "source": [
        "pa = \"papa\"\n",
        "pi = pa.replace(\"p\", \"m\")\n",
        "print(pa)\n",
        "print(pi)"
      ],
      "execution_count": null,
      "outputs": [
        {
          "output_type": "stream",
          "text": [
            "papa\n",
            "mama\n"
          ],
          "name": "stdout"
        }
      ]
    },
    {
      "cell_type": "markdown",
      "metadata": {
        "id": "YV1qII8JTEil"
      },
      "source": [
        "## L'impératif\n",
        "1. Affectation\n",
        "2. Bloc d'instructions"
      ]
    },
    {
      "cell_type": "code",
      "metadata": {
        "id": "wZSLrjNrU47c"
      },
      "source": [
        "# L'affectation, l'affectation //\n",
        "x = 3.0\n",
        "y,z = 10,x\n",
        "print(x,y,z)\n",
        "# Echange de valeurs entre 2 variables en 1 instruction\n",
        "x,y = y,x\n",
        "print(x,y)"
      ],
      "execution_count": null,
      "outputs": []
    },
    {
      "cell_type": "code",
      "metadata": {
        "colab": {
          "base_uri": "https://localhost:8080/"
        },
        "id": "5JcKF7qhVkps",
        "outputId": "410bb5e8-9c91-4048-ae1b-e1380eb2fe69"
      },
      "source": [
        "A = 10\n",
        "B = 100\n",
        "A = B\n",
        "B = A\n",
        "print(A,B)"
      ],
      "execution_count": null,
      "outputs": [
        {
          "output_type": "stream",
          "text": [
            "100 100\n"
          ],
          "name": "stdout"
        }
      ]
    },
    {
      "cell_type": "code",
      "metadata": {
        "colab": {
          "base_uri": "https://localhost:8080/"
        },
        "id": "fVkOAfwaVvo5",
        "outputId": "11f4e880-95db-4133-aa7a-d500fd9b7d41"
      },
      "source": [
        "# Mais \n",
        "A,B = 10,100\n",
        "print(\"1. \",A,B)\n",
        "A,B = B,A\n",
        "print(\"2. \",A,B)"
      ],
      "execution_count": null,
      "outputs": [
        {
          "output_type": "stream",
          "text": [
            "1.  10 100\n",
            "2.  100 10\n"
          ],
          "name": "stdout"
        }
      ]
    },
    {
      "cell_type": "markdown",
      "metadata": {
        "id": "y3zq4FxSWUuf"
      },
      "source": [
        "## Bloc et instructions\n",
        "Un programme en paradigme impératif Python est composé d'instructions. \n",
        "* En Python les limites des instructions et des blocs sont définies par la mise en page.\n",
        "    * Pas de point-virgule (;) à la fin de chaque instruction comme en  Java Mais juste un saus de ligne le caractère de fin de ligne (symbolisé par \"\\n\" newLine). \n",
        "    * Les accolades `{ ... }` pour le début et la fin de bloc sont remplacées par les niveaux d'indentations, terminé par une ligne blanche\n",
        "\n",
        "En définitive, Python oblige à écrire du code lisible, et à prendre de bonnes habitudes conservables dans d'autres langages, ce qui en est fait un langage idéal pour apprendre la programmation. *Je sais ce n'est pas votre cas, mais....*\n"
      ]
    },
    {
      "cell_type": "markdown",
      "metadata": {
        "id": "YKV38Q0JXQis"
      },
      "source": [
        "## Organiser un porgramme Python\n",
        "Un programme Python est construit à partir de blocs de code. Un block est un morceau de texte de programme Python qui est exécuté en tant qu'unité.\n",
        "Les éléments suivants sont des blocs : \n",
        "* un module, \n",
        "* un corps de fonction ou de procédure (sous-programme)\n",
        "* et une définition de classe. (une meilleure organisation des module?)\n"
      ]
    },
    {
      "cell_type": "markdown",
      "metadata": {
        "id": "y1sN5rX9XzO5"
      },
      "source": [
        "## Pour vous, comment programmer en Python\n",
        "1. Sans rien installer dans Goolge collab (comme ce cours)\n",
        "2. Windows: installer Python directement depuis Windows store avec un EDI simple par exemple VS code\n",
        "3. Linux: En natif ou installer WSL (Windows Subsystem for Linux) et travailler dans un environnement Linux depuis Windows\n",
        "4. d'autres outils nécessaires pour vos développements: git, github, ssh"
      ]
    },
    {
      "cell_type": "markdown",
      "metadata": {
        "id": "uH5y9QNrryeA"
      },
      "source": [
        ""
      ]
    },
    {
      "cell_type": "code",
      "metadata": {
        "id": "apAk0fIyWNVp"
      },
      "source": [
        "\n"
      ],
      "execution_count": null,
      "outputs": []
    },
    {
      "cell_type": "markdown",
      "metadata": {
        "id": "4ENzln9uS8DC"
      },
      "source": [
        "---"
      ]
    },
    {
      "cell_type": "markdown",
      "metadata": {
        "id": "CdBJAufxC5qt"
      },
      "source": [
        "## Parcourons les basiques\n",
        "\n",
        "quelques présentations rapide avant de détailler les différentes structuration d'un programme Python.\n",
        "\n",
        "pour apprendre un nouveaux language il faudrait apprendre comment faire ceci:\n",
        "\n",
        "1. affectation\n",
        "2. bloc\n",
        "3. conditions\n",
        "4. repétition\n",
        "5. Les types de données prédéfinies \n",
        "6. Comment créer de nouvaux type de données\n",
        "7. comment structurer son code par les sous-programmes ou modules"
      ]
    },
    {
      "cell_type": "code",
      "metadata": {
        "id": "ISRmtDbkDJRE"
      },
      "source": [
        "# premier exemple! (sans explication: que fait-il?)\n",
        "for i in [0, 1, 2]:\n",
        "    print(\"valeur :\", i)\n",
        "print(\"Fin\")"
      ],
      "execution_count": null,
      "outputs": []
    },
    {
      "cell_type": "markdown",
      "metadata": {
        "id": "uNQUZvvCDN46"
      },
      "source": [
        "Noter le `:` et les tabulations, pas besoin de begin/end ou {, } ni de ; pour faire des blocs d'instructions\n",
        "\n",
        "## Les expressions"
      ]
    },
    {
      "cell_type": "code",
      "metadata": {
        "id": "rl5Q4CW2Diwb"
      },
      "source": [
        "(3 * 4) + 2"
      ],
      "execution_count": null,
      "outputs": []
    },
    {
      "cell_type": "code",
      "metadata": {
        "id": "IMOCyjqixxmi"
      },
      "source": [
        ""
      ],
      "execution_count": null,
      "outputs": []
    },
    {
      "cell_type": "markdown",
      "metadata": {
        "id": "ROfgiC8BDz_T"
      },
      "source": [
        "## L'affectation\n",
        "profitons en m^me temps de présenter queleus type de base dans python (enter, flotant, chaine de caractères (string)"
      ]
    },
    {
      "cell_type": "code",
      "metadata": {
        "id": "tk5MPyUtD2ns"
      },
      "source": [
        "x = (3 + 5) / 4\n",
        "y = 2 * x\n",
        "z = \"Un texte\"\n",
        "w = 'un autre texte'\n",
        "#Du texte formaté f\"\"\n",
        "A = f\"x={x} et y={y}\"\n",
        "C = \"x={x} et y={y}\"\n",
        "B = None"
      ],
      "execution_count": null,
      "outputs": []
    },
    {
      "cell_type": "markdown",
      "metadata": {
        "id": "VVwF8ld6EWgr"
      },
      "source": [
        "Vérifier les valeurs des variables x,y,z,w,A et B"
      ]
    },
    {
      "cell_type": "code",
      "metadata": {
        "id": "cRiJR8ZzDqsT"
      },
      "source": [
        "B"
      ],
      "execution_count": null,
      "outputs": []
    },
    {
      "cell_type": "markdown",
      "metadata": {
        "id": "eIJpmqqUElwd"
      },
      "source": [
        "## Essayer la différence entre / et //\n",
        "Les opérateurs sont des caractères ou des chaines de caractères qui on un sens en fonction du type de données manipulé:\n",
        "* +, -, *, /, //, %, ..."
      ]
    },
    {
      "cell_type": "code",
      "metadata": {
        "id": "PtQe5FY2EtQh"
      },
      "source": [
        "f\"le / {5/2} et // {5//2}\""
      ],
      "execution_count": null,
      "outputs": []
    },
    {
      "cell_type": "markdown",
      "metadata": {
        "id": "e6zlLZNTFpkX"
      },
      "source": [
        "La fonction print"
      ]
    },
    {
      "cell_type": "code",
      "metadata": {
        "id": "7qhx71yGFYOL"
      },
      "source": [
        "# La fonction print\n",
        "print(f\"le / {5%2} et // {5//2}\")\n",
        "print(5*x)"
      ],
      "execution_count": null,
      "outputs": []
    },
    {
      "cell_type": "markdown",
      "metadata": {
        "id": "VpfTvNCEF55T"
      },
      "source": [
        "## La Conditionelle"
      ]
    },
    {
      "cell_type": "code",
      "metadata": {
        "id": "z5Bihw2JF_1b"
      },
      "source": [
        "condition = True"
      ],
      "execution_count": null,
      "outputs": []
    },
    {
      "cell_type": "code",
      "metadata": {
        "id": "OnJMxwgjF3qS"
      },
      "source": [
        "if (condition):\n",
        "  x = 2\n",
        "  print(x)\n",
        "else:\n",
        "  y = 5\n",
        "  print(y)"
      ],
      "execution_count": null,
      "outputs": []
    },
    {
      "cell_type": "code",
      "metadata": {
        "id": "OfCpSw2sjQfT"
      },
      "source": [
        "if (condition): \n",
        "  print (\"Vraie\") \n",
        "else: \n",
        "  print(\"Faux\")"
      ],
      "execution_count": null,
      "outputs": []
    },
    {
      "cell_type": "markdown",
      "metadata": {
        "id": "8mOSyLFzGMR7"
      },
      "source": [
        "Essayer avec condition False si elle était True et True si elle était False"
      ]
    },
    {
      "cell_type": "markdown",
      "metadata": {
        "id": "zlk2d_3SGcBO"
      },
      "source": [
        "## La répétition"
      ]
    },
    {
      "cell_type": "code",
      "metadata": {
        "id": "BgrciLMmGg4b"
      },
      "source": [
        "x = 10\n",
        "while (x > 0):\n",
        "  print(x, end=' ')\n",
        "  x = x -1"
      ],
      "execution_count": null,
      "outputs": []
    },
    {
      "cell_type": "markdown",
      "metadata": {
        "id": "GiuFndG-Hdv9"
      },
      "source": [
        "## La répétition par itérateur `for`"
      ]
    },
    {
      "cell_type": "code",
      "metadata": {
        "id": "spRUfV8fHhf_"
      },
      "source": [
        "for i in range(10):\n",
        "  print(i, end=':')"
      ],
      "execution_count": null,
      "outputs": []
    },
    {
      "cell_type": "code",
      "metadata": {
        "id": "3yRUmcS1koQ-"
      },
      "source": [
        "help(print)"
      ],
      "execution_count": null,
      "outputs": []
    },
    {
      "cell_type": "code",
      "metadata": {
        "id": "Qcbzi5hnHpe8"
      },
      "source": [
        "# cas de range\n",
        "range(10)"
      ],
      "execution_count": null,
      "outputs": []
    },
    {
      "cell_type": "code",
      "metadata": {
        "id": "0ZSXQac6HvWD"
      },
      "source": [
        "list(range(10))"
      ],
      "execution_count": null,
      "outputs": []
    },
    {
      "cell_type": "markdown",
      "metadata": {
        "id": "p4t2QgKUH0jV"
      },
      "source": [
        "## définition de fonction ou de procedure"
      ]
    },
    {
      "cell_type": "code",
      "metadata": {
        "id": "38-vDi7YH26G"
      },
      "source": [
        "def f(x,y):\n",
        "  return (x+y)"
      ],
      "execution_count": null,
      "outputs": []
    },
    {
      "cell_type": "code",
      "metadata": {
        "id": "nwgjEP4BlT25"
      },
      "source": [
        "f(3,4)"
      ],
      "execution_count": null,
      "outputs": []
    },
    {
      "cell_type": "markdown",
      "metadata": {
        "id": "Fv7c9EDWIkdm"
      },
      "source": [
        "## Les listes"
      ]
    },
    {
      "cell_type": "code",
      "metadata": {
        "id": "HEc2j0pVlXYv"
      },
      "source": [
        "l = [1,2,3,4,5,6,7]\n",
        "print(l)"
      ],
      "execution_count": null,
      "outputs": []
    },
    {
      "cell_type": "code",
      "metadata": {
        "id": "m8Ygquqylm90"
      },
      "source": [
        "l[4] = 100\n",
        "l"
      ],
      "execution_count": null,
      "outputs": []
    },
    {
      "cell_type": "markdown",
      "metadata": {
        "id": "3Aij7RPuImyG"
      },
      "source": [
        "## Les tuples"
      ]
    },
    {
      "cell_type": "code",
      "metadata": {
        "id": "jcrnDIzMmcM8"
      },
      "source": [
        "t = (1,2,3,4,5,6)\n"
      ],
      "execution_count": null,
      "outputs": []
    },
    {
      "cell_type": "markdown",
      "metadata": {
        "id": "Z3xVVuKlvp6O"
      },
      "source": [
        "## Les ensembles"
      ]
    },
    {
      "cell_type": "code",
      "metadata": {
        "colab": {
          "base_uri": "https://localhost:8080/"
        },
        "id": "t9IuHECQvwDt",
        "outputId": "0d0e49c7-54ab-4e51-d1f7-02974a759c90"
      },
      "source": [
        "e = {1, 2, 3, 2, 5}\n",
        "print(e)"
      ],
      "execution_count": null,
      "outputs": [
        {
          "output_type": "stream",
          "text": [
            "{1, 2, 3, 5}\n"
          ],
          "name": "stdout"
        }
      ]
    },
    {
      "cell_type": "markdown",
      "metadata": {
        "id": "2KpFchKOIpKD"
      },
      "source": [
        "## Les dictionnaire (hash)"
      ]
    },
    {
      "cell_type": "code",
      "metadata": {
        "id": "FAhTj4N5my1r"
      },
      "source": [
        "d = {3:4, \"toto\":6, \"tuple\":t}\n",
        "d"
      ],
      "execution_count": null,
      "outputs": []
    },
    {
      "cell_type": "code",
      "metadata": {
        "id": "mq8WBK19nGwV"
      },
      "source": [
        "d['titi'] = 11\n",
        "d"
      ],
      "execution_count": null,
      "outputs": []
    },
    {
      "cell_type": "code",
      "metadata": {
        "id": "pIMAGec0nVJA"
      },
      "source": [
        "d['ouf']"
      ],
      "execution_count": null,
      "outputs": []
    },
    {
      "cell_type": "code",
      "metadata": {
        "colab": {
          "base_uri": "https://localhost:8080/"
        },
        "id": "io3WoR7dwCvn",
        "outputId": "e461ad98-bf17-49db-8435-3e6db479f6cd"
      },
      "source": [
        "# Mixons tout ceci\n",
        "print(\"Bonjours auditeurs UTC503!\")\n",
        "a,b=0,10\n",
        "if (a == 0):\n",
        "  x=b\n",
        "else:\n",
        "  x = a + b\n",
        "\n",
        "#La ligne blanche au dessu exprime la fin du if (tout simplement) ou le retour a la tabulation précedente\n",
        "while (x < 15):\n",
        "  print(x)\n",
        "  x =  x + 1\n",
        "\n",
        "print(a,b,x)"
      ],
      "execution_count": null,
      "outputs": [
        {
          "output_type": "stream",
          "text": [
            "Bonjours auditeurs UTC503!\n",
            "10\n",
            "11\n",
            "12\n",
            "13\n",
            "14\n",
            "0 10 15\n"
          ],
          "name": "stdout"
        }
      ]
    },
    {
      "cell_type": "code",
      "metadata": {
        "colab": {
          "base_uri": "https://localhost:8080/"
        },
        "id": "EKiOMrL8xHDf",
        "outputId": "f48bbe08-4bb3-4687-c585-f3b7b7a08b03"
      },
      "source": [
        "# Ca marche aussi\n",
        "print(\"Bonjours auditeurs UTC503!\")\n",
        "a,b=0,10\n",
        "if (a == 0):\n",
        "  x=b\n",
        "else:\n",
        "  x = a + b\n",
        "while (x < 15):\n",
        "  print(x)\n",
        "  x =  x + 1\n",
        "print(a,b,x)"
      ],
      "execution_count": null,
      "outputs": [
        {
          "output_type": "stream",
          "text": [
            "Bonjours auditeurs UTC503!\n",
            "10\n",
            "11\n",
            "12\n",
            "13\n",
            "14\n",
            "0 10 15\n"
          ],
          "name": "stdout"
        }
      ]
    },
    {
      "cell_type": "markdown",
      "metadata": {
        "id": "PjOv-9sbyWNa"
      },
      "source": [
        "<center>\n",
        "\n",
        "![if else](https://issae.github.io/images/ifelse.png)\n",
        "\n",
        "</center>"
      ]
    },
    {
      "cell_type": "markdown",
      "metadata": {
        "id": "_O_rDj2Vyao9"
      },
      "source": [
        "## De l'importance des tabulations et des riques de la simplicité\n",
        "J'en profite pour introduire des astuces de la fonction print\n",
        "\n",
        "Une fonction fantastique : `help`"
      ]
    },
    {
      "cell_type": "code",
      "metadata": {
        "id": "NhV5fJeNz-9u"
      },
      "source": [
        "help(print)"
      ],
      "execution_count": null,
      "outputs": []
    },
    {
      "cell_type": "code",
      "metadata": {
        "colab": {
          "base_uri": "https://localhost:8080/"
        },
        "id": "BjoengJGy5sj",
        "outputId": "4f527f8a-b562-4167-e30e-f8f2d0123d2a"
      },
      "source": [
        "x,a = 0,0\n",
        "print(\"1.\",x,a,sep=\" : \")\n",
        "while (x < 10):\n",
        "  x = x + 1\n",
        "  print(\"2.* Dans la boucle x=\", x, sep=\"\", end=\" \")\n",
        "  a = a + 1\n",
        "print(\"\\n3. a la sortie de la boucle x>=10\", x)\n",
        "print(\"4. Que vaut a?\", a)"
      ],
      "execution_count": null,
      "outputs": [
        {
          "output_type": "stream",
          "text": [
            "1. : 0 : 0\n",
            "2.* Dans la boucle x=1 2.* Dans la boucle x=2 2.* Dans la boucle x=3 2.* Dans la boucle x=4 2.* Dans la boucle x=5 2.* Dans la boucle x=6 2.* Dans la boucle x=7 2.* Dans la boucle x=8 2.* Dans la boucle x=9 2.* Dans la boucle x=10 \n",
            "3. a la sortie de la boucle x>=10 10\n",
            "4. Que vaut a? 10\n"
          ],
          "name": "stdout"
        }
      ]
    },
    {
      "cell_type": "code",
      "metadata": {
        "colab": {
          "base_uri": "https://localhost:8080/"
        },
        "id": "LWsqRj4L0_eG",
        "outputId": "7f7be8c0-ac23-4978-fad0-9e3529c180c5"
      },
      "source": [
        "# Le même?\n",
        "x,a = 0,0\n",
        "print(\"1.\",x,a,sep=\" : \")\n",
        "while (x < 5):\n",
        "  x = x + 1\n",
        "  print(\"2.* Dans la boucle x=\", x, sep=\"\", end=\" \")\n",
        "a = a + 1\n",
        "print(\"\\n3. a la sortie de la boucle x>=10\", x)\n",
        "print(\"4. Que vaut a?\", a)"
      ],
      "execution_count": null,
      "outputs": [
        {
          "output_type": "stream",
          "text": [
            "1. : 0 : 0\n",
            "2.* Dans la boucle x=1 2.* Dans la boucle x=2 2.* Dans la boucle x=3 2.* Dans la boucle x=4 2.* Dans la boucle x=5 2.* Dans la boucle x=6 2.* Dans la boucle x=7 2.* Dans la boucle x=8 2.* Dans la boucle x=9 2.* Dans la boucle x=10 \n",
            "3. a la sortie de la boucle x>=10 10\n",
            "4. Que vaut a? 1\n"
          ],
          "name": "stdout"
        }
      ]
    },
    {
      "cell_type": "code",
      "metadata": {
        "colab": {
          "base_uri": "https://localhost:8080/"
        },
        "id": "Q3jGhmzJ1SVF",
        "outputId": "03629316-065e-452f-fc71-3a3e286eb25c"
      },
      "source": [
        "# Conseil, mettre une ligne blanche pour séparer les blocs. C'est encore plus lisible ;)\n",
        "x,a = 0,0\n",
        "print(\"1.\",x,a,sep=\" : \")\n",
        "\n",
        "while (x < 5):\n",
        "  x = x + 1\n",
        "  print(\"2.* Dans la boucle x=\", x, sep=\"\", end=\" \")\n",
        "  a = a + 1\n",
        "\n",
        "print(\"\\n3. a la sortie de la boucle x>=10\", x)\n",
        "print(\"4. Que vaut a?\", a)"
      ],
      "execution_count": null,
      "outputs": [
        {
          "output_type": "stream",
          "text": [
            "1. : 0 : 0\n",
            "2.* Dans la boucle x=1 2.* Dans la boucle x=2 2.* Dans la boucle x=3 2.* Dans la boucle x=4 2.* Dans la boucle x=5 2.* Dans la boucle x=6 2.* Dans la boucle x=7 2.* Dans la boucle x=8 2.* Dans la boucle x=9 2.* Dans la boucle x=10 \n",
            "3. a la sortie de la boucle x>=10 10\n",
            "4. Que vaut a? 10\n"
          ],
          "name": "stdout"
        }
      ]
    },
    {
      "cell_type": "markdown",
      "metadata": {
        "id": "CNL-KrRN2p2H"
      },
      "source": [
        "## Les variables et leur type\n",
        "Les langages de programmation impératif, *(vous le saurez ;)*\n",
        "* manipule des valeurs en mémoire. \n",
        "* et leur évolution grâce à l'exécution d’instructions \n",
        "\n",
        "=> \n",
        "**La variables**, représente une association (on dit aussi une liaison) entre un symbole et une valeur.  Le symbole (comme une étiquette sur un document) permettant au programmeur d'identifier et manipuler ces valeurs.\n",
        "\n",
        "**Le typage** d'une variable consiste à associer un « type » de donnée [une méta donnée une information], permettant au langage de savoir si celle-ci est de type numérique, textuel, etc., \n",
        "* d'allouer en conséquence des zones de mémoire de dimension suffisantes pour stocker cette donnée, \n",
        "* et éventuellement de vérifier que les manipulations programmées sur cette variable (opérations mathématiques, traitement de texte, etc.) sont cohérentes avec son type.\n"
      ]
    },
    {
      "cell_type": "markdown",
      "metadata": {
        "id": "RvQ2fZOF4HAR"
      },
      "source": [
        "## Typage dynamique\n",
        "Le typage dynamique consiste à laisser le langage réaliser cette opération de typage « à la volée », lors de l'exécution du code.\n",
        "\n",
        "Un langages **statiquement typés** demandent au programmeur de déclarer expressément, pour chaque variable qu'il introduit dans son code, son typage.\n",
        "\n",
        "Le **typage dynamique** est une solution très commode pour le développement rapide de programmes, où \n",
        "* le type des objets manipulés n'est pas forcément connu à l'avance, \n",
        "* ou bien le programmeur veut permettre par commodité le changement de type d'une variable. \n"
      ]
    },
    {
      "cell_type": "code",
      "metadata": {
        "colab": {
          "base_uri": "https://localhost:8080/",
          "height": 198
        },
        "id": "dFG8ri1G9c_4",
        "outputId": "8de0a8d3-3048-4bac-bb2e-7427ca5f13cf"
      },
      "source": [
        "# la variable est définie en python lors de la première opération d'affectation\n",
        "x = 3\n",
        "y = k + x"
      ],
      "execution_count": null,
      "outputs": [
        {
          "output_type": "error",
          "ename": "NameError",
          "evalue": "ignored",
          "traceback": [
            "\u001b[0;31m---------------------------------------------------------------------------\u001b[0m",
            "\u001b[0;31mNameError\u001b[0m                                 Traceback (most recent call last)",
            "\u001b[0;32m<ipython-input-23-715c43cd2d46>\u001b[0m in \u001b[0;36m<module>\u001b[0;34m()\u001b[0m\n\u001b[1;32m      1\u001b[0m \u001b[0;31m# la variable est définie en python lors de la première opération d'affectation\u001b[0m\u001b[0;34m\u001b[0m\u001b[0;34m\u001b[0m\u001b[0;34m\u001b[0m\u001b[0m\n\u001b[1;32m      2\u001b[0m \u001b[0mx\u001b[0m \u001b[0;34m=\u001b[0m \u001b[0;36m3\u001b[0m\u001b[0;34m\u001b[0m\u001b[0;34m\u001b[0m\u001b[0m\n\u001b[0;32m----> 3\u001b[0;31m \u001b[0my\u001b[0m \u001b[0;34m=\u001b[0m \u001b[0mk\u001b[0m \u001b[0;34m+\u001b[0m \u001b[0mx\u001b[0m\u001b[0;34m\u001b[0m\u001b[0;34m\u001b[0m\u001b[0m\n\u001b[0m",
            "\u001b[0;31mNameError\u001b[0m: name 'k' is not defined"
          ]
        }
      ]
    },
    {
      "cell_type": "markdown",
      "metadata": {
        "id": "KtNrhD9E4kpV"
      },
      "source": [
        "## interprété vs compilé\n",
        "On peut distinguer deux grands types de langages : les langages interprétés et les langages compilés.\n",
        "\n",
        "Le **langage interprété** plutôt typage dynamique\n",
        "\n",
        "Le **langage compilé** plutôt typage statique\n",
        "\n",
        "<center>\n",
        "\n",
        "![interprete compile](https://github.com/ISSAE/ISSAE.github.io/raw/master/images/difference-between-Compiler-and-Interpreter.jpg)\n",
        "\n",
        "</center>"
      ]
    },
    {
      "cell_type": "markdown",
      "metadata": {
        "id": "ZmcJdcdC8GFi"
      },
      "source": [
        "## [Pour en savoir plus sur les variables et les opérateurs, lire et relire si nécessaire](https://utc503.page.link/variables)\n",
        "\n",
        "https://utc503.page.link/variables"
      ]
    }
  ]
}