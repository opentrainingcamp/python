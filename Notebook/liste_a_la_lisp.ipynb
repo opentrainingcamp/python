{
  "nbformat": 4,
  "nbformat_minor": 0,
  "metadata": {
    "colab": {
      "name": "liste_a_la_lisp.ipynb",
      "provenance": [],
      "collapsed_sections": [],
      "authorship_tag": "ABX9TyNlIXwFea1XBwxqvRLSvnZq",
      "include_colab_link": true
    },
    "kernelspec": {
      "name": "python3",
      "display_name": "Python 3"
    }
  },
  "cells": [
    {
      "cell_type": "markdown",
      "metadata": {
        "id": "view-in-github",
        "colab_type": "text"
      },
      "source": [
        "<a href=\"https://colab.research.google.com/github/opentrainingcamp/python/blob/main/Notebook/liste_a_la_lisp.ipynb\" target=\"_parent\"><img src=\"https://colab.research.google.com/assets/colab-badge.svg\" alt=\"Open In Colab\"/></a>"
      ]
    },
    {
      "cell_type": "markdown",
      "metadata": {
        "id": "8KcyS7e6YL3o"
      },
      "source": [
        "# Récursivité\n",
        "On appelle récursive toute fonction qui s’appelle elle-même, en paradigme fonctionnel c'est le seul moyen de réaliser des répétitions\n",
        "\n",
        "Dans ce notebook nous allons présenter quelques exemples de fonctions récursives sur les ensembles de données. Nous dégagerons un schmas générique de récursivité et nous introduirons la framework, filter-map-reduce"
      ]
    },
    {
      "cell_type": "code",
      "metadata": {
        "id": "WbWXt1rPbRYS"
      },
      "source": [
        "# Ce n'est pas vraiment une classe! Je l'utilise comme namespace\n",
        "# des méthodes de classes c'est équivalent à des fonctions\n",
        "# ceci permet de regrouper des fonctions d'un même thème, on aurait pu le\n",
        "# faire dans un module\n",
        "class lisp:\n",
        "  creer  = lambda  : tuple()\n",
        "  null   = lambda l: not l\n",
        "  tete   = lambda l: l[0]\n",
        "  reste  = lambda l: l[1:]\n",
        "  cons   = lambda a, l: (a, *l)\n",
        "\n",
        "  \n"
      ],
      "execution_count": null,
      "outputs": []
    },
    {
      "cell_type": "markdown",
      "metadata": {
        "id": "HHRF4eQZfYVm"
      },
      "source": [
        "Même chose avec une définition dans un module : https://github.com/ISSAE/UTC503/blob/master/Seances/Python/Fonctionnel/lisp.py"
      ]
    },
    {
      "cell_type": "markdown",
      "metadata": {
        "id": "_DcCFHxOa-y6"
      },
      "source": [
        "# propriete 1: La liste créée est vide"
      ]
    },
    {
      "cell_type": "code",
      "metadata": {
        "colab": {
          "base_uri": "https://localhost:8080/"
        },
        "id": "maX9RPvBbhx-",
        "outputId": "232d3596-1785-49f8-df8c-528011d5642a"
      },
      "source": [
        "lisp.null(lisp.creer())"
      ],
      "execution_count": null,
      "outputs": [
        {
          "output_type": "execute_result",
          "data": {
            "text/plain": [
              "True"
            ]
          },
          "metadata": {
            "tags": []
          },
          "execution_count": 4
        }
      ]
    },
    {
      "cell_type": "code",
      "metadata": {
        "colab": {
          "base_uri": "https://localhost:8080/"
        },
        "id": "bO1slPYMcf22",
        "outputId": "43999d77-3d20-492c-c7da-65e6f222ae92"
      },
      "source": [
        " lisp.cons(1, lisp.cons(2, lisp.creer()))"
      ],
      "execution_count": null,
      "outputs": [
        {
          "output_type": "execute_result",
          "data": {
            "text/plain": [
              "(1, 2)"
            ]
          },
          "metadata": {
            "tags": []
          },
          "execution_count": 5
        }
      ]
    },
    {
      "cell_type": "code",
      "metadata": {
        "id": "-tKGr6bAc3FF"
      },
      "source": [
        "l = lisp.cons(1, lisp.cons(2, lisp.creer()))"
      ],
      "execution_count": null,
      "outputs": []
    },
    {
      "cell_type": "code",
      "metadata": {
        "colab": {
          "base_uri": "https://localhost:8080/"
        },
        "id": "I_T27gknwLiA",
        "outputId": "3ff13df3-1322-49dc-ade5-6584ae4ec142"
      },
      "source": [
        "l"
      ],
      "execution_count": null,
      "outputs": [
        {
          "output_type": "execute_result",
          "data": {
            "text/plain": [
              "(1, 2)"
            ]
          },
          "metadata": {
            "tags": []
          },
          "execution_count": 7
        }
      ]
    },
    {
      "cell_type": "markdown",
      "metadata": {
        "id": "4hJdLnZlbO3B"
      },
      "source": [
        "# propriété 2 : cons(tete(l),reste(l)) = l"
      ]
    },
    {
      "cell_type": "code",
      "metadata": {
        "colab": {
          "base_uri": "https://localhost:8080/"
        },
        "id": "RVMU4D6gcmr2",
        "outputId": "0bae078a-2b2b-48c2-84d3-bdaef5e519b2"
      },
      "source": [
        "lisp.cons(lisp.tete(l), lisp.reste(l))"
      ],
      "execution_count": null,
      "outputs": [
        {
          "output_type": "execute_result",
          "data": {
            "text/plain": [
              "(1, 2)"
            ]
          },
          "metadata": {
            "tags": []
          },
          "execution_count": 8
        }
      ]
    },
    {
      "cell_type": "markdown",
      "metadata": {
        "id": "IU8xH7mRfmhX"
      },
      "source": [
        "Ces 5 fonctions représentent les opérations de base sur les listes. Nous allons en créer de nouvelles en nous limitant à l'utilisation de celles ci.\n",
        "\n"
      ]
    },
    {
      "cell_type": "markdown",
      "metadata": {
        "id": "WQbYXxE5fyUX"
      },
      "source": [
        "# Taille d'une liste\n",
        "\n",
        "Nous devons trouver une définition récusive...\n",
        "\n",
        "taille(l)\n",
        "\n",
        "$$\n",
        "\\left \\{\n",
        "   \\begin{array}{r c l}\n",
        "      si\\ vide(l) &:  &0 \\\\\n",
        "      sinon:  &: &1+taille(reste(l))\\\\\n",
        "   \\end{array}\n",
        "   \\right .\n",
        "$$\n"
      ]
    },
    {
      "cell_type": "code",
      "metadata": {
        "id": "PPMp-f0dg8zP"
      },
      "source": [
        "taille = lambda l: 0 if lisp.null(l) else 1+taille(lisp.reste(l))"
      ],
      "execution_count": null,
      "outputs": []
    },
    {
      "cell_type": "code",
      "metadata": {
        "colab": {
          "base_uri": "https://localhost:8080/"
        },
        "id": "YTGvPcAghIQn",
        "outputId": "7b5717d0-e3ce-4cf8-94d1-30853afb88f8"
      },
      "source": [
        "taille((1,2,3,4))"
      ],
      "execution_count": null,
      "outputs": [
        {
          "output_type": "execute_result",
          "data": {
            "text/plain": [
              "4"
            ]
          },
          "metadata": {
            "tags": []
          },
          "execution_count": 13
        }
      ]
    },
    {
      "cell_type": "code",
      "metadata": {
        "colab": {
          "base_uri": "https://localhost:8080/"
        },
        "id": "TXtiM0T5cQXd",
        "outputId": "9b3a70b6-acc5-442c-df6a-22dca02d03e9"
      },
      "source": [
        "taille([])"
      ],
      "execution_count": null,
      "outputs": [
        {
          "output_type": "execute_result",
          "data": {
            "text/plain": [
              "0"
            ]
          },
          "metadata": {
            "tags": []
          },
          "execution_count": 14
        }
      ]
    },
    {
      "cell_type": "code",
      "metadata": {
        "colab": {
          "base_uri": "https://localhost:8080/"
        },
        "id": "qsjE4RawcTCr",
        "outputId": "81770155-eb53-4397-ed88-5df25f5f18ed"
      },
      "source": [
        "taille([10])"
      ],
      "execution_count": null,
      "outputs": [
        {
          "output_type": "execute_result",
          "data": {
            "text/plain": [
              "1"
            ]
          },
          "metadata": {
            "tags": []
          },
          "execution_count": 15
        }
      ]
    },
    {
      "cell_type": "markdown",
      "metadata": {
        "id": "PgSxhO2Dhk1f"
      },
      "source": [
        "#Somme des éléments d'une liste\n",
        "somme(l)\n",
        "$$\n",
        "\\left \\{\n",
        "   \\begin{array}{r c l}\n",
        "      si\\ vide(l) &:  &0 \\\\\n",
        "      sinon:  &: &tete+somme(reste(l))\\\\\n",
        "   \\end{array}\n",
        "   \\right .\n",
        "$$"
      ]
    },
    {
      "cell_type": "code",
      "metadata": {
        "id": "zJiSwzTDQr9s"
      },
      "source": [
        "somme = lambda l: 0 if lisp.null(l) else lisp.tete(l)+somme(lisp.reste(l))"
      ],
      "execution_count": null,
      "outputs": []
    },
    {
      "cell_type": "markdown",
      "metadata": {
        "id": "Yz2YomA4_WPs"
      },
      "source": [
        ""
      ]
    },
    {
      "cell_type": "code",
      "metadata": {
        "colab": {
          "base_uri": "https://localhost:8080/"
        },
        "id": "Y585tCScQ_E1",
        "outputId": "f7346264-1b48-46c9-d4b9-27de49e9ec99"
      },
      "source": [
        "somme([10,10,10])"
      ],
      "execution_count": null,
      "outputs": [
        {
          "output_type": "execute_result",
          "data": {
            "text/plain": [
              "30"
            ]
          },
          "metadata": {
            "tags": []
          },
          "execution_count": 17
        }
      ]
    },
    {
      "cell_type": "code",
      "metadata": {
        "colab": {
          "base_uri": "https://localhost:8080/"
        },
        "id": "bNLMBX2uc1oo",
        "outputId": "be8a1d3c-b9c8-4c28-9310-924bfe05d1e0"
      },
      "source": [
        "somme([150])"
      ],
      "execution_count": null,
      "outputs": [
        {
          "output_type": "execute_result",
          "data": {
            "text/plain": [
              "150"
            ]
          },
          "metadata": {
            "tags": []
          },
          "execution_count": 15
        }
      ]
    },
    {
      "cell_type": "markdown",
      "metadata": {
        "id": "t_iBbmB-Ru6s"
      },
      "source": [
        "## Un schémas de récusivité se profile\n",
        "\n",
        "``` \n",
        "recFonc = <Valeur> if <Cond>(l) else <Operation>(tete(l),recFonc(reste(l)))\n",
        "```\n",
        "\n",
        "definitionRec(Cond, valeur, Operation):\n",
        "-> fonction(l): \n",
        "$$\n",
        "\\left \\{\n",
        "   \\begin{array}{r c l}\n",
        "      si\\ Cond(l) &:  &Valeur \\\\\n",
        "      sinon:  &: &Operation(tete(l),definitionRec(Cond,Valeur,Operation)(reste(l))) \\\\\n",
        "   \\end{array}\n",
        "   \\right .\n",
        "$$\n"
      ]
    },
    {
      "cell_type": "code",
      "metadata": {
        "id": "ny6FpAF2STrs"
      },
      "source": [
        "genericRec = \\\n",
        "   lambda cond, op, valeur: \\\n",
        "      lambda l: valeur if cond(l) else op(lisp.tete(l),genericRec(cond,op,valeur)(lisp.reste(l)))"
      ],
      "execution_count": null,
      "outputs": []
    },
    {
      "cell_type": "code",
      "metadata": {
        "id": "JjpsSb5pTGnO"
      },
      "source": [
        "somme_1 = genericRec(lisp.null, lambda x,y: x+y, 0)"
      ],
      "execution_count": null,
      "outputs": []
    },
    {
      "cell_type": "code",
      "metadata": {
        "colab": {
          "base_uri": "https://localhost:8080/"
        },
        "id": "3AMrn2aUegHj",
        "outputId": "c10ca23d-a0bc-4c1b-d442-b5724fea100b"
      },
      "source": [
        "somme_1"
      ],
      "execution_count": null,
      "outputs": [
        {
          "output_type": "execute_result",
          "data": {
            "text/plain": [
              "<function __main__.<lambda>.<locals>.<lambda>>"
            ]
          },
          "metadata": {
            "tags": []
          },
          "execution_count": 20
        }
      ]
    },
    {
      "cell_type": "code",
      "metadata": {
        "colab": {
          "base_uri": "https://localhost:8080/"
        },
        "id": "QYMpqNj_TSiN",
        "outputId": "45b11849-716e-421b-c78d-d04aaead08d2"
      },
      "source": [
        "somme_1([10,10,10])"
      ],
      "execution_count": null,
      "outputs": [
        {
          "output_type": "execute_result",
          "data": {
            "text/plain": [
              "30"
            ]
          },
          "metadata": {
            "tags": []
          },
          "execution_count": 21
        }
      ]
    },
    {
      "cell_type": "code",
      "metadata": {
        "colab": {
          "base_uri": "https://localhost:8080/"
        },
        "id": "de040hR7etbH",
        "outputId": "0d02845d-9493-448f-bda5-a2205be77904"
      },
      "source": [
        "somme_1([])"
      ],
      "execution_count": null,
      "outputs": [
        {
          "output_type": "execute_result",
          "data": {
            "text/plain": [
              "0"
            ]
          },
          "metadata": {
            "tags": []
          },
          "execution_count": 22
        }
      ]
    },
    {
      "cell_type": "code",
      "metadata": {
        "id": "kbsC4kQuTrlk"
      },
      "source": [
        "taille_1 = genericRec(lisp.null, lambda x,y: 1+y, 0)"
      ],
      "execution_count": null,
      "outputs": []
    },
    {
      "cell_type": "code",
      "metadata": {
        "colab": {
          "base_uri": "https://localhost:8080/"
        },
        "id": "2HOt2qyQTx68",
        "outputId": "b9612961-5999-4eb5-8829-f7d8a5427be2"
      },
      "source": [
        "taille_1([10,10,10])"
      ],
      "execution_count": null,
      "outputs": [
        {
          "output_type": "execute_result",
          "data": {
            "text/plain": [
              "3"
            ]
          },
          "metadata": {
            "tags": []
          },
          "execution_count": 24
        }
      ]
    },
    {
      "cell_type": "code",
      "metadata": {
        "id": "G86ejk31UBFN"
      },
      "source": [
        "fact_bizare = genericRec(lisp.null, lambda x,y: x*y, 1)"
      ],
      "execution_count": null,
      "outputs": []
    },
    {
      "cell_type": "code",
      "metadata": {
        "colab": {
          "base_uri": "https://localhost:8080/"
        },
        "id": "6EJ3ukPmfMua",
        "outputId": "e912a750-d76d-443a-ec8a-cf7ec48593f9"
      },
      "source": [
        "list(range(1,4))"
      ],
      "execution_count": null,
      "outputs": [
        {
          "output_type": "execute_result",
          "data": {
            "text/plain": [
              "[1, 2, 3]"
            ]
          },
          "metadata": {
            "tags": []
          },
          "execution_count": 25
        }
      ]
    },
    {
      "cell_type": "code",
      "metadata": {
        "colab": {
          "base_uri": "https://localhost:8080/"
        },
        "id": "m6mILC-CUTJ9",
        "outputId": "0a65820f-c112-4b52-ae75-7525cad1bd9e"
      },
      "source": [
        "#fact(3) ... pourquoi?\n",
        "fact_bizare(range(1,6))"
      ],
      "execution_count": null,
      "outputs": [
        {
          "output_type": "execute_result",
          "data": {
            "text/plain": [
              "120"
            ]
          },
          "metadata": {
            "tags": []
          },
          "execution_count": 29
        }
      ]
    }
  ]
}