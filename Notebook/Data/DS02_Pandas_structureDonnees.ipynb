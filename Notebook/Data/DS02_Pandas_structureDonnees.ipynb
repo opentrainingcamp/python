{
  "nbformat": 4,
  "nbformat_minor": 0,
  "metadata": {
    "colab": {
      "name": "DS02_Pandas_structureDonnees.ipynb",
      "provenance": [],
      "collapsed_sections": [],
      "include_colab_link": true
    },
    "kernelspec": {
      "name": "python3",
      "display_name": "Python 3"
    }
  },
  "cells": [
    {
      "cell_type": "markdown",
      "metadata": {
        "id": "view-in-github",
        "colab_type": "text"
      },
      "source": [
        "<a href=\"https://colab.research.google.com/github/opentrainingcamp/python/blob/main/Notebook/Data/DS02_Pandas_structureDonnees.ipynb\" target=\"_parent\"><img src=\"https://colab.research.google.com/assets/colab-badge.svg\" alt=\"Open In Colab\"/></a>"
      ]
    },
    {
      "cell_type": "markdown",
      "metadata": {
        "id": "OQFGoTYtN10R"
      },
      "source": [
        "# Apprendre à connaître les structures de données de Pandas\n",
        "\n"
      ]
    },
    {
      "cell_type": "code",
      "metadata": {
        "id": "J7aY4mTHAfgj"
      },
      "source": [
        ""
      ],
      "execution_count": null,
      "outputs": []
    },
    {
      "cell_type": "markdown",
      "metadata": {
        "id": "cj_Zu7AfOarq"
      },
      "source": [
        "Alors qu'un DataFrame fournit des fonctions qui peuvent sembler assez intuitives, les concepts sous-jacents sont un peu plus difficiles à comprendre. Pour cette raison, vous allez mettre de côté le vaste NBA DataFrame et créer des objets Pandas plus petits à partir de zéro.\n",
        "\n",
        "## Comprendre les objets de série\n",
        "La structure de données la plus élémentaire de Python est la liste, qui est également un bon point de départ pour apprendre à connaître les objets `pandas.Series`. Créez un nouvel objet Series basé sur une liste:"
      ]
    },
    {
      "cell_type": "code",
      "metadata": {
        "id": "xjfHVxyuq2Rq"
      },
      "source": [
        "l = ['a' , 1, 'toto']"
      ],
      "execution_count": null,
      "outputs": []
    },
    {
      "cell_type": "code",
      "metadata": {
        "colab": {
          "base_uri": "https://localhost:8080/",
          "height": 35
        },
        "id": "vnkpFIgMrBp6",
        "outputId": "f92f0d60-1ac3-42d5-9bfc-dffd56b11b67"
      },
      "source": [
        "l[2]"
      ],
      "execution_count": null,
      "outputs": [
        {
          "output_type": "execute_result",
          "data": {
            "application/vnd.google.colaboratory.intrinsic+json": {
              "type": "string"
            },
            "text/plain": [
              "'toto'"
            ]
          },
          "metadata": {},
          "execution_count": 20
        }
      ]
    },
    {
      "cell_type": "code",
      "metadata": {
        "id": "YIPAsoU9rK3n"
      },
      "source": [
        "d = { 'cle': '2', 3: 10, 'x':4}"
      ],
      "execution_count": null,
      "outputs": []
    },
    {
      "cell_type": "code",
      "metadata": {
        "colab": {
          "base_uri": "https://localhost:8080/",
          "height": 35
        },
        "id": "piZke6FqrWmk",
        "outputId": "e3cdabd2-daa6-4efe-c919-331c291df02f"
      },
      "source": [
        "d['cle']"
      ],
      "execution_count": null,
      "outputs": [
        {
          "output_type": "execute_result",
          "data": {
            "application/vnd.google.colaboratory.intrinsic+json": {
              "type": "string"
            },
            "text/plain": [
              "'2'"
            ]
          },
          "metadata": {},
          "execution_count": 22
        }
      ]
    },
    {
      "cell_type": "code",
      "metadata": {
        "colab": {
          "base_uri": "https://localhost:8080/"
        },
        "id": "PtE_9qhWrbWj",
        "outputId": "8ec51577-54aa-4b92-8a2f-e88ebc7faa97"
      },
      "source": [
        "d[3]"
      ],
      "execution_count": null,
      "outputs": [
        {
          "output_type": "execute_result",
          "data": {
            "text/plain": [
              "10"
            ]
          },
          "metadata": {},
          "execution_count": 23
        }
      ]
    },
    {
      "cell_type": "code",
      "metadata": {
        "id": "KLDpkQodrgxw"
      },
      "source": [
        "d['newdata'] = {'x':1, 'y': 2}"
      ],
      "execution_count": null,
      "outputs": []
    },
    {
      "cell_type": "code",
      "metadata": {
        "colab": {
          "base_uri": "https://localhost:8080/"
        },
        "id": "_GordGSCrvJd",
        "outputId": "885cdc32-7398-4280-d4bf-2830476fa7c3"
      },
      "source": [
        "d"
      ],
      "execution_count": null,
      "outputs": [
        {
          "output_type": "execute_result",
          "data": {
            "text/plain": [
              "{3: 10, 'cle': '2', 'newdata': {'x': 1, 'y': 2}, 'x': 4}"
            ]
          },
          "metadata": {},
          "execution_count": 25
        }
      ]
    },
    {
      "cell_type": "code",
      "metadata": {
        "colab": {
          "base_uri": "https://localhost:8080/"
        },
        "id": "BnfHzuc9sMUk",
        "outputId": "eada9aba-8b2e-45ad-fdb1-737538a46e1f"
      },
      "source": [
        "d['newdata']"
      ],
      "execution_count": null,
      "outputs": [
        {
          "output_type": "execute_result",
          "data": {
            "text/plain": [
              "{'x': 1, 'y': 2}"
            ]
          },
          "metadata": {},
          "execution_count": 26
        }
      ]
    },
    {
      "cell_type": "code",
      "metadata": {
        "colab": {
          "base_uri": "https://localhost:8080/"
        },
        "id": "VM9KSnomOjiA",
        "outputId": "c41f6eb4-bfd4-466f-d468-10b6d0181627"
      },
      "source": [
        "import pandas as pd\n",
        "revenues = pd.Series([5555, 7000, 1980])\n",
        "revenues"
      ],
      "execution_count": null,
      "outputs": [
        {
          "output_type": "execute_result",
          "data": {
            "text/plain": [
              "0    5555\n",
              "1    7000\n",
              "2    1980\n",
              "dtype: int64"
            ]
          },
          "metadata": {},
          "execution_count": 27
        }
      ]
    },
    {
      "cell_type": "markdown",
      "metadata": {
        "id": "bqomrqR3OucN"
      },
      "source": [
        "Vous avez utilisé la liste [5555, 7000, 1980] pour créer un objet Série appelé revenus. Un objet Series encapsule deux composants:\n",
        "\n",
        "* Une séquence de valeurs\n",
        "* Une séquence d'identifiants, qui est l'index\n",
        "\n",
        "Vous pouvez accéder à ces composants avec .values et .index, respectivement:"
      ]
    },
    {
      "cell_type": "code",
      "metadata": {
        "colab": {
          "base_uri": "https://localhost:8080/"
        },
        "id": "3t2TTA1uO254",
        "outputId": "5fb13be8-f649-4702-8853-f8ddb6ef06db"
      },
      "source": [
        "print(revenues.index,revenues.values)"
      ],
      "execution_count": null,
      "outputs": [
        {
          "output_type": "stream",
          "name": "stdout",
          "text": [
            "RangeIndex(start=0, stop=3, step=1) [5555 7000 1980]\n"
          ]
        }
      ]
    },
    {
      "cell_type": "code",
      "metadata": {
        "colab": {
          "base_uri": "https://localhost:8080/"
        },
        "id": "uMF1s49gPEsN",
        "outputId": "3073b6a9-fdc8-40df-f475-838c8b10581f"
      },
      "source": [
        "type(revenues.values)"
      ],
      "execution_count": null,
      "outputs": [
        {
          "output_type": "execute_result",
          "data": {
            "text/plain": [
              "numpy.ndarray"
            ]
          },
          "metadata": {},
          "execution_count": 29
        }
      ]
    },
    {
      "cell_type": "markdown",
      "metadata": {
        "id": "nX84Msm8PdRQ"
      },
      "source": [
        "Alors que Pandas s'appuie sur NumPy, une différence significative réside dans leur indexation. Tout comme un tableau NumPy, une série Pandas possède également un index entier défini implicitement. Cet index implicite indique la position de l'élément dans la série.\n",
        "\n",
        "Cependant, une série peut également avoir un type d'index arbitraire. Vous pouvez considérer cet index explicite comme des étiquettes pour une ligne spécifique:"
      ]
    },
    {
      "cell_type": "code",
      "metadata": {
        "colab": {
          "base_uri": "https://localhost:8080/"
        },
        "id": "GTCICfXfPloG",
        "outputId": "1e5fafdd-3150-404a-866d-60b615ecc3a0"
      },
      "source": [
        "city_revenues = pd.Series(\n",
        "    [4200, 8000, 6500],\n",
        "    index=[\"Amsterdam\", \"Toronto\", \"Tokyo\"]\n",
        ")\n",
        "# SQL : insert (\"Amsterdam\", \"Toronto\", \"Tokyo\") into city_r  values  (4200, 8000, 6500)\n",
        "print(city_revenues.index,city_revenues.values)"
      ],
      "execution_count": null,
      "outputs": [
        {
          "output_type": "stream",
          "name": "stdout",
          "text": [
            "Index(['Amsterdam', 'Toronto', 'Tokyo'], dtype='object') [4200 8000 6500]\n"
          ]
        }
      ]
    },
    {
      "cell_type": "markdown",
      "metadata": {
        "id": "3egk4hs-PvRd"
      },
      "source": [
        "En fait un mode de référencement par clé:valeur"
      ]
    },
    {
      "cell_type": "code",
      "metadata": {
        "colab": {
          "base_uri": "https://localhost:8080/"
        },
        "id": "tGLzee41PufM",
        "outputId": "4a1a4105-8ddf-4929-c331-157152daa774"
      },
      "source": [
        "city_revenues"
      ],
      "execution_count": null,
      "outputs": [
        {
          "output_type": "execute_result",
          "data": {
            "text/plain": [
              "Amsterdam    4200\n",
              "Toronto      8000\n",
              "Tokyo        6500\n",
              "dtype: int64"
            ]
          },
          "metadata": {},
          "execution_count": 31
        }
      ]
    },
    {
      "cell_type": "markdown",
      "metadata": {
        "id": "e2hyqEVLQIp2"
      },
      "source": [
        "On peu utiliser les dictionnaire de Python pour initialiser une Serie"
      ]
    },
    {
      "cell_type": "code",
      "metadata": {
        "colab": {
          "base_uri": "https://localhost:8080/"
        },
        "id": "kA2KYrtlQGZL",
        "outputId": "b4214fa3-91d8-40c5-c9e3-da31af868412"
      },
      "source": [
        "city_employee_count = pd.Series({\"Amsterdam\": 5, \"Tokyo\": 8})\n",
        "city_employee_count"
      ],
      "execution_count": null,
      "outputs": [
        {
          "output_type": "execute_result",
          "data": {
            "text/plain": [
              "Amsterdam    5\n",
              "Tokyo        8\n",
              "dtype: int64"
            ]
          },
          "metadata": {},
          "execution_count": 32
        }
      ]
    },
    {
      "cell_type": "markdown",
      "metadata": {
        "id": "ewIPf9zdQgHg"
      },
      "source": [
        "Les clés du dictionnaire deviennent l'index et les valeurs du dictionnaire sont les valeurs Series.\n",
        "\n",
        "Tout comme les dictionnaires, Series prend également en charge .keys () et le mot-clé in:"
      ]
    },
    {
      "cell_type": "code",
      "metadata": {
        "colab": {
          "base_uri": "https://localhost:8080/"
        },
        "id": "pJU2zsa5QfUl",
        "outputId": "4210a559-c903-43fc-bd74-d3ac6da8da3a"
      },
      "source": [
        "print(city_employee_count.keys(),city_employee_count.values,city_employee_count.index)"
      ],
      "execution_count": null,
      "outputs": [
        {
          "output_type": "stream",
          "name": "stdout",
          "text": [
            "Index(['Amsterdam', 'Tokyo'], dtype='object') [5 8] Index(['Amsterdam', 'Tokyo'], dtype='object')\n"
          ]
        }
      ]
    },
    {
      "cell_type": "markdown",
      "metadata": {
        "id": "ZWdtsbeJSH1g"
      },
      "source": [
        "# Comprendre les objets DataFrame\n",
        "Bien qu'une série soit une structure de données assez puissante, elle a ses limites. Par exemple, vous ne pouvez stocker qu'un seul attribut par clé. Comme vous l’avez vu avec l’ensemble de données nba, qui comprend 23 colonnes, la bibliothèque Pandas Python a plus à offrir avec son DataFrame. Cette structure de données est une séquence d'objets Series qui partagent le même index.\n",
        "\n",
        "Si vous avez suivi les exemples de séries, vous devriez déjà avoir deux objets de série avec des villes comme clés:\n",
        "\n",
        "* city_revenues\n",
        "* city_employee_count\n",
        "\n",
        "\n",
        "Vous pouvez combiner ces objets dans un DataFrame en fournissant un dictionnaire dans le constructeur. Les clés du dictionnaire deviendront les noms de colonne et les valeurs doivent contenir les objets Series:"
      ]
    },
    {
      "cell_type": "code",
      "metadata": {
        "colab": {
          "base_uri": "https://localhost:8080/"
        },
        "id": "wgQ1efKJSq6g",
        "outputId": "acd414be-85c1-408a-80f5-22cc7daec75c"
      },
      "source": [
        "print('revenues', city_revenues,'employé', city_employee_count, sep='\\n----\\n')"
      ],
      "execution_count": null,
      "outputs": [
        {
          "output_type": "stream",
          "name": "stdout",
          "text": [
            "revenues\n",
            "----\n",
            "Amsterdam    4200\n",
            "Toronto      8000\n",
            "Tokyo        6500\n",
            "dtype: int64\n",
            "----\n",
            "employé\n",
            "----\n",
            "Amsterdam    5\n",
            "Tokyo        8\n",
            "dtype: int64\n"
          ]
        }
      ]
    },
    {
      "cell_type": "markdown",
      "metadata": {
        "id": "i7Y_AjZpTNtc"
      },
      "source": [
        ""
      ]
    },
    {
      "cell_type": "code",
      "metadata": {
        "colab": {
          "base_uri": "https://localhost:8080/",
          "height": 143
        },
        "id": "sewr7BmZTJu0",
        "outputId": "2a12be76-04df-4302-969c-dab2c0800fe9"
      },
      "source": [
        "city_data = pd.DataFrame({\n",
        "    \"revenue\": city_revenues,\n",
        "    \"employee_count\": city_employee_count\n",
        "})\n",
        "city_data"
      ],
      "execution_count": null,
      "outputs": [
        {
          "output_type": "execute_result",
          "data": {
            "text/html": [
              "\n",
              "  <div id=\"df-09b068fc-1580-42a8-be62-bb6f8e47e814\">\n",
              "    <div class=\"colab-df-container\">\n",
              "      <div>\n",
              "<style scoped>\n",
              "    .dataframe tbody tr th:only-of-type {\n",
              "        vertical-align: middle;\n",
              "    }\n",
              "\n",
              "    .dataframe tbody tr th {\n",
              "        vertical-align: top;\n",
              "    }\n",
              "\n",
              "    .dataframe thead th {\n",
              "        text-align: right;\n",
              "    }\n",
              "</style>\n",
              "<table border=\"1\" class=\"dataframe\">\n",
              "  <thead>\n",
              "    <tr style=\"text-align: right;\">\n",
              "      <th></th>\n",
              "      <th>revenue</th>\n",
              "      <th>employee_count</th>\n",
              "    </tr>\n",
              "  </thead>\n",
              "  <tbody>\n",
              "    <tr>\n",
              "      <th>Amsterdam</th>\n",
              "      <td>4200</td>\n",
              "      <td>5.0</td>\n",
              "    </tr>\n",
              "    <tr>\n",
              "      <th>Tokyo</th>\n",
              "      <td>6500</td>\n",
              "      <td>8.0</td>\n",
              "    </tr>\n",
              "    <tr>\n",
              "      <th>Toronto</th>\n",
              "      <td>8000</td>\n",
              "      <td>NaN</td>\n",
              "    </tr>\n",
              "  </tbody>\n",
              "</table>\n",
              "</div>\n",
              "      <button class=\"colab-df-convert\" onclick=\"convertToInteractive('df-09b068fc-1580-42a8-be62-bb6f8e47e814')\"\n",
              "              title=\"Convert this dataframe to an interactive table.\"\n",
              "              style=\"display:none;\">\n",
              "        \n",
              "  <svg xmlns=\"http://www.w3.org/2000/svg\" height=\"24px\"viewBox=\"0 0 24 24\"\n",
              "       width=\"24px\">\n",
              "    <path d=\"M0 0h24v24H0V0z\" fill=\"none\"/>\n",
              "    <path d=\"M18.56 5.44l.94 2.06.94-2.06 2.06-.94-2.06-.94-.94-2.06-.94 2.06-2.06.94zm-11 1L8.5 8.5l.94-2.06 2.06-.94-2.06-.94L8.5 2.5l-.94 2.06-2.06.94zm10 10l.94 2.06.94-2.06 2.06-.94-2.06-.94-.94-2.06-.94 2.06-2.06.94z\"/><path d=\"M17.41 7.96l-1.37-1.37c-.4-.4-.92-.59-1.43-.59-.52 0-1.04.2-1.43.59L10.3 9.45l-7.72 7.72c-.78.78-.78 2.05 0 2.83L4 21.41c.39.39.9.59 1.41.59.51 0 1.02-.2 1.41-.59l7.78-7.78 2.81-2.81c.8-.78.8-2.07 0-2.86zM5.41 20L4 18.59l7.72-7.72 1.47 1.35L5.41 20z\"/>\n",
              "  </svg>\n",
              "      </button>\n",
              "      \n",
              "  <style>\n",
              "    .colab-df-container {\n",
              "      display:flex;\n",
              "      flex-wrap:wrap;\n",
              "      gap: 12px;\n",
              "    }\n",
              "\n",
              "    .colab-df-convert {\n",
              "      background-color: #E8F0FE;\n",
              "      border: none;\n",
              "      border-radius: 50%;\n",
              "      cursor: pointer;\n",
              "      display: none;\n",
              "      fill: #1967D2;\n",
              "      height: 32px;\n",
              "      padding: 0 0 0 0;\n",
              "      width: 32px;\n",
              "    }\n",
              "\n",
              "    .colab-df-convert:hover {\n",
              "      background-color: #E2EBFA;\n",
              "      box-shadow: 0px 1px 2px rgba(60, 64, 67, 0.3), 0px 1px 3px 1px rgba(60, 64, 67, 0.15);\n",
              "      fill: #174EA6;\n",
              "    }\n",
              "\n",
              "    [theme=dark] .colab-df-convert {\n",
              "      background-color: #3B4455;\n",
              "      fill: #D2E3FC;\n",
              "    }\n",
              "\n",
              "    [theme=dark] .colab-df-convert:hover {\n",
              "      background-color: #434B5C;\n",
              "      box-shadow: 0px 1px 3px 1px rgba(0, 0, 0, 0.15);\n",
              "      filter: drop-shadow(0px 1px 2px rgba(0, 0, 0, 0.3));\n",
              "      fill: #FFFFFF;\n",
              "    }\n",
              "  </style>\n",
              "\n",
              "      <script>\n",
              "        const buttonEl =\n",
              "          document.querySelector('#df-09b068fc-1580-42a8-be62-bb6f8e47e814 button.colab-df-convert');\n",
              "        buttonEl.style.display =\n",
              "          google.colab.kernel.accessAllowed ? 'block' : 'none';\n",
              "\n",
              "        async function convertToInteractive(key) {\n",
              "          const element = document.querySelector('#df-09b068fc-1580-42a8-be62-bb6f8e47e814');\n",
              "          const dataTable =\n",
              "            await google.colab.kernel.invokeFunction('convertToInteractive',\n",
              "                                                     [key], {});\n",
              "          if (!dataTable) return;\n",
              "\n",
              "          const docLinkHtml = 'Like what you see? Visit the ' +\n",
              "            '<a target=\"_blank\" href=https://colab.research.google.com/notebooks/data_table.ipynb>data table notebook</a>'\n",
              "            + ' to learn more about interactive tables.';\n",
              "          element.innerHTML = '';\n",
              "          dataTable['output_type'] = 'display_data';\n",
              "          await google.colab.output.renderOutput(dataTable, element);\n",
              "          const docLink = document.createElement('div');\n",
              "          docLink.innerHTML = docLinkHtml;\n",
              "          element.appendChild(docLink);\n",
              "        }\n",
              "      </script>\n",
              "    </div>\n",
              "  </div>\n",
              "  "
            ],
            "text/plain": [
              "           revenue  employee_count\n",
              "Amsterdam     4200             5.0\n",
              "Tokyo         6500             8.0\n",
              "Toronto       8000             NaN"
            ]
          },
          "metadata": {},
          "execution_count": 35
        }
      ]
    },
    {
      "cell_type": "markdown",
      "metadata": {
        "id": "Oj2Q44oKTck-"
      },
      "source": [
        "Reamarque ce qui se passe pour Torento"
      ]
    },
    {
      "cell_type": "code",
      "metadata": {
        "colab": {
          "base_uri": "https://localhost:8080/"
        },
        "id": "LoDLz9SNTk_T",
        "outputId": "8489a120-b001-44ea-8381-e1948093d815"
      },
      "source": [
        "city_data.index"
      ],
      "execution_count": null,
      "outputs": [
        {
          "output_type": "execute_result",
          "data": {
            "text/plain": [
              "Index(['Amsterdam', 'Tokyo', 'Toronto'], dtype='object')"
            ]
          },
          "metadata": {},
          "execution_count": 36
        }
      ]
    },
    {
      "cell_type": "code",
      "metadata": {
        "colab": {
          "base_uri": "https://localhost:8080/"
        },
        "id": "A7-0xhmtU1CY",
        "outputId": "ea7d6d5c-d0d4-4052-9fe7-592b93d79ab8"
      },
      "source": [
        "city_data.values"
      ],
      "execution_count": null,
      "outputs": [
        {
          "output_type": "execute_result",
          "data": {
            "text/plain": [
              "array([[4.2e+03, 5.0e+00],\n",
              "       [6.5e+03, 8.0e+00],\n",
              "       [8.0e+03,     nan]])"
            ]
          },
          "metadata": {},
          "execution_count": 37
        }
      ]
    },
    {
      "cell_type": "markdown",
      "metadata": {
        "id": "idDqoCbNU-NU"
      },
      "source": [
        "On peut également désigner les 2 dimensions d'un DataFrame comme des axes:"
      ]
    },
    {
      "cell_type": "code",
      "metadata": {
        "colab": {
          "base_uri": "https://localhost:8080/"
        },
        "id": "9mkfZ8W8VAhG",
        "outputId": "5fbb9590-88ec-47c9-8923-e7e00b7b7114"
      },
      "source": [
        "print(city_data.axes)\n",
        "print(city_data.axes[0],city_data.axes[1])"
      ],
      "execution_count": null,
      "outputs": [
        {
          "output_type": "stream",
          "name": "stdout",
          "text": [
            "[Index(['Amsterdam', 'Tokyo', 'Toronto'], dtype='object'), Index(['revenue', 'employee_count'], dtype='object')]\n",
            "Index(['Amsterdam', 'Tokyo', 'Toronto'], dtype='object') Index(['revenue', 'employee_count'], dtype='object')\n"
          ]
        }
      ]
    },
    {
      "cell_type": "markdown",
      "metadata": {
        "id": "txGfqyWHVaSW"
      },
      "source": [
        "Un DataFrame est également une structure de données de type dictionnaire, il prend donc également en charge .keys () et le mot clé in. Cependant, pour un DataFrame, ceux-ci ne sont pas liés à l'index, mais aux colonnes:"
      ]
    },
    {
      "cell_type": "code",
      "metadata": {
        "colab": {
          "base_uri": "https://localhost:8080/"
        },
        "id": "Ojjc8iz3VeUI",
        "outputId": "4ea3bcf9-ac5b-41c7-ed9f-db219345a193"
      },
      "source": [
        "city_data.keys()"
      ],
      "execution_count": null,
      "outputs": [
        {
          "output_type": "execute_result",
          "data": {
            "text/plain": [
              "Index(['revenue', 'employee_count'], dtype='object')"
            ]
          },
          "metadata": {},
          "execution_count": 39
        }
      ]
    },
    {
      "cell_type": "markdown",
      "metadata": {
        "id": "P7YkaH3-V6Uo"
      },
      "source": [
        "### Revenons à notre exemple nba"
      ]
    },
    {
      "cell_type": "code",
      "metadata": {
        "colab": {
          "base_uri": "https://localhost:8080/"
        },
        "id": "1YJy8bqFV3Vr",
        "outputId": "2ca213b3-d23f-4f81-e365-0e4697c2bcff"
      },
      "source": [
        "nba = pd.read_csv('https://github.com/fivethirtyeight/data/raw/master/nba-elo/nbaallelo.csv')\n",
        "type(nba)"
      ],
      "execution_count": null,
      "outputs": [
        {
          "output_type": "execute_result",
          "data": {
            "text/plain": [
              "pandas.core.frame.DataFrame"
            ]
          },
          "metadata": {},
          "execution_count": 40
        }
      ]
    },
    {
      "cell_type": "code",
      "metadata": {
        "colab": {
          "base_uri": "https://localhost:8080/"
        },
        "id": "VOmKRUyHWH0F",
        "outputId": "14c6b704-1065-426e-c53a-b92ca4776f57"
      },
      "source": [
        "nba.index"
      ],
      "execution_count": null,
      "outputs": [
        {
          "output_type": "execute_result",
          "data": {
            "text/plain": [
              "RangeIndex(start=0, stop=126314, step=1)"
            ]
          },
          "metadata": {},
          "execution_count": 41
        }
      ]
    },
    {
      "cell_type": "code",
      "metadata": {
        "colab": {
          "base_uri": "https://localhost:8080/"
        },
        "id": "N7I2Fg_qWMCk",
        "outputId": "0345073b-7615-4c5c-c3ed-2a29466c73f4"
      },
      "source": [
        "nba.axes"
      ],
      "execution_count": null,
      "outputs": [
        {
          "output_type": "execute_result",
          "data": {
            "text/plain": [
              "[RangeIndex(start=0, stop=126314, step=1),\n",
              " Index(['gameorder', 'game_id', 'lg_id', '_iscopy', 'year_id', 'date_game',\n",
              "        'seasongame', 'is_playoffs', 'team_id', 'fran_id', 'pts', 'elo_i',\n",
              "        'elo_n', 'win_equiv', 'opp_id', 'opp_fran', 'opp_pts', 'opp_elo_i',\n",
              "        'opp_elo_n', 'game_location', 'game_result', 'forecast', 'notes'],\n",
              "       dtype='object')]"
            ]
          },
          "metadata": {},
          "execution_count": 42
        }
      ]
    },
    {
      "cell_type": "code",
      "metadata": {
        "colab": {
          "base_uri": "https://localhost:8080/"
        },
        "id": "zJlS6KEnWgGI",
        "outputId": "e22f2203-e572-4ba8-8ec2-359208cf2b4c"
      },
      "source": [
        "nba.keys()"
      ],
      "execution_count": null,
      "outputs": [
        {
          "output_type": "execute_result",
          "data": {
            "text/plain": [
              "Index(['gameorder', 'game_id', 'lg_id', '_iscopy', 'year_id', 'date_game',\n",
              "       'seasongame', 'is_playoffs', 'team_id', 'fran_id', 'pts', 'elo_i',\n",
              "       'elo_n', 'win_equiv', 'opp_id', 'opp_fran', 'opp_pts', 'opp_elo_i',\n",
              "       'opp_elo_n', 'game_location', 'game_result', 'forecast', 'notes'],\n",
              "      dtype='object')"
            ]
          },
          "metadata": {},
          "execution_count": 43
        }
      ]
    },
    {
      "cell_type": "markdown",
      "metadata": {
        "id": "64H7-ScgWi6d"
      },
      "source": [
        "Lorsque vous utilisez ces méthodes pour répondre à des questions sur votre ensemble de données, assurez-vous de garder à l'esprit si vous travaillez avec une série ou un DataFrame afin que votre interprétation soit précise."
      ]
    },
    {
      "cell_type": "markdown",
      "metadata": {
        "id": "HXvFQ3C0WjyQ"
      },
      "source": [
        "## Accès aux éléments de la série\n",
        "Dans la section ci-dessus, vous avez créé une série Pandas basée sur une liste Python et comparé les deux structures de données. Vous avez vu comment un objet Series est similaire à des listes et des dictionnaires de plusieurs manières. Une autre similitude est que vous pouvez également utiliser l'opérateur d'indexation ([]) pour Series.\n",
        "\n",
        "Vous apprendrez également à utiliser deux méthodes d'accès spécifiques à Pandas:\n",
        "\n",
        "* .loc\n",
        "* .iloc\n",
        "\n",
        "Vous verrez que ces méthodes d'accès aux données peuvent être beaucoup plus lisibles que l'opérateur d'indexation.\n",
        "\n",
        "### Utilisation de l'opérateur d'indexation\n",
        "Rappelez-vous qu'une série a deux indices:\n",
        "\n",
        "1. Un index positionnel ou implicite, qui est toujours un RangeIndex\n",
        "2. Une étiquette ou un index explicite, qui peut contenir tous les objets hachables\n",
        "\n",
        "Ensuite, revisitez l'objet city_revenues:"
      ]
    },
    {
      "cell_type": "code",
      "metadata": {
        "colab": {
          "base_uri": "https://localhost:8080/"
        },
        "id": "rCKp8sjVW8HY",
        "outputId": "00c453da-091b-4cfb-85e9-5a6031e46151"
      },
      "source": [
        "city_revenues"
      ],
      "execution_count": null,
      "outputs": [
        {
          "output_type": "execute_result",
          "data": {
            "text/plain": [
              "Amsterdam    4200\n",
              "Toronto      8000\n",
              "Tokyo        6500\n",
              "dtype: int64"
            ]
          },
          "metadata": {},
          "execution_count": 44
        }
      ]
    },
    {
      "cell_type": "code",
      "metadata": {
        "colab": {
          "base_uri": "https://localhost:8080/"
        },
        "id": "CIJqpnzFXG3g",
        "outputId": "570beb42-4511-44fe-d761-1857c71052f9"
      },
      "source": [
        "city_revenues['Amsterdam']"
      ],
      "execution_count": null,
      "outputs": [
        {
          "output_type": "execute_result",
          "data": {
            "text/plain": [
              "4200"
            ]
          },
          "metadata": {},
          "execution_count": 45
        }
      ]
    },
    {
      "cell_type": "code",
      "metadata": {
        "colab": {
          "base_uri": "https://localhost:8080/"
        },
        "id": "vLIVOiDkXK9l",
        "outputId": "998738a4-c316-41b2-c26d-2857dfb46c43"
      },
      "source": [
        "city_revenues[0]"
      ],
      "execution_count": null,
      "outputs": [
        {
          "output_type": "execute_result",
          "data": {
            "text/plain": [
              "4200"
            ]
          },
          "metadata": {},
          "execution_count": 46
        }
      ]
    },
    {
      "cell_type": "code",
      "metadata": {
        "colab": {
          "base_uri": "https://localhost:8080/"
        },
        "id": "MR5HdK8wXT8L",
        "outputId": "7cc53303-1a02-408c-93a8-2f1ba974d679"
      },
      "source": [
        "# Vous pouvez également utiliser des indices et des tranches négatifs, comme vous le feriez pour une liste:\n",
        "city_revenues[-1]"
      ],
      "execution_count": null,
      "outputs": [
        {
          "output_type": "execute_result",
          "data": {
            "text/plain": [
              "6500"
            ]
          },
          "metadata": {},
          "execution_count": 47
        }
      ]
    },
    {
      "cell_type": "code",
      "metadata": {
        "colab": {
          "base_uri": "https://localhost:8080/"
        },
        "id": "g9yCj_UHXbwF",
        "outputId": "3741d08b-821d-4064-d6e6-e61cb076dc8b"
      },
      "source": [
        "city_revenues[1:]"
      ],
      "execution_count": null,
      "outputs": [
        {
          "output_type": "execute_result",
          "data": {
            "text/plain": [
              "Toronto    8000\n",
              "Tokyo      6500\n",
              "dtype: int64"
            ]
          },
          "metadata": {},
          "execution_count": 48
        }
      ]
    },
    {
      "cell_type": "code",
      "metadata": {
        "id": "-zDYCb6OXhuW",
        "outputId": "a6cbc740-83c1-4056-ea36-3d7ea6ebc351",
        "colab": {
          "base_uri": "https://localhost:8080/"
        }
      },
      "source": [
        "city_revenues[\"Toronto\":]\n"
      ],
      "execution_count": null,
      "outputs": [
        {
          "output_type": "execute_result",
          "data": {
            "text/plain": [
              "Toronto    8000\n",
              "Tokyo      6500\n",
              "dtype: int64"
            ]
          },
          "metadata": {},
          "execution_count": 49
        }
      ]
    },
    {
      "cell_type": "markdown",
      "metadata": {
        "id": "-44XgvRDmaLI"
      },
      "source": [
        "### utilisation loc et iloc\n",
        "L'opérateur d'indexation ([]) est pratique, mais il y a une mise en garde. Et si les étiquettes sont également des nombres? Supposons que vous deviez travailler avec un objet Series comme celui-ci:"
      ]
    },
    {
      "cell_type": "code",
      "metadata": {
        "colab": {
          "base_uri": "https://localhost:8080/"
        },
        "id": "VB5A-X1jmzf9",
        "outputId": "a55133f3-c83f-4e37-9bb2-503851b7359d"
      },
      "source": [
        "import pandas as pd\n",
        "colors = pd.Series(\n",
        "    [\"red\", \"purple\", \"blue\", \"green\", \"yellow\"],\n",
        "    index=[1, 2, 3, 5, 8]\n",
        ")\n",
        "colors"
      ],
      "execution_count": null,
      "outputs": [
        {
          "output_type": "execute_result",
          "data": {
            "text/plain": [
              "1       red\n",
              "2    purple\n",
              "3      blue\n",
              "5     green\n",
              "8    yellow\n",
              "dtype: object"
            ]
          },
          "metadata": {},
          "execution_count": 50
        }
      ]
    },
    {
      "cell_type": "markdown",
      "metadata": {
        "id": "fhZE46A3nENK"
      },
      "source": [
        "Que reviendront les coulor[1]? Pour un index positionnel, les coulor[1] sont \"purple\". Cependant, si vous passez par l'index des étiquettes, alors colors[1] fait référence au \"rouge\".\n",
        "\n",
        "La bonne nouvelle est que vous n’avez pas à le découvrir! Au lieu de cela, pour éviter toute confusion, la bibliothèque Pandas Python fournit deux méthodes d'accès aux données:\n",
        "\n",
        "1. .loc fait référence à l'index de l'étiquette (la clé).\n",
        "2. .iloc fait référence à l'index de position.\n",
        "\n",
        "Ces méthodes d'accès aux données sont beaucoup plus lisibles:"
      ]
    },
    {
      "cell_type": "code",
      "metadata": {
        "colab": {
          "base_uri": "https://localhost:8080/"
        },
        "id": "6HrTO0AJnefe",
        "outputId": "a02da813-ed31-4dea-f786-56e9ca7fc200"
      },
      "source": [
        "print(colors)\n",
        "print(f'loc[1]={colors.loc[1]}, iloc[1]={colors.iloc[1]}')"
      ],
      "execution_count": null,
      "outputs": [
        {
          "output_type": "stream",
          "name": "stdout",
          "text": [
            "1       red\n",
            "2    purple\n",
            "3      blue\n",
            "5     green\n",
            "8    yellow\n",
            "dtype: object\n",
            "loc[1]=red, iloc[1]=purple\n"
          ]
        }
      ]
    },
    {
      "cell_type": "markdown",
      "metadata": {
        "id": "xK3TmLrdo05L"
      },
      "source": [
        "#### iloc position, loc clé\n",
        "![loc iloc](https://github.com/lipug/datascience/raw/main/pandasIntro/loc_iloc.png)"
      ]
    },
    {
      "cell_type": "markdown",
      "metadata": {
        "id": "-OtR4KRkqcxQ"
      },
      "source": [
        ".loc et .iloc prennent également en charge les fonctionnalités que vous attendez des opérateurs d'indexation, comme le découpage. Cependant, ces méthodes d'accès aux données présentent une différence importante. Alors que .iloc exclut l'élément de fermeture, .loc l'inclut. Jetez un œil à ce bloc de code:"
      ]
    },
    {
      "cell_type": "code",
      "metadata": {
        "colab": {
          "base_uri": "https://localhost:8080/"
        },
        "id": "i6JIb19gqeBH",
        "outputId": "3157e5f3-16e3-4c57-b7ae-5aec6a50c233"
      },
      "source": [
        "colors.loc[3:8]"
      ],
      "execution_count": null,
      "outputs": [
        {
          "output_type": "execute_result",
          "data": {
            "text/plain": [
              "3      blue\n",
              "5     green\n",
              "8    yellow\n",
              "dtype: object"
            ]
          },
          "metadata": {},
          "execution_count": 52
        }
      ]
    },
    {
      "cell_type": "code",
      "metadata": {
        "colab": {
          "base_uri": "https://localhost:8080/",
          "height": 35
        },
        "id": "woNiCBZfqmmv",
        "outputId": "d2f13405-34af-4a4a-cd30-f3a7b0f24c0c"
      },
      "source": [
        "#pas ceci\n",
        "# colors.loc[-1]\n",
        "\n",
        "# Mais cela\n",
        "colors.iloc[-1]"
      ],
      "execution_count": null,
      "outputs": [
        {
          "output_type": "execute_result",
          "data": {
            "application/vnd.google.colaboratory.intrinsic+json": {
              "type": "string"
            },
            "text/plain": [
              "'yellow'"
            ]
          },
          "metadata": {},
          "execution_count": 53
        }
      ]
    },
    {
      "cell_type": "markdown",
      "metadata": {
        "id": "j2itzPeRrAZi"
      },
      "source": [
        "# Accès aux éléments DataFrame (requêtes)\n",
        "\n",
        "Puisqu'un DataFrame se compose d'objets Series, vous pouvez utiliser les mêmes outils pour accéder à ses éléments. La différence cruciale est la dimension supplémentaire du DataFrame. Vous utiliserez l'opérateur d'indexation pour les colonnes et les méthodes d'accès .loc et .iloc sur les lignes.\n",
        "\n",
        "Utilisation de l'opérateur d'indexation\n",
        "Si vous considérez un DataFrame comme un dictionnaire dont les valeurs sont Series, alors il est logique que vous puissiez accéder à ses colonnes avec l'opérateur d'indexation:"
      ]
    },
    {
      "cell_type": "code",
      "metadata": {
        "id": "BTiMMdYRsCxr"
      },
      "source": [
        "city_revenues = pd.Series(\n",
        "    [4200, 8000, 6500],\n",
        "    index=[\"Amsterdam\", \"Toronto\", \"Tokyo\"]\n",
        ")\n",
        "\n",
        "city_employee_count = pd.Series({\"Amsterdam\": 5, \"Tokyo\": 8})\n",
        "\n",
        "city_data = pd.DataFrame({\n",
        "    \"revenue\": city_revenues,\n",
        "    \"employee_count\": city_employee_count\n",
        "})"
      ],
      "execution_count": null,
      "outputs": []
    },
    {
      "cell_type": "code",
      "metadata": {
        "colab": {
          "base_uri": "https://localhost:8080/"
        },
        "id": "XlY4AwKUsF1W",
        "outputId": "a7617711-aca1-4e7f-b6d3-fdbb0a4eea8d"
      },
      "source": [
        "city_data[\"revenue\"]"
      ],
      "execution_count": null,
      "outputs": [
        {
          "output_type": "execute_result",
          "data": {
            "text/plain": [
              "Amsterdam    4200\n",
              "Tokyo        6500\n",
              "Toronto      8000\n",
              "Name: revenue, dtype: int64"
            ]
          },
          "metadata": {},
          "execution_count": 55
        }
      ]
    },
    {
      "cell_type": "code",
      "metadata": {
        "colab": {
          "base_uri": "https://localhost:8080/"
        },
        "id": "KA3j94V2sJXi",
        "outputId": "57a49001-d80f-46f0-805b-6f6f401eb84b"
      },
      "source": [
        "type(city_data[\"revenue\"])"
      ],
      "execution_count": null,
      "outputs": [
        {
          "output_type": "execute_result",
          "data": {
            "text/plain": [
              "pandas.core.series.Series"
            ]
          },
          "metadata": {},
          "execution_count": 56
        }
      ]
    },
    {
      "cell_type": "markdown",
      "metadata": {
        "id": "Y68jayDQsUgJ"
      },
      "source": [
        "Ici, vous utilisez l'opérateur d'indexation pour sélectionner la colonne intitulée \"revenus\".\n",
        "\n",
        "INTERESSANT: Si le nom de la colonne est une chaîne, vous pouvez également utiliser un accès de style attribut avec la notation par points:"
      ]
    },
    {
      "cell_type": "code",
      "metadata": {
        "colab": {
          "base_uri": "https://localhost:8080/"
        },
        "id": "2CKI6ww-sT1h",
        "outputId": "cbab1dde-2713-4d61-e440-bff43b34f48a"
      },
      "source": [
        "city_data.revenue"
      ],
      "execution_count": null,
      "outputs": [
        {
          "output_type": "execute_result",
          "data": {
            "text/plain": [
              "Amsterdam    4200\n",
              "Tokyo        6500\n",
              "Toronto      8000\n",
              "Name: revenue, dtype: int64"
            ]
          },
          "metadata": {},
          "execution_count": 57
        }
      ]
    },
    {
      "cell_type": "code",
      "metadata": {
        "colab": {
          "base_uri": "https://localhost:8080/"
        },
        "id": "NiyK__OtsrI_",
        "outputId": "dd815513-3f09-4b12-b585-fcde82766a08"
      },
      "source": [
        "city_data.shape"
      ],
      "execution_count": null,
      "outputs": [
        {
          "output_type": "execute_result",
          "data": {
            "text/plain": [
              "(3, 2)"
            ]
          },
          "metadata": {},
          "execution_count": 58
        }
      ]
    },
    {
      "cell_type": "code",
      "metadata": {
        "colab": {
          "base_uri": "https://localhost:8080/",
          "height": 300
        },
        "id": "bpbUCLfxs2oS",
        "outputId": "8a63a5b5-a62c-459f-ff96-d5a8e2e377a0"
      },
      "source": [
        "city_data.describe()"
      ],
      "execution_count": null,
      "outputs": [
        {
          "output_type": "execute_result",
          "data": {
            "text/html": [
              "\n",
              "  <div id=\"df-270e6ab8-d210-4391-81f3-954e28ea5677\">\n",
              "    <div class=\"colab-df-container\">\n",
              "      <div>\n",
              "<style scoped>\n",
              "    .dataframe tbody tr th:only-of-type {\n",
              "        vertical-align: middle;\n",
              "    }\n",
              "\n",
              "    .dataframe tbody tr th {\n",
              "        vertical-align: top;\n",
              "    }\n",
              "\n",
              "    .dataframe thead th {\n",
              "        text-align: right;\n",
              "    }\n",
              "</style>\n",
              "<table border=\"1\" class=\"dataframe\">\n",
              "  <thead>\n",
              "    <tr style=\"text-align: right;\">\n",
              "      <th></th>\n",
              "      <th>revenue</th>\n",
              "      <th>employee_count</th>\n",
              "    </tr>\n",
              "  </thead>\n",
              "  <tbody>\n",
              "    <tr>\n",
              "      <th>count</th>\n",
              "      <td>3.000000</td>\n",
              "      <td>2.00000</td>\n",
              "    </tr>\n",
              "    <tr>\n",
              "      <th>mean</th>\n",
              "      <td>6233.333333</td>\n",
              "      <td>6.50000</td>\n",
              "    </tr>\n",
              "    <tr>\n",
              "      <th>std</th>\n",
              "      <td>1913.983629</td>\n",
              "      <td>2.12132</td>\n",
              "    </tr>\n",
              "    <tr>\n",
              "      <th>min</th>\n",
              "      <td>4200.000000</td>\n",
              "      <td>5.00000</td>\n",
              "    </tr>\n",
              "    <tr>\n",
              "      <th>25%</th>\n",
              "      <td>5350.000000</td>\n",
              "      <td>5.75000</td>\n",
              "    </tr>\n",
              "    <tr>\n",
              "      <th>50%</th>\n",
              "      <td>6500.000000</td>\n",
              "      <td>6.50000</td>\n",
              "    </tr>\n",
              "    <tr>\n",
              "      <th>75%</th>\n",
              "      <td>7250.000000</td>\n",
              "      <td>7.25000</td>\n",
              "    </tr>\n",
              "    <tr>\n",
              "      <th>max</th>\n",
              "      <td>8000.000000</td>\n",
              "      <td>8.00000</td>\n",
              "    </tr>\n",
              "  </tbody>\n",
              "</table>\n",
              "</div>\n",
              "      <button class=\"colab-df-convert\" onclick=\"convertToInteractive('df-270e6ab8-d210-4391-81f3-954e28ea5677')\"\n",
              "              title=\"Convert this dataframe to an interactive table.\"\n",
              "              style=\"display:none;\">\n",
              "        \n",
              "  <svg xmlns=\"http://www.w3.org/2000/svg\" height=\"24px\"viewBox=\"0 0 24 24\"\n",
              "       width=\"24px\">\n",
              "    <path d=\"M0 0h24v24H0V0z\" fill=\"none\"/>\n",
              "    <path d=\"M18.56 5.44l.94 2.06.94-2.06 2.06-.94-2.06-.94-.94-2.06-.94 2.06-2.06.94zm-11 1L8.5 8.5l.94-2.06 2.06-.94-2.06-.94L8.5 2.5l-.94 2.06-2.06.94zm10 10l.94 2.06.94-2.06 2.06-.94-2.06-.94-.94-2.06-.94 2.06-2.06.94z\"/><path d=\"M17.41 7.96l-1.37-1.37c-.4-.4-.92-.59-1.43-.59-.52 0-1.04.2-1.43.59L10.3 9.45l-7.72 7.72c-.78.78-.78 2.05 0 2.83L4 21.41c.39.39.9.59 1.41.59.51 0 1.02-.2 1.41-.59l7.78-7.78 2.81-2.81c.8-.78.8-2.07 0-2.86zM5.41 20L4 18.59l7.72-7.72 1.47 1.35L5.41 20z\"/>\n",
              "  </svg>\n",
              "      </button>\n",
              "      \n",
              "  <style>\n",
              "    .colab-df-container {\n",
              "      display:flex;\n",
              "      flex-wrap:wrap;\n",
              "      gap: 12px;\n",
              "    }\n",
              "\n",
              "    .colab-df-convert {\n",
              "      background-color: #E8F0FE;\n",
              "      border: none;\n",
              "      border-radius: 50%;\n",
              "      cursor: pointer;\n",
              "      display: none;\n",
              "      fill: #1967D2;\n",
              "      height: 32px;\n",
              "      padding: 0 0 0 0;\n",
              "      width: 32px;\n",
              "    }\n",
              "\n",
              "    .colab-df-convert:hover {\n",
              "      background-color: #E2EBFA;\n",
              "      box-shadow: 0px 1px 2px rgba(60, 64, 67, 0.3), 0px 1px 3px 1px rgba(60, 64, 67, 0.15);\n",
              "      fill: #174EA6;\n",
              "    }\n",
              "\n",
              "    [theme=dark] .colab-df-convert {\n",
              "      background-color: #3B4455;\n",
              "      fill: #D2E3FC;\n",
              "    }\n",
              "\n",
              "    [theme=dark] .colab-df-convert:hover {\n",
              "      background-color: #434B5C;\n",
              "      box-shadow: 0px 1px 3px 1px rgba(0, 0, 0, 0.15);\n",
              "      filter: drop-shadow(0px 1px 2px rgba(0, 0, 0, 0.3));\n",
              "      fill: #FFFFFF;\n",
              "    }\n",
              "  </style>\n",
              "\n",
              "      <script>\n",
              "        const buttonEl =\n",
              "          document.querySelector('#df-270e6ab8-d210-4391-81f3-954e28ea5677 button.colab-df-convert');\n",
              "        buttonEl.style.display =\n",
              "          google.colab.kernel.accessAllowed ? 'block' : 'none';\n",
              "\n",
              "        async function convertToInteractive(key) {\n",
              "          const element = document.querySelector('#df-270e6ab8-d210-4391-81f3-954e28ea5677');\n",
              "          const dataTable =\n",
              "            await google.colab.kernel.invokeFunction('convertToInteractive',\n",
              "                                                     [key], {});\n",
              "          if (!dataTable) return;\n",
              "\n",
              "          const docLinkHtml = 'Like what you see? Visit the ' +\n",
              "            '<a target=\"_blank\" href=https://colab.research.google.com/notebooks/data_table.ipynb>data table notebook</a>'\n",
              "            + ' to learn more about interactive tables.';\n",
              "          element.innerHTML = '';\n",
              "          dataTable['output_type'] = 'display_data';\n",
              "          await google.colab.output.renderOutput(dataTable, element);\n",
              "          const docLink = document.createElement('div');\n",
              "          docLink.innerHTML = docLinkHtml;\n",
              "          element.appendChild(docLink);\n",
              "        }\n",
              "      </script>\n",
              "    </div>\n",
              "  </div>\n",
              "  "
            ],
            "text/plain": [
              "           revenue  employee_count\n",
              "count     3.000000         2.00000\n",
              "mean   6233.333333         6.50000\n",
              "std    1913.983629         2.12132\n",
              "min    4200.000000         5.00000\n",
              "25%    5350.000000         5.75000\n",
              "50%    6500.000000         6.50000\n",
              "75%    7250.000000         7.25000\n",
              "max    8000.000000         8.00000"
            ]
          },
          "metadata": {},
          "execution_count": 59
        }
      ]
    },
    {
      "cell_type": "code",
      "metadata": {
        "colab": {
          "base_uri": "https://localhost:8080/"
        },
        "id": "yJ-wbg9HtKck",
        "outputId": "db820ae2-a647-4442-ab79-1bfbfd12ebc7"
      },
      "source": [
        "city_data.info()"
      ],
      "execution_count": null,
      "outputs": [
        {
          "output_type": "stream",
          "name": "stdout",
          "text": [
            "<class 'pandas.core.frame.DataFrame'>\n",
            "Index: 3 entries, Amsterdam to Toronto\n",
            "Data columns (total 2 columns):\n",
            " #   Column          Non-Null Count  Dtype  \n",
            "---  ------          --------------  -----  \n",
            " 0   revenue         3 non-null      int64  \n",
            " 1   employee_count  2 non-null      float64\n",
            "dtypes: float64(1), int64(1)\n",
            "memory usage: 180.0+ bytes\n"
          ]
        }
      ]
    },
    {
      "cell_type": "markdown",
      "metadata": {
        "id": "1DAYxQUgtut2"
      },
      "source": [
        "# revenons a des exemples plus conséquents"
      ]
    },
    {
      "cell_type": "code",
      "metadata": {
        "colab": {
          "base_uri": "https://localhost:8080/",
          "height": 183
        },
        "id": "eb4dfMZ9tzqu",
        "outputId": "79c639b7-3e72-4d3f-b587-73d2021ffeab"
      },
      "source": [
        "nba = pd.read_csv('https://github.com/fivethirtyeight/data/raw/master/nba-elo/nbaallelo.csv')\n",
        "type(nba)"
      ],
      "execution_count": null,
      "outputs": [
        {
          "output_type": "error",
          "ename": "NameError",
          "evalue": "ignored",
          "traceback": [
            "\u001b[0;31m---------------------------------------------------------------------------\u001b[0m",
            "\u001b[0;31mNameError\u001b[0m                                 Traceback (most recent call last)",
            "\u001b[0;32m<ipython-input-1-e894b79e1d6b>\u001b[0m in \u001b[0;36m<module>\u001b[0;34m()\u001b[0m\n\u001b[0;32m----> 1\u001b[0;31m \u001b[0mnba\u001b[0m \u001b[0;34m=\u001b[0m \u001b[0mpd\u001b[0m\u001b[0;34m.\u001b[0m\u001b[0mread_csv\u001b[0m\u001b[0;34m(\u001b[0m\u001b[0;34m'https://github.com/fivethirtyeight/data/raw/master/nba-elo/nbaallelo.csv'\u001b[0m\u001b[0;34m)\u001b[0m\u001b[0;34m\u001b[0m\u001b[0;34m\u001b[0m\u001b[0m\n\u001b[0m\u001b[1;32m      2\u001b[0m \u001b[0mtype\u001b[0m\u001b[0;34m(\u001b[0m\u001b[0mnba\u001b[0m\u001b[0;34m)\u001b[0m\u001b[0;34m\u001b[0m\u001b[0;34m\u001b[0m\u001b[0m\n",
            "\u001b[0;31mNameError\u001b[0m: name 'pd' is not defined"
          ]
        }
      ]
    },
    {
      "cell_type": "code",
      "metadata": {
        "colab": {
          "base_uri": "https://localhost:8080/"
        },
        "id": "ssonoUBBt2XI",
        "outputId": "d902cf29-2ad0-4f66-cf5c-3722accd6cd2"
      },
      "source": [
        "nba.iloc[-1]"
      ],
      "execution_count": null,
      "outputs": [
        {
          "output_type": "execute_result",
          "data": {
            "text/plain": [
              "gameorder               63157\n",
              "game_id          201506170CLE\n",
              "lg_id                     NBA\n",
              "_iscopy                     1\n",
              "year_id                  2015\n",
              "date_game           6/16/2015\n",
              "seasongame                103\n",
              "is_playoffs                 1\n",
              "team_id                   GSW\n",
              "fran_id              Warriors\n",
              "pts                       105\n",
              "elo_i               1813.6349\n",
              "elo_n               1822.2881\n",
              "win_equiv           68.519516\n",
              "opp_id                    CLE\n",
              "opp_fran            Cavaliers\n",
              "opp_pts                    97\n",
              "opp_elo_i           1700.7391\n",
              "opp_elo_n           1692.0859\n",
              "game_location               A\n",
              "game_result                 W\n",
              "forecast              0.51855\n",
              "notes                     NaN\n",
              "Name: 126313, dtype: object"
            ]
          },
          "metadata": {},
          "execution_count": 62
        }
      ]
    },
    {
      "cell_type": "markdown",
      "metadata": {
        "id": "kHCYlGNxuPfj"
      },
      "source": [
        "Pour un DataFrame, les méthodes d'accès aux données .loc et .iloc acceptent également un deuxième paramètre. Alors que le premier paramètre sélectionne les lignes en fonction des indices, le second paramètre sélectionne les colonnes. Vous pouvez utiliser ces paramètres ensemble pour sélectionner un sous-ensemble de lignes et de colonnes dans votre DataFrame:"
      ]
    },
    {
      "cell_type": "code",
      "metadata": {
        "colab": {
          "base_uri": "https://localhost:8080/",
          "height": 206
        },
        "id": "jZhqGgStuUkn",
        "outputId": "887f7c14-999e-42af-af72-7f6728421ec2"
      },
      "source": [
        "nba.loc[5555:5559, [\"fran_id\", \"opp_fran\", \"pts\", \"opp_pts\"]]"
      ],
      "execution_count": null,
      "outputs": [
        {
          "output_type": "execute_result",
          "data": {
            "text/html": [
              "\n",
              "  <div id=\"df-7e99db45-0a6e-45e4-accd-0b9820c7478e\">\n",
              "    <div class=\"colab-df-container\">\n",
              "      <div>\n",
              "<style scoped>\n",
              "    .dataframe tbody tr th:only-of-type {\n",
              "        vertical-align: middle;\n",
              "    }\n",
              "\n",
              "    .dataframe tbody tr th {\n",
              "        vertical-align: top;\n",
              "    }\n",
              "\n",
              "    .dataframe thead th {\n",
              "        text-align: right;\n",
              "    }\n",
              "</style>\n",
              "<table border=\"1\" class=\"dataframe\">\n",
              "  <thead>\n",
              "    <tr style=\"text-align: right;\">\n",
              "      <th></th>\n",
              "      <th>fran_id</th>\n",
              "      <th>opp_fran</th>\n",
              "      <th>pts</th>\n",
              "      <th>opp_pts</th>\n",
              "    </tr>\n",
              "  </thead>\n",
              "  <tbody>\n",
              "    <tr>\n",
              "      <th>5555</th>\n",
              "      <td>Pistons</td>\n",
              "      <td>Warriors</td>\n",
              "      <td>83</td>\n",
              "      <td>56</td>\n",
              "    </tr>\n",
              "    <tr>\n",
              "      <th>5556</th>\n",
              "      <td>Celtics</td>\n",
              "      <td>Knicks</td>\n",
              "      <td>95</td>\n",
              "      <td>74</td>\n",
              "    </tr>\n",
              "    <tr>\n",
              "      <th>5557</th>\n",
              "      <td>Knicks</td>\n",
              "      <td>Celtics</td>\n",
              "      <td>74</td>\n",
              "      <td>95</td>\n",
              "    </tr>\n",
              "    <tr>\n",
              "      <th>5558</th>\n",
              "      <td>Kings</td>\n",
              "      <td>Sixers</td>\n",
              "      <td>81</td>\n",
              "      <td>86</td>\n",
              "    </tr>\n",
              "    <tr>\n",
              "      <th>5559</th>\n",
              "      <td>Sixers</td>\n",
              "      <td>Kings</td>\n",
              "      <td>86</td>\n",
              "      <td>81</td>\n",
              "    </tr>\n",
              "  </tbody>\n",
              "</table>\n",
              "</div>\n",
              "      <button class=\"colab-df-convert\" onclick=\"convertToInteractive('df-7e99db45-0a6e-45e4-accd-0b9820c7478e')\"\n",
              "              title=\"Convert this dataframe to an interactive table.\"\n",
              "              style=\"display:none;\">\n",
              "        \n",
              "  <svg xmlns=\"http://www.w3.org/2000/svg\" height=\"24px\"viewBox=\"0 0 24 24\"\n",
              "       width=\"24px\">\n",
              "    <path d=\"M0 0h24v24H0V0z\" fill=\"none\"/>\n",
              "    <path d=\"M18.56 5.44l.94 2.06.94-2.06 2.06-.94-2.06-.94-.94-2.06-.94 2.06-2.06.94zm-11 1L8.5 8.5l.94-2.06 2.06-.94-2.06-.94L8.5 2.5l-.94 2.06-2.06.94zm10 10l.94 2.06.94-2.06 2.06-.94-2.06-.94-.94-2.06-.94 2.06-2.06.94z\"/><path d=\"M17.41 7.96l-1.37-1.37c-.4-.4-.92-.59-1.43-.59-.52 0-1.04.2-1.43.59L10.3 9.45l-7.72 7.72c-.78.78-.78 2.05 0 2.83L4 21.41c.39.39.9.59 1.41.59.51 0 1.02-.2 1.41-.59l7.78-7.78 2.81-2.81c.8-.78.8-2.07 0-2.86zM5.41 20L4 18.59l7.72-7.72 1.47 1.35L5.41 20z\"/>\n",
              "  </svg>\n",
              "      </button>\n",
              "      \n",
              "  <style>\n",
              "    .colab-df-container {\n",
              "      display:flex;\n",
              "      flex-wrap:wrap;\n",
              "      gap: 12px;\n",
              "    }\n",
              "\n",
              "    .colab-df-convert {\n",
              "      background-color: #E8F0FE;\n",
              "      border: none;\n",
              "      border-radius: 50%;\n",
              "      cursor: pointer;\n",
              "      display: none;\n",
              "      fill: #1967D2;\n",
              "      height: 32px;\n",
              "      padding: 0 0 0 0;\n",
              "      width: 32px;\n",
              "    }\n",
              "\n",
              "    .colab-df-convert:hover {\n",
              "      background-color: #E2EBFA;\n",
              "      box-shadow: 0px 1px 2px rgba(60, 64, 67, 0.3), 0px 1px 3px 1px rgba(60, 64, 67, 0.15);\n",
              "      fill: #174EA6;\n",
              "    }\n",
              "\n",
              "    [theme=dark] .colab-df-convert {\n",
              "      background-color: #3B4455;\n",
              "      fill: #D2E3FC;\n",
              "    }\n",
              "\n",
              "    [theme=dark] .colab-df-convert:hover {\n",
              "      background-color: #434B5C;\n",
              "      box-shadow: 0px 1px 3px 1px rgba(0, 0, 0, 0.15);\n",
              "      filter: drop-shadow(0px 1px 2px rgba(0, 0, 0, 0.3));\n",
              "      fill: #FFFFFF;\n",
              "    }\n",
              "  </style>\n",
              "\n",
              "      <script>\n",
              "        const buttonEl =\n",
              "          document.querySelector('#df-7e99db45-0a6e-45e4-accd-0b9820c7478e button.colab-df-convert');\n",
              "        buttonEl.style.display =\n",
              "          google.colab.kernel.accessAllowed ? 'block' : 'none';\n",
              "\n",
              "        async function convertToInteractive(key) {\n",
              "          const element = document.querySelector('#df-7e99db45-0a6e-45e4-accd-0b9820c7478e');\n",
              "          const dataTable =\n",
              "            await google.colab.kernel.invokeFunction('convertToInteractive',\n",
              "                                                     [key], {});\n",
              "          if (!dataTable) return;\n",
              "\n",
              "          const docLinkHtml = 'Like what you see? Visit the ' +\n",
              "            '<a target=\"_blank\" href=https://colab.research.google.com/notebooks/data_table.ipynb>data table notebook</a>'\n",
              "            + ' to learn more about interactive tables.';\n",
              "          element.innerHTML = '';\n",
              "          dataTable['output_type'] = 'display_data';\n",
              "          await google.colab.output.renderOutput(dataTable, element);\n",
              "          const docLink = document.createElement('div');\n",
              "          docLink.innerHTML = docLinkHtml;\n",
              "          element.appendChild(docLink);\n",
              "        }\n",
              "      </script>\n",
              "    </div>\n",
              "  </div>\n",
              "  "
            ],
            "text/plain": [
              "      fran_id  opp_fran  pts  opp_pts\n",
              "5555  Pistons  Warriors   83       56\n",
              "5556  Celtics    Knicks   95       74\n",
              "5557   Knicks   Celtics   74       95\n",
              "5558    Kings    Sixers   81       86\n",
              "5559   Sixers     Kings   86       81"
            ]
          },
          "metadata": {},
          "execution_count": 63
        }
      ]
    },
    {
      "cell_type": "markdown",
      "metadata": {
        "id": "YjuD2PmPuZU-"
      },
      "source": [
        "On a Sélectionné toutes les parties entre les étiquettes 5555 et 5559. Et étions interessé [ar les noms des équipes et aux scores."
      ]
    },
    {
      "cell_type": "markdown",
      "metadata": {
        "id": "8AI8OfM3tzE0"
      },
      "source": [
        ""
      ]
    }
  ]
}