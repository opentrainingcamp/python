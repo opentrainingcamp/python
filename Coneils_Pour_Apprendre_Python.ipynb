{
  "nbformat": 4,
  "nbformat_minor": 0,
  "metadata": {
    "colab": {
      "name": "Apprendre_Python.ipynb",
      "provenance": [],
      "mount_file_id": "1VFjOFH_vb8XOr-7jKfBfdWGX4pXqQLDY",
      "authorship_tag": "ABX9TyNy1acFidr1dQe1PhA3TSVo",
      "include_colab_link": true
    },
    "kernelspec": {
      "name": "python3",
      "display_name": "Python 3"
    },
    "language_info": {
      "name": "python"
    }
  },
  "cells": [
    {
      "cell_type": "markdown",
      "metadata": {
        "id": "view-in-github",
        "colab_type": "text"
      },
      "source": [
        "<a href=\"https://colab.research.google.com/github/opentrainingcamp/python/blob/main/Coneils_Pour_Apprendre_Python.ipynb\" target=\"_parent\"><img src=\"https://colab.research.google.com/assets/colab-badge.svg\" alt=\"Open In Colab\"/></a>"
      ]
    },
    {
      "cell_type": "markdown",
      "source": [
        "# Conseils pour débutants pour apprendre Python"
      ],
      "metadata": {
        "id": "ZAvt1htKXbMk"
      }
    },
    {
      "cell_type": "markdown",
      "source": [
        "## Coder tous les jours\n",
        "\n",
        "La cohérence est très importante lorsque vous apprenez une nouvelle langue. Nous vous recommandons de vous engager à coder tous les jours. C'est peut-être difficile à croire, mais la mémoire musculaire *(les automatismes et reflexes)* joue un rôle important dans la programmation. S'engager à coder tous les jours aidera vraiment à développer cette mémoire musculaire.\n",
        "\n",
        "Bien que cela puisse sembler intimidant au début, envisagez de commencer petit avec 30 minutes par jour et de progresser à partir de là."
      ],
      "metadata": {
        "id": "A7PtrWZxaaaH"
      }
    },
    {
      "cell_type": "markdown",
      "source": [
        "## Écrivez-le : prendre des notes\n",
        "\n",
        "Au fur et à mesure que vous progressez dans votre parcours en tant que nouveau programmeur, vous vous demandez peut-être si vous devriez prendre des notes. Oui tu devrais! En fait, la recherche suggère que la prise de notes à la main est la plus bénéfique pour la rétention à long terme. Cela sera particulièrement bénéfique pour ceux qui souhaitent devenir développeur à temps plein, car de nombreux entretiens impliqueront l'écriture de code sur un tableau blanc.\n",
        "\n",
        "Une fois que vous commencez à travailler sur de petits projets et programmes, écrire à la main peut également vous aider à planifier votre code avant de passer à l'ordinateur. Vous pouvez gagner beaucoup de temps si vous écrivez les fonctions et les classes dont vous aurez besoin, ainsi que la manière dont elles interagiront."
      ],
      "metadata": {
        "id": "GJHc0iSDakAp"
      }
    },
    {
      "cell_type": "markdown",
      "source": [
        "## Soyez interactif\n",
        "\n",
        "Que vous découvriez pour la première fois les structures de données Python de base (chaînes, listes, dictionnaires, etc.) ou que vous déboguiez une application, le shell Python interactif sera l'un de vos meilleurs outils d'apprentissage.\n",
        "\n",
        "Pour utiliser le shell Python interactif (aussi parfois appelé \"Python REPL\"), assurez-vous d'abord que Python est installé sur votre ordinateur. Pour activer le shell Python interactif, ouvrez simplement votre terminal et exécutez python ou python3, selon votre installation."
      ],
      "metadata": {
        "id": "5kHiq7okbMc5"
      }
    },
    {
      "cell_type": "markdown",
      "source": [
        "## Prendre une pause\n",
        "\n",
        "Lorsque vous apprenez, il est important de prendre du recul et d'absorber les concepts. La technique Pomodoro est largement utilisée et peut vous aider : vous travaillez pendant 30 minutes, faites une courte pause, puis répétez le processus. Prendre des pauses est essentiel pour avoir une session d'étude efficace, en particulier lorsque vous absorbez beaucoup de nouvelles informations.\n",
        "\n",
        "Les pauses sont particulièrement importantes lorsque vous déboguez. Si vous rencontrez un bogue et que vous ne savez pas vraiment ce qui ne va pas, faites une pause. Éloignez-vous de votre ordinateur, allez vous promener ou discutez avec un ami.\n",
        "\n",
        "En programmation, votre code doit suivre exactement les règles d'un langage et d'une logique, donc même manquer un guillemet cassera tout. Les yeux frais font une grande différence."
      ],
      "metadata": {
        "id": "Q8F7kxb0bd-k"
      }
    },
    {
      "cell_type": "markdown",
      "source": [
        "## Devenez un chasseur de bug\n",
        "\n",
        "En parlant de rencontrer un bug, il est inévitable qu'une fois que vous commencez à écrire des programmes complexes, vous rencontriez des bugs dans votre code. Cela nous arrive à tous ! Ne laissez pas les bugs vous frustrer. Au lieu de cela, vivez ces moments avec fierté et considérez-vous comme un chasseur de primes aux bugs.\n",
        "\n",
        "Lors du débogage, il est important d'avoir une approche méthodologique pour vous aider à trouver où les choses tombent en panne. Parcourir votre code dans l'ordre dans lequel il est exécuté et s'assurer que chaque partie fonctionne est un excellent moyen de le faire.\n",
        "\n",
        "Une fois que vous avez une idée de l'endroit où les choses pourraient tomber en panne, insérez `import pdb; pdb.set_trace()` dans votre script et exécutez-le. Ceci est le débogueur Python et vous fera passer en mode interactif. Le débogueur peut également être exécuté à partir de la ligne de commande avec `python -m pdb <my_file.py>`."
      ],
      "metadata": {
        "id": "_SO0gGsRb1J7"
      }
    },
    {
      "cell_type": "markdown",
      "source": [
        "## Entourez-vous des autres qui apprennent, collaborer, utiliser les réseaux sociaux de codes tel que github, participer à des forums\n",
        "\n",
        "Bien que le codage puisse sembler être une activité solitaire, cela fonctionne mieux lorsque vous travaillez ensemble. Il est extrêmement important, lorsque vous apprenez à coder en Python, de vous entourer d'autres personnes qui apprennent également. Cela vous permettra de partager les trucs et astuces que vous apprendrez en cours de route.\n",
        "\n",
        "Ne vous inquiétez pas si vous ne connaissez personne. Il existe de nombreuses façons de rencontrer d'autres personnes passionnées par l'apprentissage de Python ! Trouvez des événements locaux ou des Meetups ou rejoignez une communauté d'apprentissage entre pairs pour les passionnés de Python !"
      ],
      "metadata": {
        "id": "AP4nn6NGchKJ"
      }
    },
    {
      "cell_type": "markdown",
      "source": [
        "## Enseigner\n",
        "On dit que la meilleure façon d'apprendre quelque chose est de l'enseigner. Cela est vrai lorsque vous apprenez Python. Il existe de nombreuses façons de procéder.\n",
        "\n",
        "Voici quelques idées : faire du tableau blanc avec d'autres apprenants, rédiger des articles de blog expliquant les concepts nouvellement appris, enregistrer des vidéos dans lesquelles vous expliquez quelque chose que vous avez appris, ou simplement vous parler devant votre ordinateur. Chacune de ces stratégies renforcera votre compréhension et révélera toute lacune dans votre compréhension."
      ],
      "metadata": {
        "id": "oTcX6hGcdOMY"
      }
    },
    {
      "cell_type": "markdown",
      "source": [
        "## Programmer en binôme\n",
        "\n",
        "La programmation en binôme est une technique qui implique que deux développeurs travaillent sur un même poste de travail pour effectuer une tâche. Les deux développeurs alternent entre le « pilote » et le « navigateur ». Le « conducteur » écrit le code, tandis que le « navigateur » aide à guider la résolution du problème et examine le code au fur et à mesure qu'il est écrit. Changez fréquemment pour profiter des deux côtés.\n",
        "\n",
        "La programmation en binôme présente de nombreux avantages : elle vous permet non seulement de demander à quelqu'un de réviser votre code, mais également de voir comment quelqu'un d'autre pourrait penser à un problème. Être exposé à de multiples idées et façons de penser vous aidera à résoudre des problèmes lorsque vous reviendrez au codage par vous-même."
      ],
      "metadata": {
        "id": "Eo2jM_rtd8D8"
      }
    },
    {
      "cell_type": "markdown",
      "source": [
        "## Poser de bonnes questions\n",
        "Les gens disent toujours qu'il n'y a pas de mauvaise question, mais quand il s'agit de programmation, il est possible de mal poser une question. Lorsque vous demandez de l'aide à quelqu'un qui a peu ou pas de contexte sur le problème que vous essayez de résoudre, il est préférable de poser de BONNES questions en suivant cet acronyme :\n",
        "\n",
        "* G (Give): Donnez le contexte de ce que vous essayez de faire, en décrivant clairement le problème.\n",
        "* O (Outline): Décrivez les éléments que vous avez déjà essayés pour résoudre le problème.\n",
        "* O (Offer): Offrez votre meilleure estimation de ce que pourrait être le problème. Cela aide la personne qui vous aide non seulement à savoir ce que vous pensez, mais aussi à savoir que vous avez réfléchi par vous-même.\n",
        "* D (Demo): Faites une démonstration de ce qui se passe. Incluez le code, un message d'erreur de trace et une explication des étapes que vous avez exécutées et qui ont entraîné l'erreur. De cette façon, la personne qui aide n'a pas à essayer de recréer le problème.\n",
        "\n",
        "De bonnes questions peuvent faire gagner beaucoup de temps. Ignorer l'une de ces étapes peut entraîner des échanges de conversations susceptibles de provoquer des conflits. En tant que débutant, vous voulez vous assurer que vous posez de bonnes questions afin de vous entraîner à communiquer votre processus de pensée et que les personnes qui vous aident seront heureuses de continuer à vous aider."
      ],
      "metadata": {
        "id": "aW8B0DfDchR6"
      }
    },
    {
      "cell_type": "markdown",
      "source": [
        "## Construire quelque chose, n'importe quoi\n",
        "\n",
        "Pour les débutants, il existe de nombreux petits exercices qui vous aideront vraiment à prendre confiance en Python et à développer la mémoire musculaire dont nous avons parlé précédemment. Une fois que vous maîtrisez parfaitement les structures de données de base (chaînes, listes, dictionnaires, ensembles), la programmation orientée objet et l'écriture de classes, il est temps de commencer à construire !\n",
        "\n",
        "Ce que vous construisez n'est pas aussi important que la façon dont vous le construisez. Le parcours de construction est vraiment ce qui vous apprendra le plus. Vous ne pouvez en apprendre beaucoup qu'en lisant les articles et des cours. La plupart de votre apprentissage proviendra de l'utilisation de Python pour construire quelque chose. Les problèmes que vous résoudrez vous apprendront beaucoup.\n",
        "\n",
        "Il existe de nombreuses listes d'idées pour les projets Python débutants. Voici quelques idées pour vous aider à démarrer:\n",
        "\n",
        "* Jeu de devinettes\n",
        "* Application de calculatrice simple\n",
        "* Simulateur de lancer de dés\n",
        "* Service de notification de prix Bitcoin\n",
        "\n"
      ],
      "metadata": {
        "id": "0jAIEYY_e8w9"
      }
    },
    {
      "cell_type": "markdown",
      "source": [
        "## Contribuer à l'Open Source\n",
        "Dans le modèle open source, le code source du logiciel est disponible publiquement et n'importe qui peut collaborer. Il existe de nombreuses bibliothèques Python qui sont des projets open source et acceptent des contributions. De plus, de nombreuses entreprises publient des projets open source. Cela signifie que vous pouvez travailler avec du code écrit et produit par les ingénieurs travaillant dans ces entreprises.\n",
        "\n",
        "Contribuer à un projet Python open source est un excellent moyen de créer des expériences d'apprentissage extrêmement précieuses. Supposons que vous décidiez de soumettre une demande de correction de bogue : vous soumettez une \"demande d'extraction\" pour que votre correctif soit intégré au code.\n",
        "\n",
        "Ensuite, les chefs de projet passeront en revue votre travail, en fournissant des commentaires et des suggestions. Cela vous permettra d'apprendre les meilleures pratiques de programmation Python, ainsi que de vous entraîner à communiquer avec d'autres développeurs."
      ],
      "metadata": {
        "id": "_zNurYcsgfWC"
      }
    },
    {
      "cell_type": "markdown",
      "source": [
        ""
      ],
      "metadata": {
        "id": "W_1zH48-glY_"
      }
    }
  ]
}