{
  "nbformat": 4,
  "nbformat_minor": 0,
  "metadata": {
    "colab": {
      "name": "intro_test_stat.ipynb",
      "provenance": []
    },
    "kernelspec": {
      "name": "python3",
      "display_name": "Python 3"
    },
    "language_info": {
      "name": "python"
    }
  },
  "cells": [
    {
      "cell_type": "markdown",
      "source": [
        "On importe le fichier contenant les consommations d’essence :\n"
      ],
      "metadata": {
        "id": "RGzMsiwlLx6z"
      }
    },
    {
      "cell_type": "code",
      "source": [
        "!wget -q https://github.com/opentrainingcamp/python/raw/main/Exemples/Data/essence.txt"
      ],
      "metadata": {
        "id": "x7730D3uRqfa"
      },
      "execution_count": 1,
      "outputs": []
    },
    {
      "cell_type": "code",
      "execution_count": 2,
      "metadata": {
        "id": "tSQ3__obHD7j"
      },
      "outputs": [],
      "source": [
        "import pandas as pd\n",
        "essence=pd.read_csv(\"essence.txt\")"
      ]
    },
    {
      "cell_type": "code",
      "source": [
        "essence.info()"
      ],
      "metadata": {
        "id": "lsN8AfMVR2nz"
      },
      "execution_count": null,
      "outputs": []
    },
    {
      "cell_type": "code",
      "source": [
        "essence.head()"
      ],
      "metadata": {
        "id": "EyGpARQkR6KA"
      },
      "execution_count": null,
      "outputs": []
    },
    {
      "cell_type": "code",
      "source": [
        "essence.shape"
      ],
      "metadata": {
        "colab": {
          "base_uri": "https://localhost:8080/"
        },
        "id": "_YotODXySGIz",
        "outputId": "5998b6f6-f5b4-499c-c126-99f7de3450ab"
      },
      "execution_count": 5,
      "outputs": [
        {
          "output_type": "execute_result",
          "data": {
            "text/plain": [
              "(128, 1)"
            ]
          },
          "metadata": {},
          "execution_count": 5
        }
      ]
    },
    {
      "cell_type": "markdown",
      "source": [
        "On calcule la moyenne, la variance et l’écart-type de l’échantillon :"
      ],
      "metadata": {
        "id": "sDeUusLqL52j"
      }
    },
    {
      "cell_type": "code",
      "source": [
        "import numpy as np\n",
        "import math\n"
      ],
      "metadata": {
        "id": "zWFL4N6pL71w"
      },
      "execution_count": 6,
      "outputs": []
    },
    {
      "cell_type": "code",
      "source": [
        "xbar=np.mean(essence['conso'])\n",
        "round(xbar,2)"
      ],
      "metadata": {
        "colab": {
          "base_uri": "https://localhost:8080/"
        },
        "id": "LRToRe0uMAUH",
        "outputId": "6b2cfaa4-24e2-4a72-8c2c-9ce6d131b6d6"
      },
      "execution_count": 7,
      "outputs": [
        {
          "output_type": "execute_result",
          "data": {
            "text/plain": [
              "31.45"
            ]
          },
          "metadata": {},
          "execution_count": 7
        }
      ]
    },
    {
      "cell_type": "code",
      "source": [
        "# Ou encore directemetn en Pandas et en une seule expression\n",
        "round(essence['conso'].mean(), 2)"
      ],
      "metadata": {
        "colab": {
          "base_uri": "https://localhost:8080/"
        },
        "id": "nQJcMuwsSOHh",
        "outputId": "f61c68fa-d89a-47a0-eea6-0d8a51478337"
      },
      "execution_count": 10,
      "outputs": [
        {
          "output_type": "execute_result",
          "data": {
            "text/plain": [
              "31.45"
            ]
          },
          "metadata": {},
          "execution_count": 10
        }
      ]
    },
    {
      "cell_type": "code",
      "source": [
        "sprime = np.std(essence['conso'], ddof=1)\n",
        "round(sprime,2)"
      ],
      "metadata": {
        "colab": {
          "base_uri": "https://localhost:8080/"
        },
        "id": "LURQxDWfMKqL",
        "outputId": "97b6061f-69c5-41fa-8109-f8f57b0cbb68"
      },
      "execution_count": 11,
      "outputs": [
        {
          "output_type": "execute_result",
          "data": {
            "text/plain": [
              "2.16"
            ]
          },
          "metadata": {},
          "execution_count": 11
        }
      ]
    },
    {
      "cell_type": "markdown",
      "source": [
        "La loi normale parente est de moyenne µ et d'écart-type σ. Soit V(X) sa variance, $V(X)=σ^2$\n",
        "\n",
        "• $(s)^2=\\frac{\\sum(x_i-m)^2}{(n-1)}$ est un estimateur sans biais de $V(X)=(σ)^2$     (ce qui signifie que l'espérance de $(s)^2$ est égale à $(σ)2^ : E((s)^2)=(σ)^2)$\n",
        "\n",
        "\n",
        "Très souvent l'origine du n-1 reste un mystère ... pourquoi pas n qui correspondrait à l'effectif de l'échantillon ? La raison vous en est donnée si vous lisez la suite.\n",
        "\n",
        "Origine du n-1 dans les variances expérimentales, un peu de maths, que je ne détail pas ici: on montre que Σ(xi-m)2/(n) est un estimateur biaisé de $(σ)2$  car l'espérance de $Σ(xi-m)^2/(n)$ n'est pas (σ)2 mais $(σ)^2*(n-1)/n$ "
      ],
      "metadata": {
        "id": "92mSS7mCM7Hk"
      }
    },
    {
      "cell_type": "code",
      "source": [
        "n_essence = len(essence)\n",
        "# variance non biaisé avec numpy\n",
        "sprime2 = np.var(essence['conso'], ddof=1)\n",
        "round(sprime2,2)"
      ],
      "metadata": {
        "colab": {
          "base_uri": "https://localhost:8080/"
        },
        "id": "3MJOhLppMUd6",
        "outputId": "7cfa6159-ceb5-4c38-c928-922aadd124ee"
      },
      "execution_count": 12,
      "outputs": [
        {
          "output_type": "execute_result",
          "data": {
            "text/plain": [
              "4.66"
            ]
          },
          "metadata": {},
          "execution_count": 12
        }
      ]
    },
    {
      "cell_type": "markdown",
      "source": [
        "Le paramétre ddof \n",
        "\n",
        "« Delta degrés de liberté » : le diviseur utilisé dans le calcul est N - dddf, où N représente le nombre d'éléments. Par défaut ddof est égal à zéro."
      ],
      "metadata": {
        "id": "Ax7gmNGkPcdL"
      }
    },
    {
      "cell_type": "code",
      "source": [
        "# variance biasié\n",
        "v = np.var(essence['conso'])\n",
        "round(v,2)"
      ],
      "metadata": {
        "colab": {
          "base_uri": "https://localhost:8080/"
        },
        "id": "W4d4m2KKPDYL",
        "outputId": "b134f7d7-4f33-4df3-9af3-c9de6178adf1"
      },
      "execution_count": 14,
      "outputs": [
        {
          "output_type": "execute_result",
          "data": {
            "text/plain": [
              "4.63"
            ]
          },
          "metadata": {},
          "execution_count": 14
        }
      ]
    },
    {
      "cell_type": "code",
      "source": [
        "# Visualisation\n",
        "import matplotlib.pyplot as plt\n",
        "%matplotlib inline\n",
        "plt.hist(essence['conso'],bins=range(26,38))\n",
        "plt.title(\"histogramme\")"
      ],
      "metadata": {
        "colab": {
          "base_uri": "https://localhost:8080/",
          "height": 298
        },
        "id": "0eCZCcCLPlJC",
        "outputId": "dc1ca475-7d8e-4389-f1b1-a0bf883d3be5"
      },
      "execution_count": 15,
      "outputs": [
        {
          "output_type": "execute_result",
          "data": {
            "text/plain": [
              "Text(0.5, 1.0, 'histogramme')"
            ]
          },
          "metadata": {},
          "execution_count": 15
        },
        {
          "output_type": "display_data",
          "data": {
            "text/plain": [
              "<Figure size 432x288 with 1 Axes>"
            ],
            "image/png": "[encoded data removed]"
          },
          "metadata": {
            "needs_background": "light"
          }
        }
      ]
    },
    {
      "cell_type": "markdown",
      "source": [
        "On peut visualiser sur cet histogramme la moyenne empirique :\n",
        "\n"
      ],
      "metadata": {
        "id": "fkBxpTr1Sxhs"
      }
    },
    {
      "cell_type": "code",
      "source": [
        "plt.hist(essence['conso'],bins=range(26,38))\n",
        "plt.title(\"histogramme\")\n",
        "plt.axvline(xbar, color='r', linewidth=2)\n",
        "import matplotlib.lines as mlines\n",
        "plt.legend(handles=[mlines.Line2D([], [], color='red',markersize=15, label=\"Moyenne empirique\")])"
      ],
      "metadata": {
        "colab": {
          "base_uri": "https://localhost:8080/",
          "height": 298
        },
        "id": "hccPLTcZSyY5",
        "outputId": "ece2aa44-4787-4e28-b5c7-6b079ba53c13"
      },
      "execution_count": 16,
      "outputs": [
        {
          "output_type": "execute_result",
          "data": {
            "text/plain": [
              "<matplotlib.legend.Legend at 0x7fd53f833250>"
            ]
          },
          "metadata": {},
          "execution_count": 16
        },
        {
          "output_type": "display_data",
          "data": {
            "text/plain": [
              "<Figure size 432x288 with 1 Axes>"
            ],
            "image/png": "[encoded data removed]"
          },
          "metadata": {
            "needs_background": "light"
          }
        }
      ]
    },
    {
      "cell_type": "code",
      "source": [
        "mu0=round(np.median(essence['conso'])) - 1\n",
        "plt.hist(essence['conso'],bins=range(26,38))\n",
        "plt.title(\"histogramme\")\n",
        "plt.axvline(xbar, color='r', linewidth=2)\n",
        "plt.axvline(mu0, color='b', linewidth=2)\n",
        "import matplotlib.lines as mlines\n",
        "plt.legend(handles=[mlines.Line2D([], [], color='red',markersize=15, label=\"Moyenne empirique\"),mlines.Line2D([], [], color='blue',markersize=15, label=u\"Seuil testé\")])"
      ],
      "metadata": {
        "colab": {
          "base_uri": "https://localhost:8080/",
          "height": 298
        },
        "id": "NqKWJLwITGu7",
        "outputId": "70f3ef28-96be-4942-c495-368580ce19a2"
      },
      "execution_count": 20,
      "outputs": [
        {
          "output_type": "execute_result",
          "data": {
            "text/plain": [
              "<matplotlib.legend.Legend at 0x7fd532a67c10>"
            ]
          },
          "metadata": {},
          "execution_count": 20
        },
        {
          "output_type": "display_data",
          "data": {
            "text/plain": [
              "<Figure size 432x288 with 1 Axes>"
            ],
            "image/png": "[encoded data removed]"
          },
          "metadata": {
            "needs_background": "light"
          }
        }
      ]
    }
  ]
}